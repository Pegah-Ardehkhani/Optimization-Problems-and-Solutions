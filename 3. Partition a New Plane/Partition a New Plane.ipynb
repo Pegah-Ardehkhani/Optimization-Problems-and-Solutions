{
  "nbformat": 4,
  "nbformat_minor": 0,
  "metadata": {
    "colab": {
      "name": "Partition a New Plane.ipynb",
      "provenance": [],
      "collapsed_sections": []
    },
    "kernelspec": {
      "name": "python3",
      "display_name": "Python 3"
    },
    "language_info": {
      "name": "python"
    }
  },
  "cells": [
    {
      "cell_type": "markdown",
      "source": [
        "# **Partition a New Plane:**\n",
        "\n",
        "Problem Source: Birge, John R., and Francois Louveaux. Introduction to stochastic programming. Springer Science & Business Media, 2011."
      ],
      "metadata": {
        "id": "srHu4NQbFzVI"
      }
    },
    {
      "cell_type": "markdown",
      "source": [
        "**Problem Statement:**\n",
        "\n",
        "Northam Airlines is trying to decide how to partition a new plane for its Chicago–Detroit route. The plane can seat $200$ economy class passengers. A section can be partitioned off for first class seats but each of these seats takes the space of $2$ economy class seats. A business class section can also be included, but each of these seats takes as much space as $1.5$ economy class seats. The profit on a first class ticket is, however, three times the profit of an economy\n",
        "ticket. A business class ticket has a profit of two times an economy ticket’s profit. Once the plane is partitioned into these seating classes, it cannot be changed. Northam knows, however, that the plane will not always be full in each section. They have decided that three scenarios will occur with about the same frequency: $(1)$ weekday morning and evening traffic, $(2)$ weekend traffic, and $(3)$ weekday midday traffic. Under Scenario $1$, they think they can sell as many as $20$ first class tickets, $50$ business class tickets, and $200$ economy tickets. Under Scenario $2$, these figures are $10$, $25$, and $175$ . Under Scenario $3$, they are $5$, $10$, and $150$ . You can assume they cannot sell more tickets than seats in each of the sections. (In reality, the company may allow overbooking, but then it faces the problem of passengers with reservations who do not appear for the flight (no-shows). The problem of determining how many passengers to accept is part of the field called yield management or revenue management. For one approach to this problem, see Brumelle and McGill [1993]."
      ],
      "metadata": {
        "id": "YqRo7g3BcfI6"
      }
    },
    {
      "cell_type": "markdown",
      "source": [
        "**Modeling:**\n",
        "\n",
        "$\\\\ $\n",
        "\n",
        "$variables:\\\\ $\n",
        "\n",
        "$s$: Scenarios\n",
        "\n",
        "$c$: Three different classes  $\\rightarrow$ economy, business, first class \n",
        "\n",
        "$x_{c}$: The number of seats allocated for class $c$\n",
        "\n",
        "$w_{sc}$: Number of class $c$ seats under scenario $s$\n",
        "\n",
        "$p_{s}$: probability of scenario $s$\n",
        "\n",
        "$d_{sc}$: demand for class $c$ seats under scenario $s$\n",
        "\n",
        "$\\\\ $\n",
        "\n",
        "$Objective\\ Function:\\\\ $\n",
        "\n",
        "$Max\\  p_{1} \\big(3w_{11} + 3w_{21} + 3w_{31}\\big) + p_{2}  \\big(3w_{12} + 3w_{22} + 3w_{32}\\big) + p_{3}  \\big(3w_{13} + 3w_{23} + 3w_{33}\\big)$\n",
        "\n",
        "$\\\\ $\n",
        "\n",
        "$Constraints:\\\\ $\n",
        "\n",
        "$ \\sum_1^c x_{c} = 200 $\n",
        "\n",
        "$w_{sc}  \\leq d_{sc}$\n",
        "\n",
        "$w_{sc}  \\leq x_{c}$\n",
        "\n",
        "$w, X  \\in integer$"
      ],
      "metadata": {
        "id": "e1Cq1mTHdyXR"
      }
    },
    {
      "cell_type": "code",
      "execution_count": 1,
      "metadata": {
        "colab": {
          "base_uri": "https://localhost:8080/"
        },
        "id": "Vj1p8i7YceDf",
        "outputId": "b89bd830-1f7f-4303-d37b-e77f56f0b55c"
      },
      "outputs": [
        {
          "output_type": "stream",
          "name": "stdout",
          "text": [
            "Looking in indexes: https://pypi.org/simple, https://us-python.pkg.dev/colab-wheels/public/simple/\n",
            "Requirement already satisfied: pulp in /usr/local/lib/python3.7/dist-packages (2.6.0)\n"
          ]
        }
      ],
      "source": [
        "!pip install pulp\n",
        "from pulp import *\n",
        "import numpy as np\n",
        "import pandas as pd"
      ]
    },
    {
      "cell_type": "code",
      "source": [
        "#Defining the problem\n",
        "\n",
        "Total_seats = 200\n",
        "No_scenarios = 3\n",
        "s11 = list(range(1,No_scenarios+1))\n",
        "s22 = list(range(1,No_scenarios+1))\n",
        "s33 = list(range(1,No_scenarios+1))\n",
        "s_1 = [20 ,50, 200]\n",
        "s_2 = [10, 25, 175]\n",
        "s_3 = [5, 10, 150]\n",
        "profit = [2, 1.5, 1]\n",
        "p = [1/3, 1/3, 1/3]"
      ],
      "metadata": {
        "id": "ZiGYgdvXpwLC"
      },
      "execution_count": 2,
      "outputs": []
    },
    {
      "cell_type": "code",
      "source": [
        "#Defining variables\n",
        "\n",
        "X = LpVariable.dicts('X',((s) for s in s11), lowBound=0, cat='Integer')\n",
        "w = LpVariable.dicts('w',((s1,s2) for s1 in s11 for s2 in s22), lowBound=0, cat='Integer')"
      ],
      "metadata": {
        "id": "OGdFY_VxrBgf"
      },
      "execution_count": 3,
      "outputs": []
    },
    {
      "cell_type": "code",
      "source": [
        "#Defining Objective Function\n",
        "\n",
        "Model= LpProblem('Maximize_Profit', LpMaximize)\n",
        "\n",
        "Model+= p[0]*lpSum(3*w[1,s1] for s1 in s11) + p[1]*lpSum(2*w[2,s2] for s2 in s22) + p[2]*lpSum(1*w[3,s3] for s3 in s33)"
      ],
      "metadata": {
        "id": "RO6NkCAEtvK-"
      },
      "execution_count": 4,
      "outputs": []
    },
    {
      "cell_type": "code",
      "source": [
        "#Constraints\n",
        "\n",
        "Model+= lpSum(X[s1]*profit[s1-1] for s1 in s11) == Total_seats\n",
        "\n",
        "for s1 in s11:\n",
        "    Model+= w[s1,1] <= s_1[s1-1]\n",
        "\n",
        "for s2 in s22:\n",
        "    Model+= w[s2,2] <= s_2[s2-1]\n",
        "\n",
        "for s3 in s33:\n",
        "    Model+= w[s3,3] <= s_3[s3-1]\n",
        "\n",
        "for s1 in s11:\n",
        "    Model+= w[s1,1] <= X[s1]\n",
        "\n",
        "for s2 in s22:\n",
        "    Model+= w[s2,2] <= X[s2]\n",
        "\n",
        "for s3 in s33:\n",
        "    Model+= w[s3,3] <= X[s3]"
      ],
      "metadata": {
        "id": "EQlJreKTxnYy"
      },
      "execution_count": 5,
      "outputs": []
    },
    {
      "cell_type": "code",
      "source": [
        "#Model summary\n",
        "\n",
        "Model"
      ],
      "metadata": {
        "colab": {
          "base_uri": "https://localhost:8080/"
        },
        "id": "WzMQz6gv16fS",
        "outputId": "618d33b4-a1fc-4b1d-c203-77c6a18e0f8a"
      },
      "execution_count": 6,
      "outputs": [
        {
          "output_type": "execute_result",
          "data": {
            "text/plain": [
              "Maximize_Profit:\n",
              "MAXIMIZE\n",
              "1.0*w_(1,_1) + 1.0*w_(1,_2) + 1.0*w_(1,_3) + 0.6666666666666666*w_(2,_1) + 0.6666666666666666*w_(2,_2) + 0.6666666666666666*w_(2,_3) + 0.3333333333333333*w_(3,_1) + 0.3333333333333333*w_(3,_2) + 0.3333333333333333*w_(3,_3) + 0.0\n",
              "SUBJECT TO\n",
              "_C1: 2 X_1 + 1.5 X_2 + X_3 = 200\n",
              "\n",
              "_C2: w_(1,_1) <= 20\n",
              "\n",
              "_C3: w_(2,_1) <= 50\n",
              "\n",
              "_C4: w_(3,_1) <= 200\n",
              "\n",
              "_C5: w_(1,_2) <= 10\n",
              "\n",
              "_C6: w_(2,_2) <= 25\n",
              "\n",
              "_C7: w_(3,_2) <= 175\n",
              "\n",
              "_C8: w_(1,_3) <= 5\n",
              "\n",
              "_C9: w_(2,_3) <= 10\n",
              "\n",
              "_C10: w_(3,_3) <= 150\n",
              "\n",
              "_C11: - X_1 + w_(1,_1) <= 0\n",
              "\n",
              "_C12: - X_2 + w_(2,_1) <= 0\n",
              "\n",
              "_C13: - X_3 + w_(3,_1) <= 0\n",
              "\n",
              "_C14: - X_1 + w_(1,_2) <= 0\n",
              "\n",
              "_C15: - X_2 + w_(2,_2) <= 0\n",
              "\n",
              "_C16: - X_3 + w_(3,_2) <= 0\n",
              "\n",
              "_C17: - X_1 + w_(1,_3) <= 0\n",
              "\n",
              "_C18: - X_2 + w_(2,_3) <= 0\n",
              "\n",
              "_C19: - X_3 + w_(3,_3) <= 0\n",
              "\n",
              "VARIABLES\n",
              "0 <= X_1 Integer\n",
              "0 <= X_2 Integer\n",
              "0 <= X_3 Integer\n",
              "0 <= w_(1,_1) Integer\n",
              "0 <= w_(1,_2) Integer\n",
              "0 <= w_(1,_3) Integer\n",
              "0 <= w_(2,_1) Integer\n",
              "0 <= w_(2,_2) Integer\n",
              "0 <= w_(2,_3) Integer\n",
              "0 <= w_(3,_1) Integer\n",
              "0 <= w_(3,_2) Integer\n",
              "0 <= w_(3,_3) Integer"
            ]
          },
          "metadata": {},
          "execution_count": 6
        }
      ]
    },
    {
      "cell_type": "code",
      "source": [
        "#Solving model\n",
        "\n",
        "Model.solve()\n",
        "print('Optimal Solution:', pulp.value(Model.objective))"
      ],
      "metadata": {
        "colab": {
          "base_uri": "https://localhost:8080/"
        },
        "id": "AoVIBuZX0WNV",
        "outputId": "f8b45d37-a663-4f3c-d86b-47e8f0e2bc73"
      },
      "execution_count": 7,
      "outputs": [
        {
          "output_type": "stream",
          "name": "stdout",
          "text": [
            "Optimal Solution: 208.33333333333331\n"
          ]
        }
      ]
    },
    {
      "cell_type": "code",
      "source": [
        "#Optimal values of variables\n",
        "\n",
        "for variables in Model.variables():\n",
        "  print('{}:{}'.format(variables.name, variables.varValue))"
      ],
      "metadata": {
        "colab": {
          "base_uri": "https://localhost:8080/"
        },
        "id": "bIsAOJr20YiR",
        "outputId": "0dc2ec0f-7e1c-4cf2-cf4e-4f2dd6d7e41f"
      },
      "execution_count": 8,
      "outputs": [
        {
          "output_type": "stream",
          "name": "stdout",
          "text": [
            "X_1:10.0\n",
            "X_2:20.0\n",
            "X_3:150.0\n",
            "w_(1,_1):10.0\n",
            "w_(1,_2):10.0\n",
            "w_(1,_3):5.0\n",
            "w_(2,_1):20.0\n",
            "w_(2,_2):20.0\n",
            "w_(2,_3):10.0\n",
            "w_(3,_1):150.0\n",
            "w_(3,_2):150.0\n",
            "w_(3,_3):150.0\n"
          ]
        }
      ]
    },
    {
      "cell_type": "code",
      "source": [
        "VNames = []\n",
        "for variables in Model.variables():\n",
        "  VNames.append(variables.name)\n",
        "\n",
        "VValue = []\n",
        "for variables in Model.variables():\n",
        "  VValue.append(np.round(variables.varValue, 2))\n",
        "\n",
        "data = {'Variables': VNames, 'Value': VValue}\n",
        "pd.DataFrame(data, index = range(1, len(VValue)+1))"
      ],
      "metadata": {
        "colab": {
          "base_uri": "https://localhost:8080/",
          "height": 425
        },
        "id": "QkRPCvYN0bom",
        "outputId": "e2061dd8-f9ed-4524-d46b-0f403c715a03"
      },
      "execution_count": 9,
      "outputs": [
        {
          "output_type": "execute_result",
          "data": {
            "text/plain": [
              "   Variables  Value\n",
              "1        X_1   10.0\n",
              "2        X_2   20.0\n",
              "3        X_3  150.0\n",
              "4   w_(1,_1)   10.0\n",
              "5   w_(1,_2)   10.0\n",
              "6   w_(1,_3)    5.0\n",
              "7   w_(2,_1)   20.0\n",
              "8   w_(2,_2)   20.0\n",
              "9   w_(2,_3)   10.0\n",
              "10  w_(3,_1)  150.0\n",
              "11  w_(3,_2)  150.0\n",
              "12  w_(3,_3)  150.0"
            ],
            "text/html": [
              "\n",
              "  <div id=\"df-7b91a5a2-f3fa-4864-93b1-cc55120ae7d7\">\n",
              "    <div class=\"colab-df-container\">\n",
              "      <div>\n",
              "<style scoped>\n",
              "    .dataframe tbody tr th:only-of-type {\n",
              "        vertical-align: middle;\n",
              "    }\n",
              "\n",
              "    .dataframe tbody tr th {\n",
              "        vertical-align: top;\n",
              "    }\n",
              "\n",
              "    .dataframe thead th {\n",
              "        text-align: right;\n",
              "    }\n",
              "</style>\n",
              "<table border=\"1\" class=\"dataframe\">\n",
              "  <thead>\n",
              "    <tr style=\"text-align: right;\">\n",
              "      <th></th>\n",
              "      <th>Variables</th>\n",
              "      <th>Value</th>\n",
              "    </tr>\n",
              "  </thead>\n",
              "  <tbody>\n",
              "    <tr>\n",
              "      <th>1</th>\n",
              "      <td>X_1</td>\n",
              "      <td>10.0</td>\n",
              "    </tr>\n",
              "    <tr>\n",
              "      <th>2</th>\n",
              "      <td>X_2</td>\n",
              "      <td>20.0</td>\n",
              "    </tr>\n",
              "    <tr>\n",
              "      <th>3</th>\n",
              "      <td>X_3</td>\n",
              "      <td>150.0</td>\n",
              "    </tr>\n",
              "    <tr>\n",
              "      <th>4</th>\n",
              "      <td>w_(1,_1)</td>\n",
              "      <td>10.0</td>\n",
              "    </tr>\n",
              "    <tr>\n",
              "      <th>5</th>\n",
              "      <td>w_(1,_2)</td>\n",
              "      <td>10.0</td>\n",
              "    </tr>\n",
              "    <tr>\n",
              "      <th>6</th>\n",
              "      <td>w_(1,_3)</td>\n",
              "      <td>5.0</td>\n",
              "    </tr>\n",
              "    <tr>\n",
              "      <th>7</th>\n",
              "      <td>w_(2,_1)</td>\n",
              "      <td>20.0</td>\n",
              "    </tr>\n",
              "    <tr>\n",
              "      <th>8</th>\n",
              "      <td>w_(2,_2)</td>\n",
              "      <td>20.0</td>\n",
              "    </tr>\n",
              "    <tr>\n",
              "      <th>9</th>\n",
              "      <td>w_(2,_3)</td>\n",
              "      <td>10.0</td>\n",
              "    </tr>\n",
              "    <tr>\n",
              "      <th>10</th>\n",
              "      <td>w_(3,_1)</td>\n",
              "      <td>150.0</td>\n",
              "    </tr>\n",
              "    <tr>\n",
              "      <th>11</th>\n",
              "      <td>w_(3,_2)</td>\n",
              "      <td>150.0</td>\n",
              "    </tr>\n",
              "    <tr>\n",
              "      <th>12</th>\n",
              "      <td>w_(3,_3)</td>\n",
              "      <td>150.0</td>\n",
              "    </tr>\n",
              "  </tbody>\n",
              "</table>\n",
              "</div>\n",
              "      <button class=\"colab-df-convert\" onclick=\"convertToInteractive('df-7b91a5a2-f3fa-4864-93b1-cc55120ae7d7')\"\n",
              "              title=\"Convert this dataframe to an interactive table.\"\n",
              "              style=\"display:none;\">\n",
              "        \n",
              "  <svg xmlns=\"http://www.w3.org/2000/svg\" height=\"24px\"viewBox=\"0 0 24 24\"\n",
              "       width=\"24px\">\n",
              "    <path d=\"M0 0h24v24H0V0z\" fill=\"none\"/>\n",
              "    <path d=\"M18.56 5.44l.94 2.06.94-2.06 2.06-.94-2.06-.94-.94-2.06-.94 2.06-2.06.94zm-11 1L8.5 8.5l.94-2.06 2.06-.94-2.06-.94L8.5 2.5l-.94 2.06-2.06.94zm10 10l.94 2.06.94-2.06 2.06-.94-2.06-.94-.94-2.06-.94 2.06-2.06.94z\"/><path d=\"M17.41 7.96l-1.37-1.37c-.4-.4-.92-.59-1.43-.59-.52 0-1.04.2-1.43.59L10.3 9.45l-7.72 7.72c-.78.78-.78 2.05 0 2.83L4 21.41c.39.39.9.59 1.41.59.51 0 1.02-.2 1.41-.59l7.78-7.78 2.81-2.81c.8-.78.8-2.07 0-2.86zM5.41 20L4 18.59l7.72-7.72 1.47 1.35L5.41 20z\"/>\n",
              "  </svg>\n",
              "      </button>\n",
              "      \n",
              "  <style>\n",
              "    .colab-df-container {\n",
              "      display:flex;\n",
              "      flex-wrap:wrap;\n",
              "      gap: 12px;\n",
              "    }\n",
              "\n",
              "    .colab-df-convert {\n",
              "      background-color: #E8F0FE;\n",
              "      border: none;\n",
              "      border-radius: 50%;\n",
              "      cursor: pointer;\n",
              "      display: none;\n",
              "      fill: #1967D2;\n",
              "      height: 32px;\n",
              "      padding: 0 0 0 0;\n",
              "      width: 32px;\n",
              "    }\n",
              "\n",
              "    .colab-df-convert:hover {\n",
              "      background-color: #E2EBFA;\n",
              "      box-shadow: 0px 1px 2px rgba(60, 64, 67, 0.3), 0px 1px 3px 1px rgba(60, 64, 67, 0.15);\n",
              "      fill: #174EA6;\n",
              "    }\n",
              "\n",
              "    [theme=dark] .colab-df-convert {\n",
              "      background-color: #3B4455;\n",
              "      fill: #D2E3FC;\n",
              "    }\n",
              "\n",
              "    [theme=dark] .colab-df-convert:hover {\n",
              "      background-color: #434B5C;\n",
              "      box-shadow: 0px 1px 3px 1px rgba(0, 0, 0, 0.15);\n",
              "      filter: drop-shadow(0px 1px 2px rgba(0, 0, 0, 0.3));\n",
              "      fill: #FFFFFF;\n",
              "    }\n",
              "  </style>\n",
              "\n",
              "      <script>\n",
              "        const buttonEl =\n",
              "          document.querySelector('#df-7b91a5a2-f3fa-4864-93b1-cc55120ae7d7 button.colab-df-convert');\n",
              "        buttonEl.style.display =\n",
              "          google.colab.kernel.accessAllowed ? 'block' : 'none';\n",
              "\n",
              "        async function convertToInteractive(key) {\n",
              "          const element = document.querySelector('#df-7b91a5a2-f3fa-4864-93b1-cc55120ae7d7');\n",
              "          const dataTable =\n",
              "            await google.colab.kernel.invokeFunction('convertToInteractive',\n",
              "                                                     [key], {});\n",
              "          if (!dataTable) return;\n",
              "\n",
              "          const docLinkHtml = 'Like what you see? Visit the ' +\n",
              "            '<a target=\"_blank\" href=https://colab.research.google.com/notebooks/data_table.ipynb>data table notebook</a>'\n",
              "            + ' to learn more about interactive tables.';\n",
              "          element.innerHTML = '';\n",
              "          dataTable['output_type'] = 'display_data';\n",
              "          await google.colab.output.renderOutput(dataTable, element);\n",
              "          const docLink = document.createElement('div');\n",
              "          docLink.innerHTML = docLinkHtml;\n",
              "          element.appendChild(docLink);\n",
              "        }\n",
              "      </script>\n",
              "    </div>\n",
              "  </div>\n",
              "  "
            ]
          },
          "metadata": {},
          "execution_count": 9
        }
      ]
    },
    {
      "cell_type": "code",
      "source": [
        "print('Current Status: ', LpStatus[Model.status])"
      ],
      "metadata": {
        "colab": {
          "base_uri": "https://localhost:8080/"
        },
        "id": "dB-Vt69n0fAu",
        "outputId": "e5133227-bd4d-4051-9d52-0589f227e54b"
      },
      "execution_count": 10,
      "outputs": [
        {
          "output_type": "stream",
          "name": "stdout",
          "text": [
            "Current Status:  Optimal\n"
          ]
        }
      ]
    }
  ]
}