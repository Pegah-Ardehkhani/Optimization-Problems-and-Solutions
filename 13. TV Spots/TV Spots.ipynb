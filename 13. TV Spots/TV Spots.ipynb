{
  "nbformat": 4,
  "nbformat_minor": 0,
  "metadata": {
    "colab": {
      "provenance": []
    },
    "kernelspec": {
      "name": "python3",
      "display_name": "Python 3"
    },
    "language_info": {
      "name": "python"
    }
  },
  "cells": [
    {
      "cell_type": "markdown",
      "source": [
        "# **TV Spots:**"
      ],
      "metadata": {
        "id": "8gb76NUIMid0"
      }
    },
    {
      "cell_type": "markdown",
      "source": [
        "Problem Source: F. S. Hillier and G. J. Lieberman, \"Introduction to Mathematical Programming,\" 2nd Edition, McGraw-Hill Inc., New York, 1995."
      ],
      "metadata": {
        "id": "yP_QF2ZMe0GL"
      }
    },
    {
      "cell_type": "markdown",
      "source": [
        "**Problem Statement:**\n",
        "\n",
        "A corporation is developing its marketing plans for next year's new products. For three of these products, it is considering purchasing a total of five TV spots for commercials on national television networks. The problem we will focus on is how to allocate the five spots to these three products, with a maximum of three spots (and a minimum of zero) for each product.\n",
        "\n",
        "Table 12.3 shows the estimated impact of allocating zero, one, two, or three spots to each product. This impact is measured in terms of the profit (in units of millions of dollars) from the additional sales that would result from the spots, considering also the cost of producing the commercial and purchasing the spots. The objective is to allocate five spots to the products so as to maximize the total profit."
      ],
      "metadata": {
        "id": "8uMbhWpbIedy"
      }
    },
    {
      "cell_type": "markdown",
      "source": [
        "![Table 12.3.PNG](data:image/png;base64,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)"
      ],
      "metadata": {
        "id": "IccINK3GI1zN"
      }
    },
    {
      "cell_type": "markdown",
      "source": [
        "**Modeling:**\n",
        "\n",
        "$x_{1},x_{2},x_{3} \\ $   integer variables for products\n",
        "\n",
        "$y_{ij}$   binary variables (i for products j for spots)\n",
        "\n",
        "if $x_{i}=j \\ \\ \\  y_{ij}=1$\n",
        "\n",
        "$\\\\ $\n",
        "\n",
        "$Objective\\ Function:\\\\ $\n",
        "\n",
        "$Max\\ Z = y_{11}+3y_{12}+3y_{13}+2y_{22}+3y_{23}-y_{31}+2y_{32}+4y_{33}$\n",
        "\n",
        "$\\\\ $\n",
        "\n",
        "$Constraints:\\\\ $\n",
        "\n",
        "$y_{11}+y_{12}+y_{13} \\leq 1$\n",
        "\n",
        "$y_{21}+y_{22}+y_{23} \\leq 1$\n",
        "\n",
        "$y_{31}+y_{32}+y_{33} \\leq 1$\n",
        "\n",
        "$y_{11}+2y_{12}+3y_{13}+y_{21}+2y_{22}+3y_{23}+y_{31}+2y_{32}+3y_{33} = 5$"
      ],
      "metadata": {
        "id": "IANpXsXXJCEk"
      }
    },
    {
      "cell_type": "markdown",
      "source": [
        "## Using Pulp Library"
      ],
      "metadata": {
        "id": "WCUAhadDswsb"
      }
    },
    {
      "cell_type": "code",
      "execution_count": 1,
      "metadata": {
        "colab": {
          "base_uri": "https://localhost:8080/"
        },
        "id": "1ZNM0W2sIH66",
        "outputId": "cea2cd95-d378-4d7d-c5ef-657813846a10"
      },
      "outputs": [
        {
          "output_type": "stream",
          "name": "stdout",
          "text": [
            "Requirement already satisfied: pulp in /usr/local/lib/python3.10/dist-packages (2.9.0)\n"
          ]
        }
      ],
      "source": [
        "!pip install pulp\n",
        "from pulp import *\n",
        "import numpy as np\n",
        "import pandas as pd"
      ]
    },
    {
      "cell_type": "code",
      "source": [
        "#Defining Variables\n",
        "\n",
        "x = LpVariable.dicts('x', ((i) for i in [1,2,3]), lowBound=0, cat='Integer')\n",
        "y = LpVariable.dicts('y', ((i,j) for i in [1,2,3] for j in [1,2,3]), cat='Binary')"
      ],
      "metadata": {
        "id": "L72we-fzMA-Z"
      },
      "execution_count": 2,
      "outputs": []
    },
    {
      "cell_type": "code",
      "source": [
        "#Defining Objective Function\n",
        "\n",
        "model = LpProblem('model', LpMaximize)\n",
        "\n",
        "model += y[1,1]+3*y[1,2]+3*y[1,3]+2*y[2,2]+3*y[2,3]-y[3,1]+2*y[3,2]+4*y[3,3]"
      ],
      "metadata": {
        "id": "HNnjota8MWgV"
      },
      "execution_count": 3,
      "outputs": []
    },
    {
      "cell_type": "code",
      "source": [
        "#Constraints\n",
        "\n",
        "model += y[1,1]+y[1,2]+y[1,3] <= 1\n",
        "model += y[2,1]+y[2,2]+y[2,3] <= 1\n",
        "model += y[3,1]+y[3,2]+y[3,3] <= 1\n",
        "model += y[1,1]+2*y[1,2]+3*y[1,3]+y[2,1]+2*y[2,2]+3*y[2,3]+y[3,1]+2*y[3,2]+3*y[3,3] == 5\n",
        "model += x[1] == y[1,1]+2*y[1,2]+3*y[1,3]\n",
        "model += x[2] == y[2,1]+2*y[2,2]+3*y[2,3]\n",
        "model += x[3] == y[3,1]+2*y[3,2]+3*y[3,3]"
      ],
      "metadata": {
        "id": "Z8brJdqxMzFw"
      },
      "execution_count": 4,
      "outputs": []
    },
    {
      "cell_type": "code",
      "source": [
        "#Model summary\n",
        "\n",
        "model"
      ],
      "metadata": {
        "colab": {
          "base_uri": "https://localhost:8080/"
        },
        "id": "M3Xt4AMXNeYB",
        "outputId": "5ecd82d9-4220-4813-b668-68ff54551c47"
      },
      "execution_count": 5,
      "outputs": [
        {
          "output_type": "execute_result",
          "data": {
            "text/plain": [
              "model:\n",
              "MAXIMIZE\n",
              "1*y_(1,_1) + 3*y_(1,_2) + 3*y_(1,_3) + 2*y_(2,_2) + 3*y_(2,_3) + -1*y_(3,_1) + 2*y_(3,_2) + 4*y_(3,_3) + 0\n",
              "SUBJECT TO\n",
              "_C1: y_(1,_1) + y_(1,_2) + y_(1,_3) <= 1\n",
              "\n",
              "_C2: y_(2,_1) + y_(2,_2) + y_(2,_3) <= 1\n",
              "\n",
              "_C3: y_(3,_1) + y_(3,_2) + y_(3,_3) <= 1\n",
              "\n",
              "_C4: y_(1,_1) + 2 y_(1,_2) + 3 y_(1,_3) + y_(2,_1) + 2 y_(2,_2) + 3 y_(2,_3)\n",
              " + y_(3,_1) + 2 y_(3,_2) + 3 y_(3,_3) = 5\n",
              "\n",
              "_C5: x_1 - y_(1,_1) - 2 y_(1,_2) - 3 y_(1,_3) = 0\n",
              "\n",
              "_C6: x_2 - y_(2,_1) - 2 y_(2,_2) - 3 y_(2,_3) = 0\n",
              "\n",
              "_C7: x_3 - y_(3,_1) - 2 y_(3,_2) - 3 y_(3,_3) = 0\n",
              "\n",
              "VARIABLES\n",
              "0 <= x_1 Integer\n",
              "0 <= x_2 Integer\n",
              "0 <= x_3 Integer\n",
              "0 <= y_(1,_1) <= 1 Integer\n",
              "0 <= y_(1,_2) <= 1 Integer\n",
              "0 <= y_(1,_3) <= 1 Integer\n",
              "0 <= y_(2,_1) <= 1 Integer\n",
              "0 <= y_(2,_2) <= 1 Integer\n",
              "0 <= y_(2,_3) <= 1 Integer\n",
              "0 <= y_(3,_1) <= 1 Integer\n",
              "0 <= y_(3,_2) <= 1 Integer\n",
              "0 <= y_(3,_3) <= 1 Integer"
            ]
          },
          "metadata": {},
          "execution_count": 5
        }
      ]
    },
    {
      "cell_type": "code",
      "source": [
        "#Solving model\n",
        "\n",
        "model.solve()\n",
        "print('Optimal Solution:', pulp.value(model.objective))"
      ],
      "metadata": {
        "colab": {
          "base_uri": "https://localhost:8080/"
        },
        "id": "ghwe1AB8NfvJ",
        "outputId": "33d8cb5a-c255-4c29-e267-8035bb09fd15"
      },
      "execution_count": 6,
      "outputs": [
        {
          "output_type": "stream",
          "name": "stdout",
          "text": [
            "Optimal Solution: 7.0\n"
          ]
        }
      ]
    },
    {
      "cell_type": "code",
      "source": [
        "for variables in model.variables():\n",
        "  print(f'{variables.name}:{variables.varValue}')"
      ],
      "metadata": {
        "colab": {
          "base_uri": "https://localhost:8080/"
        },
        "id": "jK52MXDUNix3",
        "outputId": "61ed9e3c-0d12-45c8-af14-71e245e03c82"
      },
      "execution_count": 7,
      "outputs": [
        {
          "output_type": "stream",
          "name": "stdout",
          "text": [
            "x_1:2.0\n",
            "x_2:0.0\n",
            "x_3:3.0\n",
            "y_(1,_1):0.0\n",
            "y_(1,_2):1.0\n",
            "y_(1,_3):0.0\n",
            "y_(2,_1):0.0\n",
            "y_(2,_2):0.0\n",
            "y_(2,_3):0.0\n",
            "y_(3,_1):0.0\n",
            "y_(3,_2):0.0\n",
            "y_(3,_3):1.0\n"
          ]
        }
      ]
    },
    {
      "cell_type": "code",
      "source": [
        "VNames = []\n",
        "for variables in model.variables():\n",
        "  VNames.append(variables.name)\n",
        "\n",
        "VValue = []\n",
        "for variables in model.variables():\n",
        "  VValue.append(np.round(variables.varValue, 2))\n",
        "\n",
        "data = {'Variables': VNames, 'Value': VValue}\n",
        "pd.DataFrame(data, index = range(1, len(VValue)+1))"
      ],
      "metadata": {
        "colab": {
          "base_uri": "https://localhost:8080/",
          "height": 425
        },
        "id": "QphPKQiwNmOw",
        "outputId": "22100ffb-8f8c-4684-f4da-6e9d2ceb89ed"
      },
      "execution_count": 8,
      "outputs": [
        {
          "output_type": "execute_result",
          "data": {
            "text/plain": [
              "   Variables  Value\n",
              "1        x_1    2.0\n",
              "2        x_2    0.0\n",
              "3        x_3    3.0\n",
              "4   y_(1,_1)    0.0\n",
              "5   y_(1,_2)    1.0\n",
              "6   y_(1,_3)    0.0\n",
              "7   y_(2,_1)    0.0\n",
              "8   y_(2,_2)    0.0\n",
              "9   y_(2,_3)    0.0\n",
              "10  y_(3,_1)    0.0\n",
              "11  y_(3,_2)    0.0\n",
              "12  y_(3,_3)    1.0"
            ],
            "text/html": [
              "\n",
              "  <div id=\"df-6010a6db-e016-4688-b000-0b18609ab51d\" class=\"colab-df-container\">\n",
              "    <div>\n",
              "<style scoped>\n",
              "    .dataframe tbody tr th:only-of-type {\n",
              "        vertical-align: middle;\n",
              "    }\n",
              "\n",
              "    .dataframe tbody tr th {\n",
              "        vertical-align: top;\n",
              "    }\n",
              "\n",
              "    .dataframe thead th {\n",
              "        text-align: right;\n",
              "    }\n",
              "</style>\n",
              "<table border=\"1\" class=\"dataframe\">\n",
              "  <thead>\n",
              "    <tr style=\"text-align: right;\">\n",
              "      <th></th>\n",
              "      <th>Variables</th>\n",
              "      <th>Value</th>\n",
              "    </tr>\n",
              "  </thead>\n",
              "  <tbody>\n",
              "    <tr>\n",
              "      <th>1</th>\n",
              "      <td>x_1</td>\n",
              "      <td>2.0</td>\n",
              "    </tr>\n",
              "    <tr>\n",
              "      <th>2</th>\n",
              "      <td>x_2</td>\n",
              "      <td>0.0</td>\n",
              "    </tr>\n",
              "    <tr>\n",
              "      <th>3</th>\n",
              "      <td>x_3</td>\n",
              "      <td>3.0</td>\n",
              "    </tr>\n",
              "    <tr>\n",
              "      <th>4</th>\n",
              "      <td>y_(1,_1)</td>\n",
              "      <td>0.0</td>\n",
              "    </tr>\n",
              "    <tr>\n",
              "      <th>5</th>\n",
              "      <td>y_(1,_2)</td>\n",
              "      <td>1.0</td>\n",
              "    </tr>\n",
              "    <tr>\n",
              "      <th>6</th>\n",
              "      <td>y_(1,_3)</td>\n",
              "      <td>0.0</td>\n",
              "    </tr>\n",
              "    <tr>\n",
              "      <th>7</th>\n",
              "      <td>y_(2,_1)</td>\n",
              "      <td>0.0</td>\n",
              "    </tr>\n",
              "    <tr>\n",
              "      <th>8</th>\n",
              "      <td>y_(2,_2)</td>\n",
              "      <td>0.0</td>\n",
              "    </tr>\n",
              "    <tr>\n",
              "      <th>9</th>\n",
              "      <td>y_(2,_3)</td>\n",
              "      <td>0.0</td>\n",
              "    </tr>\n",
              "    <tr>\n",
              "      <th>10</th>\n",
              "      <td>y_(3,_1)</td>\n",
              "      <td>0.0</td>\n",
              "    </tr>\n",
              "    <tr>\n",
              "      <th>11</th>\n",
              "      <td>y_(3,_2)</td>\n",
              "      <td>0.0</td>\n",
              "    </tr>\n",
              "    <tr>\n",
              "      <th>12</th>\n",
              "      <td>y_(3,_3)</td>\n",
              "      <td>1.0</td>\n",
              "    </tr>\n",
              "  </tbody>\n",
              "</table>\n",
              "</div>\n",
              "    <div class=\"colab-df-buttons\">\n",
              "\n",
              "  <div class=\"colab-df-container\">\n",
              "    <button class=\"colab-df-convert\" onclick=\"convertToInteractive('df-6010a6db-e016-4688-b000-0b18609ab51d')\"\n",
              "            title=\"Convert this dataframe to an interactive table.\"\n",
              "            style=\"display:none;\">\n",
              "\n",
              "  <svg xmlns=\"http://www.w3.org/2000/svg\" height=\"24px\" viewBox=\"0 -960 960 960\">\n",
              "    <path d=\"M120-120v-720h720v720H120Zm60-500h600v-160H180v160Zm220 220h160v-160H400v160Zm0 220h160v-160H400v160ZM180-400h160v-160H180v160Zm440 0h160v-160H620v160ZM180-180h160v-160H180v160Zm440 0h160v-160H620v160Z\"/>\n",
              "  </svg>\n",
              "    </button>\n",
              "\n",
              "  <style>\n",
              "    .colab-df-container {\n",
              "      display:flex;\n",
              "      gap: 12px;\n",
              "    }\n",
              "\n",
              "    .colab-df-convert {\n",
              "      background-color: #E8F0FE;\n",
              "      border: none;\n",
              "      border-radius: 50%;\n",
              "      cursor: pointer;\n",
              "      display: none;\n",
              "      fill: #1967D2;\n",
              "      height: 32px;\n",
              "      padding: 0 0 0 0;\n",
              "      width: 32px;\n",
              "    }\n",
              "\n",
              "    .colab-df-convert:hover {\n",
              "      background-color: #E2EBFA;\n",
              "      box-shadow: 0px 1px 2px rgba(60, 64, 67, 0.3), 0px 1px 3px 1px rgba(60, 64, 67, 0.15);\n",
              "      fill: #174EA6;\n",
              "    }\n",
              "\n",
              "    .colab-df-buttons div {\n",
              "      margin-bottom: 4px;\n",
              "    }\n",
              "\n",
              "    [theme=dark] .colab-df-convert {\n",
              "      background-color: #3B4455;\n",
              "      fill: #D2E3FC;\n",
              "    }\n",
              "\n",
              "    [theme=dark] .colab-df-convert:hover {\n",
              "      background-color: #434B5C;\n",
              "      box-shadow: 0px 1px 3px 1px rgba(0, 0, 0, 0.15);\n",
              "      filter: drop-shadow(0px 1px 2px rgba(0, 0, 0, 0.3));\n",
              "      fill: #FFFFFF;\n",
              "    }\n",
              "  </style>\n",
              "\n",
              "    <script>\n",
              "      const buttonEl =\n",
              "        document.querySelector('#df-6010a6db-e016-4688-b000-0b18609ab51d button.colab-df-convert');\n",
              "      buttonEl.style.display =\n",
              "        google.colab.kernel.accessAllowed ? 'block' : 'none';\n",
              "\n",
              "      async function convertToInteractive(key) {\n",
              "        const element = document.querySelector('#df-6010a6db-e016-4688-b000-0b18609ab51d');\n",
              "        const dataTable =\n",
              "          await google.colab.kernel.invokeFunction('convertToInteractive',\n",
              "                                                    [key], {});\n",
              "        if (!dataTable) return;\n",
              "\n",
              "        const docLinkHtml = 'Like what you see? Visit the ' +\n",
              "          '<a target=\"_blank\" href=https://colab.research.google.com/notebooks/data_table.ipynb>data table notebook</a>'\n",
              "          + ' to learn more about interactive tables.';\n",
              "        element.innerHTML = '';\n",
              "        dataTable['output_type'] = 'display_data';\n",
              "        await google.colab.output.renderOutput(dataTable, element);\n",
              "        const docLink = document.createElement('div');\n",
              "        docLink.innerHTML = docLinkHtml;\n",
              "        element.appendChild(docLink);\n",
              "      }\n",
              "    </script>\n",
              "  </div>\n",
              "\n",
              "\n",
              "<div id=\"df-77e677f1-44dd-4d74-9212-794815b24c45\">\n",
              "  <button class=\"colab-df-quickchart\" onclick=\"quickchart('df-77e677f1-44dd-4d74-9212-794815b24c45')\"\n",
              "            title=\"Suggest charts\"\n",
              "            style=\"display:none;\">\n",
              "\n",
              "<svg xmlns=\"http://www.w3.org/2000/svg\" height=\"24px\"viewBox=\"0 0 24 24\"\n",
              "     width=\"24px\">\n",
              "    <g>\n",
              "        <path d=\"M19 3H5c-1.1 0-2 .9-2 2v14c0 1.1.9 2 2 2h14c1.1 0 2-.9 2-2V5c0-1.1-.9-2-2-2zM9 17H7v-7h2v7zm4 0h-2V7h2v10zm4 0h-2v-4h2v4z\"/>\n",
              "    </g>\n",
              "</svg>\n",
              "  </button>\n",
              "\n",
              "<style>\n",
              "  .colab-df-quickchart {\n",
              "      --bg-color: #E8F0FE;\n",
              "      --fill-color: #1967D2;\n",
              "      --hover-bg-color: #E2EBFA;\n",
              "      --hover-fill-color: #174EA6;\n",
              "      --disabled-fill-color: #AAA;\n",
              "      --disabled-bg-color: #DDD;\n",
              "  }\n",
              "\n",
              "  [theme=dark] .colab-df-quickchart {\n",
              "      --bg-color: #3B4455;\n",
              "      --fill-color: #D2E3FC;\n",
              "      --hover-bg-color: #434B5C;\n",
              "      --hover-fill-color: #FFFFFF;\n",
              "      --disabled-bg-color: #3B4455;\n",
              "      --disabled-fill-color: #666;\n",
              "  }\n",
              "\n",
              "  .colab-df-quickchart {\n",
              "    background-color: var(--bg-color);\n",
              "    border: none;\n",
              "    border-radius: 50%;\n",
              "    cursor: pointer;\n",
              "    display: none;\n",
              "    fill: var(--fill-color);\n",
              "    height: 32px;\n",
              "    padding: 0;\n",
              "    width: 32px;\n",
              "  }\n",
              "\n",
              "  .colab-df-quickchart:hover {\n",
              "    background-color: var(--hover-bg-color);\n",
              "    box-shadow: 0 1px 2px rgba(60, 64, 67, 0.3), 0 1px 3px 1px rgba(60, 64, 67, 0.15);\n",
              "    fill: var(--button-hover-fill-color);\n",
              "  }\n",
              "\n",
              "  .colab-df-quickchart-complete:disabled,\n",
              "  .colab-df-quickchart-complete:disabled:hover {\n",
              "    background-color: var(--disabled-bg-color);\n",
              "    fill: var(--disabled-fill-color);\n",
              "    box-shadow: none;\n",
              "  }\n",
              "\n",
              "  .colab-df-spinner {\n",
              "    border: 2px solid var(--fill-color);\n",
              "    border-color: transparent;\n",
              "    border-bottom-color: var(--fill-color);\n",
              "    animation:\n",
              "      spin 1s steps(1) infinite;\n",
              "  }\n",
              "\n",
              "  @keyframes spin {\n",
              "    0% {\n",
              "      border-color: transparent;\n",
              "      border-bottom-color: var(--fill-color);\n",
              "      border-left-color: var(--fill-color);\n",
              "    }\n",
              "    20% {\n",
              "      border-color: transparent;\n",
              "      border-left-color: var(--fill-color);\n",
              "      border-top-color: var(--fill-color);\n",
              "    }\n",
              "    30% {\n",
              "      border-color: transparent;\n",
              "      border-left-color: var(--fill-color);\n",
              "      border-top-color: var(--fill-color);\n",
              "      border-right-color: var(--fill-color);\n",
              "    }\n",
              "    40% {\n",
              "      border-color: transparent;\n",
              "      border-right-color: var(--fill-color);\n",
              "      border-top-color: var(--fill-color);\n",
              "    }\n",
              "    60% {\n",
              "      border-color: transparent;\n",
              "      border-right-color: var(--fill-color);\n",
              "    }\n",
              "    80% {\n",
              "      border-color: transparent;\n",
              "      border-right-color: var(--fill-color);\n",
              "      border-bottom-color: var(--fill-color);\n",
              "    }\n",
              "    90% {\n",
              "      border-color: transparent;\n",
              "      border-bottom-color: var(--fill-color);\n",
              "    }\n",
              "  }\n",
              "</style>\n",
              "\n",
              "  <script>\n",
              "    async function quickchart(key) {\n",
              "      const quickchartButtonEl =\n",
              "        document.querySelector('#' + key + ' button');\n",
              "      quickchartButtonEl.disabled = true;  // To prevent multiple clicks.\n",
              "      quickchartButtonEl.classList.add('colab-df-spinner');\n",
              "      try {\n",
              "        const charts = await google.colab.kernel.invokeFunction(\n",
              "            'suggestCharts', [key], {});\n",
              "      } catch (error) {\n",
              "        console.error('Error during call to suggestCharts:', error);\n",
              "      }\n",
              "      quickchartButtonEl.classList.remove('colab-df-spinner');\n",
              "      quickchartButtonEl.classList.add('colab-df-quickchart-complete');\n",
              "    }\n",
              "    (() => {\n",
              "      let quickchartButtonEl =\n",
              "        document.querySelector('#df-77e677f1-44dd-4d74-9212-794815b24c45 button');\n",
              "      quickchartButtonEl.style.display =\n",
              "        google.colab.kernel.accessAllowed ? 'block' : 'none';\n",
              "    })();\n",
              "  </script>\n",
              "</div>\n",
              "\n",
              "    </div>\n",
              "  </div>\n"
            ],
            "application/vnd.google.colaboratory.intrinsic+json": {
              "type": "dataframe",
              "summary": "{\n  \"name\": \"pd\",\n  \"rows\": 12,\n  \"fields\": [\n    {\n      \"column\": \"Variables\",\n      \"properties\": {\n        \"dtype\": \"string\",\n        \"num_unique_values\": 12,\n        \"samples\": [\n          \"y_(3,_2)\",\n          \"y_(3,_1)\",\n          \"x_1\"\n        ],\n        \"semantic_type\": \"\",\n        \"description\": \"\"\n      }\n    },\n    {\n      \"column\": \"Value\",\n      \"properties\": {\n        \"dtype\": \"number\",\n        \"std\": 0.996204919895622,\n        \"min\": 0.0,\n        \"max\": 3.0,\n        \"num_unique_values\": 4,\n        \"samples\": [\n          0.0,\n          1.0,\n          2.0\n        ],\n        \"semantic_type\": \"\",\n        \"description\": \"\"\n      }\n    }\n  ]\n}"
            }
          },
          "metadata": {},
          "execution_count": 8
        }
      ]
    },
    {
      "cell_type": "markdown",
      "source": [
        "## Using Pyomo Library"
      ],
      "metadata": {
        "id": "cFccEhQMsrAM"
      }
    },
    {
      "cell_type": "code",
      "source": [
        "!pip install pyomo\n",
        "!apt-get install -y -qq glpk-utils\n",
        "\n",
        "from pyomo.environ import *"
      ],
      "metadata": {
        "colab": {
          "base_uri": "https://localhost:8080/"
        },
        "collapsed": true,
        "id": "8ZK40M_vNoJG",
        "outputId": "66ce6675-3fab-4577-8656-87d362ae985a"
      },
      "execution_count": 9,
      "outputs": [
        {
          "output_type": "stream",
          "name": "stdout",
          "text": [
            "Requirement already satisfied: pyomo in /usr/local/lib/python3.10/dist-packages (6.8.0)\n",
            "Requirement already satisfied: ply in /usr/local/lib/python3.10/dist-packages (from pyomo) (3.11)\n"
          ]
        }
      ]
    },
    {
      "cell_type": "code",
      "source": [
        "model = ConcreteModel()\n",
        "\n",
        "model.indicesx = Set(initialize=[1,2,3])\n",
        "model.indicesy = Set(initialize=[1,2,3])\n",
        "model.x = Var(model.indicesx, domain=Integers)\n",
        "model.y = Var(model.indicesx, model.indicesy, domain=Binary)\n",
        "\n",
        "model.obj = Objective(expr=model.y[1,1]+3*model.y[1,2]+3*model.y[1,3]+2*model.y[2,2]+3*model.y[2,3]-model.y[3,1]+2*model.y[3,2]+4*model.y[3,3], sense=maximize)\n",
        "\n",
        "model.constraint1 = Constraint(expr=model.y[1,1]+model.y[1,2]+model.y[1,3] <= 1)\n",
        "model.constraint2 = Constraint(expr=model.y[2,1]+model.y[2,2]+model.y[2,3] <= 1)\n",
        "model.constraint3 = Constraint(expr=model.y[3,1]+model.y[3,2]+model.y[3,3] <= 1)\n",
        "model.constraint4 = Constraint(expr=model.y[1,1]+2*model.y[1,2]+3*model.y[1,3]+model.y[2,1]+2*model.y[2,2]+3*model.y[2,3]+model.y[3,1]+2*model.y[3,2]+3*model.y[3,3] == 5)\n",
        "model.constraint5 = Constraint(expr=model.x[1] == model.y[1,1]+2*model.y[1,2]+3*model.y[1,3])\n",
        "model.constraint6 = Constraint(expr=model.x[2] == model.y[2,1]+2*model.y[2,2]+3*model.y[2,3])\n",
        "model.constraint7 = Constraint(expr=model.x[3] == model.y[3,1]+2*model.y[3,2]+3*model.y[3,3])\n",
        "\n",
        "SolverFactory('glpk').solve(model)\n",
        "\n",
        "model.display()"
      ],
      "metadata": {
        "colab": {
          "base_uri": "https://localhost:8080/"
        },
        "id": "QU2Yq6YFNvdv",
        "outputId": "4699ef80-1a3f-4a91-e5a4-237a6628384b"
      },
      "execution_count": 10,
      "outputs": [
        {
          "output_type": "stream",
          "name": "stdout",
          "text": [
            "Model unknown\n",
            "\n",
            "  Variables:\n",
            "    x : Size=3, Index=indicesx\n",
            "        Key : Lower : Value : Upper : Fixed : Stale : Domain\n",
            "          1 :  None :   2.0 :  None : False : False : Integers\n",
            "          2 :  None :   0.0 :  None : False : False : Integers\n",
            "          3 :  None :   3.0 :  None : False : False : Integers\n",
            "    y : Size=9, Index=indicesx*indicesy\n",
            "        Key    : Lower : Value : Upper : Fixed : Stale : Domain\n",
            "        (1, 1) :     0 :   0.0 :     1 : False : False : Binary\n",
            "        (1, 2) :     0 :   1.0 :     1 : False : False : Binary\n",
            "        (1, 3) :     0 :   0.0 :     1 : False : False : Binary\n",
            "        (2, 1) :     0 :   0.0 :     1 : False : False : Binary\n",
            "        (2, 2) :     0 :   0.0 :     1 : False : False : Binary\n",
            "        (2, 3) :     0 :   0.0 :     1 : False : False : Binary\n",
            "        (3, 1) :     0 :   0.0 :     1 : False : False : Binary\n",
            "        (3, 2) :     0 :   0.0 :     1 : False : False : Binary\n",
            "        (3, 3) :     0 :   1.0 :     1 : False : False : Binary\n",
            "\n",
            "  Objectives:\n",
            "    obj : Size=1, Index=None, Active=True\n",
            "        Key  : Active : Value\n",
            "        None :   True :   7.0\n",
            "\n",
            "  Constraints:\n",
            "    constraint1 : Size=1\n",
            "        Key  : Lower : Body : Upper\n",
            "        None :  None :  1.0 :   1.0\n",
            "    constraint2 : Size=1\n",
            "        Key  : Lower : Body : Upper\n",
            "        None :  None :  0.0 :   1.0\n",
            "    constraint3 : Size=1\n",
            "        Key  : Lower : Body : Upper\n",
            "        None :  None :  1.0 :   1.0\n",
            "    constraint4 : Size=1\n",
            "        Key  : Lower : Body : Upper\n",
            "        None :   5.0 :  5.0 :   5.0\n",
            "    constraint5 : Size=1\n",
            "        Key  : Lower : Body : Upper\n",
            "        None :   0.0 :  0.0 :   0.0\n",
            "    constraint6 : Size=1\n",
            "        Key  : Lower : Body : Upper\n",
            "        None :   0.0 :  0.0 :   0.0\n",
            "    constraint7 : Size=1\n",
            "        Key  : Lower : Body : Upper\n",
            "        None :   0.0 :  0.0 :   0.0\n"
          ]
        }
      ]
    },
    {
      "cell_type": "code",
      "source": [
        "print(\"Variable values:\")\n",
        "model.x.pprint()\n",
        "model.y.pprint()"
      ],
      "metadata": {
        "colab": {
          "base_uri": "https://localhost:8080/"
        },
        "id": "1wxMXWhBOf53",
        "outputId": "5fdd6e16-8db3-4f6f-e9ab-3eca3f2264af"
      },
      "execution_count": 11,
      "outputs": [
        {
          "output_type": "stream",
          "name": "stdout",
          "text": [
            "Variable values:\n",
            "x : Size=3, Index=indicesx\n",
            "    Key : Lower : Value : Upper : Fixed : Stale : Domain\n",
            "      1 :  None :   2.0 :  None : False : False : Integers\n",
            "      2 :  None :   0.0 :  None : False : False : Integers\n",
            "      3 :  None :   3.0 :  None : False : False : Integers\n",
            "y : Size=9, Index=indicesx*indicesy\n",
            "    Key    : Lower : Value : Upper : Fixed : Stale : Domain\n",
            "    (1, 1) :     0 :   0.0 :     1 : False : False : Binary\n",
            "    (1, 2) :     0 :   1.0 :     1 : False : False : Binary\n",
            "    (1, 3) :     0 :   0.0 :     1 : False : False : Binary\n",
            "    (2, 1) :     0 :   0.0 :     1 : False : False : Binary\n",
            "    (2, 2) :     0 :   0.0 :     1 : False : False : Binary\n",
            "    (2, 3) :     0 :   0.0 :     1 : False : False : Binary\n",
            "    (3, 1) :     0 :   0.0 :     1 : False : False : Binary\n",
            "    (3, 2) :     0 :   0.0 :     1 : False : False : Binary\n",
            "    (3, 3) :     0 :   1.0 :     1 : False : False : Binary\n"
          ]
        }
      ]
    }
  ]
}