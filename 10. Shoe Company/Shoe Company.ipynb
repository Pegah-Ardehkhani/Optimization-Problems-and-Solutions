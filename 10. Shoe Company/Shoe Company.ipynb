{
  "nbformat": 4,
  "nbformat_minor": 0,
  "metadata": {
    "colab": {
      "provenance": []
    },
    "kernelspec": {
      "name": "python3",
      "display_name": "Python 3"
    },
    "language_info": {
      "name": "python"
    }
  },
  "cells": [
    {
      "cell_type": "markdown",
      "source": [
        "# **Shoe Company:**"
      ],
      "metadata": {
        "id": "zE0gF_qS7pO3"
      }
    },
    {
      "cell_type": "markdown",
      "source": [
        "**Problem Statement:**\n",
        "\n",
        "You have a company of shoes with $3$ large machines, and you wish to minimize the total cost of production.\n",
        "\n",
        "The total cost of production of each machine is a function of production:\n",
        "\n",
        "$C_A=0.1P_A^2+0.5P_A+0.1$\n",
        "\n",
        "$C_B=0.3P_B+0.5$\n",
        "\n",
        "$C_C=0.01P_C^3$\n",
        "\n",
        "Where $C$ is the cost of production of $P$ product for each machine.\n",
        "\n",
        "In the next month, you have a demand of $10,000$ shoes. What is the number of products that should be assigned to each machine in order to minimize the total cost?"
      ],
      "metadata": {
        "id": "62cwjSyT7vRt"
      }
    },
    {
      "cell_type": "markdown",
      "source": [
        "**Modeling:**\n",
        "\n",
        "$P_A, P_B, P_C$ represent the number of production of product $A,B,C$\n",
        "\n",
        "$\\\\ $\n",
        "\n",
        "$Objective\\ Function:\\\\ $\n",
        "\n",
        "$Min\\ Z = C_A+X_B+C_C=(0.1P_A^2+0.5P_A+0.1) + (0.3P_B+0.5) + (0.03P_C^3)$\n",
        "\n",
        "$\\\\ $\n",
        "\n",
        "$Constraints:\\\\ $\n",
        "\n",
        "$P_A+P_B+P_C= 10,000$\n",
        "\n",
        "$P_A,P_B,P_C >=0, integer$"
      ],
      "metadata": {
        "id": "F9Ifm9du9DSt"
      }
    },
    {
      "cell_type": "code",
      "execution_count": 1,
      "metadata": {
        "colab": {
          "base_uri": "https://localhost:8080/"
        },
        "id": "V2XwmMAU7PhM",
        "outputId": "7b830bc6-d65f-4859-e613-37f6a3e89497"
      },
      "outputs": [
        {
          "output_type": "stream",
          "name": "stdout",
          "text": [
            "Requirement already satisfied: pyomo in /usr/local/lib/python3.10/dist-packages (6.8.0)\n",
            "Requirement already satisfied: ply in /usr/local/lib/python3.10/dist-packages (from pyomo) (3.11)\n"
          ]
        }
      ],
      "source": [
        "!pip install pyomo\n",
        "!wget -N -q \"https://matematica.unipv.it/gualandi/solvers/ipopt-linux64.zip\"   #IPOPT\n",
        "!unzip -o -q ipopt-linux64\n",
        "import numpy as np\n",
        "import pandas as pd\n",
        "from pyomo.environ import *"
      ]
    },
    {
      "cell_type": "code",
      "source": [
        "#Defining the problem\n",
        "\n",
        "model = ConcreteModel()"
      ],
      "metadata": {
        "id": "jWQZjZvNA6Yi"
      },
      "execution_count": 2,
      "outputs": []
    },
    {
      "cell_type": "code",
      "source": [
        "#Defining variables\n",
        "\n",
        "products = ['A', 'B', 'C']\n",
        "\n",
        "model.indices = Set(initialize=products)\n",
        "model.p = Var(model.indices, bounds=(0, None), domain=Integers)\n",
        "\n",
        "#Display the variables\n",
        "\n",
        "model.pprint()"
      ],
      "metadata": {
        "id": "uKMry2HtAY4M",
        "colab": {
          "base_uri": "https://localhost:8080/"
        },
        "outputId": "45c9e0e0-6900-4f40-9987-925469415cdf"
      },
      "execution_count": 3,
      "outputs": [
        {
          "output_type": "stream",
          "name": "stdout",
          "text": [
            "1 Set Declarations\n",
            "    indices : Size=1, Index=None, Ordered=Insertion\n",
            "        Key  : Dimen : Domain : Size : Members\n",
            "        None :     1 :    Any :    3 : {'A', 'B', 'C'}\n",
            "\n",
            "1 Var Declarations\n",
            "    p : Size=3, Index=indices\n",
            "        Key : Lower : Value : Upper : Fixed : Stale : Domain\n",
            "          A :     0 :  None :  None : False :  True : Integers\n",
            "          B :     0 :  None :  None : False :  True : Integers\n",
            "          C :     0 :  None :  None : False :  True : Integers\n",
            "\n",
            "2 Declarations: indices p\n"
          ]
        }
      ]
    },
    {
      "cell_type": "code",
      "source": [
        "#Defining Objective Function\n",
        "\n",
        "model.obj = Objective(expr=0.1*(model.p['A'])**2 + 0.5*model.p['A'] + 0.1 + 0.3*model.p['B'] + 0.5 + 0.03*(model.p['C'])**3, sense=minimize)"
      ],
      "metadata": {
        "id": "ASKrlwCMBNuT"
      },
      "execution_count": 4,
      "outputs": []
    },
    {
      "cell_type": "code",
      "source": [
        "#Define constraints\n",
        "\n",
        "model.constr1 = Constraint(expr=sum(model.p[i] for i in model.indices) == 10000)"
      ],
      "metadata": {
        "id": "_-iqd1bOCEsq"
      },
      "execution_count": 5,
      "outputs": []
    },
    {
      "cell_type": "code",
      "source": [
        "#Solve the model\n",
        "\n",
        "SolverFactory('ipopt', executable='ipopt').solve(model)"
      ],
      "metadata": {
        "colab": {
          "base_uri": "https://localhost:8080/"
        },
        "id": "d0nxLIQzEzJt",
        "outputId": "85ec3183-16ac-45e6-9d61-a153a49803c2"
      },
      "execution_count": 6,
      "outputs": [
        {
          "output_type": "execute_result",
          "data": {
            "text/plain": [
              "{'Problem': [{'Lower bound': -inf, 'Upper bound': inf, 'Number of objectives': 1, 'Number of constraints': 1, 'Number of variables': 3, 'Sense': 'unknown'}], 'Solver': [{'Status': 'ok', 'Message': 'Ipopt 3.12.13\\\\x3a Optimal Solution Found', 'Termination condition': 'optimal', 'Id': 0, 'Error rc': 0, 'Time': 0.017176151275634766}], 'Solution': [OrderedDict([('number of solutions', 0), ('number of solutions displayed', 0)])]}"
            ]
          },
          "metadata": {},
          "execution_count": 6
        }
      ]
    },
    {
      "cell_type": "code",
      "source": [
        "#Display results\n",
        "\n",
        "model.display()"
      ],
      "metadata": {
        "colab": {
          "base_uri": "https://localhost:8080/"
        },
        "id": "g5qoRiVKE6jM",
        "outputId": "0cfab584-ea53-45a2-de02-603947aa315b"
      },
      "execution_count": 7,
      "outputs": [
        {
          "output_type": "stream",
          "name": "stdout",
          "text": [
            "Model unknown\n",
            "\n",
            "  Variables:\n",
            "    p : Size=3, Index=indices\n",
            "        Key : Lower : Value                  : Upper : Fixed : Stale : Domain\n",
            "          A :     0 : 2.6497245669955354e-09 :  None : False : False : Integers\n",
            "          B :     0 :      9998.174258134817 :  None : False : False : Integers\n",
            "          C :     0 :      1.825741862534424 :  None : False : False : Integers\n",
            "\n",
            "  Objectives:\n",
            "    obj : Size=1, Index=None, Active=True\n",
            "        Key  : Active : Value\n",
            "        None :   True : 3000.2348516288603\n",
            "\n",
            "  Constraints:\n",
            "    constr1 : Size=1\n",
            "        Key  : Lower   : Body               : Upper\n",
            "        None : 10000.0 : 10000.000000000002 : 10000.0\n"
          ]
        }
      ]
    },
    {
      "cell_type": "code",
      "source": [
        "print(\"Variable values:\")\n",
        "model.p.pprint()"
      ],
      "metadata": {
        "colab": {
          "base_uri": "https://localhost:8080/"
        },
        "id": "2uWssp3NE_cE",
        "outputId": "2b23f53b-0012-45fd-a967-25e7fc39dfb8"
      },
      "execution_count": 8,
      "outputs": [
        {
          "output_type": "stream",
          "name": "stdout",
          "text": [
            "Variable values:\n",
            "p : Size=3, Index=indices\n",
            "    Key : Lower : Value                  : Upper : Fixed : Stale : Domain\n",
            "      A :     0 : 2.6497245669955354e-09 :  None : False : False : Integers\n",
            "      B :     0 :      9998.174258134817 :  None : False : False : Integers\n",
            "      C :     0 :      1.825741862534424 :  None : False : False : Integers\n"
          ]
        }
      ]
    }
  ]
}