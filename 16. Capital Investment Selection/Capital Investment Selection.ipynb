{
  "nbformat": 4,
  "nbformat_minor": 0,
  "metadata": {
    "colab": {
      "provenance": []
    },
    "kernelspec": {
      "name": "python3",
      "display_name": "Python 3"
    },
    "language_info": {
      "name": "python"
    }
  },
  "cells": [
    {
      "cell_type": "markdown",
      "source": [
        "# **Capital Investment Selection:**"
      ],
      "metadata": {
        "id": "DuEhY50Rz9_U"
      }
    },
    {
      "cell_type": "markdown",
      "source": [
        "Problem Source: F. S. Hillier and G. J. Lieberman, \"Introduction to Mathematical Programming,\" 2nd Edition, McGraw-Hill Inc., New York, 1995."
      ],
      "metadata": {
        "id": "yP_QF2ZMe0GL"
      }
    },
    {
      "cell_type": "markdown",
      "source": [
        "**Problem Statement:**\n",
        "\n",
        "The board of directors of General Wheels Co. is considering seven large capital\n",
        "investments. Each investment can be made only once. These investments differ in the estimated long-run profit (net present value) that they will generate as well as in the amount of capital required, as shown by the following table (in units of millions of dollars):"
      ],
      "metadata": {
        "id": "nHo8hV8uz7V0"
      }
    },
    {
      "cell_type": "markdown",
      "source": [
        "![Table 12.1.2.PNG](data:image/png;base64,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)"
      ],
      "metadata": {
        "id": "v4_Ku_8N0eC4"
      }
    },
    {
      "cell_type": "markdown",
      "source": [
        "The total amount of capital available for these investments is $\\$ 100$ million. Investment opportunities $1$ and $2$ are mutually exclusive, and so are $3$ and $4$. Furthermore, neither $3$ nor $4$ can be undertaken unless one of the first two opportunities is undertaken. There are no such restrictions on investment opportunities $5$, $6$, and $7$. The objective is to select the combination of capital investments that will maximize the total estimated long-run profit (net present value)."
      ],
      "metadata": {
        "id": "BmkObDgq0jlp"
      }
    },
    {
      "cell_type": "markdown",
      "source": [
        "**Modeling:**\n",
        "\n",
        "$x_{i} \\ $   binary variables for each investment opportunity\n",
        "\n",
        "$\\\\ $\n",
        "\n",
        "$Objective\\ Function:\\\\ $\n",
        "\n",
        "$Max\\ Z = 17x_{1}+10x_{2}+15x_{3}+19x_{4}+7x_{5}+13x_{6}+9x_{7}$\n",
        "\n",
        "$\\\\ $\n",
        "\n",
        "$Constraints:\\\\ $\n",
        "\n",
        "$x_{1}+x_{2}+x_{3}+x_{4}+x_{5}+x_{6}+x_{7} \\leq 100$\n",
        "\n",
        "$x_{1}+x_{2} \\leq 1$\n",
        "\n",
        "$x_{3}+x_{4} \\leq 1$\n",
        "\n",
        "$x_{3} \\leq x_{1} + x_{2}$\n",
        "\n",
        "$x_{4} \\leq x_{1} + x_{2}$"
      ],
      "metadata": {
        "id": "LwXynL-K15Dw"
      }
    },
    {
      "cell_type": "markdown",
      "source": [
        "## Using Pulp Library"
      ],
      "metadata": {
        "id": "cFccEhQMsrAM"
      }
    },
    {
      "cell_type": "code",
      "execution_count": 1,
      "metadata": {
        "colab": {
          "base_uri": "https://localhost:8080/"
        },
        "id": "blnLvgLQzbJ4",
        "outputId": "f6c67da2-31ea-4863-d452-66a6eb1da8ee"
      },
      "outputs": [
        {
          "output_type": "stream",
          "name": "stdout",
          "text": [
            "Requirement already satisfied: pulp in /usr/local/lib/python3.10/dist-packages (2.9.0)\n"
          ]
        }
      ],
      "source": [
        "!pip install pulp\n",
        "from pulp import *\n",
        "import numpy as np\n",
        "import pandas as pd"
      ]
    },
    {
      "cell_type": "code",
      "source": [
        "#Defining Variables\n",
        "\n",
        "x = LpVariable.dicts('x', ((i) for i in range(1,8)), cat='Binary')"
      ],
      "metadata": {
        "id": "dsXtgi4U5EjH"
      },
      "execution_count": 2,
      "outputs": []
    },
    {
      "cell_type": "code",
      "source": [
        "#Defining Objective Function\n",
        "\n",
        "model = LpProblem('model', LpMaximize)\n",
        "\n",
        "model += 17*x[1]+10*x[2]+15*x[3]+19*x[4]+7*x[5]+13*x[6]+9*x[7]"
      ],
      "metadata": {
        "id": "GDxZxpb85Nxu"
      },
      "execution_count": 3,
      "outputs": []
    },
    {
      "cell_type": "code",
      "source": [
        "#Constraints\n",
        "\n",
        "#Capital Budget Constraint: The total capital used cannot exceed $100 million.\n",
        "model += x[1]+x[2]+x[3]+x[4]+x[5]+x[6]+x[7] <= 100\n",
        "\n",
        "#Mutual Exclusivity of Investments 1 and 2\n",
        "model += x[1]+x[2] <= 1\n",
        "\n",
        "#Mutual Exclusivity of Investments 3 and 4\n",
        "model += x[3]+x[4] <= 1\n",
        "\n",
        "#Dependency of Investments 3 and 4 on Investments 1 or 2\n",
        "model += x[3] <= x[1]+x[2]\n",
        "model += x[4] <= x[1]+x[2]"
      ],
      "metadata": {
        "id": "yzqi0hlg5pXG"
      },
      "execution_count": 4,
      "outputs": []
    },
    {
      "cell_type": "code",
      "source": [
        "#Model summary\n",
        "\n",
        "model"
      ],
      "metadata": {
        "colab": {
          "base_uri": "https://localhost:8080/"
        },
        "id": "4mQGot926U0k",
        "outputId": "cf06b599-be3f-46b0-bc7c-c3f892b739d6"
      },
      "execution_count": 5,
      "outputs": [
        {
          "output_type": "execute_result",
          "data": {
            "text/plain": [
              "model:\n",
              "MAXIMIZE\n",
              "17*x_1 + 10*x_2 + 15*x_3 + 19*x_4 + 7*x_5 + 13*x_6 + 9*x_7 + 0\n",
              "SUBJECT TO\n",
              "_C1: x_1 + x_2 + x_3 + x_4 + x_5 + x_6 + x_7 <= 100\n",
              "\n",
              "_C2: x_1 + x_2 <= 1\n",
              "\n",
              "_C3: x_3 + x_4 <= 1\n",
              "\n",
              "_C4: - x_1 - x_2 + x_3 <= 0\n",
              "\n",
              "_C5: - x_1 - x_2 + x_4 <= 0\n",
              "\n",
              "VARIABLES\n",
              "0 <= x_1 <= 1 Integer\n",
              "0 <= x_2 <= 1 Integer\n",
              "0 <= x_3 <= 1 Integer\n",
              "0 <= x_4 <= 1 Integer\n",
              "0 <= x_5 <= 1 Integer\n",
              "0 <= x_6 <= 1 Integer\n",
              "0 <= x_7 <= 1 Integer"
            ]
          },
          "metadata": {},
          "execution_count": 5
        }
      ]
    },
    {
      "cell_type": "code",
      "source": [
        "#Solving model\n",
        "\n",
        "model.solve()\n",
        "print('Optimal Solution:', pulp.value(model.objective))"
      ],
      "metadata": {
        "colab": {
          "base_uri": "https://localhost:8080/"
        },
        "id": "ghTJzBFF6ZUW",
        "outputId": "fe675b75-0d98-4351-c67a-e0e323879749"
      },
      "execution_count": 6,
      "outputs": [
        {
          "output_type": "stream",
          "name": "stdout",
          "text": [
            "Optimal Solution: 65.0\n"
          ]
        }
      ]
    },
    {
      "cell_type": "code",
      "source": [
        "for variables in model.variables():\n",
        "  print(f'{variables.name}:{variables.varValue}')"
      ],
      "metadata": {
        "colab": {
          "base_uri": "https://localhost:8080/"
        },
        "id": "D3xrQMPJ6Z7-",
        "outputId": "e2d3ffd3-f474-4a27-a2c2-ab4334e8c6aa"
      },
      "execution_count": 7,
      "outputs": [
        {
          "output_type": "stream",
          "name": "stdout",
          "text": [
            "x_1:1.0\n",
            "x_2:0.0\n",
            "x_3:0.0\n",
            "x_4:1.0\n",
            "x_5:1.0\n",
            "x_6:1.0\n",
            "x_7:1.0\n"
          ]
        }
      ]
    },
    {
      "cell_type": "code",
      "source": [
        "VNames = []\n",
        "for variables in model.variables():\n",
        "  VNames.append(variables.name)\n",
        "\n",
        "VValue = []\n",
        "for variables in model.variables():\n",
        "  VValue.append(np.round(variables.varValue, 2))\n",
        "\n",
        "data = {'Variables': VNames, 'Value': VValue}\n",
        "pd.DataFrame(data, index = range(1, len(VValue)+1))"
      ],
      "metadata": {
        "colab": {
          "base_uri": "https://localhost:8080/",
          "height": 269
        },
        "id": "6Uvg8L-k6b8E",
        "outputId": "641af816-bc51-4f5e-eb0f-84c26ca922b1"
      },
      "execution_count": 8,
      "outputs": [
        {
          "output_type": "execute_result",
          "data": {
            "text/plain": [
              "  Variables  Value\n",
              "1       x_1    1.0\n",
              "2       x_2    0.0\n",
              "3       x_3    0.0\n",
              "4       x_4    1.0\n",
              "5       x_5    1.0\n",
              "6       x_6    1.0\n",
              "7       x_7    1.0"
            ],
            "text/html": [
              "\n",
              "  <div id=\"df-c45bb232-319f-4685-96e5-6d9b826ef197\" class=\"colab-df-container\">\n",
              "    <div>\n",
              "<style scoped>\n",
              "    .dataframe tbody tr th:only-of-type {\n",
              "        vertical-align: middle;\n",
              "    }\n",
              "\n",
              "    .dataframe tbody tr th {\n",
              "        vertical-align: top;\n",
              "    }\n",
              "\n",
              "    .dataframe thead th {\n",
              "        text-align: right;\n",
              "    }\n",
              "</style>\n",
              "<table border=\"1\" class=\"dataframe\">\n",
              "  <thead>\n",
              "    <tr style=\"text-align: right;\">\n",
              "      <th></th>\n",
              "      <th>Variables</th>\n",
              "      <th>Value</th>\n",
              "    </tr>\n",
              "  </thead>\n",
              "  <tbody>\n",
              "    <tr>\n",
              "      <th>1</th>\n",
              "      <td>x_1</td>\n",
              "      <td>1.0</td>\n",
              "    </tr>\n",
              "    <tr>\n",
              "      <th>2</th>\n",
              "      <td>x_2</td>\n",
              "      <td>0.0</td>\n",
              "    </tr>\n",
              "    <tr>\n",
              "      <th>3</th>\n",
              "      <td>x_3</td>\n",
              "      <td>0.0</td>\n",
              "    </tr>\n",
              "    <tr>\n",
              "      <th>4</th>\n",
              "      <td>x_4</td>\n",
              "      <td>1.0</td>\n",
              "    </tr>\n",
              "    <tr>\n",
              "      <th>5</th>\n",
              "      <td>x_5</td>\n",
              "      <td>1.0</td>\n",
              "    </tr>\n",
              "    <tr>\n",
              "      <th>6</th>\n",
              "      <td>x_6</td>\n",
              "      <td>1.0</td>\n",
              "    </tr>\n",
              "    <tr>\n",
              "      <th>7</th>\n",
              "      <td>x_7</td>\n",
              "      <td>1.0</td>\n",
              "    </tr>\n",
              "  </tbody>\n",
              "</table>\n",
              "</div>\n",
              "    <div class=\"colab-df-buttons\">\n",
              "\n",
              "  <div class=\"colab-df-container\">\n",
              "    <button class=\"colab-df-convert\" onclick=\"convertToInteractive('df-c45bb232-319f-4685-96e5-6d9b826ef197')\"\n",
              "            title=\"Convert this dataframe to an interactive table.\"\n",
              "            style=\"display:none;\">\n",
              "\n",
              "  <svg xmlns=\"http://www.w3.org/2000/svg\" height=\"24px\" viewBox=\"0 -960 960 960\">\n",
              "    <path d=\"M120-120v-720h720v720H120Zm60-500h600v-160H180v160Zm220 220h160v-160H400v160Zm0 220h160v-160H400v160ZM180-400h160v-160H180v160Zm440 0h160v-160H620v160ZM180-180h160v-160H180v160Zm440 0h160v-160H620v160Z\"/>\n",
              "  </svg>\n",
              "    </button>\n",
              "\n",
              "  <style>\n",
              "    .colab-df-container {\n",
              "      display:flex;\n",
              "      gap: 12px;\n",
              "    }\n",
              "\n",
              "    .colab-df-convert {\n",
              "      background-color: #E8F0FE;\n",
              "      border: none;\n",
              "      border-radius: 50%;\n",
              "      cursor: pointer;\n",
              "      display: none;\n",
              "      fill: #1967D2;\n",
              "      height: 32px;\n",
              "      padding: 0 0 0 0;\n",
              "      width: 32px;\n",
              "    }\n",
              "\n",
              "    .colab-df-convert:hover {\n",
              "      background-color: #E2EBFA;\n",
              "      box-shadow: 0px 1px 2px rgba(60, 64, 67, 0.3), 0px 1px 3px 1px rgba(60, 64, 67, 0.15);\n",
              "      fill: #174EA6;\n",
              "    }\n",
              "\n",
              "    .colab-df-buttons div {\n",
              "      margin-bottom: 4px;\n",
              "    }\n",
              "\n",
              "    [theme=dark] .colab-df-convert {\n",
              "      background-color: #3B4455;\n",
              "      fill: #D2E3FC;\n",
              "    }\n",
              "\n",
              "    [theme=dark] .colab-df-convert:hover {\n",
              "      background-color: #434B5C;\n",
              "      box-shadow: 0px 1px 3px 1px rgba(0, 0, 0, 0.15);\n",
              "      filter: drop-shadow(0px 1px 2px rgba(0, 0, 0, 0.3));\n",
              "      fill: #FFFFFF;\n",
              "    }\n",
              "  </style>\n",
              "\n",
              "    <script>\n",
              "      const buttonEl =\n",
              "        document.querySelector('#df-c45bb232-319f-4685-96e5-6d9b826ef197 button.colab-df-convert');\n",
              "      buttonEl.style.display =\n",
              "        google.colab.kernel.accessAllowed ? 'block' : 'none';\n",
              "\n",
              "      async function convertToInteractive(key) {\n",
              "        const element = document.querySelector('#df-c45bb232-319f-4685-96e5-6d9b826ef197');\n",
              "        const dataTable =\n",
              "          await google.colab.kernel.invokeFunction('convertToInteractive',\n",
              "                                                    [key], {});\n",
              "        if (!dataTable) return;\n",
              "\n",
              "        const docLinkHtml = 'Like what you see? Visit the ' +\n",
              "          '<a target=\"_blank\" href=https://colab.research.google.com/notebooks/data_table.ipynb>data table notebook</a>'\n",
              "          + ' to learn more about interactive tables.';\n",
              "        element.innerHTML = '';\n",
              "        dataTable['output_type'] = 'display_data';\n",
              "        await google.colab.output.renderOutput(dataTable, element);\n",
              "        const docLink = document.createElement('div');\n",
              "        docLink.innerHTML = docLinkHtml;\n",
              "        element.appendChild(docLink);\n",
              "      }\n",
              "    </script>\n",
              "  </div>\n",
              "\n",
              "\n",
              "<div id=\"df-8b47bc14-001c-485e-9997-4451342881e2\">\n",
              "  <button class=\"colab-df-quickchart\" onclick=\"quickchart('df-8b47bc14-001c-485e-9997-4451342881e2')\"\n",
              "            title=\"Suggest charts\"\n",
              "            style=\"display:none;\">\n",
              "\n",
              "<svg xmlns=\"http://www.w3.org/2000/svg\" height=\"24px\"viewBox=\"0 0 24 24\"\n",
              "     width=\"24px\">\n",
              "    <g>\n",
              "        <path d=\"M19 3H5c-1.1 0-2 .9-2 2v14c0 1.1.9 2 2 2h14c1.1 0 2-.9 2-2V5c0-1.1-.9-2-2-2zM9 17H7v-7h2v7zm4 0h-2V7h2v10zm4 0h-2v-4h2v4z\"/>\n",
              "    </g>\n",
              "</svg>\n",
              "  </button>\n",
              "\n",
              "<style>\n",
              "  .colab-df-quickchart {\n",
              "      --bg-color: #E8F0FE;\n",
              "      --fill-color: #1967D2;\n",
              "      --hover-bg-color: #E2EBFA;\n",
              "      --hover-fill-color: #174EA6;\n",
              "      --disabled-fill-color: #AAA;\n",
              "      --disabled-bg-color: #DDD;\n",
              "  }\n",
              "\n",
              "  [theme=dark] .colab-df-quickchart {\n",
              "      --bg-color: #3B4455;\n",
              "      --fill-color: #D2E3FC;\n",
              "      --hover-bg-color: #434B5C;\n",
              "      --hover-fill-color: #FFFFFF;\n",
              "      --disabled-bg-color: #3B4455;\n",
              "      --disabled-fill-color: #666;\n",
              "  }\n",
              "\n",
              "  .colab-df-quickchart {\n",
              "    background-color: var(--bg-color);\n",
              "    border: none;\n",
              "    border-radius: 50%;\n",
              "    cursor: pointer;\n",
              "    display: none;\n",
              "    fill: var(--fill-color);\n",
              "    height: 32px;\n",
              "    padding: 0;\n",
              "    width: 32px;\n",
              "  }\n",
              "\n",
              "  .colab-df-quickchart:hover {\n",
              "    background-color: var(--hover-bg-color);\n",
              "    box-shadow: 0 1px 2px rgba(60, 64, 67, 0.3), 0 1px 3px 1px rgba(60, 64, 67, 0.15);\n",
              "    fill: var(--button-hover-fill-color);\n",
              "  }\n",
              "\n",
              "  .colab-df-quickchart-complete:disabled,\n",
              "  .colab-df-quickchart-complete:disabled:hover {\n",
              "    background-color: var(--disabled-bg-color);\n",
              "    fill: var(--disabled-fill-color);\n",
              "    box-shadow: none;\n",
              "  }\n",
              "\n",
              "  .colab-df-spinner {\n",
              "    border: 2px solid var(--fill-color);\n",
              "    border-color: transparent;\n",
              "    border-bottom-color: var(--fill-color);\n",
              "    animation:\n",
              "      spin 1s steps(1) infinite;\n",
              "  }\n",
              "\n",
              "  @keyframes spin {\n",
              "    0% {\n",
              "      border-color: transparent;\n",
              "      border-bottom-color: var(--fill-color);\n",
              "      border-left-color: var(--fill-color);\n",
              "    }\n",
              "    20% {\n",
              "      border-color: transparent;\n",
              "      border-left-color: var(--fill-color);\n",
              "      border-top-color: var(--fill-color);\n",
              "    }\n",
              "    30% {\n",
              "      border-color: transparent;\n",
              "      border-left-color: var(--fill-color);\n",
              "      border-top-color: var(--fill-color);\n",
              "      border-right-color: var(--fill-color);\n",
              "    }\n",
              "    40% {\n",
              "      border-color: transparent;\n",
              "      border-right-color: var(--fill-color);\n",
              "      border-top-color: var(--fill-color);\n",
              "    }\n",
              "    60% {\n",
              "      border-color: transparent;\n",
              "      border-right-color: var(--fill-color);\n",
              "    }\n",
              "    80% {\n",
              "      border-color: transparent;\n",
              "      border-right-color: var(--fill-color);\n",
              "      border-bottom-color: var(--fill-color);\n",
              "    }\n",
              "    90% {\n",
              "      border-color: transparent;\n",
              "      border-bottom-color: var(--fill-color);\n",
              "    }\n",
              "  }\n",
              "</style>\n",
              "\n",
              "  <script>\n",
              "    async function quickchart(key) {\n",
              "      const quickchartButtonEl =\n",
              "        document.querySelector('#' + key + ' button');\n",
              "      quickchartButtonEl.disabled = true;  // To prevent multiple clicks.\n",
              "      quickchartButtonEl.classList.add('colab-df-spinner');\n",
              "      try {\n",
              "        const charts = await google.colab.kernel.invokeFunction(\n",
              "            'suggestCharts', [key], {});\n",
              "      } catch (error) {\n",
              "        console.error('Error during call to suggestCharts:', error);\n",
              "      }\n",
              "      quickchartButtonEl.classList.remove('colab-df-spinner');\n",
              "      quickchartButtonEl.classList.add('colab-df-quickchart-complete');\n",
              "    }\n",
              "    (() => {\n",
              "      let quickchartButtonEl =\n",
              "        document.querySelector('#df-8b47bc14-001c-485e-9997-4451342881e2 button');\n",
              "      quickchartButtonEl.style.display =\n",
              "        google.colab.kernel.accessAllowed ? 'block' : 'none';\n",
              "    })();\n",
              "  </script>\n",
              "</div>\n",
              "\n",
              "    </div>\n",
              "  </div>\n"
            ],
            "application/vnd.google.colaboratory.intrinsic+json": {
              "type": "dataframe",
              "summary": "{\n  \"name\": \"pd\",\n  \"rows\": 7,\n  \"fields\": [\n    {\n      \"column\": \"Variables\",\n      \"properties\": {\n        \"dtype\": \"string\",\n        \"num_unique_values\": 7,\n        \"samples\": [\n          \"x_1\",\n          \"x_2\",\n          \"x_6\"\n        ],\n        \"semantic_type\": \"\",\n        \"description\": \"\"\n      }\n    },\n    {\n      \"column\": \"Value\",\n      \"properties\": {\n        \"dtype\": \"number\",\n        \"std\": 0.48795003647426666,\n        \"min\": 0.0,\n        \"max\": 1.0,\n        \"num_unique_values\": 2,\n        \"samples\": [\n          0.0,\n          1.0\n        ],\n        \"semantic_type\": \"\",\n        \"description\": \"\"\n      }\n    }\n  ]\n}"
            }
          },
          "metadata": {},
          "execution_count": 8
        }
      ]
    },
    {
      "cell_type": "code",
      "source": [
        "print('Current Status: ', LpStatus[model.status])"
      ],
      "metadata": {
        "colab": {
          "base_uri": "https://localhost:8080/"
        },
        "id": "h-fgNLpb6dzm",
        "outputId": "59bcf87f-1d3d-448f-fc5e-820ec899bf8f"
      },
      "execution_count": 9,
      "outputs": [
        {
          "output_type": "stream",
          "name": "stdout",
          "text": [
            "Current Status:  Optimal\n"
          ]
        }
      ]
    },
    {
      "cell_type": "markdown",
      "source": [
        "## Using Pyomo Library"
      ],
      "metadata": {
        "id": "Q-pICggX6pAZ"
      }
    },
    {
      "cell_type": "code",
      "source": [
        "!pip install pyomo\n",
        "!apt-get install -y -qq glpk-utils\n",
        "\n",
        "from pyomo.environ import *"
      ],
      "metadata": {
        "colab": {
          "base_uri": "https://localhost:8080/"
        },
        "collapsed": true,
        "id": "FHzZsB7k6f9F",
        "outputId": "26320da1-a2f5-4e4b-9157-4413a7ecdba6"
      },
      "execution_count": 10,
      "outputs": [
        {
          "output_type": "stream",
          "name": "stdout",
          "text": [
            "Requirement already satisfied: pyomo in /usr/local/lib/python3.10/dist-packages (6.8.0)\n",
            "Requirement already satisfied: ply in /usr/local/lib/python3.10/dist-packages (from pyomo) (3.11)\n"
          ]
        }
      ]
    },
    {
      "cell_type": "code",
      "source": [
        "model = ConcreteModel()\n",
        "\n",
        "model.indices = Set(initialize=list(range(1,8)))\n",
        "model.x = Var(model.indices, domain=Binary)\n",
        "\n",
        "model.obj = Objective(expr=17*model.x[1]+10*model.x[2]+15*model.x[3]+19*model.x[4]+7*model.x[5]+13*model.x[6]+9*model.x[7], sense=maximize)\n",
        "\n",
        "model.constraint1 = Constraint(expr=model.x[1]+model.x[2]+model.x[3]+model.x[4]+model.x[5]+model.x[6]+model.x[7] <= 100)\n",
        "model.constraint2 = Constraint(expr=model.x[1]+model.x[2] <= 1)\n",
        "model.constraint3 = Constraint(expr=model.x[3]+model.x[4] <= 1)\n",
        "model.constraint4 = Constraint(expr=model.x[3] <= model.x[1]+model.x[2])\n",
        "model.constraint5 = Constraint(expr=model.x[4] <= model.x[1]+model.x[2])\n",
        "\n",
        "SolverFactory('glpk').solve(model)\n",
        "\n",
        "model.display()"
      ],
      "metadata": {
        "colab": {
          "base_uri": "https://localhost:8080/"
        },
        "id": "noQctLhO6rbF",
        "outputId": "e7c241f0-5ee0-45e6-c720-0769015a8cc4"
      },
      "execution_count": 11,
      "outputs": [
        {
          "output_type": "stream",
          "name": "stdout",
          "text": [
            "Model unknown\n",
            "\n",
            "  Variables:\n",
            "    x : Size=7, Index=indices\n",
            "        Key : Lower : Value : Upper : Fixed : Stale : Domain\n",
            "          1 :     0 :   1.0 :     1 : False : False : Binary\n",
            "          2 :     0 :   0.0 :     1 : False : False : Binary\n",
            "          3 :     0 :   0.0 :     1 : False : False : Binary\n",
            "          4 :     0 :   1.0 :     1 : False : False : Binary\n",
            "          5 :     0 :   1.0 :     1 : False : False : Binary\n",
            "          6 :     0 :   1.0 :     1 : False : False : Binary\n",
            "          7 :     0 :   1.0 :     1 : False : False : Binary\n",
            "\n",
            "  Objectives:\n",
            "    obj : Size=1, Index=None, Active=True\n",
            "        Key  : Active : Value\n",
            "        None :   True :  65.0\n",
            "\n",
            "  Constraints:\n",
            "    constraint1 : Size=1\n",
            "        Key  : Lower : Body : Upper\n",
            "        None :  None :  5.0 : 100.0\n",
            "    constraint2 : Size=1\n",
            "        Key  : Lower : Body : Upper\n",
            "        None :  None :  1.0 :   1.0\n",
            "    constraint3 : Size=1\n",
            "        Key  : Lower : Body : Upper\n",
            "        None :  None :  1.0 :   1.0\n",
            "    constraint4 : Size=1\n",
            "        Key  : Lower : Body : Upper\n",
            "        None :  None : -1.0 :   0.0\n",
            "    constraint5 : Size=1\n",
            "        Key  : Lower : Body : Upper\n",
            "        None :  None :  0.0 :   0.0\n"
          ]
        }
      ]
    },
    {
      "cell_type": "code",
      "source": [
        "print(\"Variable values:\")\n",
        "model.x.pprint()"
      ],
      "metadata": {
        "colab": {
          "base_uri": "https://localhost:8080/"
        },
        "id": "i4AUN5jW7i6N",
        "outputId": "b05be798-7b77-4f73-d439-869720b888fc"
      },
      "execution_count": 12,
      "outputs": [
        {
          "output_type": "stream",
          "name": "stdout",
          "text": [
            "Variable values:\n",
            "x : Size=7, Index=indices\n",
            "    Key : Lower : Value : Upper : Fixed : Stale : Domain\n",
            "      1 :     0 :   1.0 :     1 : False : False : Binary\n",
            "      2 :     0 :   0.0 :     1 : False : False : Binary\n",
            "      3 :     0 :   0.0 :     1 : False : False : Binary\n",
            "      4 :     0 :   1.0 :     1 : False : False : Binary\n",
            "      5 :     0 :   1.0 :     1 : False : False : Binary\n",
            "      6 :     0 :   1.0 :     1 : False : False : Binary\n",
            "      7 :     0 :   1.0 :     1 : False : False : Binary\n"
          ]
        }
      ]
    }
  ]
}