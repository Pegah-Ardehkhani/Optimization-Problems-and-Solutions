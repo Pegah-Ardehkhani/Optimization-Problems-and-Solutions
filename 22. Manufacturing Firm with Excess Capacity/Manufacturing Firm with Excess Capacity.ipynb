{
  "nbformat": 4,
  "nbformat_minor": 0,
  "metadata": {
    "colab": {
      "provenance": []
    },
    "kernelspec": {
      "name": "python3",
      "display_name": "Python 3"
    },
    "language_info": {
      "name": "python"
    }
  },
  "cells": [
    {
      "cell_type": "markdown",
      "source": [
        "# **Manufacturing Firm with Excess Capacity:**"
      ],
      "metadata": {
        "id": "SV0W7lCvIn8n"
      }
    },
    {
      "cell_type": "markdown",
      "source": [
        "Problem Source: F. S. Hillier and G. J. Lieberman, \"Introduction to Mathematical Programming,\" 2nd Edition, McGraw-Hill Inc., New York, 1995."
      ],
      "metadata": {
        "id": "yP_QF2ZMe0GL"
      }
    },
    {
      "cell_type": "markdown",
      "source": [
        "**Problem Statement:**\n",
        "\n",
        "A manufacturing firm has discontinued the production of a certain unprofitable product line. This act created considerable excess production capacity. Management is considering devoting this excess capacity to one or more of three products; call them products $1$, $2$, and $3$. The available capacity on the machines that might limit output is summarized in the following table:"
      ],
      "metadata": {
        "id": "Q4SgABJ-IvhF"
      }
    },
    {
      "cell_type": "markdown",
      "source": [
        "![Table 3.1.13.1.PNG](data:image/png;base64,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)"
      ],
      "metadata": {
        "id": "yA48J-YjJFxV"
      }
    },
    {
      "cell_type": "markdown",
      "source": [
        "The number of machine hours required for each unit of the respective products is as follows:"
      ],
      "metadata": {
        "id": "OSurRGOLJJ4d"
      }
    },
    {
      "cell_type": "markdown",
      "source": [
        "![Table 3.1.13.2.PNG](data:image/png;base64,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)"
      ],
      "metadata": {
        "id": "-syE1xH8JRMt"
      }
    },
    {
      "cell_type": "markdown",
      "source": [
        "The sales department indicates that the sales potential for products $1$ and $2$ exceeds the maximum production rate and that the sales potential for product $3$ is $20$ units per week. The unit profit would be $50$, $20$, and $25$, respectively, on products $1$, $2$, and $3$. The objective is to determine how much of each product the firm should produce to maximize profit.\n",
        "\n",
        "Formulate a linear programming model for this problem."
      ],
      "metadata": {
        "id": "Upc9ZLeTJUtc"
      }
    },
    {
      "cell_type": "markdown",
      "source": [
        "**Modeling:**\n",
        "\n",
        "$x_{i} \\qquad  i\\in {1,2,3} \\quad $   Number of units of Product $i$ produced per week\n",
        "\n",
        "$\\\\ $\n",
        "\n",
        "$Objective\\ Function:\\\\ $\n",
        "\n",
        "$Max\\ Z = 50x_1 + 20x_2 + 25x_3$\n",
        "\n",
        "$\\\\ $\n",
        "\n",
        "$Constraints:\\\\ $\n",
        "\n",
        "Milling Machine Capacity:\n",
        "\n",
        "$9x_1 + 3x_2 + 5x_3 \\leq 500$\n",
        "\n",
        "Lathe Capacity:\n",
        "\n",
        "$5x_1 + 4x_2 \\leq 350$\n",
        "\n",
        "Grinder Capacity:\n",
        "\n",
        "$3x_1 + 2x_3 \\leq 150$\n",
        "\n",
        "Sales Constraint for Product 3:\n",
        "\n",
        "$x_3 \\leq 20$\n",
        "\n",
        "Non-negativity Constraints:\n",
        "\n",
        "$x_1 \\geq 0, \\quad x_2 \\geq 0, \\quad x_3 \\geq 0$"
      ],
      "metadata": {
        "id": "FybaBhokKGc-"
      }
    },
    {
      "cell_type": "markdown",
      "source": [
        "## Using Pulp Library"
      ],
      "metadata": {
        "id": "cFccEhQMsrAM"
      }
    },
    {
      "cell_type": "code",
      "execution_count": 1,
      "metadata": {
        "colab": {
          "base_uri": "https://localhost:8080/"
        },
        "id": "seHxhvgpLad4",
        "outputId": "871fec71-a856-4351-fef6-c37c45ad72ac"
      },
      "outputs": [
        {
          "output_type": "stream",
          "name": "stdout",
          "text": [
            "Requirement already satisfied: pulp in /usr/local/lib/python3.10/dist-packages (2.9.0)\n"
          ]
        }
      ],
      "source": [
        "!pip install pulp\n",
        "from pulp import *\n",
        "import numpy as np\n",
        "import pandas as pd"
      ]
    },
    {
      "cell_type": "code",
      "source": [
        "# Defining Variables\n",
        "\n",
        "products = [1, 2, 3]\n",
        "x = LpVariable.dicts(\"x\", products, lowBound=0, cat=\"Continuous\")"
      ],
      "metadata": {
        "id": "AYQb9E_nOxRo"
      },
      "execution_count": 2,
      "outputs": []
    },
    {
      "cell_type": "code",
      "execution_count": 3,
      "metadata": {
        "id": "CDbTcrdsIf-S"
      },
      "outputs": [],
      "source": [
        "# Defining Objective Function\n",
        "\n",
        "model = LpProblem('Optimal_Production_Planning', LpMaximize)\n",
        "\n",
        "model += 50 * x[1] + 20 * x[2] + 25 * x[3], \"Total_Profit\""
      ]
    },
    {
      "cell_type": "code",
      "source": [
        "# Constraints\n",
        "\n",
        "model += 9 * x[1] + 3 * x[2] + 5 * x[3] <= 500, \"Milling_Machine_Capacity\"\n",
        "model += 5 * x[1] + 4 * x[2] <= 350, \"Lathe_Capacity\"\n",
        "model += 3 * x[1] + 2 * x[3] <= 150, \"Grinder_Capacity\"\n",
        "model += x[3] <= 20, \"Sales_Limit_Product_3\""
      ],
      "metadata": {
        "id": "xpCpvHX3MF2r"
      },
      "execution_count": 4,
      "outputs": []
    },
    {
      "cell_type": "code",
      "source": [
        "#Model summary\n",
        "\n",
        "model"
      ],
      "metadata": {
        "colab": {
          "base_uri": "https://localhost:8080/"
        },
        "id": "V97A3U59MaLT",
        "outputId": "c1354aba-32be-460d-d7bb-c407bc1495b4"
      },
      "execution_count": 5,
      "outputs": [
        {
          "output_type": "execute_result",
          "data": {
            "text/plain": [
              "Optimal_Production_Planning:\n",
              "MAXIMIZE\n",
              "50*x_1 + 20*x_2 + 25*x_3 + 0\n",
              "SUBJECT TO\n",
              "Milling_Machine_Capacity: 9 x_1 + 3 x_2 + 5 x_3 <= 500\n",
              "\n",
              "Lathe_Capacity: 5 x_1 + 4 x_2 <= 350\n",
              "\n",
              "Grinder_Capacity: 3 x_1 + 2 x_3 <= 150\n",
              "\n",
              "Sales_Limit_Product_3: x_3 <= 20\n",
              "\n",
              "VARIABLES\n",
              "x_1 Continuous\n",
              "x_2 Continuous\n",
              "x_3 Continuous"
            ]
          },
          "metadata": {},
          "execution_count": 5
        }
      ]
    },
    {
      "cell_type": "code",
      "source": [
        "# Solving model\n",
        "\n",
        "model.solve()\n",
        "print('Optimal Solution:', pulp.value(model.objective))"
      ],
      "metadata": {
        "colab": {
          "base_uri": "https://localhost:8080/"
        },
        "id": "cnITy8JSMcbz",
        "outputId": "44dfca8c-6313-4e1c-c523-8ed842e82fd2"
      },
      "execution_count": 6,
      "outputs": [
        {
          "output_type": "stream",
          "name": "stdout",
          "text": [
            "Optimal Solution: 2904.7619\n"
          ]
        }
      ]
    },
    {
      "cell_type": "code",
      "source": [
        "for variables in model.variables():\n",
        "  print(f'{variables.name}:{variables.varValue}')"
      ],
      "metadata": {
        "colab": {
          "base_uri": "https://localhost:8080/"
        },
        "id": "UQnRrLzsMhHK",
        "outputId": "19a1cf96-9359-45db-c76e-e70188facfca"
      },
      "execution_count": 7,
      "outputs": [
        {
          "output_type": "stream",
          "name": "stdout",
          "text": [
            "x_1:26.190476\n",
            "x_2:54.761905\n",
            "x_3:20.0\n"
          ]
        }
      ]
    },
    {
      "cell_type": "code",
      "source": [
        "VNames = []\n",
        "for variables in model.variables():\n",
        "  VNames.append(variables.name)\n",
        "\n",
        "VValue = []\n",
        "for variables in model.variables():\n",
        "  VValue.append(np.round(variables.varValue, 2))\n",
        "\n",
        "data = {'Variables': VNames, 'Value': VValue}\n",
        "pd.DataFrame(data, index = range(1, len(VValue)+1))"
      ],
      "metadata": {
        "colab": {
          "base_uri": "https://localhost:8080/",
          "height": 143
        },
        "id": "3Qrapho-Mjdr",
        "outputId": "edb2f8a5-1af1-4160-a341-51a5817d6ef2"
      },
      "execution_count": 8,
      "outputs": [
        {
          "output_type": "execute_result",
          "data": {
            "text/plain": [
              "  Variables  Value\n",
              "1       x_1  26.19\n",
              "2       x_2  54.76\n",
              "3       x_3  20.00"
            ],
            "text/html": [
              "\n",
              "  <div id=\"df-9d42fefa-7d84-47d3-be8f-8074b67b446a\" class=\"colab-df-container\">\n",
              "    <div>\n",
              "<style scoped>\n",
              "    .dataframe tbody tr th:only-of-type {\n",
              "        vertical-align: middle;\n",
              "    }\n",
              "\n",
              "    .dataframe tbody tr th {\n",
              "        vertical-align: top;\n",
              "    }\n",
              "\n",
              "    .dataframe thead th {\n",
              "        text-align: right;\n",
              "    }\n",
              "</style>\n",
              "<table border=\"1\" class=\"dataframe\">\n",
              "  <thead>\n",
              "    <tr style=\"text-align: right;\">\n",
              "      <th></th>\n",
              "      <th>Variables</th>\n",
              "      <th>Value</th>\n",
              "    </tr>\n",
              "  </thead>\n",
              "  <tbody>\n",
              "    <tr>\n",
              "      <th>1</th>\n",
              "      <td>x_1</td>\n",
              "      <td>26.19</td>\n",
              "    </tr>\n",
              "    <tr>\n",
              "      <th>2</th>\n",
              "      <td>x_2</td>\n",
              "      <td>54.76</td>\n",
              "    </tr>\n",
              "    <tr>\n",
              "      <th>3</th>\n",
              "      <td>x_3</td>\n",
              "      <td>20.00</td>\n",
              "    </tr>\n",
              "  </tbody>\n",
              "</table>\n",
              "</div>\n",
              "    <div class=\"colab-df-buttons\">\n",
              "\n",
              "  <div class=\"colab-df-container\">\n",
              "    <button class=\"colab-df-convert\" onclick=\"convertToInteractive('df-9d42fefa-7d84-47d3-be8f-8074b67b446a')\"\n",
              "            title=\"Convert this dataframe to an interactive table.\"\n",
              "            style=\"display:none;\">\n",
              "\n",
              "  <svg xmlns=\"http://www.w3.org/2000/svg\" height=\"24px\" viewBox=\"0 -960 960 960\">\n",
              "    <path d=\"M120-120v-720h720v720H120Zm60-500h600v-160H180v160Zm220 220h160v-160H400v160Zm0 220h160v-160H400v160ZM180-400h160v-160H180v160Zm440 0h160v-160H620v160ZM180-180h160v-160H180v160Zm440 0h160v-160H620v160Z\"/>\n",
              "  </svg>\n",
              "    </button>\n",
              "\n",
              "  <style>\n",
              "    .colab-df-container {\n",
              "      display:flex;\n",
              "      gap: 12px;\n",
              "    }\n",
              "\n",
              "    .colab-df-convert {\n",
              "      background-color: #E8F0FE;\n",
              "      border: none;\n",
              "      border-radius: 50%;\n",
              "      cursor: pointer;\n",
              "      display: none;\n",
              "      fill: #1967D2;\n",
              "      height: 32px;\n",
              "      padding: 0 0 0 0;\n",
              "      width: 32px;\n",
              "    }\n",
              "\n",
              "    .colab-df-convert:hover {\n",
              "      background-color: #E2EBFA;\n",
              "      box-shadow: 0px 1px 2px rgba(60, 64, 67, 0.3), 0px 1px 3px 1px rgba(60, 64, 67, 0.15);\n",
              "      fill: #174EA6;\n",
              "    }\n",
              "\n",
              "    .colab-df-buttons div {\n",
              "      margin-bottom: 4px;\n",
              "    }\n",
              "\n",
              "    [theme=dark] .colab-df-convert {\n",
              "      background-color: #3B4455;\n",
              "      fill: #D2E3FC;\n",
              "    }\n",
              "\n",
              "    [theme=dark] .colab-df-convert:hover {\n",
              "      background-color: #434B5C;\n",
              "      box-shadow: 0px 1px 3px 1px rgba(0, 0, 0, 0.15);\n",
              "      filter: drop-shadow(0px 1px 2px rgba(0, 0, 0, 0.3));\n",
              "      fill: #FFFFFF;\n",
              "    }\n",
              "  </style>\n",
              "\n",
              "    <script>\n",
              "      const buttonEl =\n",
              "        document.querySelector('#df-9d42fefa-7d84-47d3-be8f-8074b67b446a button.colab-df-convert');\n",
              "      buttonEl.style.display =\n",
              "        google.colab.kernel.accessAllowed ? 'block' : 'none';\n",
              "\n",
              "      async function convertToInteractive(key) {\n",
              "        const element = document.querySelector('#df-9d42fefa-7d84-47d3-be8f-8074b67b446a');\n",
              "        const dataTable =\n",
              "          await google.colab.kernel.invokeFunction('convertToInteractive',\n",
              "                                                    [key], {});\n",
              "        if (!dataTable) return;\n",
              "\n",
              "        const docLinkHtml = 'Like what you see? Visit the ' +\n",
              "          '<a target=\"_blank\" href=https://colab.research.google.com/notebooks/data_table.ipynb>data table notebook</a>'\n",
              "          + ' to learn more about interactive tables.';\n",
              "        element.innerHTML = '';\n",
              "        dataTable['output_type'] = 'display_data';\n",
              "        await google.colab.output.renderOutput(dataTable, element);\n",
              "        const docLink = document.createElement('div');\n",
              "        docLink.innerHTML = docLinkHtml;\n",
              "        element.appendChild(docLink);\n",
              "      }\n",
              "    </script>\n",
              "  </div>\n",
              "\n",
              "\n",
              "<div id=\"df-c3ad841f-7bac-4bf1-8098-795565d097e3\">\n",
              "  <button class=\"colab-df-quickchart\" onclick=\"quickchart('df-c3ad841f-7bac-4bf1-8098-795565d097e3')\"\n",
              "            title=\"Suggest charts\"\n",
              "            style=\"display:none;\">\n",
              "\n",
              "<svg xmlns=\"http://www.w3.org/2000/svg\" height=\"24px\"viewBox=\"0 0 24 24\"\n",
              "     width=\"24px\">\n",
              "    <g>\n",
              "        <path d=\"M19 3H5c-1.1 0-2 .9-2 2v14c0 1.1.9 2 2 2h14c1.1 0 2-.9 2-2V5c0-1.1-.9-2-2-2zM9 17H7v-7h2v7zm4 0h-2V7h2v10zm4 0h-2v-4h2v4z\"/>\n",
              "    </g>\n",
              "</svg>\n",
              "  </button>\n",
              "\n",
              "<style>\n",
              "  .colab-df-quickchart {\n",
              "      --bg-color: #E8F0FE;\n",
              "      --fill-color: #1967D2;\n",
              "      --hover-bg-color: #E2EBFA;\n",
              "      --hover-fill-color: #174EA6;\n",
              "      --disabled-fill-color: #AAA;\n",
              "      --disabled-bg-color: #DDD;\n",
              "  }\n",
              "\n",
              "  [theme=dark] .colab-df-quickchart {\n",
              "      --bg-color: #3B4455;\n",
              "      --fill-color: #D2E3FC;\n",
              "      --hover-bg-color: #434B5C;\n",
              "      --hover-fill-color: #FFFFFF;\n",
              "      --disabled-bg-color: #3B4455;\n",
              "      --disabled-fill-color: #666;\n",
              "  }\n",
              "\n",
              "  .colab-df-quickchart {\n",
              "    background-color: var(--bg-color);\n",
              "    border: none;\n",
              "    border-radius: 50%;\n",
              "    cursor: pointer;\n",
              "    display: none;\n",
              "    fill: var(--fill-color);\n",
              "    height: 32px;\n",
              "    padding: 0;\n",
              "    width: 32px;\n",
              "  }\n",
              "\n",
              "  .colab-df-quickchart:hover {\n",
              "    background-color: var(--hover-bg-color);\n",
              "    box-shadow: 0 1px 2px rgba(60, 64, 67, 0.3), 0 1px 3px 1px rgba(60, 64, 67, 0.15);\n",
              "    fill: var(--button-hover-fill-color);\n",
              "  }\n",
              "\n",
              "  .colab-df-quickchart-complete:disabled,\n",
              "  .colab-df-quickchart-complete:disabled:hover {\n",
              "    background-color: var(--disabled-bg-color);\n",
              "    fill: var(--disabled-fill-color);\n",
              "    box-shadow: none;\n",
              "  }\n",
              "\n",
              "  .colab-df-spinner {\n",
              "    border: 2px solid var(--fill-color);\n",
              "    border-color: transparent;\n",
              "    border-bottom-color: var(--fill-color);\n",
              "    animation:\n",
              "      spin 1s steps(1) infinite;\n",
              "  }\n",
              "\n",
              "  @keyframes spin {\n",
              "    0% {\n",
              "      border-color: transparent;\n",
              "      border-bottom-color: var(--fill-color);\n",
              "      border-left-color: var(--fill-color);\n",
              "    }\n",
              "    20% {\n",
              "      border-color: transparent;\n",
              "      border-left-color: var(--fill-color);\n",
              "      border-top-color: var(--fill-color);\n",
              "    }\n",
              "    30% {\n",
              "      border-color: transparent;\n",
              "      border-left-color: var(--fill-color);\n",
              "      border-top-color: var(--fill-color);\n",
              "      border-right-color: var(--fill-color);\n",
              "    }\n",
              "    40% {\n",
              "      border-color: transparent;\n",
              "      border-right-color: var(--fill-color);\n",
              "      border-top-color: var(--fill-color);\n",
              "    }\n",
              "    60% {\n",
              "      border-color: transparent;\n",
              "      border-right-color: var(--fill-color);\n",
              "    }\n",
              "    80% {\n",
              "      border-color: transparent;\n",
              "      border-right-color: var(--fill-color);\n",
              "      border-bottom-color: var(--fill-color);\n",
              "    }\n",
              "    90% {\n",
              "      border-color: transparent;\n",
              "      border-bottom-color: var(--fill-color);\n",
              "    }\n",
              "  }\n",
              "</style>\n",
              "\n",
              "  <script>\n",
              "    async function quickchart(key) {\n",
              "      const quickchartButtonEl =\n",
              "        document.querySelector('#' + key + ' button');\n",
              "      quickchartButtonEl.disabled = true;  // To prevent multiple clicks.\n",
              "      quickchartButtonEl.classList.add('colab-df-spinner');\n",
              "      try {\n",
              "        const charts = await google.colab.kernel.invokeFunction(\n",
              "            'suggestCharts', [key], {});\n",
              "      } catch (error) {\n",
              "        console.error('Error during call to suggestCharts:', error);\n",
              "      }\n",
              "      quickchartButtonEl.classList.remove('colab-df-spinner');\n",
              "      quickchartButtonEl.classList.add('colab-df-quickchart-complete');\n",
              "    }\n",
              "    (() => {\n",
              "      let quickchartButtonEl =\n",
              "        document.querySelector('#df-c3ad841f-7bac-4bf1-8098-795565d097e3 button');\n",
              "      quickchartButtonEl.style.display =\n",
              "        google.colab.kernel.accessAllowed ? 'block' : 'none';\n",
              "    })();\n",
              "  </script>\n",
              "</div>\n",
              "\n",
              "    </div>\n",
              "  </div>\n"
            ],
            "application/vnd.google.colaboratory.intrinsic+json": {
              "type": "dataframe",
              "summary": "{\n  \"name\": \"pd\",\n  \"rows\": 3,\n  \"fields\": [\n    {\n      \"column\": \"Variables\",\n      \"properties\": {\n        \"dtype\": \"string\",\n        \"num_unique_values\": 3,\n        \"samples\": [\n          \"x_1\",\n          \"x_2\",\n          \"x_3\"\n        ],\n        \"semantic_type\": \"\",\n        \"description\": \"\"\n      }\n    },\n    {\n      \"column\": \"Value\",\n      \"properties\": {\n        \"dtype\": \"number\",\n        \"std\": 18.541928162950043,\n        \"min\": 20.0,\n        \"max\": 54.76,\n        \"num_unique_values\": 3,\n        \"samples\": [\n          26.19,\n          54.76,\n          20.0\n        ],\n        \"semantic_type\": \"\",\n        \"description\": \"\"\n      }\n    }\n  ]\n}"
            }
          },
          "metadata": {},
          "execution_count": 8
        }
      ]
    },
    {
      "cell_type": "code",
      "source": [
        "print('Current Status: ', LpStatus[model.status])"
      ],
      "metadata": {
        "colab": {
          "base_uri": "https://localhost:8080/"
        },
        "id": "0177uCYtNPn6",
        "outputId": "0e126d2d-f060-425b-c7d8-46b7f6013fdc"
      },
      "execution_count": 9,
      "outputs": [
        {
          "output_type": "stream",
          "name": "stdout",
          "text": [
            "Current Status:  Optimal\n"
          ]
        }
      ]
    },
    {
      "cell_type": "markdown",
      "source": [
        "## Using Pyomo Library"
      ],
      "metadata": {
        "id": "Q-pICggX6pAZ"
      }
    },
    {
      "cell_type": "code",
      "source": [
        "!pip install pyomo\n",
        "!apt-get install -y -qq glpk-utils\n",
        "\n",
        "from pyomo.environ import *"
      ],
      "metadata": {
        "colab": {
          "base_uri": "https://localhost:8080/"
        },
        "id": "PjOgMX9ZCJcT",
        "outputId": "e5c34690-a551-4669-a040-ff1dd98939bc",
        "collapsed": true
      },
      "execution_count": 10,
      "outputs": [
        {
          "output_type": "stream",
          "name": "stdout",
          "text": [
            "Requirement already satisfied: pyomo in /usr/local/lib/python3.10/dist-packages (6.8.0)\n",
            "Requirement already satisfied: ply in /usr/local/lib/python3.10/dist-packages (from pyomo) (3.11)\n"
          ]
        }
      ]
    },
    {
      "cell_type": "code",
      "source": [
        "# Create a ConcreteModel\n",
        "model = ConcreteModel()\n",
        "\n",
        "# Define a set of product indices\n",
        "model.ProductTypes = Set(initialize=[1, 2, 3])\n",
        "\n",
        "# Define the decision variables for each product type, constrained to be non-negative reals\n",
        "model.x = Var(model.ProductTypes, domain=NonNegativeReals)\n",
        "\n",
        "# Profit coefficients for each product type\n",
        "profit_coefficients = {1: 50, 2: 20, 3: 25}\n",
        "\n",
        "\n",
        "# Objective function: Maximize profit\n",
        "model.profit = Objective(expr=sum(profit_coefficients[i] * model.x[i] for i in model.ProductTypes), sense=maximize)\n",
        "\n",
        "\n",
        "# Constraints\n",
        "\n",
        "# Machine capacity requirements for each product type\n",
        "milling_requirements = {1: 9, 2: 3, 3: 5}\n",
        "lathe_requirements = {1: 5, 2: 4, 3: 0}\n",
        "grinder_requirements = {1: 3, 2: 0, 3: 2}\n",
        "\n",
        "# Milling machine constraint: 9*x1 + 3*x2 + 5*x3 <= 500\n",
        "model.milling_machine = Constraint(expr=sum(milling_requirements[i] * model.x[i] for i in model.ProductTypes) <= 500)\n",
        "\n",
        "# Lathe constraint: 5*x1 + 4*x2 <= 350\n",
        "model.lathe = Constraint(expr=sum(lathe_requirements[i] * model.x[i] for i in model.ProductTypes) <= 350)\n",
        "\n",
        "# Grinder constraint: 3*x1 + 2*x3 <= 150\n",
        "model.grinder = Constraint(expr=sum(grinder_requirements[i] * model.x[i] for i in model.ProductTypes) <= 150)\n",
        "\n",
        "# Sales constraint for Product 3: x3 <= 20\n",
        "model.sales_product3 = Constraint(expr=model.x[3] <= 20)\n",
        "\n",
        "\n",
        "# Solve the model using a solver (GLPK)\n",
        "SolverFactory('glpk').solve(model)\n",
        "\n",
        "# Print results\n",
        "print(\"Optimal Production Plan:\")\n",
        "for i in model.ProductTypes:\n",
        "    print(f\"Units of Product {i}: {model.x[i].value}\")\n",
        "print(f\"Maximum Profit: ${model.profit()}\")"
      ],
      "metadata": {
        "colab": {
          "base_uri": "https://localhost:8080/"
        },
        "id": "HlUl2PPtOOjJ",
        "outputId": "8da68543-ee1f-406a-e826-24cc8e7abdef"
      },
      "execution_count": 12,
      "outputs": [
        {
          "output_type": "stream",
          "name": "stdout",
          "text": [
            "Optimal Production Plan:\n",
            "Units of Product 1: 26.1904761904762\n",
            "Units of Product 2: 54.7619047619048\n",
            "Units of Product 3: 20.0\n",
            "Maximum Profit: $2904.7619047619064\n"
          ]
        }
      ]
    }
  ]
}