{
  "nbformat": 4,
  "nbformat_minor": 0,
  "metadata": {
    "colab": {
      "provenance": []
    },
    "kernelspec": {
      "name": "python3",
      "display_name": "Python 3"
    },
    "language_info": {
      "name": "python"
    }
  },
  "cells": [
    {
      "cell_type": "markdown",
      "source": [
        "# **Product Diversification:**"
      ],
      "metadata": {
        "id": "8gb76NUIMid0"
      }
    },
    {
      "cell_type": "markdown",
      "source": [
        "Problem Source: F. S. Hillier and G. J. Lieberman, \"Introduction to Mathematical Programming,\" 2nd Edition, McGraw-Hill Inc., New York, 1995."
      ],
      "metadata": {
        "id": "yP_QF2ZMe0GL"
      }
    },
    {
      "cell_type": "markdown",
      "source": [
        "**Problem Statement:**\n",
        "\n",
        "The research and development division of a manufacturing company has developed\n",
        "three possible new products. However, to avoid undue diversification of the company's product line, management has imposed the following restriction:\n",
        "\n",
        "Restriction 1: From the three possible new products, at most two should be\n",
        "chosen to be produced.\n",
        "\n",
        "Two plants are available that could produce the chosen products. For administrative reasons, management has imposed a second restriction in this regard:\n",
        "\n",
        "Restriction 2: Just one of the two plants should be chosen to produce the new\n",
        "products.\n",
        "\n",
        "The production cost per unit of each product would be essentially the same in the two plants. However, because of differences in their production facilities, the number of hours of production time needed per unit of each product might differ between the two plants. These data are given in Table 12.2, along with the total number of production hours available per week for these products in each plant, unit profit for each product, and marketing estimates of the number of units of each product that could be sold per week if it is produced. The objective is to choose the products, the plant, and the production rates of the chosen products so as to maximize the total profit."
      ],
      "metadata": {
        "id": "L__8Dl6RMq4n"
      }
    },
    {
      "cell_type": "markdown",
      "source": [
        "![Table 12.2.PNG](data:image/png;base64,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)"
      ],
      "metadata": {
        "id": "XwoGzVeTNN5v"
      }
    },
    {
      "cell_type": "markdown",
      "source": [
        "**Modeling:**\n",
        "\n",
        "$x_{1},x_{2},x_{3} \\ $   continuous variables for products\n",
        "\n",
        "$y_{j} \\ $   binary variables\n",
        "\n",
        "$\\\\ $\n",
        "\n",
        "$Objective\\ Function:\\\\ $\n",
        "\n",
        "$Max\\ Z = 5x_{1}+7x_{2}+3x_{3}$\n",
        "\n",
        "$\\\\ $\n",
        "\n",
        "$Constraints:\\\\ $\n",
        "\n",
        "$3x_{1}+4x_{2}+2x_{3}\\leq 30+My_{4}$\n",
        "\n",
        "$4x_{1}+6x_{2}+2x_{3}\\leq 40+M(1-y_{4})$\n",
        "\n",
        "$x_{1}\\leq 7$\n",
        "\n",
        "$x_{2}\\leq 5$\n",
        "\n",
        "$x_{3}\\leq 9$\n",
        "\n",
        "$x_{1}\\leq My_{1}$\n",
        "\n",
        "$x_{2}\\leq My_{2}$\n",
        "\n",
        "$x_{3}\\leq My_{3}$\n",
        "\n",
        "$y_{1}+y_{2}+y_{3}\\leq 2$\n",
        "\n",
        "$x_{1},x_{2},x_{3} \\geq 0 $"
      ],
      "metadata": {
        "id": "VS5S1OAcNkN-"
      }
    },
    {
      "cell_type": "markdown",
      "source": [
        "## Using Pulp Library"
      ],
      "metadata": {
        "id": "WCUAhadDswsb"
      }
    },
    {
      "cell_type": "code",
      "execution_count": 1,
      "metadata": {
        "colab": {
          "base_uri": "https://localhost:8080/"
        },
        "id": "wl6R42UKLfag",
        "outputId": "a5b348f9-6611-45d8-a996-9520ac352004"
      },
      "outputs": [
        {
          "output_type": "stream",
          "name": "stdout",
          "text": [
            "Requirement already satisfied: pulp in /usr/local/lib/python3.10/dist-packages (2.9.0)\n"
          ]
        }
      ],
      "source": [
        "!pip install pulp\n",
        "from pulp import *\n",
        "import numpy as np\n",
        "import pandas as pd"
      ]
    },
    {
      "cell_type": "code",
      "source": [
        "#Defining Variables\n",
        "\n",
        "x = LpVariable.dicts('x', ((i) for i in [1,2,3]), lowBound=0, cat='Continuous')\n",
        "y = LpVariable.dicts('y', ((i) for i in [1,2,3,4]), cat='Binary')"
      ],
      "metadata": {
        "id": "1Ilfm-qmkCAV"
      },
      "execution_count": 2,
      "outputs": []
    },
    {
      "cell_type": "code",
      "source": [
        "#Defining Objective Function\n",
        "\n",
        "model = LpProblem('model', LpMaximize)\n",
        "\n",
        "model += 5*x[1]+7*x[2]+3*x[3]"
      ],
      "metadata": {
        "id": "IJFxiSzImV8y"
      },
      "execution_count": 3,
      "outputs": []
    },
    {
      "cell_type": "code",
      "source": [
        "#Constraints\n",
        "\n",
        "M = 100000\n",
        "\n",
        "model += 3*x[1]+4*x[2]+2*x[3] <= 30+M*y[4]\n",
        "model += 4*x[1]+6*x[2]+2*x[3] <= 40+M*(1-y[4])\n",
        "model += x[1] <= 7\n",
        "model += x[2] <= 5\n",
        "model += x[3] <= 9\n",
        "model += x[1] <= M*y[1]\n",
        "model += x[2] <= M*y[2]\n",
        "model += x[3] <= M*y[3]\n",
        "model += y[1]+y[2]+y[3] <= 2"
      ],
      "metadata": {
        "id": "9YJt0jHOms_M"
      },
      "execution_count": 4,
      "outputs": []
    },
    {
      "cell_type": "code",
      "source": [
        "#Model summary\n",
        "\n",
        "model"
      ],
      "metadata": {
        "colab": {
          "base_uri": "https://localhost:8080/"
        },
        "id": "imix-3Gnnc96",
        "outputId": "8f34125a-44b8-49f9-e155-9b9090bb8082"
      },
      "execution_count": 5,
      "outputs": [
        {
          "output_type": "execute_result",
          "data": {
            "text/plain": [
              "model:\n",
              "MAXIMIZE\n",
              "5*x_1 + 7*x_2 + 3*x_3 + 0\n",
              "SUBJECT TO\n",
              "_C1: 3 x_1 + 4 x_2 + 2 x_3 - 100000 y_4 <= 30\n",
              "\n",
              "_C2: 4 x_1 + 6 x_2 + 2 x_3 + 100000 y_4 <= 100040\n",
              "\n",
              "_C3: x_1 <= 7\n",
              "\n",
              "_C4: x_2 <= 5\n",
              "\n",
              "_C5: x_3 <= 9\n",
              "\n",
              "_C6: x_1 - 100000 y_1 <= 0\n",
              "\n",
              "_C7: x_2 - 100000 y_2 <= 0\n",
              "\n",
              "_C8: x_3 - 100000 y_3 <= 0\n",
              "\n",
              "_C9: y_1 + y_2 + y_3 <= 2\n",
              "\n",
              "VARIABLES\n",
              "x_1 Continuous\n",
              "x_2 Continuous\n",
              "x_3 Continuous\n",
              "0 <= y_1 <= 1 Integer\n",
              "0 <= y_2 <= 1 Integer\n",
              "0 <= y_3 <= 1 Integer\n",
              "0 <= y_4 <= 1 Integer"
            ]
          },
          "metadata": {},
          "execution_count": 5
        }
      ]
    },
    {
      "cell_type": "code",
      "source": [
        "#Solving model\n",
        "\n",
        "model.solve()\n",
        "print('Optimal Solution:', pulp.value(model.objective))"
      ],
      "metadata": {
        "colab": {
          "base_uri": "https://localhost:8080/"
        },
        "id": "OKnD7huapLvj",
        "outputId": "b85996ea-a530-48c3-eabb-38b0d7c6194b"
      },
      "execution_count": 6,
      "outputs": [
        {
          "output_type": "stream",
          "name": "stdout",
          "text": [
            "Optimal Solution: 54.5\n"
          ]
        }
      ]
    },
    {
      "cell_type": "code",
      "source": [
        "for variables in model.variables():\n",
        "  print(f'{variables.name}:{variables.varValue}')"
      ],
      "metadata": {
        "colab": {
          "base_uri": "https://localhost:8080/"
        },
        "id": "gmbI8T17pg_4",
        "outputId": "f8e299b5-a46a-469f-f9b5-817dc52c67e3"
      },
      "execution_count": 7,
      "outputs": [
        {
          "output_type": "stream",
          "name": "stdout",
          "text": [
            "x_1:5.5\n",
            "x_2:0.0\n",
            "x_3:9.0\n",
            "y_1:1.0\n",
            "y_2:0.0\n",
            "y_3:1.0\n",
            "y_4:1.0\n"
          ]
        }
      ]
    },
    {
      "cell_type": "code",
      "source": [
        "VNames = []\n",
        "for variables in model.variables():\n",
        "  VNames.append(variables.name)\n",
        "\n",
        "VValue = []\n",
        "for variables in model.variables():\n",
        "  VValue.append(np.round(variables.varValue, 2))\n",
        "\n",
        "data = {'Variables': VNames, 'Value': VValue}\n",
        "pd.DataFrame(data, index = range(1, len(VValue)+1))"
      ],
      "metadata": {
        "colab": {
          "base_uri": "https://localhost:8080/",
          "height": 269
        },
        "id": "JRQQcPFCpi_q",
        "outputId": "e9b615ff-448b-4bf9-cfe0-dc9dca5a5862"
      },
      "execution_count": 8,
      "outputs": [
        {
          "output_type": "execute_result",
          "data": {
            "text/plain": [
              "  Variables  Value\n",
              "1       x_1    5.5\n",
              "2       x_2    0.0\n",
              "3       x_3    9.0\n",
              "4       y_1    1.0\n",
              "5       y_2    0.0\n",
              "6       y_3    1.0\n",
              "7       y_4    1.0"
            ],
            "text/html": [
              "\n",
              "  <div id=\"df-78065322-859a-484f-89bd-e7af965d8627\" class=\"colab-df-container\">\n",
              "    <div>\n",
              "<style scoped>\n",
              "    .dataframe tbody tr th:only-of-type {\n",
              "        vertical-align: middle;\n",
              "    }\n",
              "\n",
              "    .dataframe tbody tr th {\n",
              "        vertical-align: top;\n",
              "    }\n",
              "\n",
              "    .dataframe thead th {\n",
              "        text-align: right;\n",
              "    }\n",
              "</style>\n",
              "<table border=\"1\" class=\"dataframe\">\n",
              "  <thead>\n",
              "    <tr style=\"text-align: right;\">\n",
              "      <th></th>\n",
              "      <th>Variables</th>\n",
              "      <th>Value</th>\n",
              "    </tr>\n",
              "  </thead>\n",
              "  <tbody>\n",
              "    <tr>\n",
              "      <th>1</th>\n",
              "      <td>x_1</td>\n",
              "      <td>5.5</td>\n",
              "    </tr>\n",
              "    <tr>\n",
              "      <th>2</th>\n",
              "      <td>x_2</td>\n",
              "      <td>0.0</td>\n",
              "    </tr>\n",
              "    <tr>\n",
              "      <th>3</th>\n",
              "      <td>x_3</td>\n",
              "      <td>9.0</td>\n",
              "    </tr>\n",
              "    <tr>\n",
              "      <th>4</th>\n",
              "      <td>y_1</td>\n",
              "      <td>1.0</td>\n",
              "    </tr>\n",
              "    <tr>\n",
              "      <th>5</th>\n",
              "      <td>y_2</td>\n",
              "      <td>0.0</td>\n",
              "    </tr>\n",
              "    <tr>\n",
              "      <th>6</th>\n",
              "      <td>y_3</td>\n",
              "      <td>1.0</td>\n",
              "    </tr>\n",
              "    <tr>\n",
              "      <th>7</th>\n",
              "      <td>y_4</td>\n",
              "      <td>1.0</td>\n",
              "    </tr>\n",
              "  </tbody>\n",
              "</table>\n",
              "</div>\n",
              "    <div class=\"colab-df-buttons\">\n",
              "\n",
              "  <div class=\"colab-df-container\">\n",
              "    <button class=\"colab-df-convert\" onclick=\"convertToInteractive('df-78065322-859a-484f-89bd-e7af965d8627')\"\n",
              "            title=\"Convert this dataframe to an interactive table.\"\n",
              "            style=\"display:none;\">\n",
              "\n",
              "  <svg xmlns=\"http://www.w3.org/2000/svg\" height=\"24px\" viewBox=\"0 -960 960 960\">\n",
              "    <path d=\"M120-120v-720h720v720H120Zm60-500h600v-160H180v160Zm220 220h160v-160H400v160Zm0 220h160v-160H400v160ZM180-400h160v-160H180v160Zm440 0h160v-160H620v160ZM180-180h160v-160H180v160Zm440 0h160v-160H620v160Z\"/>\n",
              "  </svg>\n",
              "    </button>\n",
              "\n",
              "  <style>\n",
              "    .colab-df-container {\n",
              "      display:flex;\n",
              "      gap: 12px;\n",
              "    }\n",
              "\n",
              "    .colab-df-convert {\n",
              "      background-color: #E8F0FE;\n",
              "      border: none;\n",
              "      border-radius: 50%;\n",
              "      cursor: pointer;\n",
              "      display: none;\n",
              "      fill: #1967D2;\n",
              "      height: 32px;\n",
              "      padding: 0 0 0 0;\n",
              "      width: 32px;\n",
              "    }\n",
              "\n",
              "    .colab-df-convert:hover {\n",
              "      background-color: #E2EBFA;\n",
              "      box-shadow: 0px 1px 2px rgba(60, 64, 67, 0.3), 0px 1px 3px 1px rgba(60, 64, 67, 0.15);\n",
              "      fill: #174EA6;\n",
              "    }\n",
              "\n",
              "    .colab-df-buttons div {\n",
              "      margin-bottom: 4px;\n",
              "    }\n",
              "\n",
              "    [theme=dark] .colab-df-convert {\n",
              "      background-color: #3B4455;\n",
              "      fill: #D2E3FC;\n",
              "    }\n",
              "\n",
              "    [theme=dark] .colab-df-convert:hover {\n",
              "      background-color: #434B5C;\n",
              "      box-shadow: 0px 1px 3px 1px rgba(0, 0, 0, 0.15);\n",
              "      filter: drop-shadow(0px 1px 2px rgba(0, 0, 0, 0.3));\n",
              "      fill: #FFFFFF;\n",
              "    }\n",
              "  </style>\n",
              "\n",
              "    <script>\n",
              "      const buttonEl =\n",
              "        document.querySelector('#df-78065322-859a-484f-89bd-e7af965d8627 button.colab-df-convert');\n",
              "      buttonEl.style.display =\n",
              "        google.colab.kernel.accessAllowed ? 'block' : 'none';\n",
              "\n",
              "      async function convertToInteractive(key) {\n",
              "        const element = document.querySelector('#df-78065322-859a-484f-89bd-e7af965d8627');\n",
              "        const dataTable =\n",
              "          await google.colab.kernel.invokeFunction('convertToInteractive',\n",
              "                                                    [key], {});\n",
              "        if (!dataTable) return;\n",
              "\n",
              "        const docLinkHtml = 'Like what you see? Visit the ' +\n",
              "          '<a target=\"_blank\" href=https://colab.research.google.com/notebooks/data_table.ipynb>data table notebook</a>'\n",
              "          + ' to learn more about interactive tables.';\n",
              "        element.innerHTML = '';\n",
              "        dataTable['output_type'] = 'display_data';\n",
              "        await google.colab.output.renderOutput(dataTable, element);\n",
              "        const docLink = document.createElement('div');\n",
              "        docLink.innerHTML = docLinkHtml;\n",
              "        element.appendChild(docLink);\n",
              "      }\n",
              "    </script>\n",
              "  </div>\n",
              "\n",
              "\n",
              "<div id=\"df-46fda390-a981-494d-8408-3a55d9c1dea1\">\n",
              "  <button class=\"colab-df-quickchart\" onclick=\"quickchart('df-46fda390-a981-494d-8408-3a55d9c1dea1')\"\n",
              "            title=\"Suggest charts\"\n",
              "            style=\"display:none;\">\n",
              "\n",
              "<svg xmlns=\"http://www.w3.org/2000/svg\" height=\"24px\"viewBox=\"0 0 24 24\"\n",
              "     width=\"24px\">\n",
              "    <g>\n",
              "        <path d=\"M19 3H5c-1.1 0-2 .9-2 2v14c0 1.1.9 2 2 2h14c1.1 0 2-.9 2-2V5c0-1.1-.9-2-2-2zM9 17H7v-7h2v7zm4 0h-2V7h2v10zm4 0h-2v-4h2v4z\"/>\n",
              "    </g>\n",
              "</svg>\n",
              "  </button>\n",
              "\n",
              "<style>\n",
              "  .colab-df-quickchart {\n",
              "      --bg-color: #E8F0FE;\n",
              "      --fill-color: #1967D2;\n",
              "      --hover-bg-color: #E2EBFA;\n",
              "      --hover-fill-color: #174EA6;\n",
              "      --disabled-fill-color: #AAA;\n",
              "      --disabled-bg-color: #DDD;\n",
              "  }\n",
              "\n",
              "  [theme=dark] .colab-df-quickchart {\n",
              "      --bg-color: #3B4455;\n",
              "      --fill-color: #D2E3FC;\n",
              "      --hover-bg-color: #434B5C;\n",
              "      --hover-fill-color: #FFFFFF;\n",
              "      --disabled-bg-color: #3B4455;\n",
              "      --disabled-fill-color: #666;\n",
              "  }\n",
              "\n",
              "  .colab-df-quickchart {\n",
              "    background-color: var(--bg-color);\n",
              "    border: none;\n",
              "    border-radius: 50%;\n",
              "    cursor: pointer;\n",
              "    display: none;\n",
              "    fill: var(--fill-color);\n",
              "    height: 32px;\n",
              "    padding: 0;\n",
              "    width: 32px;\n",
              "  }\n",
              "\n",
              "  .colab-df-quickchart:hover {\n",
              "    background-color: var(--hover-bg-color);\n",
              "    box-shadow: 0 1px 2px rgba(60, 64, 67, 0.3), 0 1px 3px 1px rgba(60, 64, 67, 0.15);\n",
              "    fill: var(--button-hover-fill-color);\n",
              "  }\n",
              "\n",
              "  .colab-df-quickchart-complete:disabled,\n",
              "  .colab-df-quickchart-complete:disabled:hover {\n",
              "    background-color: var(--disabled-bg-color);\n",
              "    fill: var(--disabled-fill-color);\n",
              "    box-shadow: none;\n",
              "  }\n",
              "\n",
              "  .colab-df-spinner {\n",
              "    border: 2px solid var(--fill-color);\n",
              "    border-color: transparent;\n",
              "    border-bottom-color: var(--fill-color);\n",
              "    animation:\n",
              "      spin 1s steps(1) infinite;\n",
              "  }\n",
              "\n",
              "  @keyframes spin {\n",
              "    0% {\n",
              "      border-color: transparent;\n",
              "      border-bottom-color: var(--fill-color);\n",
              "      border-left-color: var(--fill-color);\n",
              "    }\n",
              "    20% {\n",
              "      border-color: transparent;\n",
              "      border-left-color: var(--fill-color);\n",
              "      border-top-color: var(--fill-color);\n",
              "    }\n",
              "    30% {\n",
              "      border-color: transparent;\n",
              "      border-left-color: var(--fill-color);\n",
              "      border-top-color: var(--fill-color);\n",
              "      border-right-color: var(--fill-color);\n",
              "    }\n",
              "    40% {\n",
              "      border-color: transparent;\n",
              "      border-right-color: var(--fill-color);\n",
              "      border-top-color: var(--fill-color);\n",
              "    }\n",
              "    60% {\n",
              "      border-color: transparent;\n",
              "      border-right-color: var(--fill-color);\n",
              "    }\n",
              "    80% {\n",
              "      border-color: transparent;\n",
              "      border-right-color: var(--fill-color);\n",
              "      border-bottom-color: var(--fill-color);\n",
              "    }\n",
              "    90% {\n",
              "      border-color: transparent;\n",
              "      border-bottom-color: var(--fill-color);\n",
              "    }\n",
              "  }\n",
              "</style>\n",
              "\n",
              "  <script>\n",
              "    async function quickchart(key) {\n",
              "      const quickchartButtonEl =\n",
              "        document.querySelector('#' + key + ' button');\n",
              "      quickchartButtonEl.disabled = true;  // To prevent multiple clicks.\n",
              "      quickchartButtonEl.classList.add('colab-df-spinner');\n",
              "      try {\n",
              "        const charts = await google.colab.kernel.invokeFunction(\n",
              "            'suggestCharts', [key], {});\n",
              "      } catch (error) {\n",
              "        console.error('Error during call to suggestCharts:', error);\n",
              "      }\n",
              "      quickchartButtonEl.classList.remove('colab-df-spinner');\n",
              "      quickchartButtonEl.classList.add('colab-df-quickchart-complete');\n",
              "    }\n",
              "    (() => {\n",
              "      let quickchartButtonEl =\n",
              "        document.querySelector('#df-46fda390-a981-494d-8408-3a55d9c1dea1 button');\n",
              "      quickchartButtonEl.style.display =\n",
              "        google.colab.kernel.accessAllowed ? 'block' : 'none';\n",
              "    })();\n",
              "  </script>\n",
              "</div>\n",
              "\n",
              "    </div>\n",
              "  </div>\n"
            ],
            "application/vnd.google.colaboratory.intrinsic+json": {
              "type": "dataframe",
              "summary": "{\n  \"name\": \"pd\",\n  \"rows\": 7,\n  \"fields\": [\n    {\n      \"column\": \"Variables\",\n      \"properties\": {\n        \"dtype\": \"string\",\n        \"num_unique_values\": 7,\n        \"samples\": [\n          \"x_1\",\n          \"x_2\",\n          \"y_3\"\n        ],\n        \"semantic_type\": \"\",\n        \"description\": \"\"\n      }\n    },\n    {\n      \"column\": \"Value\",\n      \"properties\": {\n        \"dtype\": \"number\",\n        \"std\": 3.427827300200522,\n        \"min\": 0.0,\n        \"max\": 9.0,\n        \"num_unique_values\": 4,\n        \"samples\": [\n          0.0,\n          1.0,\n          5.5\n        ],\n        \"semantic_type\": \"\",\n        \"description\": \"\"\n      }\n    }\n  ]\n}"
            }
          },
          "metadata": {},
          "execution_count": 8
        }
      ]
    },
    {
      "cell_type": "markdown",
      "source": [
        "## Using Pyomo Library"
      ],
      "metadata": {
        "id": "cFccEhQMsrAM"
      }
    },
    {
      "cell_type": "code",
      "source": [
        "!pip install pyomo\n",
        "!apt-get install -y -qq glpk-utils\n",
        "\n",
        "from pyomo.environ import *"
      ],
      "metadata": {
        "colab": {
          "base_uri": "https://localhost:8080/"
        },
        "collapsed": true,
        "id": "j6WV63UzpvCY",
        "outputId": "6ef9bfb6-8182-4177-e3da-75b7b3c4114a"
      },
      "execution_count": 9,
      "outputs": [
        {
          "output_type": "stream",
          "name": "stdout",
          "text": [
            "Collecting pyomo\n",
            "  Downloading Pyomo-6.8.0-cp310-cp310-manylinux_2_17_x86_64.manylinux2014_x86_64.whl.metadata (8.0 kB)\n",
            "Collecting ply (from pyomo)\n",
            "  Downloading ply-3.11-py2.py3-none-any.whl.metadata (844 bytes)\n",
            "Downloading Pyomo-6.8.0-cp310-cp310-manylinux_2_17_x86_64.manylinux2014_x86_64.whl (13.3 MB)\n",
            "\u001b[2K   \u001b[90m━━━━━━━━━━━━━━━━━━━━━━━━━━━━━━━━━━━━━━━━\u001b[0m \u001b[32m13.3/13.3 MB\u001b[0m \u001b[31m81.0 MB/s\u001b[0m eta \u001b[36m0:00:00\u001b[0m\n",
            "\u001b[?25hDownloading ply-3.11-py2.py3-none-any.whl (49 kB)\n",
            "\u001b[2K   \u001b[90m━━━━━━━━━━━━━━━━━━━━━━━━━━━━━━━━━━━━━━━━\u001b[0m \u001b[32m49.6/49.6 kB\u001b[0m \u001b[31m3.6 MB/s\u001b[0m eta \u001b[36m0:00:00\u001b[0m\n",
            "\u001b[?25hInstalling collected packages: ply, pyomo\n",
            "Successfully installed ply-3.11 pyomo-6.8.0\n",
            "Selecting previously unselected package libsuitesparseconfig5:amd64.\n",
            "(Reading database ... 123621 files and directories currently installed.)\n",
            "Preparing to unpack .../libsuitesparseconfig5_1%3a5.10.1+dfsg-4build1_amd64.deb ...\n",
            "Unpacking libsuitesparseconfig5:amd64 (1:5.10.1+dfsg-4build1) ...\n",
            "Selecting previously unselected package libamd2:amd64.\n",
            "Preparing to unpack .../libamd2_1%3a5.10.1+dfsg-4build1_amd64.deb ...\n",
            "Unpacking libamd2:amd64 (1:5.10.1+dfsg-4build1) ...\n",
            "Selecting previously unselected package libcolamd2:amd64.\n",
            "Preparing to unpack .../libcolamd2_1%3a5.10.1+dfsg-4build1_amd64.deb ...\n",
            "Unpacking libcolamd2:amd64 (1:5.10.1+dfsg-4build1) ...\n",
            "Selecting previously unselected package libglpk40:amd64.\n",
            "Preparing to unpack .../libglpk40_5.0-1_amd64.deb ...\n",
            "Unpacking libglpk40:amd64 (5.0-1) ...\n",
            "Selecting previously unselected package glpk-utils.\n",
            "Preparing to unpack .../glpk-utils_5.0-1_amd64.deb ...\n",
            "Unpacking glpk-utils (5.0-1) ...\n",
            "Setting up libsuitesparseconfig5:amd64 (1:5.10.1+dfsg-4build1) ...\n",
            "Setting up libamd2:amd64 (1:5.10.1+dfsg-4build1) ...\n",
            "Setting up libcolamd2:amd64 (1:5.10.1+dfsg-4build1) ...\n",
            "Setting up libglpk40:amd64 (5.0-1) ...\n",
            "Setting up glpk-utils (5.0-1) ...\n",
            "Processing triggers for man-db (2.10.2-1) ...\n",
            "Processing triggers for libc-bin (2.35-0ubuntu3.4) ...\n",
            "/sbin/ldconfig.real: /usr/local/lib/libtbbmalloc_proxy.so.2 is not a symbolic link\n",
            "\n",
            "/sbin/ldconfig.real: /usr/local/lib/libtbbbind_2_5.so.3 is not a symbolic link\n",
            "\n",
            "/sbin/ldconfig.real: /usr/local/lib/libur_adapter_opencl.so.0 is not a symbolic link\n",
            "\n",
            "/sbin/ldconfig.real: /usr/local/lib/libtbbmalloc.so.2 is not a symbolic link\n",
            "\n",
            "/sbin/ldconfig.real: /usr/local/lib/libtbbbind_2_0.so.3 is not a symbolic link\n",
            "\n",
            "/sbin/ldconfig.real: /usr/local/lib/libtbb.so.12 is not a symbolic link\n",
            "\n",
            "/sbin/ldconfig.real: /usr/local/lib/libur_adapter_level_zero.so.0 is not a symbolic link\n",
            "\n",
            "/sbin/ldconfig.real: /usr/local/lib/libur_loader.so.0 is not a symbolic link\n",
            "\n",
            "/sbin/ldconfig.real: /usr/local/lib/libtbbbind.so.3 is not a symbolic link\n",
            "\n"
          ]
        }
      ]
    },
    {
      "cell_type": "code",
      "source": [
        "model = ConcreteModel()\n",
        "\n",
        "M = 100000\n",
        "model.indicesx = Set(initialize=[1,2,3])\n",
        "model.indicesy = Set(initialize=[1,2,3,4])\n",
        "model.x = Var(model.indicesx, domain=NonNegativeReals)\n",
        "model.y = Var(model.indicesy, domain=Binary)\n",
        "\n",
        "model.obj = Objective(expr=5*model.x[1]+7*model.x[2]+3*model.x[3], sense=maximize)\n",
        "\n",
        "model.constraint1 = Constraint(expr=3*model.x[1]+4*model.x[2]+2*model.x[3] <= 30+M*model.y[4])\n",
        "model.constraint2 = Constraint(expr=4*model.x[1]+6*model.x[2]+2*model.x[3] <= 40+M*(1-model.y[4]))\n",
        "model.constraint3 = Constraint(expr=model.x[1] <= 7)\n",
        "model.constraint4 = Constraint(expr=model.x[2] <= 5)\n",
        "model.constraint5 = Constraint(expr=model.x[3] <= 9)\n",
        "model.constraint6 = Constraint(expr=model.x[1] <= M*model.y[1])\n",
        "model.constraint7 = Constraint(expr=model.x[2] <= M*model.y[2])\n",
        "model.constraint8 = Constraint(expr=model.x[3] <= M*model.y[3])\n",
        "model.constraint9 = Constraint(expr=model.y[1]+model.y[2]+model.y[3] <= 2)\n",
        "\n",
        "SolverFactory('glpk').solve(model)\n",
        "\n",
        "model.display()"
      ],
      "metadata": {
        "colab": {
          "base_uri": "https://localhost:8080/"
        },
        "id": "_a6IlUxRp2FI",
        "outputId": "6fdcbf9e-c9e4-4046-e5dd-b59902cb076f"
      },
      "execution_count": 10,
      "outputs": [
        {
          "output_type": "stream",
          "name": "stdout",
          "text": [
            "Model unknown\n",
            "\n",
            "  Variables:\n",
            "    x : Size=3, Index=indicesx\n",
            "        Key : Lower : Value : Upper : Fixed : Stale : Domain\n",
            "          1 :     0 :   5.5 :  None : False : False : NonNegativeReals\n",
            "          2 :     0 :   0.0 :  None : False : False : NonNegativeReals\n",
            "          3 :     0 :   9.0 :  None : False : False : NonNegativeReals\n",
            "    y : Size=4, Index=indicesy\n",
            "        Key : Lower : Value : Upper : Fixed : Stale : Domain\n",
            "          1 :     0 :   1.0 :     1 : False : False : Binary\n",
            "          2 :     0 :   0.0 :     1 : False : False : Binary\n",
            "          3 :     0 :   1.0 :     1 : False : False : Binary\n",
            "          4 :     0 :   1.0 :     1 : False : False : Binary\n",
            "\n",
            "  Objectives:\n",
            "    obj : Size=1, Index=None, Active=True\n",
            "        Key  : Active : Value\n",
            "        None :   True :  54.5\n",
            "\n",
            "  Constraints:\n",
            "    constraint1 : Size=1\n",
            "        Key  : Lower : Body     : Upper\n",
            "        None :  None : -99995.5 :   0.0\n",
            "    constraint2 : Size=1\n",
            "        Key  : Lower : Body : Upper\n",
            "        None :  None :  0.0 :   0.0\n",
            "    constraint3 : Size=1\n",
            "        Key  : Lower : Body : Upper\n",
            "        None :  None :  5.5 :   7.0\n",
            "    constraint4 : Size=1\n",
            "        Key  : Lower : Body : Upper\n",
            "        None :  None :  0.0 :   5.0\n",
            "    constraint5 : Size=1\n",
            "        Key  : Lower : Body : Upper\n",
            "        None :  None :  9.0 :   9.0\n",
            "    constraint6 : Size=1\n",
            "        Key  : Lower : Body     : Upper\n",
            "        None :  None : -99994.5 :   0.0\n",
            "    constraint7 : Size=1\n",
            "        Key  : Lower : Body : Upper\n",
            "        None :  None :  0.0 :   0.0\n",
            "    constraint8 : Size=1\n",
            "        Key  : Lower : Body     : Upper\n",
            "        None :  None : -99991.0 :   0.0\n",
            "    constraint9 : Size=1\n",
            "        Key  : Lower : Body : Upper\n",
            "        None :  None :  2.0 :   2.0\n"
          ]
        }
      ]
    },
    {
      "cell_type": "code",
      "source": [
        "print(\"Variable values:\")\n",
        "model.x.pprint()\n",
        "model.y.pprint()"
      ],
      "metadata": {
        "colab": {
          "base_uri": "https://localhost:8080/"
        },
        "id": "bJOCh3Qbrwq3",
        "outputId": "ce3cc0a8-f623-4202-bd33-4e2e13a4871e"
      },
      "execution_count": 12,
      "outputs": [
        {
          "output_type": "stream",
          "name": "stdout",
          "text": [
            "Variable values:\n",
            "x : Size=3, Index=indicesx\n",
            "    Key : Lower : Value : Upper : Fixed : Stale : Domain\n",
            "      1 :     0 :   5.5 :  None : False : False : NonNegativeReals\n",
            "      2 :     0 :   0.0 :  None : False : False : NonNegativeReals\n",
            "      3 :     0 :   9.0 :  None : False : False : NonNegativeReals\n",
            "y : Size=4, Index=indicesy\n",
            "    Key : Lower : Value : Upper : Fixed : Stale : Domain\n",
            "      1 :     0 :   1.0 :     1 : False : False : Binary\n",
            "      2 :     0 :   0.0 :     1 : False : False : Binary\n",
            "      3 :     0 :   1.0 :     1 : False : False : Binary\n",
            "      4 :     0 :   1.0 :     1 : False : False : Binary\n"
          ]
        }
      ]
    }
  ]
}