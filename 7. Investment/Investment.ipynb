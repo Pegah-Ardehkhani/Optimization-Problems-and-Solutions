{
  "nbformat": 4,
  "nbformat_minor": 0,
  "metadata": {
    "colab": {
      "provenance": []
    },
    "kernelspec": {
      "name": "python3",
      "display_name": "Python 3"
    },
    "language_info": {
      "name": "python"
    }
  },
  "cells": [
    {
      "cell_type": "markdown",
      "source": [
        "# **Investment:**"
      ],
      "metadata": {
        "id": "kOGPAH5ZsFuC"
      }
    },
    {
      "cell_type": "markdown",
      "source": [
        "**Problem Statement:**\n",
        "\n",
        "Jack wishes to define the best investments that he should make with his money. he has a total of $100,000$ USD and the following options for investment.\n",
        "\n",
        "A) Low risk with historical gainsof $5\\%$ per year\n",
        "\n",
        "B) Medium risk fund with historical gainsof $10\\%$ per year\n",
        "\n",
        "C) High risk fund with historical gainsof $12\\%$ per year\n",
        "\n",
        "He also wishes to control the risk of his investment with maximum of $10\\%$ of his money in the investment with high risk, $20\\%$ in the investment with medium risk.\n",
        "\n",
        "What is the decesion of of investment that maximizes the return of investment for Jack?"
      ],
      "metadata": {
        "id": "XXayLwgY8C9f"
      }
    },
    {
      "cell_type": "markdown",
      "source": [
        "**General Modeling:**\n",
        "\n",
        "$x_A, x_B, x_c$ represents invested capitals in fund $A,B,C$\n",
        "\n",
        "$r_A, r_B, r_c$ represents return of investment $A,B,C$\n",
        "\n",
        "$\\\\ $\n",
        "\n",
        "$Objective\\ Function:\\\\ $\n",
        "\n",
        "$Max Z = r_A + r_B + r_c$\n",
        "\n",
        "$\\\\ $\n",
        "\n",
        "$Constraints:\\\\ $\n",
        "\n",
        "$x_A + x_B + x_c = 100,000$\n",
        "\n",
        "$r_A = 0.05 x_A$\n",
        "\n",
        "$r_B = 0.1 x_B$\n",
        "\n",
        "$r_C = 0.12 x_C$\n",
        "\n",
        "$0 \\leq x_B \\leq 0.2 * 100,000$\n",
        "\n",
        "$0 \\leq x_C \\leq 0.1 * 100,000$\n",
        "\n",
        "$x_A, x_B, x_c \\geq 0$"
      ],
      "metadata": {
        "id": "wFcHCTBSBqq2"
      }
    },
    {
      "cell_type": "code",
      "execution_count": 13,
      "metadata": {
        "colab": {
          "base_uri": "https://localhost:8080/"
        },
        "id": "IHGNhBhu745z",
        "outputId": "283d8252-d062-4562-d95c-0d90662ad9ba"
      },
      "outputs": [
        {
          "output_type": "stream",
          "name": "stdout",
          "text": [
            "Requirement already satisfied: pulp in /usr/local/lib/python3.10/dist-packages (2.9.0)\n"
          ]
        }
      ],
      "source": [
        "!pip install pulp\n",
        "from pulp import *\n",
        "import numpy as np\n",
        "import pandas as pd"
      ]
    },
    {
      "cell_type": "code",
      "source": [
        "#Defining the problem\n",
        "\n",
        "Funds = ['A', 'B', 'C']\n",
        "\n",
        "inv = {'A': 0.05, 'B': 0.10, 'C': 0.12}"
      ],
      "metadata": {
        "id": "h4JYFdD4FW2E"
      },
      "execution_count": 14,
      "outputs": []
    },
    {
      "cell_type": "code",
      "source": [
        "#Defining Variables\n",
        "\n",
        "x = LpVariable.dicts('x', ((i) for i in Funds), lowBound=0, cat='Continuous')\n",
        "r = LpVariable.dicts('r', ((i) for i in Funds), lowBound=0, cat='Continuous')"
      ],
      "metadata": {
        "id": "XGxoF06DEOsL"
      },
      "execution_count": 15,
      "outputs": []
    },
    {
      "cell_type": "code",
      "source": [
        "#Defining Objective Function\n",
        "\n",
        "model = LpProblem('model', LpMaximize)\n",
        "\n",
        "model += lpSum(r)"
      ],
      "metadata": {
        "id": "O0Bu0YDYHXMo"
      },
      "execution_count": 16,
      "outputs": []
    },
    {
      "cell_type": "code",
      "source": [
        "x"
      ],
      "metadata": {
        "colab": {
          "base_uri": "https://localhost:8080/"
        },
        "id": "P449N6ztKKE5",
        "outputId": "78ea2d16-7f54-4689-a1b3-bdd923333157"
      },
      "execution_count": 17,
      "outputs": [
        {
          "output_type": "execute_result",
          "data": {
            "text/plain": [
              "{'A': x_A, 'B': x_B, 'C': x_C}"
            ]
          },
          "metadata": {},
          "execution_count": 17
        }
      ]
    },
    {
      "cell_type": "code",
      "source": [
        "#Constraints\n",
        "\n",
        "model += lpSum(x) == 100000\n",
        "\n",
        "for i in Funds:\n",
        "  model += r[i] == inv[i] * x[i]\n",
        "\n",
        "model += x['B'] <= 0.2*100000\n",
        "model += x['C'] <= 0.1*100000"
      ],
      "metadata": {
        "id": "Opp30tY2HUpw"
      },
      "execution_count": 18,
      "outputs": []
    },
    {
      "cell_type": "code",
      "source": [
        "#Model summary\n",
        "\n",
        "model"
      ],
      "metadata": {
        "colab": {
          "base_uri": "https://localhost:8080/"
        },
        "id": "WIf2ylcpIf5I",
        "outputId": "741f5cf7-458c-4980-eea1-cc429c10c2c2"
      },
      "execution_count": 19,
      "outputs": [
        {
          "output_type": "execute_result",
          "data": {
            "text/plain": [
              "model:\n",
              "MAXIMIZE\n",
              "1*r_A + 1*r_B + 1*r_C + 0\n",
              "SUBJECT TO\n",
              "_C1: x_A + x_B + x_C = 100000\n",
              "\n",
              "_C2: r_A - 0.05 x_A = 0\n",
              "\n",
              "_C3: r_B - 0.1 x_B = 0\n",
              "\n",
              "_C4: r_C - 0.12 x_C = 0\n",
              "\n",
              "_C5: x_B <= 20000\n",
              "\n",
              "_C6: x_C <= 10000\n",
              "\n",
              "VARIABLES\n",
              "r_A Continuous\n",
              "r_B Continuous\n",
              "r_C Continuous\n",
              "x_A Continuous\n",
              "x_B Continuous\n",
              "x_C Continuous"
            ]
          },
          "metadata": {},
          "execution_count": 19
        }
      ]
    },
    {
      "cell_type": "code",
      "source": [
        "#Solving model\n",
        "\n",
        "model.solve()\n",
        "print('Optimal Solution:', pulp.value(model.objective))"
      ],
      "metadata": {
        "colab": {
          "base_uri": "https://localhost:8080/"
        },
        "id": "jA-xlNf8JQxg",
        "outputId": "f5c6a3dc-8fc9-41e4-8067-5c3a9dfe9207"
      },
      "execution_count": 20,
      "outputs": [
        {
          "output_type": "stream",
          "name": "stdout",
          "text": [
            "Optimal Solution: 6700.0\n"
          ]
        }
      ]
    },
    {
      "cell_type": "code",
      "source": [
        "for variables in model.variables():\n",
        "  print(f'{variables.name}:{variables.varValue}')"
      ],
      "metadata": {
        "colab": {
          "base_uri": "https://localhost:8080/"
        },
        "id": "Fcz5JszyLlC_",
        "outputId": "b0dd3a82-35a4-4793-cc0f-788110d5ae88"
      },
      "execution_count": 21,
      "outputs": [
        {
          "output_type": "stream",
          "name": "stdout",
          "text": [
            "r_A:3500.0\n",
            "r_B:2000.0\n",
            "r_C:1200.0\n",
            "x_A:70000.0\n",
            "x_B:20000.0\n",
            "x_C:10000.0\n"
          ]
        }
      ]
    },
    {
      "cell_type": "code",
      "source": [
        "VNames = []\n",
        "for variables in model.variables():\n",
        "  VNames.append(variables.name)\n",
        "\n",
        "VValue = []\n",
        "for variables in model.variables():\n",
        "  VValue.append(np.round(variables.varValue, 2))\n",
        "\n",
        "data = {'Variables': VNames, 'Value': VValue}\n",
        "pd.DataFrame(data, index = range(1, len(VValue)+1))"
      ],
      "metadata": {
        "colab": {
          "base_uri": "https://localhost:8080/",
          "height": 237
        },
        "id": "-4p73kk_LyMd",
        "outputId": "e5a0b39d-992a-4586-ede9-b64a7bad726f"
      },
      "execution_count": 22,
      "outputs": [
        {
          "output_type": "execute_result",
          "data": {
            "text/plain": [
              "  Variables    Value\n",
              "1       r_A   3500.0\n",
              "2       r_B   2000.0\n",
              "3       r_C   1200.0\n",
              "4       x_A  70000.0\n",
              "5       x_B  20000.0\n",
              "6       x_C  10000.0"
            ],
            "text/html": [
              "\n",
              "  <div id=\"df-5375a09b-a8f5-47d9-b681-75023133bd44\" class=\"colab-df-container\">\n",
              "    <div>\n",
              "<style scoped>\n",
              "    .dataframe tbody tr th:only-of-type {\n",
              "        vertical-align: middle;\n",
              "    }\n",
              "\n",
              "    .dataframe tbody tr th {\n",
              "        vertical-align: top;\n",
              "    }\n",
              "\n",
              "    .dataframe thead th {\n",
              "        text-align: right;\n",
              "    }\n",
              "</style>\n",
              "<table border=\"1\" class=\"dataframe\">\n",
              "  <thead>\n",
              "    <tr style=\"text-align: right;\">\n",
              "      <th></th>\n",
              "      <th>Variables</th>\n",
              "      <th>Value</th>\n",
              "    </tr>\n",
              "  </thead>\n",
              "  <tbody>\n",
              "    <tr>\n",
              "      <th>1</th>\n",
              "      <td>r_A</td>\n",
              "      <td>3500.0</td>\n",
              "    </tr>\n",
              "    <tr>\n",
              "      <th>2</th>\n",
              "      <td>r_B</td>\n",
              "      <td>2000.0</td>\n",
              "    </tr>\n",
              "    <tr>\n",
              "      <th>3</th>\n",
              "      <td>r_C</td>\n",
              "      <td>1200.0</td>\n",
              "    </tr>\n",
              "    <tr>\n",
              "      <th>4</th>\n",
              "      <td>x_A</td>\n",
              "      <td>70000.0</td>\n",
              "    </tr>\n",
              "    <tr>\n",
              "      <th>5</th>\n",
              "      <td>x_B</td>\n",
              "      <td>20000.0</td>\n",
              "    </tr>\n",
              "    <tr>\n",
              "      <th>6</th>\n",
              "      <td>x_C</td>\n",
              "      <td>10000.0</td>\n",
              "    </tr>\n",
              "  </tbody>\n",
              "</table>\n",
              "</div>\n",
              "    <div class=\"colab-df-buttons\">\n",
              "\n",
              "  <div class=\"colab-df-container\">\n",
              "    <button class=\"colab-df-convert\" onclick=\"convertToInteractive('df-5375a09b-a8f5-47d9-b681-75023133bd44')\"\n",
              "            title=\"Convert this dataframe to an interactive table.\"\n",
              "            style=\"display:none;\">\n",
              "\n",
              "  <svg xmlns=\"http://www.w3.org/2000/svg\" height=\"24px\" viewBox=\"0 -960 960 960\">\n",
              "    <path d=\"M120-120v-720h720v720H120Zm60-500h600v-160H180v160Zm220 220h160v-160H400v160Zm0 220h160v-160H400v160ZM180-400h160v-160H180v160Zm440 0h160v-160H620v160ZM180-180h160v-160H180v160Zm440 0h160v-160H620v160Z\"/>\n",
              "  </svg>\n",
              "    </button>\n",
              "\n",
              "  <style>\n",
              "    .colab-df-container {\n",
              "      display:flex;\n",
              "      gap: 12px;\n",
              "    }\n",
              "\n",
              "    .colab-df-convert {\n",
              "      background-color: #E8F0FE;\n",
              "      border: none;\n",
              "      border-radius: 50%;\n",
              "      cursor: pointer;\n",
              "      display: none;\n",
              "      fill: #1967D2;\n",
              "      height: 32px;\n",
              "      padding: 0 0 0 0;\n",
              "      width: 32px;\n",
              "    }\n",
              "\n",
              "    .colab-df-convert:hover {\n",
              "      background-color: #E2EBFA;\n",
              "      box-shadow: 0px 1px 2px rgba(60, 64, 67, 0.3), 0px 1px 3px 1px rgba(60, 64, 67, 0.15);\n",
              "      fill: #174EA6;\n",
              "    }\n",
              "\n",
              "    .colab-df-buttons div {\n",
              "      margin-bottom: 4px;\n",
              "    }\n",
              "\n",
              "    [theme=dark] .colab-df-convert {\n",
              "      background-color: #3B4455;\n",
              "      fill: #D2E3FC;\n",
              "    }\n",
              "\n",
              "    [theme=dark] .colab-df-convert:hover {\n",
              "      background-color: #434B5C;\n",
              "      box-shadow: 0px 1px 3px 1px rgba(0, 0, 0, 0.15);\n",
              "      filter: drop-shadow(0px 1px 2px rgba(0, 0, 0, 0.3));\n",
              "      fill: #FFFFFF;\n",
              "    }\n",
              "  </style>\n",
              "\n",
              "    <script>\n",
              "      const buttonEl =\n",
              "        document.querySelector('#df-5375a09b-a8f5-47d9-b681-75023133bd44 button.colab-df-convert');\n",
              "      buttonEl.style.display =\n",
              "        google.colab.kernel.accessAllowed ? 'block' : 'none';\n",
              "\n",
              "      async function convertToInteractive(key) {\n",
              "        const element = document.querySelector('#df-5375a09b-a8f5-47d9-b681-75023133bd44');\n",
              "        const dataTable =\n",
              "          await google.colab.kernel.invokeFunction('convertToInteractive',\n",
              "                                                    [key], {});\n",
              "        if (!dataTable) return;\n",
              "\n",
              "        const docLinkHtml = 'Like what you see? Visit the ' +\n",
              "          '<a target=\"_blank\" href=https://colab.research.google.com/notebooks/data_table.ipynb>data table notebook</a>'\n",
              "          + ' to learn more about interactive tables.';\n",
              "        element.innerHTML = '';\n",
              "        dataTable['output_type'] = 'display_data';\n",
              "        await google.colab.output.renderOutput(dataTable, element);\n",
              "        const docLink = document.createElement('div');\n",
              "        docLink.innerHTML = docLinkHtml;\n",
              "        element.appendChild(docLink);\n",
              "      }\n",
              "    </script>\n",
              "  </div>\n",
              "\n",
              "\n",
              "<div id=\"df-324a77d1-ccc1-4a68-bcc4-c80ec90f8208\">\n",
              "  <button class=\"colab-df-quickchart\" onclick=\"quickchart('df-324a77d1-ccc1-4a68-bcc4-c80ec90f8208')\"\n",
              "            title=\"Suggest charts\"\n",
              "            style=\"display:none;\">\n",
              "\n",
              "<svg xmlns=\"http://www.w3.org/2000/svg\" height=\"24px\"viewBox=\"0 0 24 24\"\n",
              "     width=\"24px\">\n",
              "    <g>\n",
              "        <path d=\"M19 3H5c-1.1 0-2 .9-2 2v14c0 1.1.9 2 2 2h14c1.1 0 2-.9 2-2V5c0-1.1-.9-2-2-2zM9 17H7v-7h2v7zm4 0h-2V7h2v10zm4 0h-2v-4h2v4z\"/>\n",
              "    </g>\n",
              "</svg>\n",
              "  </button>\n",
              "\n",
              "<style>\n",
              "  .colab-df-quickchart {\n",
              "      --bg-color: #E8F0FE;\n",
              "      --fill-color: #1967D2;\n",
              "      --hover-bg-color: #E2EBFA;\n",
              "      --hover-fill-color: #174EA6;\n",
              "      --disabled-fill-color: #AAA;\n",
              "      --disabled-bg-color: #DDD;\n",
              "  }\n",
              "\n",
              "  [theme=dark] .colab-df-quickchart {\n",
              "      --bg-color: #3B4455;\n",
              "      --fill-color: #D2E3FC;\n",
              "      --hover-bg-color: #434B5C;\n",
              "      --hover-fill-color: #FFFFFF;\n",
              "      --disabled-bg-color: #3B4455;\n",
              "      --disabled-fill-color: #666;\n",
              "  }\n",
              "\n",
              "  .colab-df-quickchart {\n",
              "    background-color: var(--bg-color);\n",
              "    border: none;\n",
              "    border-radius: 50%;\n",
              "    cursor: pointer;\n",
              "    display: none;\n",
              "    fill: var(--fill-color);\n",
              "    height: 32px;\n",
              "    padding: 0;\n",
              "    width: 32px;\n",
              "  }\n",
              "\n",
              "  .colab-df-quickchart:hover {\n",
              "    background-color: var(--hover-bg-color);\n",
              "    box-shadow: 0 1px 2px rgba(60, 64, 67, 0.3), 0 1px 3px 1px rgba(60, 64, 67, 0.15);\n",
              "    fill: var(--button-hover-fill-color);\n",
              "  }\n",
              "\n",
              "  .colab-df-quickchart-complete:disabled,\n",
              "  .colab-df-quickchart-complete:disabled:hover {\n",
              "    background-color: var(--disabled-bg-color);\n",
              "    fill: var(--disabled-fill-color);\n",
              "    box-shadow: none;\n",
              "  }\n",
              "\n",
              "  .colab-df-spinner {\n",
              "    border: 2px solid var(--fill-color);\n",
              "    border-color: transparent;\n",
              "    border-bottom-color: var(--fill-color);\n",
              "    animation:\n",
              "      spin 1s steps(1) infinite;\n",
              "  }\n",
              "\n",
              "  @keyframes spin {\n",
              "    0% {\n",
              "      border-color: transparent;\n",
              "      border-bottom-color: var(--fill-color);\n",
              "      border-left-color: var(--fill-color);\n",
              "    }\n",
              "    20% {\n",
              "      border-color: transparent;\n",
              "      border-left-color: var(--fill-color);\n",
              "      border-top-color: var(--fill-color);\n",
              "    }\n",
              "    30% {\n",
              "      border-color: transparent;\n",
              "      border-left-color: var(--fill-color);\n",
              "      border-top-color: var(--fill-color);\n",
              "      border-right-color: var(--fill-color);\n",
              "    }\n",
              "    40% {\n",
              "      border-color: transparent;\n",
              "      border-right-color: var(--fill-color);\n",
              "      border-top-color: var(--fill-color);\n",
              "    }\n",
              "    60% {\n",
              "      border-color: transparent;\n",
              "      border-right-color: var(--fill-color);\n",
              "    }\n",
              "    80% {\n",
              "      border-color: transparent;\n",
              "      border-right-color: var(--fill-color);\n",
              "      border-bottom-color: var(--fill-color);\n",
              "    }\n",
              "    90% {\n",
              "      border-color: transparent;\n",
              "      border-bottom-color: var(--fill-color);\n",
              "    }\n",
              "  }\n",
              "</style>\n",
              "\n",
              "  <script>\n",
              "    async function quickchart(key) {\n",
              "      const quickchartButtonEl =\n",
              "        document.querySelector('#' + key + ' button');\n",
              "      quickchartButtonEl.disabled = true;  // To prevent multiple clicks.\n",
              "      quickchartButtonEl.classList.add('colab-df-spinner');\n",
              "      try {\n",
              "        const charts = await google.colab.kernel.invokeFunction(\n",
              "            'suggestCharts', [key], {});\n",
              "      } catch (error) {\n",
              "        console.error('Error during call to suggestCharts:', error);\n",
              "      }\n",
              "      quickchartButtonEl.classList.remove('colab-df-spinner');\n",
              "      quickchartButtonEl.classList.add('colab-df-quickchart-complete');\n",
              "    }\n",
              "    (() => {\n",
              "      let quickchartButtonEl =\n",
              "        document.querySelector('#df-324a77d1-ccc1-4a68-bcc4-c80ec90f8208 button');\n",
              "      quickchartButtonEl.style.display =\n",
              "        google.colab.kernel.accessAllowed ? 'block' : 'none';\n",
              "    })();\n",
              "  </script>\n",
              "</div>\n",
              "\n",
              "    </div>\n",
              "  </div>\n"
            ],
            "application/vnd.google.colaboratory.intrinsic+json": {
              "type": "dataframe",
              "summary": "{\n  \"name\": \"pd\",\n  \"rows\": 6,\n  \"fields\": [\n    {\n      \"column\": \"Variables\",\n      \"properties\": {\n        \"dtype\": \"string\",\n        \"num_unique_values\": 6,\n        \"samples\": [\n          \"r_A\",\n          \"r_B\",\n          \"x_C\"\n        ],\n        \"semantic_type\": \"\",\n        \"description\": \"\"\n      }\n    },\n    {\n      \"column\": \"Value\",\n      \"properties\": {\n        \"dtype\": \"number\",\n        \"std\": 26533.78349701879,\n        \"min\": 1200.0,\n        \"max\": 70000.0,\n        \"num_unique_values\": 6,\n        \"samples\": [\n          3500.0,\n          2000.0,\n          10000.0\n        ],\n        \"semantic_type\": \"\",\n        \"description\": \"\"\n      }\n    }\n  ]\n}"
            }
          },
          "metadata": {},
          "execution_count": 22
        }
      ]
    },
    {
      "cell_type": "code",
      "source": [
        "print('Current Status: ', LpStatus[model.status])"
      ],
      "metadata": {
        "colab": {
          "base_uri": "https://localhost:8080/"
        },
        "id": "tljTlttOL7lF",
        "outputId": "c8d75200-dead-446f-ae5f-c1174aa875e2"
      },
      "execution_count": 23,
      "outputs": [
        {
          "output_type": "stream",
          "name": "stdout",
          "text": [
            "Current Status:  Optimal\n"
          ]
        }
      ]
    }
  ]
}