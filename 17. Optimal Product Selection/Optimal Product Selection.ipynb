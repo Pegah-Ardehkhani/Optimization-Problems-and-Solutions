{
  "nbformat": 4,
  "nbformat_minor": 0,
  "metadata": {
    "colab": {
      "provenance": []
    },
    "kernelspec": {
      "name": "python3",
      "display_name": "Python 3"
    },
    "language_info": {
      "name": "python"
    }
  },
  "cells": [
    {
      "cell_type": "markdown",
      "source": [
        "# **Optimal Product Selection:**"
      ],
      "metadata": {
        "id": "DuEhY50Rz9_U"
      }
    },
    {
      "cell_type": "markdown",
      "source": [
        "Problem Source: F. S. Hillier and G. J. Lieberman, \"Introduction to Mathematical Programming,\" 2nd Edition, McGraw-Hill Inc., New York, 1995."
      ],
      "metadata": {
        "id": "yP_QF2ZMe0GL"
      }
    },
    {
      "cell_type": "markdown",
      "source": [
        "**Problem Statement:**\n",
        "\n",
        "The research and development division of a company has been developing four\n",
        "possible new product lines. Management must now make a decision as to which of these four products actually will be produced and at what levels. Therefore, they have asked the OR department to formulate a mathematical programming model to find the most profitable product mix.\n",
        "\n",
        "A substantial cost is associated with beginning the production of any product, as given in the first row of the following table. The marginal net revenue from each unit produced is given in the second row of the table:"
      ],
      "metadata": {
        "id": "mYrJwU5nRjHS"
      }
    },
    {
      "cell_type": "markdown",
      "source": [
        "![Table 12.2.2.PNG](data:image/png;base64,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)"
      ],
      "metadata": {
        "id": "aY56N28nSA_K"
      }
    },
    {
      "cell_type": "markdown",
      "source": [
        "Let the continuous decision variables $x_1, x_2, x_3$, and $x_4$ be the production levels of products $1, 2, 3$, and $4$, respectively. Management has imposed the following policy constraints on these variables:\n",
        "\n",
        "1. No more than two of the products can be produced.\n",
        "\n",
        "2. Either product $3$ or $4$ can be produced only if either product $1$ or $2$ is produced.\n",
        "\n",
        "3. Either $5x_1 + 3x_2 + 6x_3 + 4x_4 \\leq 6000$\n",
        "\n",
        "  or $4x_1 + 6x_2 + 3x_3 + 5x_4 \\leq 6000$."
      ],
      "metadata": {
        "id": "ygHKtGC7SFcS"
      }
    },
    {
      "cell_type": "markdown",
      "source": [
        "**Modeling:**\n",
        "\n",
        "$x_{i} \\qquad  i\\in {1,2,3,4} \\quad $   continuous variables for production level of each product\n",
        "\n",
        "$y_{i} \\qquad  i\\in {1,2,3,4} \\quad $   binary variables\n",
        "\n",
        "$\\\\ $\n",
        "\n",
        "$Objective\\ Function:\\\\ $\n",
        "\n",
        "$Max\\ Z = 70x_{1}+60x_{2}+90x_{3}+80x_{4}-5000y_{1}-4000y_{2}-7000y_{3}-6000y_{4}$\n",
        "\n",
        "$\\\\ $\n",
        "\n",
        "$Constraints:\\\\ $\n",
        "\n",
        "\n",
        "Production Limit Constraint: No more than two products can be produced:\n",
        "\n",
        "$y_{1}+y_{2}+y_{3}+y_{4} \\leq 2$\n",
        "\n",
        "Dependency constraint: Either product 3 or 4 can be produced only if product 1 or 2 is produced:\n",
        "\n",
        "$y_{3} \\leq y_{1}+y_{2}$\n",
        "\n",
        "$y_{4} \\leq y_{1}+y_{2}$\n",
        "\n",
        "Resource Constraints: Either one of the following resource constraints must hold:\n",
        "\n",
        "$5x_1 + 3x_2 + 6x_3 + 4x_4 \\leq 6000+My_{5}$\n",
        "\n",
        "$4x_1 + 6x_2 + 3x_3 + 5x_4 \\leq 6000+M(1-y_{5})$.\n",
        "\n",
        "Production can only occur if the product is chosen:\n",
        "\n",
        "$x_{1} \\leq My_{1}$\n",
        "\n",
        "$x_{2} \\leq My_{2}$\n",
        "\n",
        "$x_{3} \\leq My_{3}$\n",
        "\n",
        "$x_{4} \\leq My_{4}$\n",
        "\n",
        "Non-negativity and Binary Constraints:\n",
        "\n",
        "$x_{1},x_{2},x_{3},x_{4} \\geq 0$\n",
        "\n",
        "$y_{1},y_{2},y_{3},y_{4},y_{5} \\in {0,1}$\n"
      ],
      "metadata": {
        "id": "wXFPiM5NUEmC"
      }
    },
    {
      "cell_type": "markdown",
      "source": [
        "## Using Pulp Library"
      ],
      "metadata": {
        "id": "cFccEhQMsrAM"
      }
    },
    {
      "cell_type": "code",
      "execution_count": 1,
      "metadata": {
        "colab": {
          "base_uri": "https://localhost:8080/"
        },
        "id": "blnLvgLQzbJ4",
        "outputId": "55c7320b-2d1a-4816-88b9-a3ff18aa10de"
      },
      "outputs": [
        {
          "output_type": "stream",
          "name": "stdout",
          "text": [
            "Requirement already satisfied: pulp in /usr/local/lib/python3.10/dist-packages (2.9.0)\n"
          ]
        }
      ],
      "source": [
        "!pip install pulp\n",
        "from pulp import *\n",
        "import numpy as np\n",
        "import pandas as pd"
      ]
    },
    {
      "cell_type": "code",
      "execution_count": 2,
      "metadata": {
        "id": "CQUfwklGRd3a"
      },
      "outputs": [],
      "source": [
        "#Defining Variables\n",
        "\n",
        "x = LpVariable.dicts('x', ((i) for i in range(1,5)), lowBound = 0, cat='Continuous')\n",
        "y = LpVariable.dicts('y', ((i) for i in range(1,6)), cat='Binary')"
      ]
    },
    {
      "cell_type": "code",
      "source": [
        "#Defining Objective Function\n",
        "\n",
        "model = LpProblem('model', LpMaximize)\n",
        "\n",
        "model += 70*x[1]+60*x[2]+90*x[3]+80*x[4]-5000*y[1]-4000*y[2]-7000*y[3]-6000*y[4]"
      ],
      "metadata": {
        "id": "dl0W3J7t85Dn"
      },
      "execution_count": 3,
      "outputs": []
    },
    {
      "cell_type": "code",
      "source": [
        "#Constraints\n",
        "\n",
        "M = 1000000\n",
        "\n",
        "#Production Limit Constraint: No more than two products can be produced:\n",
        "model += y[1]+y[2]+y[3]+y[4] <= 2\n",
        "\n",
        "#Dependency constraint: Either product 3 or 4 can be produced only if product 1 or 2 is produced:\n",
        "model += y[3] <= y[1]+y[2]\n",
        "model += y[4] <= y[1]+y[2]\n",
        "\n",
        "#Resource Constraints: Either one of the following resource constraints must hold:\n",
        "model += 5*x[1]+3*x[2]+6*x[3]+4*x[4] <= 6000 + M*y[5]\n",
        "model += 4*x[1]+6*x[2]+3*x[3]+5*x[4] <= 6000 + M*(1-y[5])\n",
        "\n",
        "#Production can only occur if the product is chosen:\n",
        "model += x[1] <= M*y[1]\n",
        "model += x[2] <= M*y[2]\n",
        "model += x[3] <= M*y[3]\n",
        "model += x[4] <= M*y[4]"
      ],
      "metadata": {
        "id": "gTZDVv_k9qHY"
      },
      "execution_count": 4,
      "outputs": []
    },
    {
      "cell_type": "code",
      "source": [
        "#Model summary\n",
        "\n",
        "model"
      ],
      "metadata": {
        "colab": {
          "base_uri": "https://localhost:8080/"
        },
        "id": "4nBakpd1-70Y",
        "outputId": "3ed4e088-ec75-438a-ace2-b9e63ae2e32b"
      },
      "execution_count": 5,
      "outputs": [
        {
          "output_type": "execute_result",
          "data": {
            "text/plain": [
              "model:\n",
              "MAXIMIZE\n",
              "70*x_1 + 60*x_2 + 90*x_3 + 80*x_4 + -5000*y_1 + -4000*y_2 + -7000*y_3 + -6000*y_4 + 0\n",
              "SUBJECT TO\n",
              "_C1: y_1 + y_2 + y_3 + y_4 <= 2\n",
              "\n",
              "_C2: - y_1 - y_2 + y_3 <= 0\n",
              "\n",
              "_C3: - y_1 - y_2 + y_4 <= 0\n",
              "\n",
              "_C4: 5 x_1 + 3 x_2 + 6 x_3 + 4 x_4 - 1000000 y_5 <= 6000\n",
              "\n",
              "_C5: 4 x_1 + 6 x_2 + 3 x_3 + 5 x_4 + 1000000 y_5 <= 1006000\n",
              "\n",
              "_C6: x_1 - 1000000 y_1 <= 0\n",
              "\n",
              "_C7: x_2 - 1000000 y_2 <= 0\n",
              "\n",
              "_C8: x_3 - 1000000 y_3 <= 0\n",
              "\n",
              "_C9: x_4 - 1000000 y_4 <= 0\n",
              "\n",
              "VARIABLES\n",
              "x_1 Continuous\n",
              "x_2 Continuous\n",
              "x_3 Continuous\n",
              "x_4 Continuous\n",
              "0 <= y_1 <= 1 Integer\n",
              "0 <= y_2 <= 1 Integer\n",
              "0 <= y_3 <= 1 Integer\n",
              "0 <= y_4 <= 1 Integer\n",
              "0 <= y_5 <= 1 Integer"
            ]
          },
          "metadata": {},
          "execution_count": 5
        }
      ]
    },
    {
      "cell_type": "code",
      "source": [
        "#Solving model\n",
        "\n",
        "model.solve()\n",
        "print('Optimal Solution:', pulp.value(model.objective))"
      ],
      "metadata": {
        "colab": {
          "base_uri": "https://localhost:8080/"
        },
        "id": "o6iYs6Z3--Im",
        "outputId": "a8d65240-bd6a-4ba4-f2d5-d2ce4f85a4dd"
      },
      "execution_count": 6,
      "outputs": [
        {
          "output_type": "stream",
          "name": "stdout",
          "text": [
            "Optimal Solution: 169000.0\n"
          ]
        }
      ]
    },
    {
      "cell_type": "code",
      "source": [
        "for variables in model.variables():\n",
        "  print(f'{variables.name}:{variables.varValue}')"
      ],
      "metadata": {
        "colab": {
          "base_uri": "https://localhost:8080/"
        },
        "id": "1lL6Ihjt_FZV",
        "outputId": "810efbf1-6879-4c26-ecf3-767237d35c18"
      },
      "execution_count": 7,
      "outputs": [
        {
          "output_type": "stream",
          "name": "stdout",
          "text": [
            "x_1:0.0\n",
            "x_2:0.0\n",
            "x_3:2000.0\n",
            "x_4:0.0\n",
            "y_1:0.0\n",
            "y_2:1.0\n",
            "y_3:1.0\n",
            "y_4:0.0\n",
            "y_5:1.0\n"
          ]
        }
      ]
    },
    {
      "cell_type": "code",
      "source": [
        "VNames = []\n",
        "for variables in model.variables():\n",
        "  VNames.append(variables.name)\n",
        "\n",
        "VValue = []\n",
        "for variables in model.variables():\n",
        "  VValue.append(np.round(variables.varValue, 2))\n",
        "\n",
        "data = {'Variables': VNames, 'Value': VValue}\n",
        "pd.DataFrame(data, index = range(1, len(VValue)+1))"
      ],
      "metadata": {
        "colab": {
          "base_uri": "https://localhost:8080/",
          "height": 331
        },
        "id": "IYo94qYE_Jet",
        "outputId": "8991f7e9-c07e-435e-94c6-fae9c4ada7af"
      },
      "execution_count": 8,
      "outputs": [
        {
          "output_type": "execute_result",
          "data": {
            "text/plain": [
              "  Variables   Value\n",
              "1       x_1     0.0\n",
              "2       x_2     0.0\n",
              "3       x_3  2000.0\n",
              "4       x_4     0.0\n",
              "5       y_1     0.0\n",
              "6       y_2     1.0\n",
              "7       y_3     1.0\n",
              "8       y_4     0.0\n",
              "9       y_5     1.0"
            ],
            "text/html": [
              "\n",
              "  <div id=\"df-61dbb18d-1ecd-4b17-882c-c1d436ac7aef\" class=\"colab-df-container\">\n",
              "    <div>\n",
              "<style scoped>\n",
              "    .dataframe tbody tr th:only-of-type {\n",
              "        vertical-align: middle;\n",
              "    }\n",
              "\n",
              "    .dataframe tbody tr th {\n",
              "        vertical-align: top;\n",
              "    }\n",
              "\n",
              "    .dataframe thead th {\n",
              "        text-align: right;\n",
              "    }\n",
              "</style>\n",
              "<table border=\"1\" class=\"dataframe\">\n",
              "  <thead>\n",
              "    <tr style=\"text-align: right;\">\n",
              "      <th></th>\n",
              "      <th>Variables</th>\n",
              "      <th>Value</th>\n",
              "    </tr>\n",
              "  </thead>\n",
              "  <tbody>\n",
              "    <tr>\n",
              "      <th>1</th>\n",
              "      <td>x_1</td>\n",
              "      <td>0.0</td>\n",
              "    </tr>\n",
              "    <tr>\n",
              "      <th>2</th>\n",
              "      <td>x_2</td>\n",
              "      <td>0.0</td>\n",
              "    </tr>\n",
              "    <tr>\n",
              "      <th>3</th>\n",
              "      <td>x_3</td>\n",
              "      <td>2000.0</td>\n",
              "    </tr>\n",
              "    <tr>\n",
              "      <th>4</th>\n",
              "      <td>x_4</td>\n",
              "      <td>0.0</td>\n",
              "    </tr>\n",
              "    <tr>\n",
              "      <th>5</th>\n",
              "      <td>y_1</td>\n",
              "      <td>0.0</td>\n",
              "    </tr>\n",
              "    <tr>\n",
              "      <th>6</th>\n",
              "      <td>y_2</td>\n",
              "      <td>1.0</td>\n",
              "    </tr>\n",
              "    <tr>\n",
              "      <th>7</th>\n",
              "      <td>y_3</td>\n",
              "      <td>1.0</td>\n",
              "    </tr>\n",
              "    <tr>\n",
              "      <th>8</th>\n",
              "      <td>y_4</td>\n",
              "      <td>0.0</td>\n",
              "    </tr>\n",
              "    <tr>\n",
              "      <th>9</th>\n",
              "      <td>y_5</td>\n",
              "      <td>1.0</td>\n",
              "    </tr>\n",
              "  </tbody>\n",
              "</table>\n",
              "</div>\n",
              "    <div class=\"colab-df-buttons\">\n",
              "\n",
              "  <div class=\"colab-df-container\">\n",
              "    <button class=\"colab-df-convert\" onclick=\"convertToInteractive('df-61dbb18d-1ecd-4b17-882c-c1d436ac7aef')\"\n",
              "            title=\"Convert this dataframe to an interactive table.\"\n",
              "            style=\"display:none;\">\n",
              "\n",
              "  <svg xmlns=\"http://www.w3.org/2000/svg\" height=\"24px\" viewBox=\"0 -960 960 960\">\n",
              "    <path d=\"M120-120v-720h720v720H120Zm60-500h600v-160H180v160Zm220 220h160v-160H400v160Zm0 220h160v-160H400v160ZM180-400h160v-160H180v160Zm440 0h160v-160H620v160ZM180-180h160v-160H180v160Zm440 0h160v-160H620v160Z\"/>\n",
              "  </svg>\n",
              "    </button>\n",
              "\n",
              "  <style>\n",
              "    .colab-df-container {\n",
              "      display:flex;\n",
              "      gap: 12px;\n",
              "    }\n",
              "\n",
              "    .colab-df-convert {\n",
              "      background-color: #E8F0FE;\n",
              "      border: none;\n",
              "      border-radius: 50%;\n",
              "      cursor: pointer;\n",
              "      display: none;\n",
              "      fill: #1967D2;\n",
              "      height: 32px;\n",
              "      padding: 0 0 0 0;\n",
              "      width: 32px;\n",
              "    }\n",
              "\n",
              "    .colab-df-convert:hover {\n",
              "      background-color: #E2EBFA;\n",
              "      box-shadow: 0px 1px 2px rgba(60, 64, 67, 0.3), 0px 1px 3px 1px rgba(60, 64, 67, 0.15);\n",
              "      fill: #174EA6;\n",
              "    }\n",
              "\n",
              "    .colab-df-buttons div {\n",
              "      margin-bottom: 4px;\n",
              "    }\n",
              "\n",
              "    [theme=dark] .colab-df-convert {\n",
              "      background-color: #3B4455;\n",
              "      fill: #D2E3FC;\n",
              "    }\n",
              "\n",
              "    [theme=dark] .colab-df-convert:hover {\n",
              "      background-color: #434B5C;\n",
              "      box-shadow: 0px 1px 3px 1px rgba(0, 0, 0, 0.15);\n",
              "      filter: drop-shadow(0px 1px 2px rgba(0, 0, 0, 0.3));\n",
              "      fill: #FFFFFF;\n",
              "    }\n",
              "  </style>\n",
              "\n",
              "    <script>\n",
              "      const buttonEl =\n",
              "        document.querySelector('#df-61dbb18d-1ecd-4b17-882c-c1d436ac7aef button.colab-df-convert');\n",
              "      buttonEl.style.display =\n",
              "        google.colab.kernel.accessAllowed ? 'block' : 'none';\n",
              "\n",
              "      async function convertToInteractive(key) {\n",
              "        const element = document.querySelector('#df-61dbb18d-1ecd-4b17-882c-c1d436ac7aef');\n",
              "        const dataTable =\n",
              "          await google.colab.kernel.invokeFunction('convertToInteractive',\n",
              "                                                    [key], {});\n",
              "        if (!dataTable) return;\n",
              "\n",
              "        const docLinkHtml = 'Like what you see? Visit the ' +\n",
              "          '<a target=\"_blank\" href=https://colab.research.google.com/notebooks/data_table.ipynb>data table notebook</a>'\n",
              "          + ' to learn more about interactive tables.';\n",
              "        element.innerHTML = '';\n",
              "        dataTable['output_type'] = 'display_data';\n",
              "        await google.colab.output.renderOutput(dataTable, element);\n",
              "        const docLink = document.createElement('div');\n",
              "        docLink.innerHTML = docLinkHtml;\n",
              "        element.appendChild(docLink);\n",
              "      }\n",
              "    </script>\n",
              "  </div>\n",
              "\n",
              "\n",
              "<div id=\"df-4f4d458b-fedb-4434-ad4f-b2720c88cd52\">\n",
              "  <button class=\"colab-df-quickchart\" onclick=\"quickchart('df-4f4d458b-fedb-4434-ad4f-b2720c88cd52')\"\n",
              "            title=\"Suggest charts\"\n",
              "            style=\"display:none;\">\n",
              "\n",
              "<svg xmlns=\"http://www.w3.org/2000/svg\" height=\"24px\"viewBox=\"0 0 24 24\"\n",
              "     width=\"24px\">\n",
              "    <g>\n",
              "        <path d=\"M19 3H5c-1.1 0-2 .9-2 2v14c0 1.1.9 2 2 2h14c1.1 0 2-.9 2-2V5c0-1.1-.9-2-2-2zM9 17H7v-7h2v7zm4 0h-2V7h2v10zm4 0h-2v-4h2v4z\"/>\n",
              "    </g>\n",
              "</svg>\n",
              "  </button>\n",
              "\n",
              "<style>\n",
              "  .colab-df-quickchart {\n",
              "      --bg-color: #E8F0FE;\n",
              "      --fill-color: #1967D2;\n",
              "      --hover-bg-color: #E2EBFA;\n",
              "      --hover-fill-color: #174EA6;\n",
              "      --disabled-fill-color: #AAA;\n",
              "      --disabled-bg-color: #DDD;\n",
              "  }\n",
              "\n",
              "  [theme=dark] .colab-df-quickchart {\n",
              "      --bg-color: #3B4455;\n",
              "      --fill-color: #D2E3FC;\n",
              "      --hover-bg-color: #434B5C;\n",
              "      --hover-fill-color: #FFFFFF;\n",
              "      --disabled-bg-color: #3B4455;\n",
              "      --disabled-fill-color: #666;\n",
              "  }\n",
              "\n",
              "  .colab-df-quickchart {\n",
              "    background-color: var(--bg-color);\n",
              "    border: none;\n",
              "    border-radius: 50%;\n",
              "    cursor: pointer;\n",
              "    display: none;\n",
              "    fill: var(--fill-color);\n",
              "    height: 32px;\n",
              "    padding: 0;\n",
              "    width: 32px;\n",
              "  }\n",
              "\n",
              "  .colab-df-quickchart:hover {\n",
              "    background-color: var(--hover-bg-color);\n",
              "    box-shadow: 0 1px 2px rgba(60, 64, 67, 0.3), 0 1px 3px 1px rgba(60, 64, 67, 0.15);\n",
              "    fill: var(--button-hover-fill-color);\n",
              "  }\n",
              "\n",
              "  .colab-df-quickchart-complete:disabled,\n",
              "  .colab-df-quickchart-complete:disabled:hover {\n",
              "    background-color: var(--disabled-bg-color);\n",
              "    fill: var(--disabled-fill-color);\n",
              "    box-shadow: none;\n",
              "  }\n",
              "\n",
              "  .colab-df-spinner {\n",
              "    border: 2px solid var(--fill-color);\n",
              "    border-color: transparent;\n",
              "    border-bottom-color: var(--fill-color);\n",
              "    animation:\n",
              "      spin 1s steps(1) infinite;\n",
              "  }\n",
              "\n",
              "  @keyframes spin {\n",
              "    0% {\n",
              "      border-color: transparent;\n",
              "      border-bottom-color: var(--fill-color);\n",
              "      border-left-color: var(--fill-color);\n",
              "    }\n",
              "    20% {\n",
              "      border-color: transparent;\n",
              "      border-left-color: var(--fill-color);\n",
              "      border-top-color: var(--fill-color);\n",
              "    }\n",
              "    30% {\n",
              "      border-color: transparent;\n",
              "      border-left-color: var(--fill-color);\n",
              "      border-top-color: var(--fill-color);\n",
              "      border-right-color: var(--fill-color);\n",
              "    }\n",
              "    40% {\n",
              "      border-color: transparent;\n",
              "      border-right-color: var(--fill-color);\n",
              "      border-top-color: var(--fill-color);\n",
              "    }\n",
              "    60% {\n",
              "      border-color: transparent;\n",
              "      border-right-color: var(--fill-color);\n",
              "    }\n",
              "    80% {\n",
              "      border-color: transparent;\n",
              "      border-right-color: var(--fill-color);\n",
              "      border-bottom-color: var(--fill-color);\n",
              "    }\n",
              "    90% {\n",
              "      border-color: transparent;\n",
              "      border-bottom-color: var(--fill-color);\n",
              "    }\n",
              "  }\n",
              "</style>\n",
              "\n",
              "  <script>\n",
              "    async function quickchart(key) {\n",
              "      const quickchartButtonEl =\n",
              "        document.querySelector('#' + key + ' button');\n",
              "      quickchartButtonEl.disabled = true;  // To prevent multiple clicks.\n",
              "      quickchartButtonEl.classList.add('colab-df-spinner');\n",
              "      try {\n",
              "        const charts = await google.colab.kernel.invokeFunction(\n",
              "            'suggestCharts', [key], {});\n",
              "      } catch (error) {\n",
              "        console.error('Error during call to suggestCharts:', error);\n",
              "      }\n",
              "      quickchartButtonEl.classList.remove('colab-df-spinner');\n",
              "      quickchartButtonEl.classList.add('colab-df-quickchart-complete');\n",
              "    }\n",
              "    (() => {\n",
              "      let quickchartButtonEl =\n",
              "        document.querySelector('#df-4f4d458b-fedb-4434-ad4f-b2720c88cd52 button');\n",
              "      quickchartButtonEl.style.display =\n",
              "        google.colab.kernel.accessAllowed ? 'block' : 'none';\n",
              "    })();\n",
              "  </script>\n",
              "</div>\n",
              "    </div>\n",
              "  </div>\n"
            ],
            "application/vnd.google.colaboratory.intrinsic+json": {
              "type": "dataframe",
              "summary": "{\n  \"name\": \"pd\",\n  \"rows\": 9,\n  \"fields\": [\n    {\n      \"column\": \"Variables\",\n      \"properties\": {\n        \"dtype\": \"string\",\n        \"num_unique_values\": 9,\n        \"samples\": [\n          \"y_4\",\n          \"x_2\",\n          \"y_2\"\n        ],\n        \"semantic_type\": \"\",\n        \"description\": \"\"\n      }\n    },\n    {\n      \"column\": \"Value\",\n      \"properties\": {\n        \"dtype\": \"number\",\n        \"std\": 666.5418424808586,\n        \"min\": 0.0,\n        \"max\": 2000.0,\n        \"num_unique_values\": 3,\n        \"samples\": [\n          0.0,\n          2000.0,\n          1.0\n        ],\n        \"semantic_type\": \"\",\n        \"description\": \"\"\n      }\n    }\n  ]\n}"
            }
          },
          "metadata": {},
          "execution_count": 8
        }
      ]
    },
    {
      "cell_type": "code",
      "source": [
        "print('Current Status: ', LpStatus[model.status])"
      ],
      "metadata": {
        "colab": {
          "base_uri": "https://localhost:8080/"
        },
        "id": "GyOcA9m5_MvO",
        "outputId": "b14372af-c842-443d-95f5-ede2263b41ab"
      },
      "execution_count": 9,
      "outputs": [
        {
          "output_type": "stream",
          "name": "stdout",
          "text": [
            "Current Status:  Optimal\n"
          ]
        }
      ]
    },
    {
      "cell_type": "markdown",
      "source": [
        "## Using Pyomo Library"
      ],
      "metadata": {
        "id": "Q-pICggX6pAZ"
      }
    },
    {
      "cell_type": "code",
      "source": [
        "!pip install pyomo\n",
        "!apt-get install -y -qq glpk-utils\n",
        "\n",
        "from pyomo.environ import *"
      ],
      "metadata": {
        "colab": {
          "base_uri": "https://localhost:8080/"
        },
        "id": "PjOgMX9ZCJcT",
        "outputId": "4a4eaf31-6777-43e9-8922-8fe1dd565258"
      },
      "execution_count": 10,
      "outputs": [
        {
          "output_type": "stream",
          "name": "stdout",
          "text": [
            "Requirement already satisfied: pyomo in /usr/local/lib/python3.10/dist-packages (6.8.0)\n",
            "Requirement already satisfied: ply in /usr/local/lib/python3.10/dist-packages (from pyomo) (3.11)\n"
          ]
        }
      ]
    },
    {
      "cell_type": "code",
      "source": [
        "model = ConcreteModel()\n",
        "\n",
        "M = 1000000\n",
        "\n",
        "model.indicesx = Set(initialize=list(range(1,5)))\n",
        "model.indicesy = Set(initialize=list(range(1,6)))\n",
        "model.x = Var(model.indicesx, domain=NonNegativeReals)\n",
        "model.y = Var(model.indicesy, domain=Binary)\n",
        "\n",
        "model.obj = Objective(expr=70*model.x[1]+60*model.x[2]+90*model.x[3]+80*model.x[4]-5000*model.y[1]-4000*model.y[2]-7000*model.y[3]-6000*model.y[4], sense=maximize)\n",
        "\n",
        "model.constraint1 = Constraint(expr=model.y[1]+model.y[2]+model.y[3]+model.y[4] <= 2)\n",
        "model.constraint2 = Constraint(expr=model.y[3] <= model.y[1]+model.y[2])\n",
        "model.constraint3 = Constraint(expr=model.y[4] <= model.y[1]+model.y[2])\n",
        "model.constraint4 = Constraint(expr=5*model.x[1]+3*model.x[2]+6*model.x[3]+4*model.x[4] <= 6000 + M*model.y[5])\n",
        "model.constraint5 = Constraint(expr=4*model.x[1]+6*model.x[2]+3*model.x[3]+5*model.x[4] <= 6000 + M*(1-model.y[5]))\n",
        "model.constraint6 = Constraint(expr=model.x[1] <= M*model.y[1])\n",
        "model.constraint7 = Constraint(expr=model.x[2] <= M*model.y[2])\n",
        "model.constraint8 = Constraint(expr=model.x[3] <= M*model.y[3])\n",
        "model.constraint9 = Constraint(expr=model.x[4] <= M*model.y[4])\n",
        "\n",
        "SolverFactory('glpk').solve(model)\n",
        "\n",
        "model.display()"
      ],
      "metadata": {
        "colab": {
          "base_uri": "https://localhost:8080/"
        },
        "id": "M3bizwvhCNWE",
        "outputId": "d5cb7c0a-14ba-435e-b8b1-6b8660b3b5ec"
      },
      "execution_count": 11,
      "outputs": [
        {
          "output_type": "stream",
          "name": "stdout",
          "text": [
            "Model unknown\n",
            "\n",
            "  Variables:\n",
            "    x : Size=4, Index=indicesx\n",
            "        Key : Lower : Value  : Upper : Fixed : Stale : Domain\n",
            "          1 :     0 :    0.0 :  None : False : False : NonNegativeReals\n",
            "          2 :     0 :    0.0 :  None : False : False : NonNegativeReals\n",
            "          3 :     0 : 2000.0 :  None : False : False : NonNegativeReals\n",
            "          4 :     0 :    0.0 :  None : False : False : NonNegativeReals\n",
            "    y : Size=5, Index=indicesy\n",
            "        Key : Lower : Value : Upper : Fixed : Stale : Domain\n",
            "          1 :     0 :   0.0 :     1 : False : False : Binary\n",
            "          2 :     0 :   1.0 :     1 : False : False : Binary\n",
            "          3 :     0 :   1.0 :     1 : False : False : Binary\n",
            "          4 :     0 :   0.0 :     1 : False : False : Binary\n",
            "          5 :     0 :   1.0 :     1 : False : False : Binary\n",
            "\n",
            "  Objectives:\n",
            "    obj : Size=1, Index=None, Active=True\n",
            "        Key  : Active : Value\n",
            "        None :   True : 169000.0\n",
            "\n",
            "  Constraints:\n",
            "    constraint1 : Size=1\n",
            "        Key  : Lower : Body : Upper\n",
            "        None :  None :  2.0 :   2.0\n",
            "    constraint2 : Size=1\n",
            "        Key  : Lower : Body : Upper\n",
            "        None :  None :  0.0 :   0.0\n",
            "    constraint3 : Size=1\n",
            "        Key  : Lower : Body : Upper\n",
            "        None :  None : -1.0 :   0.0\n",
            "    constraint4 : Size=1\n",
            "        Key  : Lower : Body      : Upper\n",
            "        None :  None : -994000.0 :   0.0\n",
            "    constraint5 : Size=1\n",
            "        Key  : Lower : Body : Upper\n",
            "        None :  None :  0.0 :   0.0\n",
            "    constraint6 : Size=1\n",
            "        Key  : Lower : Body : Upper\n",
            "        None :  None :  0.0 :   0.0\n",
            "    constraint7 : Size=1\n",
            "        Key  : Lower : Body       : Upper\n",
            "        None :  None : -1000000.0 :   0.0\n",
            "    constraint8 : Size=1\n",
            "        Key  : Lower : Body      : Upper\n",
            "        None :  None : -998000.0 :   0.0\n",
            "    constraint9 : Size=1\n",
            "        Key  : Lower : Body : Upper\n",
            "        None :  None :  0.0 :   0.0\n"
          ]
        }
      ]
    },
    {
      "cell_type": "code",
      "source": [
        "print(\"Variable values:\")\n",
        "model.x.pprint()\n",
        "model.y.pprint()"
      ],
      "metadata": {
        "colab": {
          "base_uri": "https://localhost:8080/"
        },
        "id": "D2cvgxhPDjzl",
        "outputId": "81fae370-f35e-447a-96f2-577fffc9de40"
      },
      "execution_count": 12,
      "outputs": [
        {
          "output_type": "stream",
          "name": "stdout",
          "text": [
            "Variable values:\n",
            "x : Size=4, Index=indicesx\n",
            "    Key : Lower : Value  : Upper : Fixed : Stale : Domain\n",
            "      1 :     0 :    0.0 :  None : False : False : NonNegativeReals\n",
            "      2 :     0 :    0.0 :  None : False : False : NonNegativeReals\n",
            "      3 :     0 : 2000.0 :  None : False : False : NonNegativeReals\n",
            "      4 :     0 :    0.0 :  None : False : False : NonNegativeReals\n",
            "y : Size=5, Index=indicesy\n",
            "    Key : Lower : Value : Upper : Fixed : Stale : Domain\n",
            "      1 :     0 :   0.0 :     1 : False : False : Binary\n",
            "      2 :     0 :   1.0 :     1 : False : False : Binary\n",
            "      3 :     0 :   1.0 :     1 : False : False : Binary\n",
            "      4 :     0 :   0.0 :     1 : False : False : Binary\n",
            "      5 :     0 :   1.0 :     1 : False : False : Binary\n"
          ]
        }
      ]
    }
  ]
}