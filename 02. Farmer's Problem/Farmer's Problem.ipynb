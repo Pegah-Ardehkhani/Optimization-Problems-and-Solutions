{
  "nbformat": 4,
  "nbformat_minor": 0,
  "metadata": {
    "colab": {
      "name": "Farmer's Problem",
      "provenance": [],
      "collapsed_sections": []
    },
    "kernelspec": {
      "name": "python3",
      "display_name": "Python 3"
    },
    "language_info": {
      "name": "python"
    }
  },
  "cells": [
    {
      "cell_type": "markdown",
      "source": [
        "# **Farmer's Problem:**\n",
        "\n",
        "Problem Source: Birge, John R., and Francois Louveaux. Introduction to stochastic programming. Springer Science & Business Media, 2011."
      ],
      "metadata": {
        "id": "mS9XKXVmEsvK"
      }
    },
    {
      "cell_type": "markdown",
      "source": [
        "**Problem Statement:**\n",
        "\n",
        "Consider a European farmer who specializes in raising wheat, corn, and sugar beets on his $500$ acres of land. During the winter, he wants to decide how much land to devote to each crop.\n",
        "\n",
        "The farmer knows that at least $200\\ T$ of wheat and $240\\ T$ of corn are needed for cattle feed. These amounts can be raised on the farm or bought from a wholesaler. Any production in excess of the feeding requirement would be sold. Over the last decade, mean selling prices have been $170$ and $150$ per ton of wheat and corn, respectively. The purchase prices are $40\\ \\%$ more than this due to the wholesaler’s\n",
        "margin and transportation costs.\n",
        "\n",
        "Another profitable crop is sugar beet, which he expects to sell at $36\\ T$; however,the European Commission imposes a quota on sugar beet production. Any amountin excess of the quota can be sold only at $10\\ T$. The farmer’s quota for next year is $6000\\ T$.\n",
        "\n",
        "Based on past experience, the farmer knows that the mean yield on his land is roughly $2.5\\ T$, $3\\ T$, and $20\\ T$ per acre for wheat, corn, and sugar beets, respectively.\n",
        "\n",
        "A first possibility is to assume some correlation among the yields of the different crops. A very simplified representation of this would be to assume that years are good, fair, or bad for all crops, resulting in above average, average, or below average yields for all crops. To fix these ideas, $“above”$ and $“below”$ average indicate a yield $20\\ \\%$ above or below the mean yield. For simplicity, we assume that weather conditions and yields for the farmer do not have a significant impact on prices."
      ],
      "metadata": {
        "id": "jKMiJ0tATnAz"
      }
    },
    {
      "cell_type": "markdown",
      "source": [
        "**Modeling:**\n",
        "\n",
        "$\\\\ $\n",
        "\n",
        "$Objective\\ Function:\\\\ $\n",
        "\n",
        "$Min\\ 150X_{1} + 230X_{1}+ 260X_{1} \\\\\n",
        "-\\frac{1}{3} (170W_{11} - 238y_{11} + 150W_{21} - 210y_{21} + 36W_{31} + 10W_{41}) \\\\\n",
        "-\\frac{1}{3} (170W_{12} - 238y_{12} + 150W_{22} - 210y_{22} + 36W_{32} + 10W_{42}) \\\\\n",
        "-\\frac{1}{3} (170W_{13} - 238y_{13} + 150W_{23} - 210y_{23} + 36W_{33} + 10W_{43})$\n",
        "\n",
        "$\\\\ $\n",
        "\n",
        "$Constraints:\\\\ $\n",
        "\n",
        "$X_{1} + X_{1} + X_{1} \\leq 500$\n",
        "\n",
        "$3X_{1} + y_{11} - W_{11} \\geq 200$\n",
        "\n",
        "$3.6X_{2} + y_{21} - W_{21} \\geq 240$\n",
        "\n",
        "$W_{31} + W_{41} \\leq 24X_{3}$\n",
        "\n",
        "$W_{31} \\leq 6000$\n",
        "\n",
        "$2.5X_{1}+ y_{12} - W_{12} \\geq 200$\n",
        "\n",
        "$3X_{2} + y_{22} - W_{22} \\geq 240$\n",
        "\n",
        "$W_{32} + W_{42} \\leq 20X_{3}$\n",
        "\n",
        "$W_{32} \\leq 6000$\n",
        "\n",
        "$2X_{1} + y_{13} - W_{13} \\geq 200$\n",
        "\n",
        "$2.4X_{2} + y_{23} - W_{23} \\geq 240$\n",
        "\n",
        "$W_{33} + W_{43} \\leq 16X_{3}$\n",
        "\n",
        "$W_{33} \\leq 6000$\n",
        "\n",
        "$X,y,W \\geq 0$"
      ],
      "metadata": {
        "id": "aSJcncDYqpDN"
      }
    },
    {
      "cell_type": "code",
      "execution_count": 1,
      "metadata": {
        "colab": {
          "base_uri": "https://localhost:8080/"
        },
        "id": "0gajTpZCSYa8",
        "outputId": "96f933dd-8aee-4345-8e93-b8c278b4e7da"
      },
      "outputs": [
        {
          "output_type": "stream",
          "name": "stdout",
          "text": [
            "Looking in indexes: https://pypi.org/simple, https://us-python.pkg.dev/colab-wheels/public/simple/\n",
            "Collecting pulp\n",
            "  Downloading PuLP-2.6.0-py3-none-any.whl (14.2 MB)\n",
            "\u001b[K     |████████████████████████████████| 14.2 MB 15.8 MB/s \n",
            "\u001b[?25hInstalling collected packages: pulp\n",
            "Successfully installed pulp-2.6.0\n"
          ]
        }
      ],
      "source": [
        "!pip install pulp\n",
        "from pulp import *\n",
        "import numpy as np\n",
        "import pandas as pd"
      ]
    },
    {
      "cell_type": "code",
      "source": [
        "#Defining the problem\n",
        "\n",
        "total_acres = 500\n",
        "products = ['wheat', 'corn','sugar']\n",
        "costs = {'wheat':150, 'corn':230, 'sugar':260}\n",
        "min_requirement = {'wheat':200, 'corn':240}\n",
        "min_yields = {'wheat':2.5, 'corn':3, 'sugar':20}\n",
        "scenarios = {'s1':0.8, 's2':1, 's3':1.2}\n",
        "sales_price = {'wheat':170, 'corn':150, 'sugar_under':36, 'sugar_over':10}\n",
        "probability = {'s1':1/3, 's2':1/3, 's3':1/3}\n",
        "purchase_price = {'wheat':238, 'corn':210}"
      ],
      "metadata": {
        "id": "vrVICtLiVwkr"
      },
      "execution_count": 2,
      "outputs": []
    },
    {
      "cell_type": "code",
      "source": [
        "#Defining variables\n",
        "\n",
        "X = LpVariable.dicts('X', ((p) for p in products), lowBound = 0, cat = 'Continuous')\n",
        "y = LpVariable.dicts('y', ((p,s) for p in purchase_price for s in scenarios), lowBound = 0, cat = 'Continuous')\n",
        "W = LpVariable.dicts('W', ((p,s) for p in sales_price for s in scenarios), lowBound = 0, cat = 'Continuous')"
      ],
      "metadata": {
        "id": "z3F-msozX25G"
      },
      "execution_count": 3,
      "outputs": []
    },
    {
      "cell_type": "code",
      "source": [
        "#Defining Objective Function\n",
        "\n",
        "Model = LpProblem('minimize', LpMinimize)\n",
        "Model += lpSum(costs[p]*X[p] for p in products) - lpSum((probability[s]*sales_price[sp]*W[sp,s] for s in scenarios for sp in sales_price))\\\n",
        "+ lpSum((probability[s]*purchase_price[pp]*y[pp,s]) for s in scenarios for pp in purchase_price)"
      ],
      "metadata": {
        "id": "QcvxPEAvYU_J"
      },
      "execution_count": 4,
      "outputs": []
    },
    {
      "cell_type": "code",
      "source": [
        "#Constraints\n",
        "\n",
        "Model += lpSum(X[p] for p in products) <= total_acres\n",
        "\n",
        "for s in scenarios:\n",
        "  for pp in purchase_price:\n",
        "    Model += (scenarios[s]*min_yields[pp]*X[pp]) + y[pp,s] - W[pp,s] >= min_requirement[pp]\n",
        "\n",
        "for s in scenarios:\n",
        "  Model += lpSum(W[p,s] for p in ['sugar_under', 'sugar_over']) <= (scenarios[s]*min_yields['sugar']*X['sugar'])\n",
        "\n",
        "Model += W['sugar_under',s] <= 6000"
      ],
      "metadata": {
        "id": "BT7FlXhWeicJ"
      },
      "execution_count": 5,
      "outputs": []
    },
    {
      "cell_type": "code",
      "source": [
        "#Model summary\n",
        "\n",
        "Model"
      ],
      "metadata": {
        "colab": {
          "base_uri": "https://localhost:8080/"
        },
        "id": "D6yBsMHFAe1P",
        "outputId": "490e4dcd-7d14-470f-ffd6-c801a8e2e41f"
      },
      "execution_count": 6,
      "outputs": [
        {
          "output_type": "execute_result",
          "data": {
            "text/plain": [
              "minimize:\n",
              "MINIMIZE\n",
              "-50.0*W_('corn',_'s1') + -50.0*W_('corn',_'s2') + -50.0*W_('corn',_'s3') + -3.333333333333333*W_('sugar_over',_'s1') + -3.333333333333333*W_('sugar_over',_'s2') + -3.333333333333333*W_('sugar_over',_'s3') + -12.0*W_('sugar_under',_'s1') + -12.0*W_('sugar_under',_'s2') + -12.0*W_('sugar_under',_'s3') + -56.666666666666664*W_('wheat',_'s1') + -56.666666666666664*W_('wheat',_'s2') + -56.666666666666664*W_('wheat',_'s3') + 230*X_corn + 260*X_sugar + 150*X_wheat + 70.0*y_('corn',_'s1') + 70.0*y_('corn',_'s2') + 70.0*y_('corn',_'s3') + 79.33333333333333*y_('wheat',_'s1') + 79.33333333333333*y_('wheat',_'s2') + 79.33333333333333*y_('wheat',_'s3') + 0.0\n",
              "SUBJECT TO\n",
              "_C1: X_corn + X_sugar + X_wheat <= 500\n",
              "\n",
              "_C2: - W_('wheat',_'s1') + 2 X_wheat + y_('wheat',_'s1') >= 200\n",
              "\n",
              "_C3: - W_('corn',_'s1') + 2.4 X_corn + y_('corn',_'s1') >= 240\n",
              "\n",
              "_C4: - W_('wheat',_'s2') + 2.5 X_wheat + y_('wheat',_'s2') >= 200\n",
              "\n",
              "_C5: - W_('corn',_'s2') + 3 X_corn + y_('corn',_'s2') >= 240\n",
              "\n",
              "_C6: - W_('wheat',_'s3') + 3 X_wheat + y_('wheat',_'s3') >= 200\n",
              "\n",
              "_C7: - W_('corn',_'s3') + 3.6 X_corn + y_('corn',_'s3') >= 240\n",
              "\n",
              "_C8: W_('sugar_over',_'s1') + W_('sugar_under',_'s1') - 16 X_sugar <= 0\n",
              "\n",
              "_C9: W_('sugar_over',_'s2') + W_('sugar_under',_'s2') - 20 X_sugar <= 0\n",
              "\n",
              "_C10: W_('sugar_over',_'s3') + W_('sugar_under',_'s3') - 24 X_sugar <= 0\n",
              "\n",
              "_C11: W_('sugar_under',_'s3') <= 6000\n",
              "\n",
              "VARIABLES\n",
              "W_('corn',_'s1') Continuous\n",
              "W_('corn',_'s2') Continuous\n",
              "W_('corn',_'s3') Continuous\n",
              "W_('sugar_over',_'s1') Continuous\n",
              "W_('sugar_over',_'s2') Continuous\n",
              "W_('sugar_over',_'s3') Continuous\n",
              "W_('sugar_under',_'s1') Continuous\n",
              "W_('sugar_under',_'s2') Continuous\n",
              "W_('sugar_under',_'s3') Continuous\n",
              "W_('wheat',_'s1') Continuous\n",
              "W_('wheat',_'s2') Continuous\n",
              "W_('wheat',_'s3') Continuous\n",
              "X_corn Continuous\n",
              "X_sugar Continuous\n",
              "X_wheat Continuous\n",
              "y_('corn',_'s1') Continuous\n",
              "y_('corn',_'s2') Continuous\n",
              "y_('corn',_'s3') Continuous\n",
              "y_('wheat',_'s1') Continuous\n",
              "y_('wheat',_'s2') Continuous\n",
              "y_('wheat',_'s3') Continuous"
            ]
          },
          "metadata": {},
          "execution_count": 6
        }
      ]
    },
    {
      "cell_type": "code",
      "source": [
        "#Solving model\n",
        "\n",
        "Model.solve()\n",
        "print('Optimal Solution:', -pulp.value(Model.objective))"
      ],
      "metadata": {
        "colab": {
          "base_uri": "https://localhost:8080/"
        },
        "id": "qyptwkKJpH6q",
        "outputId": "eb7f19ad-914b-4479-ddd5-26ef5ff6dfa0"
      },
      "execution_count": 7,
      "outputs": [
        {
          "output_type": "stream",
          "name": "stdout",
          "text": [
            "Optimal Solution: 108390.0\n"
          ]
        }
      ]
    },
    {
      "cell_type": "code",
      "source": [
        "#Optimal values of variables\n",
        "\n",
        "for variables in Model.variables():\n",
        "  print('{}:{}'.format(variables.name, variables.varValue))"
      ],
      "metadata": {
        "colab": {
          "base_uri": "https://localhost:8080/"
        },
        "id": "Dde6v-2apqWO",
        "outputId": "0f93d182-2f67-4ee4-b962-b40d14060afa"
      },
      "execution_count": 8,
      "outputs": [
        {
          "output_type": "stream",
          "name": "stdout",
          "text": [
            "W_('corn',_'s1'):0.0\n",
            "W_('corn',_'s2'):0.0\n",
            "W_('corn',_'s3'):48.0\n",
            "W_('sugar_over',_'s1'):0.0\n",
            "W_('sugar_over',_'s2'):0.0\n",
            "W_('sugar_over',_'s3'):0.0\n",
            "W_('sugar_under',_'s1'):4000.0\n",
            "W_('sugar_under',_'s2'):5000.0\n",
            "W_('sugar_under',_'s3'):6000.0\n",
            "W_('wheat',_'s1'):140.0\n",
            "W_('wheat',_'s2'):225.0\n",
            "W_('wheat',_'s3'):310.0\n",
            "X_corn:80.0\n",
            "X_sugar:250.0\n",
            "X_wheat:170.0\n",
            "y_('corn',_'s1'):48.0\n",
            "y_('corn',_'s2'):0.0\n",
            "y_('corn',_'s3'):0.0\n",
            "y_('wheat',_'s1'):0.0\n",
            "y_('wheat',_'s2'):0.0\n",
            "y_('wheat',_'s3'):0.0\n"
          ]
        }
      ]
    },
    {
      "cell_type": "code",
      "source": [
        "VNames = []\n",
        "for variables in Model.variables():\n",
        "  VNames.append(variables.name)\n",
        "\n",
        "VValue = []\n",
        "for variables in Model.variables():\n",
        "  VValue.append(int(variables.varValue))\n",
        "\n",
        "data = {'Variables': VNames, 'Value': VValue}\n",
        "pd.DataFrame(data, index = range(1, len(VValue)+1))"
      ],
      "metadata": {
        "colab": {
          "base_uri": "https://localhost:8080/",
          "height": 707
        },
        "id": "DCceIrLlZT-L",
        "outputId": "ca90dd6a-6874-4239-be20-c2d2986c58cb"
      },
      "execution_count": 9,
      "outputs": [
        {
          "output_type": "execute_result",
          "data": {
            "text/plain": [
              "                  Variables  Value\n",
              "1          W_('corn',_'s1')      0\n",
              "2          W_('corn',_'s2')      0\n",
              "3          W_('corn',_'s3')     48\n",
              "4    W_('sugar_over',_'s1')      0\n",
              "5    W_('sugar_over',_'s2')      0\n",
              "6    W_('sugar_over',_'s3')      0\n",
              "7   W_('sugar_under',_'s1')   4000\n",
              "8   W_('sugar_under',_'s2')   5000\n",
              "9   W_('sugar_under',_'s3')   6000\n",
              "10        W_('wheat',_'s1')    140\n",
              "11        W_('wheat',_'s2')    225\n",
              "12        W_('wheat',_'s3')    310\n",
              "13                   X_corn     80\n",
              "14                  X_sugar    250\n",
              "15                  X_wheat    170\n",
              "16         y_('corn',_'s1')     48\n",
              "17         y_('corn',_'s2')      0\n",
              "18         y_('corn',_'s3')      0\n",
              "19        y_('wheat',_'s1')      0\n",
              "20        y_('wheat',_'s2')      0\n",
              "21        y_('wheat',_'s3')      0"
            ],
            "text/html": [
              "\n",
              "  <div id=\"df-2eb4672e-f036-4821-baf5-4a24d56075a3\">\n",
              "    <div class=\"colab-df-container\">\n",
              "      <div>\n",
              "<style scoped>\n",
              "    .dataframe tbody tr th:only-of-type {\n",
              "        vertical-align: middle;\n",
              "    }\n",
              "\n",
              "    .dataframe tbody tr th {\n",
              "        vertical-align: top;\n",
              "    }\n",
              "\n",
              "    .dataframe thead th {\n",
              "        text-align: right;\n",
              "    }\n",
              "</style>\n",
              "<table border=\"1\" class=\"dataframe\">\n",
              "  <thead>\n",
              "    <tr style=\"text-align: right;\">\n",
              "      <th></th>\n",
              "      <th>Variables</th>\n",
              "      <th>Value</th>\n",
              "    </tr>\n",
              "  </thead>\n",
              "  <tbody>\n",
              "    <tr>\n",
              "      <th>1</th>\n",
              "      <td>W_('corn',_'s1')</td>\n",
              "      <td>0</td>\n",
              "    </tr>\n",
              "    <tr>\n",
              "      <th>2</th>\n",
              "      <td>W_('corn',_'s2')</td>\n",
              "      <td>0</td>\n",
              "    </tr>\n",
              "    <tr>\n",
              "      <th>3</th>\n",
              "      <td>W_('corn',_'s3')</td>\n",
              "      <td>48</td>\n",
              "    </tr>\n",
              "    <tr>\n",
              "      <th>4</th>\n",
              "      <td>W_('sugar_over',_'s1')</td>\n",
              "      <td>0</td>\n",
              "    </tr>\n",
              "    <tr>\n",
              "      <th>5</th>\n",
              "      <td>W_('sugar_over',_'s2')</td>\n",
              "      <td>0</td>\n",
              "    </tr>\n",
              "    <tr>\n",
              "      <th>6</th>\n",
              "      <td>W_('sugar_over',_'s3')</td>\n",
              "      <td>0</td>\n",
              "    </tr>\n",
              "    <tr>\n",
              "      <th>7</th>\n",
              "      <td>W_('sugar_under',_'s1')</td>\n",
              "      <td>4000</td>\n",
              "    </tr>\n",
              "    <tr>\n",
              "      <th>8</th>\n",
              "      <td>W_('sugar_under',_'s2')</td>\n",
              "      <td>5000</td>\n",
              "    </tr>\n",
              "    <tr>\n",
              "      <th>9</th>\n",
              "      <td>W_('sugar_under',_'s3')</td>\n",
              "      <td>6000</td>\n",
              "    </tr>\n",
              "    <tr>\n",
              "      <th>10</th>\n",
              "      <td>W_('wheat',_'s1')</td>\n",
              "      <td>140</td>\n",
              "    </tr>\n",
              "    <tr>\n",
              "      <th>11</th>\n",
              "      <td>W_('wheat',_'s2')</td>\n",
              "      <td>225</td>\n",
              "    </tr>\n",
              "    <tr>\n",
              "      <th>12</th>\n",
              "      <td>W_('wheat',_'s3')</td>\n",
              "      <td>310</td>\n",
              "    </tr>\n",
              "    <tr>\n",
              "      <th>13</th>\n",
              "      <td>X_corn</td>\n",
              "      <td>80</td>\n",
              "    </tr>\n",
              "    <tr>\n",
              "      <th>14</th>\n",
              "      <td>X_sugar</td>\n",
              "      <td>250</td>\n",
              "    </tr>\n",
              "    <tr>\n",
              "      <th>15</th>\n",
              "      <td>X_wheat</td>\n",
              "      <td>170</td>\n",
              "    </tr>\n",
              "    <tr>\n",
              "      <th>16</th>\n",
              "      <td>y_('corn',_'s1')</td>\n",
              "      <td>48</td>\n",
              "    </tr>\n",
              "    <tr>\n",
              "      <th>17</th>\n",
              "      <td>y_('corn',_'s2')</td>\n",
              "      <td>0</td>\n",
              "    </tr>\n",
              "    <tr>\n",
              "      <th>18</th>\n",
              "      <td>y_('corn',_'s3')</td>\n",
              "      <td>0</td>\n",
              "    </tr>\n",
              "    <tr>\n",
              "      <th>19</th>\n",
              "      <td>y_('wheat',_'s1')</td>\n",
              "      <td>0</td>\n",
              "    </tr>\n",
              "    <tr>\n",
              "      <th>20</th>\n",
              "      <td>y_('wheat',_'s2')</td>\n",
              "      <td>0</td>\n",
              "    </tr>\n",
              "    <tr>\n",
              "      <th>21</th>\n",
              "      <td>y_('wheat',_'s3')</td>\n",
              "      <td>0</td>\n",
              "    </tr>\n",
              "  </tbody>\n",
              "</table>\n",
              "</div>\n",
              "      <button class=\"colab-df-convert\" onclick=\"convertToInteractive('df-2eb4672e-f036-4821-baf5-4a24d56075a3')\"\n",
              "              title=\"Convert this dataframe to an interactive table.\"\n",
              "              style=\"display:none;\">\n",
              "        \n",
              "  <svg xmlns=\"http://www.w3.org/2000/svg\" height=\"24px\"viewBox=\"0 0 24 24\"\n",
              "       width=\"24px\">\n",
              "    <path d=\"M0 0h24v24H0V0z\" fill=\"none\"/>\n",
              "    <path d=\"M18.56 5.44l.94 2.06.94-2.06 2.06-.94-2.06-.94-.94-2.06-.94 2.06-2.06.94zm-11 1L8.5 8.5l.94-2.06 2.06-.94-2.06-.94L8.5 2.5l-.94 2.06-2.06.94zm10 10l.94 2.06.94-2.06 2.06-.94-2.06-.94-.94-2.06-.94 2.06-2.06.94z\"/><path d=\"M17.41 7.96l-1.37-1.37c-.4-.4-.92-.59-1.43-.59-.52 0-1.04.2-1.43.59L10.3 9.45l-7.72 7.72c-.78.78-.78 2.05 0 2.83L4 21.41c.39.39.9.59 1.41.59.51 0 1.02-.2 1.41-.59l7.78-7.78 2.81-2.81c.8-.78.8-2.07 0-2.86zM5.41 20L4 18.59l7.72-7.72 1.47 1.35L5.41 20z\"/>\n",
              "  </svg>\n",
              "      </button>\n",
              "      \n",
              "  <style>\n",
              "    .colab-df-container {\n",
              "      display:flex;\n",
              "      flex-wrap:wrap;\n",
              "      gap: 12px;\n",
              "    }\n",
              "\n",
              "    .colab-df-convert {\n",
              "      background-color: #E8F0FE;\n",
              "      border: none;\n",
              "      border-radius: 50%;\n",
              "      cursor: pointer;\n",
              "      display: none;\n",
              "      fill: #1967D2;\n",
              "      height: 32px;\n",
              "      padding: 0 0 0 0;\n",
              "      width: 32px;\n",
              "    }\n",
              "\n",
              "    .colab-df-convert:hover {\n",
              "      background-color: #E2EBFA;\n",
              "      box-shadow: 0px 1px 2px rgba(60, 64, 67, 0.3), 0px 1px 3px 1px rgba(60, 64, 67, 0.15);\n",
              "      fill: #174EA6;\n",
              "    }\n",
              "\n",
              "    [theme=dark] .colab-df-convert {\n",
              "      background-color: #3B4455;\n",
              "      fill: #D2E3FC;\n",
              "    }\n",
              "\n",
              "    [theme=dark] .colab-df-convert:hover {\n",
              "      background-color: #434B5C;\n",
              "      box-shadow: 0px 1px 3px 1px rgba(0, 0, 0, 0.15);\n",
              "      filter: drop-shadow(0px 1px 2px rgba(0, 0, 0, 0.3));\n",
              "      fill: #FFFFFF;\n",
              "    }\n",
              "  </style>\n",
              "\n",
              "      <script>\n",
              "        const buttonEl =\n",
              "          document.querySelector('#df-2eb4672e-f036-4821-baf5-4a24d56075a3 button.colab-df-convert');\n",
              "        buttonEl.style.display =\n",
              "          google.colab.kernel.accessAllowed ? 'block' : 'none';\n",
              "\n",
              "        async function convertToInteractive(key) {\n",
              "          const element = document.querySelector('#df-2eb4672e-f036-4821-baf5-4a24d56075a3');\n",
              "          const dataTable =\n",
              "            await google.colab.kernel.invokeFunction('convertToInteractive',\n",
              "                                                     [key], {});\n",
              "          if (!dataTable) return;\n",
              "\n",
              "          const docLinkHtml = 'Like what you see? Visit the ' +\n",
              "            '<a target=\"_blank\" href=https://colab.research.google.com/notebooks/data_table.ipynb>data table notebook</a>'\n",
              "            + ' to learn more about interactive tables.';\n",
              "          element.innerHTML = '';\n",
              "          dataTable['output_type'] = 'display_data';\n",
              "          await google.colab.output.renderOutput(dataTable, element);\n",
              "          const docLink = document.createElement('div');\n",
              "          docLink.innerHTML = docLinkHtml;\n",
              "          element.appendChild(docLink);\n",
              "        }\n",
              "      </script>\n",
              "    </div>\n",
              "  </div>\n",
              "  "
            ]
          },
          "metadata": {},
          "execution_count": 9
        }
      ]
    },
    {
      "cell_type": "code",
      "source": [
        "print('Current Status: ', LpStatus[Model.status])"
      ],
      "metadata": {
        "colab": {
          "base_uri": "https://localhost:8080/"
        },
        "id": "k-tVF_Xq2XRV",
        "outputId": "e13fb363-d242-4501-e9ac-a367bb31e0d6"
      },
      "execution_count": 10,
      "outputs": [
        {
          "output_type": "stream",
          "name": "stdout",
          "text": [
            "Current Status:  Optimal\n"
          ]
        }
      ]
    }
  ]
}