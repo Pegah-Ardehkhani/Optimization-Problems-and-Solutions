{
  "nbformat": 4,
  "nbformat_minor": 0,
  "metadata": {
    "colab": {
      "provenance": []
    },
    "kernelspec": {
      "name": "python3",
      "display_name": "Python 3"
    },
    "language_info": {
      "name": "python"
    }
  },
  "cells": [
    {
      "cell_type": "markdown",
      "source": [
        "# **Travelling Salesman Problem (TSP):**"
      ],
      "metadata": {
        "id": "IpB5VZyqe8LC"
      }
    },
    {
      "cell_type": "markdown",
      "source": [
        "**Problem Statement:**\n",
        "\n",
        "Given a set of cities and the distance between every pair of cities, the problem is to find the shortest possible route that visits every city exactly once and returns to the starting point.\n"
      ],
      "metadata": {
        "id": "MPij-Pc2fDRx"
      }
    },
    {
      "cell_type": "markdown",
      "source": [
        "**General Modeling:**\n",
        "\n",
        "$\\\\ $\n",
        "\n",
        "$Objective\\ Function:\\\\ $\n",
        "\n",
        "$Min: Z = \\sum_{i=1}^{n} \\sum_{j=1, j \\neq i}^{n} c_{ij} \\cdot x_{ij}$\n",
        "\n",
        "$\\\\ $\n",
        "\n",
        "$Constraints:\\\\ $\n",
        "\n",
        "\n",
        "$\\sum_{j=1, j \\neq i}^{n} x_{ij} = 1$ for all $i = 1$ to $n$\n",
        "\n",
        "$\\sum_{i=1, i \\neq j}^{n} x_{ij} = 1$ for all $j = 1$ to $n$\n",
        "\n",
        "$x_{ij} = 0$ or $1$"
      ],
      "metadata": {
        "id": "7Dzgvu8BgmZd"
      }
    },
    {
      "cell_type": "markdown",
      "source": [
        "Suppose we have 4 cities: A, B, C, and D, with the following distances (in arbitrary units):\n",
        "\n",
        "•\tDistance from A to B: 10\n",
        "\n",
        "•\tDistance from A to C: 15\n",
        "\n",
        "•\tDistance from A to D: 20\n",
        "\n",
        "•\tDistance from B to C: 35\n",
        "\n",
        "•\tDistance from B to D: 25\n",
        "\n",
        "•\tDistance from C to D: 30\n",
        "\n",
        "We want to find the shortest tour that starts at one of the cities, visits each city exactly once, and returns to the starting city."
      ],
      "metadata": {
        "id": "xHb3tMnghEq7"
      }
    },
    {
      "cell_type": "code",
      "execution_count": 1,
      "metadata": {
        "colab": {
          "base_uri": "https://localhost:8080/"
        },
        "id": "ou1GA2_5e2YW",
        "outputId": "e6aedd9a-440e-44e0-a065-4a29d5780567"
      },
      "outputs": [
        {
          "output_type": "stream",
          "name": "stdout",
          "text": [
            "Requirement already satisfied: pulp in /usr/local/lib/python3.10/dist-packages (2.7.0)\n"
          ]
        }
      ],
      "source": [
        "!pip install pulp\n",
        "from pulp import *\n",
        "import numpy as np\n",
        "import pandas as pd"
      ]
    },
    {
      "cell_type": "code",
      "source": [
        "#Defining the Problem\n",
        "\n",
        "#List of cities\n",
        "cities = ['A', 'B', 'C', 'D']\n",
        "\n",
        "#Distance matrix (dictionary) with distances between cities\n",
        "distances = {\n",
        "    ('A', 'B'): 10,\n",
        "    ('B', 'A'): 10,  # Add the reverse direction\n",
        "    ('A', 'C'): 15,\n",
        "    ('C', 'A'): 15,  # Add the reverse direction\n",
        "    ('A', 'D'): 20,\n",
        "    ('D', 'A'): 20,  # Add the reverse direction\n",
        "    ('B', 'C'): 35,\n",
        "    ('C', 'B'): 35,  # Add the reverse direction\n",
        "    ('B', 'D'): 25,\n",
        "    ('D', 'B'): 25,  # Add the reverse direction\n",
        "    ('C', 'D'): 30,\n",
        "    ('D', 'C'): 30,  # Add the reverse direction\n",
        "}"
      ],
      "metadata": {
        "id": "lSU4CDVngtkI"
      },
      "execution_count": 2,
      "outputs": []
    },
    {
      "cell_type": "code",
      "source": [
        "#Defining Variables\n",
        "\n",
        "x = {}\n",
        "for city1 in cities:\n",
        "    for city2 in cities:\n",
        "        if city1 != city2:\n",
        "            x[(city1, city2)] = LpVariable(f\"x_{city1}_{city2}\",  cat='Binary')"
      ],
      "metadata": {
        "id": "AFZSE5lNhSsI"
      },
      "execution_count": 3,
      "outputs": []
    },
    {
      "cell_type": "code",
      "source": [
        "#Defining Objective Function\n",
        "\n",
        "tsp = LpProblem('TSP', LpMinimize)\n",
        "tsp += lpSum(distances[(city1, city2)] * x[(city1, city2)] + distances[(city2, city1)] * x[(city2, city1)]\n",
        "             for city1 in cities for city2 in cities if city1 != city2)"
      ],
      "metadata": {
        "id": "WA2bGowphtMu"
      },
      "execution_count": 4,
      "outputs": []
    },
    {
      "cell_type": "code",
      "source": [
        "#Constraints\n",
        "\n",
        "for city in cities:\n",
        "    tsp += lpSum(x[(city1, city)] for city1 in cities if city1 != city) == 1\n",
        "    tsp += lpSum(x[(city, city2)] for city2 in cities if city2 != city) == 1"
      ],
      "metadata": {
        "id": "oF_j0cC2iCDb"
      },
      "execution_count": 5,
      "outputs": []
    },
    {
      "cell_type": "code",
      "source": [
        "#Model summary\n",
        "\n",
        "tsp"
      ],
      "metadata": {
        "colab": {
          "base_uri": "https://localhost:8080/"
        },
        "id": "V3unGnIniSoG",
        "outputId": "15a58ea1-d237-490a-ca64-5ed9b56f9da6"
      },
      "execution_count": 6,
      "outputs": [
        {
          "output_type": "execute_result",
          "data": {
            "text/plain": [
              "TSP:\n",
              "MINIMIZE\n",
              "20*x_A_B + 30*x_A_C + 40*x_A_D + 20*x_B_A + 70*x_B_C + 50*x_B_D + 30*x_C_A + 70*x_C_B + 60*x_C_D + 40*x_D_A + 50*x_D_B + 60*x_D_C + 0\n",
              "SUBJECT TO\n",
              "_C1: x_B_A + x_C_A + x_D_A = 1\n",
              "\n",
              "_C2: x_A_B + x_A_C + x_A_D = 1\n",
              "\n",
              "_C3: x_A_B + x_C_B + x_D_B = 1\n",
              "\n",
              "_C4: x_B_A + x_B_C + x_B_D = 1\n",
              "\n",
              "_C5: x_A_C + x_B_C + x_D_C = 1\n",
              "\n",
              "_C6: x_C_A + x_C_B + x_C_D = 1\n",
              "\n",
              "_C7: x_A_D + x_B_D + x_C_D = 1\n",
              "\n",
              "_C8: x_D_A + x_D_B + x_D_C = 1\n",
              "\n",
              "VARIABLES\n",
              "0 <= x_A_B <= 1 Integer\n",
              "0 <= x_A_C <= 1 Integer\n",
              "0 <= x_A_D <= 1 Integer\n",
              "0 <= x_B_A <= 1 Integer\n",
              "0 <= x_B_C <= 1 Integer\n",
              "0 <= x_B_D <= 1 Integer\n",
              "0 <= x_C_A <= 1 Integer\n",
              "0 <= x_C_B <= 1 Integer\n",
              "0 <= x_C_D <= 1 Integer\n",
              "0 <= x_D_A <= 1 Integer\n",
              "0 <= x_D_B <= 1 Integer\n",
              "0 <= x_D_C <= 1 Integer"
            ]
          },
          "metadata": {},
          "execution_count": 6
        }
      ]
    },
    {
      "cell_type": "code",
      "source": [
        "#Solving model\n",
        "\n",
        "tsp.solve()\n",
        "print('Optimal Solution:', pulp.value(tsp.objective))"
      ],
      "metadata": {
        "colab": {
          "base_uri": "https://localhost:8080/"
        },
        "id": "UGAHVR-Pi0iH",
        "outputId": "0bcd8a5b-2d0a-4f18-f81f-4e48ee24fc84"
      },
      "execution_count": 11,
      "outputs": [
        {
          "output_type": "stream",
          "name": "stdout",
          "text": [
            "Optimal Solution: 160.0\n"
          ]
        }
      ]
    },
    {
      "cell_type": "code",
      "source": [
        "#Optimal values of variables\n",
        "\n",
        "for variables in tsp.variables():\n",
        "  print('{}:{}'.format(variables.name, variables.varValue))"
      ],
      "metadata": {
        "colab": {
          "base_uri": "https://localhost:8080/"
        },
        "id": "wMh5TmdpjZb3",
        "outputId": "bda8b771-b8cb-4732-b70a-3c890cfd612e"
      },
      "execution_count": 8,
      "outputs": [
        {
          "output_type": "stream",
          "name": "stdout",
          "text": [
            "x_A_B:0.0\n",
            "x_A_C:1.0\n",
            "x_A_D:0.0\n",
            "x_B_A:1.0\n",
            "x_B_C:0.0\n",
            "x_B_D:0.0\n",
            "x_C_A:0.0\n",
            "x_C_B:0.0\n",
            "x_C_D:1.0\n",
            "x_D_A:0.0\n",
            "x_D_B:1.0\n",
            "x_D_C:0.0\n"
          ]
        }
      ]
    },
    {
      "cell_type": "code",
      "source": [
        "VNames = []\n",
        "for variables in tsp.variables():\n",
        "  VNames.append(variables.name)\n",
        "\n",
        "VValue = []\n",
        "for variables in tsp.variables():\n",
        "  VValue.append(int(variables.varValue))\n",
        "\n",
        "data = {'Variables': VNames, 'Value': VValue}\n",
        "pd.DataFrame(data, index = range(1, len(VValue)+1))"
      ],
      "metadata": {
        "colab": {
          "base_uri": "https://localhost:8080/",
          "height": 426
        },
        "id": "rwiR-OCmkRjS",
        "outputId": "f03de7ce-f958-42dc-bcc3-627c20088a6e"
      },
      "execution_count": 10,
      "outputs": [
        {
          "output_type": "execute_result",
          "data": {
            "text/plain": [
              "   Variables  Value\n",
              "1      x_A_B      0\n",
              "2      x_A_C      1\n",
              "3      x_A_D      0\n",
              "4      x_B_A      1\n",
              "5      x_B_C      0\n",
              "6      x_B_D      0\n",
              "7      x_C_A      0\n",
              "8      x_C_B      0\n",
              "9      x_C_D      1\n",
              "10     x_D_A      0\n",
              "11     x_D_B      1\n",
              "12     x_D_C      0"
            ],
            "text/html": [
              "\n",
              "  <div id=\"df-1fa8c164-99d8-4ee1-a6d8-72543cd6b9a7\" class=\"colab-df-container\">\n",
              "    <div>\n",
              "<style scoped>\n",
              "    .dataframe tbody tr th:only-of-type {\n",
              "        vertical-align: middle;\n",
              "    }\n",
              "\n",
              "    .dataframe tbody tr th {\n",
              "        vertical-align: top;\n",
              "    }\n",
              "\n",
              "    .dataframe thead th {\n",
              "        text-align: right;\n",
              "    }\n",
              "</style>\n",
              "<table border=\"1\" class=\"dataframe\">\n",
              "  <thead>\n",
              "    <tr style=\"text-align: right;\">\n",
              "      <th></th>\n",
              "      <th>Variables</th>\n",
              "      <th>Value</th>\n",
              "    </tr>\n",
              "  </thead>\n",
              "  <tbody>\n",
              "    <tr>\n",
              "      <th>1</th>\n",
              "      <td>x_A_B</td>\n",
              "      <td>0</td>\n",
              "    </tr>\n",
              "    <tr>\n",
              "      <th>2</th>\n",
              "      <td>x_A_C</td>\n",
              "      <td>1</td>\n",
              "    </tr>\n",
              "    <tr>\n",
              "      <th>3</th>\n",
              "      <td>x_A_D</td>\n",
              "      <td>0</td>\n",
              "    </tr>\n",
              "    <tr>\n",
              "      <th>4</th>\n",
              "      <td>x_B_A</td>\n",
              "      <td>1</td>\n",
              "    </tr>\n",
              "    <tr>\n",
              "      <th>5</th>\n",
              "      <td>x_B_C</td>\n",
              "      <td>0</td>\n",
              "    </tr>\n",
              "    <tr>\n",
              "      <th>6</th>\n",
              "      <td>x_B_D</td>\n",
              "      <td>0</td>\n",
              "    </tr>\n",
              "    <tr>\n",
              "      <th>7</th>\n",
              "      <td>x_C_A</td>\n",
              "      <td>0</td>\n",
              "    </tr>\n",
              "    <tr>\n",
              "      <th>8</th>\n",
              "      <td>x_C_B</td>\n",
              "      <td>0</td>\n",
              "    </tr>\n",
              "    <tr>\n",
              "      <th>9</th>\n",
              "      <td>x_C_D</td>\n",
              "      <td>1</td>\n",
              "    </tr>\n",
              "    <tr>\n",
              "      <th>10</th>\n",
              "      <td>x_D_A</td>\n",
              "      <td>0</td>\n",
              "    </tr>\n",
              "    <tr>\n",
              "      <th>11</th>\n",
              "      <td>x_D_B</td>\n",
              "      <td>1</td>\n",
              "    </tr>\n",
              "    <tr>\n",
              "      <th>12</th>\n",
              "      <td>x_D_C</td>\n",
              "      <td>0</td>\n",
              "    </tr>\n",
              "  </tbody>\n",
              "</table>\n",
              "</div>\n",
              "    <div class=\"colab-df-buttons\">\n",
              "\n",
              "  <div class=\"colab-df-container\">\n",
              "    <button class=\"colab-df-convert\" onclick=\"convertToInteractive('df-1fa8c164-99d8-4ee1-a6d8-72543cd6b9a7')\"\n",
              "            title=\"Convert this dataframe to an interactive table.\"\n",
              "            style=\"display:none;\">\n",
              "\n",
              "  <svg xmlns=\"http://www.w3.org/2000/svg\" height=\"24px\" viewBox=\"0 -960 960 960\">\n",
              "    <path d=\"M120-120v-720h720v720H120Zm60-500h600v-160H180v160Zm220 220h160v-160H400v160Zm0 220h160v-160H400v160ZM180-400h160v-160H180v160Zm440 0h160v-160H620v160ZM180-180h160v-160H180v160Zm440 0h160v-160H620v160Z\"/>\n",
              "  </svg>\n",
              "    </button>\n",
              "\n",
              "  <style>\n",
              "    .colab-df-container {\n",
              "      display:flex;\n",
              "      gap: 12px;\n",
              "    }\n",
              "\n",
              "    .colab-df-convert {\n",
              "      background-color: #E8F0FE;\n",
              "      border: none;\n",
              "      border-radius: 50%;\n",
              "      cursor: pointer;\n",
              "      display: none;\n",
              "      fill: #1967D2;\n",
              "      height: 32px;\n",
              "      padding: 0 0 0 0;\n",
              "      width: 32px;\n",
              "    }\n",
              "\n",
              "    .colab-df-convert:hover {\n",
              "      background-color: #E2EBFA;\n",
              "      box-shadow: 0px 1px 2px rgba(60, 64, 67, 0.3), 0px 1px 3px 1px rgba(60, 64, 67, 0.15);\n",
              "      fill: #174EA6;\n",
              "    }\n",
              "\n",
              "    .colab-df-buttons div {\n",
              "      margin-bottom: 4px;\n",
              "    }\n",
              "\n",
              "    [theme=dark] .colab-df-convert {\n",
              "      background-color: #3B4455;\n",
              "      fill: #D2E3FC;\n",
              "    }\n",
              "\n",
              "    [theme=dark] .colab-df-convert:hover {\n",
              "      background-color: #434B5C;\n",
              "      box-shadow: 0px 1px 3px 1px rgba(0, 0, 0, 0.15);\n",
              "      filter: drop-shadow(0px 1px 2px rgba(0, 0, 0, 0.3));\n",
              "      fill: #FFFFFF;\n",
              "    }\n",
              "  </style>\n",
              "\n",
              "    <script>\n",
              "      const buttonEl =\n",
              "        document.querySelector('#df-1fa8c164-99d8-4ee1-a6d8-72543cd6b9a7 button.colab-df-convert');\n",
              "      buttonEl.style.display =\n",
              "        google.colab.kernel.accessAllowed ? 'block' : 'none';\n",
              "\n",
              "      async function convertToInteractive(key) {\n",
              "        const element = document.querySelector('#df-1fa8c164-99d8-4ee1-a6d8-72543cd6b9a7');\n",
              "        const dataTable =\n",
              "          await google.colab.kernel.invokeFunction('convertToInteractive',\n",
              "                                                    [key], {});\n",
              "        if (!dataTable) return;\n",
              "\n",
              "        const docLinkHtml = 'Like what you see? Visit the ' +\n",
              "          '<a target=\"_blank\" href=https://colab.research.google.com/notebooks/data_table.ipynb>data table notebook</a>'\n",
              "          + ' to learn more about interactive tables.';\n",
              "        element.innerHTML = '';\n",
              "        dataTable['output_type'] = 'display_data';\n",
              "        await google.colab.output.renderOutput(dataTable, element);\n",
              "        const docLink = document.createElement('div');\n",
              "        docLink.innerHTML = docLinkHtml;\n",
              "        element.appendChild(docLink);\n",
              "      }\n",
              "    </script>\n",
              "  </div>\n",
              "\n",
              "\n",
              "<div id=\"df-9138605a-0f00-447e-aa39-cbb9e4c0089c\">\n",
              "  <button class=\"colab-df-quickchart\" onclick=\"quickchart('df-9138605a-0f00-447e-aa39-cbb9e4c0089c')\"\n",
              "            title=\"Suggest charts.\"\n",
              "            style=\"display:none;\">\n",
              "\n",
              "<svg xmlns=\"http://www.w3.org/2000/svg\" height=\"24px\"viewBox=\"0 0 24 24\"\n",
              "     width=\"24px\">\n",
              "    <g>\n",
              "        <path d=\"M19 3H5c-1.1 0-2 .9-2 2v14c0 1.1.9 2 2 2h14c1.1 0 2-.9 2-2V5c0-1.1-.9-2-2-2zM9 17H7v-7h2v7zm4 0h-2V7h2v10zm4 0h-2v-4h2v4z\"/>\n",
              "    </g>\n",
              "</svg>\n",
              "  </button>\n",
              "\n",
              "<style>\n",
              "  .colab-df-quickchart {\n",
              "      --bg-color: #E8F0FE;\n",
              "      --fill-color: #1967D2;\n",
              "      --hover-bg-color: #E2EBFA;\n",
              "      --hover-fill-color: #174EA6;\n",
              "      --disabled-fill-color: #AAA;\n",
              "      --disabled-bg-color: #DDD;\n",
              "  }\n",
              "\n",
              "  [theme=dark] .colab-df-quickchart {\n",
              "      --bg-color: #3B4455;\n",
              "      --fill-color: #D2E3FC;\n",
              "      --hover-bg-color: #434B5C;\n",
              "      --hover-fill-color: #FFFFFF;\n",
              "      --disabled-bg-color: #3B4455;\n",
              "      --disabled-fill-color: #666;\n",
              "  }\n",
              "\n",
              "  .colab-df-quickchart {\n",
              "    background-color: var(--bg-color);\n",
              "    border: none;\n",
              "    border-radius: 50%;\n",
              "    cursor: pointer;\n",
              "    display: none;\n",
              "    fill: var(--fill-color);\n",
              "    height: 32px;\n",
              "    padding: 0;\n",
              "    width: 32px;\n",
              "  }\n",
              "\n",
              "  .colab-df-quickchart:hover {\n",
              "    background-color: var(--hover-bg-color);\n",
              "    box-shadow: 0 1px 2px rgba(60, 64, 67, 0.3), 0 1px 3px 1px rgba(60, 64, 67, 0.15);\n",
              "    fill: var(--button-hover-fill-color);\n",
              "  }\n",
              "\n",
              "  .colab-df-quickchart-complete:disabled,\n",
              "  .colab-df-quickchart-complete:disabled:hover {\n",
              "    background-color: var(--disabled-bg-color);\n",
              "    fill: var(--disabled-fill-color);\n",
              "    box-shadow: none;\n",
              "  }\n",
              "\n",
              "  .colab-df-spinner {\n",
              "    border: 2px solid var(--fill-color);\n",
              "    border-color: transparent;\n",
              "    border-bottom-color: var(--fill-color);\n",
              "    animation:\n",
              "      spin 1s steps(1) infinite;\n",
              "  }\n",
              "\n",
              "  @keyframes spin {\n",
              "    0% {\n",
              "      border-color: transparent;\n",
              "      border-bottom-color: var(--fill-color);\n",
              "      border-left-color: var(--fill-color);\n",
              "    }\n",
              "    20% {\n",
              "      border-color: transparent;\n",
              "      border-left-color: var(--fill-color);\n",
              "      border-top-color: var(--fill-color);\n",
              "    }\n",
              "    30% {\n",
              "      border-color: transparent;\n",
              "      border-left-color: var(--fill-color);\n",
              "      border-top-color: var(--fill-color);\n",
              "      border-right-color: var(--fill-color);\n",
              "    }\n",
              "    40% {\n",
              "      border-color: transparent;\n",
              "      border-right-color: var(--fill-color);\n",
              "      border-top-color: var(--fill-color);\n",
              "    }\n",
              "    60% {\n",
              "      border-color: transparent;\n",
              "      border-right-color: var(--fill-color);\n",
              "    }\n",
              "    80% {\n",
              "      border-color: transparent;\n",
              "      border-right-color: var(--fill-color);\n",
              "      border-bottom-color: var(--fill-color);\n",
              "    }\n",
              "    90% {\n",
              "      border-color: transparent;\n",
              "      border-bottom-color: var(--fill-color);\n",
              "    }\n",
              "  }\n",
              "</style>\n",
              "\n",
              "  <script>\n",
              "    async function quickchart(key) {\n",
              "      const quickchartButtonEl =\n",
              "        document.querySelector('#' + key + ' button');\n",
              "      quickchartButtonEl.disabled = true;  // To prevent multiple clicks.\n",
              "      quickchartButtonEl.classList.add('colab-df-spinner');\n",
              "      try {\n",
              "        const charts = await google.colab.kernel.invokeFunction(\n",
              "            'suggestCharts', [key], {});\n",
              "      } catch (error) {\n",
              "        console.error('Error during call to suggestCharts:', error);\n",
              "      }\n",
              "      quickchartButtonEl.classList.remove('colab-df-spinner');\n",
              "      quickchartButtonEl.classList.add('colab-df-quickchart-complete');\n",
              "    }\n",
              "    (() => {\n",
              "      let quickchartButtonEl =\n",
              "        document.querySelector('#df-9138605a-0f00-447e-aa39-cbb9e4c0089c button');\n",
              "      quickchartButtonEl.style.display =\n",
              "        google.colab.kernel.accessAllowed ? 'block' : 'none';\n",
              "    })();\n",
              "  </script>\n",
              "</div>\n",
              "    </div>\n",
              "  </div>\n"
            ]
          },
          "metadata": {},
          "execution_count": 10
        }
      ]
    },
    {
      "cell_type": "code",
      "source": [
        "print('Current Status: ', LpStatus[tsp.status])"
      ],
      "metadata": {
        "colab": {
          "base_uri": "https://localhost:8080/"
        },
        "id": "BsFISD8Skcn-",
        "outputId": "34a3daf8-fea4-4364-cf61-412de728764b"
      },
      "execution_count": 12,
      "outputs": [
        {
          "output_type": "stream",
          "name": "stdout",
          "text": [
            "Current Status:  Optimal\n"
          ]
        }
      ]
    }
  ]
}