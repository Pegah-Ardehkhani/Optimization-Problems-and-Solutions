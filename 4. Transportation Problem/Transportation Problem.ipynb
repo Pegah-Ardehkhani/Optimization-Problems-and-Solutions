{
  "nbformat": 4,
  "nbformat_minor": 0,
  "metadata": {
    "colab": {
      "provenance": []
    },
    "kernelspec": {
      "name": "python3",
      "display_name": "Python 3"
    },
    "language_info": {
      "name": "python"
    }
  },
  "cells": [
    {
      "cell_type": "markdown",
      "source": [
        "# **Transportation Problem:**"
      ],
      "metadata": {
        "id": "v35bJhl18xXI"
      }
    },
    {
      "cell_type": "markdown",
      "source": [
        "**Problem Statement:**\n",
        "\n",
        "You are managing the distribution of goods from multiple suppliers to multiple consumers. Each supplier has a certain quantity of goods available for distribution, and each consumer has a certain demand for these goods. The goal is to determine the most cost-effective way to transport the goods from suppliers to consumers while minimizing transportation costs.\n",
        "\n",
        "Details:\n",
        "\n",
        "There are two suppliers: $S_1$ and $S_2$.\n",
        "\n",
        "There are three consumers: $C_1$, $C_2$, and $C_3$.\n",
        "\n",
        "The cost of shipping one unit of goods from each supplier to each consumer is given as follows:\n",
        "\n",
        "From $S_1$ to $C_1$: $3 per unit\n",
        "\n",
        "From $S_1$ to $C_2$: $2 per unit\n",
        "\n",
        "From $S_1$ to $C_3$: $7 per unit\n",
        "\n",
        "From $S_2$ to $C_1$: $2 per unit\n",
        "\n",
        "From $S_2$ to $C_2$: $5 per unit\n",
        "\n",
        "From $S_2$ to $C_3$: $1 per unit\n",
        "\n",
        "The supply available from each supplier is as follows:\n",
        "\n",
        "$S_1$ has $10$ units available.\n",
        "$S_2$ has $20$ units available.\n",
        "\n",
        "The demand from each consumer is as follows:\n",
        "\n",
        "$C_1$ requires $15$ units.\n",
        "\n",
        "$C_2$ requires $10$ units.\n",
        "\n",
        "$C_3$ requires $5$ units.\n",
        "\n",
        "Your task is to determine how many units to ship from each supplier to each consumer to meet the demand while minimizing the total transportation cost. Use linear programming to find the optimal shipment quantities.\n",
        "\n",
        "\n",
        "\n",
        "\n",
        "\n"
      ],
      "metadata": {
        "id": "3jul3gFp88kO"
      }
    },
    {
      "cell_type": "markdown",
      "source": [
        "**Modeling:**\n",
        "\n"
      ],
      "metadata": {
        "id": "N-IMfOEP-PtT"
      }
    },
    {
      "cell_type": "code",
      "execution_count": 1,
      "metadata": {
        "colab": {
          "base_uri": "https://localhost:8080/"
        },
        "id": "rv_IBSTu8r1Q",
        "outputId": "be4090b8-109d-4ce0-b710-c0dab6d17b07"
      },
      "outputs": [
        {
          "output_type": "stream",
          "name": "stdout",
          "text": [
            "Requirement already satisfied: pulp in /usr/local/lib/python3.10/dist-packages (2.7.0)\n"
          ]
        }
      ],
      "source": [
        "!pip install pulp\n",
        "from pulp import *\n",
        "import numpy as np\n",
        "import pandas as pd"
      ]
    },
    {
      "cell_type": "code",
      "source": [
        "#Defining the problem\n",
        "\n",
        "costs = {(\"S1\", \"C1\"): 3, (\"S1\", \"C2\"): 2, (\"S1\", \"C3\"): 7, (\"S2\", \"C1\"): 2, (\"S2\", \"C2\"): 5, (\"S2\", \"C3\"): 1}\n",
        "supply = {\"S1\": 10, \"S2\": 20}\n",
        "demand = {\"C1\": 15, \"C2\": 10, \"C3\": 5}"
      ],
      "metadata": {
        "id": "QUQ2OcsW-X4d"
      },
      "execution_count": 2,
      "outputs": []
    },
    {
      "cell_type": "code",
      "source": [
        "#Defining variables\n",
        "\n",
        "x = {}\n",
        "for supplier in [\"S1\", \"S2\"]:\n",
        "    for consumer in [\"C1\", \"C2\", \"C3\"]:\n",
        "        x[(supplier, consumer)] = pulp.LpVariable(f\"shipment_{supplier}_{consumer}\", lowBound=0, cat=\"Continuous\")"
      ],
      "metadata": {
        "id": "LBZq_4uY-vJQ"
      },
      "execution_count": 3,
      "outputs": []
    },
    {
      "cell_type": "code",
      "source": [
        "#Defining Objective Function\n",
        "\n",
        "Model = LpProblem(\"Transportation_Problem\", LpMinimize)\n",
        "Model += sum(x[(supplier, consumer)] * costs[(supplier, consumer)] for supplier in [\"S1\", \"S2\"] for consumer in [\"C1\", \"C2\", \"C3\"])"
      ],
      "metadata": {
        "id": "H9VhlWKU-vL0"
      },
      "execution_count": 4,
      "outputs": []
    },
    {
      "cell_type": "code",
      "source": [
        "#Constraints\n",
        "\n",
        "#Define supply constraints\n",
        "for supplier in [\"S1\", \"S2\"]:\n",
        "    Model += sum(x[(supplier, consumer)] for consumer in [\"C1\", \"C2\", \"C3\"]) == supply[supplier]\n",
        "\n",
        "#Define demand constraints\n",
        "for consumer in [\"C1\", \"C2\", \"C3\"]:\n",
        "    Model += sum(x[(supplier, consumer)] for supplier in [\"S1\", \"S2\"]) == demand[consumer]"
      ],
      "metadata": {
        "id": "TGgwuLuF_Wvf"
      },
      "execution_count": 5,
      "outputs": []
    },
    {
      "cell_type": "code",
      "source": [
        "#Model summary\n",
        "\n",
        "Model"
      ],
      "metadata": {
        "colab": {
          "base_uri": "https://localhost:8080/"
        },
        "id": "cupYvCFx_u3I",
        "outputId": "a9f2f8fd-14aa-471a-fc71-90e0a4e0a349"
      },
      "execution_count": 6,
      "outputs": [
        {
          "output_type": "execute_result",
          "data": {
            "text/plain": [
              "Transportation_Problem:\n",
              "MINIMIZE\n",
              "3*shipment_S1_C1 + 2*shipment_S1_C2 + 7*shipment_S1_C3 + 2*shipment_S2_C1 + 5*shipment_S2_C2 + 1*shipment_S2_C3 + 0\n",
              "SUBJECT TO\n",
              "_C1: shipment_S1_C1 + shipment_S1_C2 + shipment_S1_C3 = 10\n",
              "\n",
              "_C2: shipment_S2_C1 + shipment_S2_C2 + shipment_S2_C3 = 20\n",
              "\n",
              "_C3: shipment_S1_C1 + shipment_S2_C1 = 15\n",
              "\n",
              "_C4: shipment_S1_C2 + shipment_S2_C2 = 10\n",
              "\n",
              "_C5: shipment_S1_C3 + shipment_S2_C3 = 5\n",
              "\n",
              "VARIABLES\n",
              "shipment_S1_C1 Continuous\n",
              "shipment_S1_C2 Continuous\n",
              "shipment_S1_C3 Continuous\n",
              "shipment_S2_C1 Continuous\n",
              "shipment_S2_C2 Continuous\n",
              "shipment_S2_C3 Continuous"
            ]
          },
          "metadata": {},
          "execution_count": 6
        }
      ]
    },
    {
      "cell_type": "code",
      "source": [
        "#Solving model\n",
        "\n",
        "Model.solve()\n",
        "print('Optimal Solution:', pulp.value(Model.objective))"
      ],
      "metadata": {
        "colab": {
          "base_uri": "https://localhost:8080/"
        },
        "id": "b7QwAcmyAS7B",
        "outputId": "68cbe71c-c31d-4b89-f905-2ccd418a9e18"
      },
      "execution_count": 7,
      "outputs": [
        {
          "output_type": "stream",
          "name": "stdout",
          "text": [
            "Optimal Solution: 55.0\n"
          ]
        }
      ]
    },
    {
      "cell_type": "code",
      "source": [
        "#Optimal values of variables\n",
        "\n",
        "for variables in Model.variables():\n",
        "  print('{}:{}'.format(variables.name, variables.varValue))"
      ],
      "metadata": {
        "colab": {
          "base_uri": "https://localhost:8080/"
        },
        "id": "hgS1Y2kMAYjR",
        "outputId": "c8bf5f61-cb3f-4112-c229-6a74bfbf5a4c"
      },
      "execution_count": 8,
      "outputs": [
        {
          "output_type": "stream",
          "name": "stdout",
          "text": [
            "shipment_S1_C1:0.0\n",
            "shipment_S1_C2:10.0\n",
            "shipment_S1_C3:0.0\n",
            "shipment_S2_C1:15.0\n",
            "shipment_S2_C2:0.0\n",
            "shipment_S2_C3:5.0\n"
          ]
        }
      ]
    },
    {
      "cell_type": "code",
      "source": [
        "VNames = []\n",
        "for variables in Model.variables():\n",
        "  VNames.append(variables.name)\n",
        "\n",
        "VValue = []\n",
        "for variables in Model.variables():\n",
        "  VValue.append(int(variables.varValue))\n",
        "\n",
        "data = {'Variables': VNames, 'Value': VValue}\n",
        "pd.DataFrame(data, index = range(1, len(VValue)+1))"
      ],
      "metadata": {
        "colab": {
          "base_uri": "https://localhost:8080/",
          "height": 238
        },
        "id": "si6s2dG9AZ1V",
        "outputId": "df516034-e379-4f62-ede5-e4113bb14012"
      },
      "execution_count": 9,
      "outputs": [
        {
          "output_type": "execute_result",
          "data": {
            "text/plain": [
              "        Variables  Value\n",
              "1  shipment_S1_C1      0\n",
              "2  shipment_S1_C2     10\n",
              "3  shipment_S1_C3      0\n",
              "4  shipment_S2_C1     15\n",
              "5  shipment_S2_C2      0\n",
              "6  shipment_S2_C3      5"
            ],
            "text/html": [
              "\n",
              "  <div id=\"df-0b327909-cc34-49ec-a77a-94c8401adb58\" class=\"colab-df-container\">\n",
              "    <div>\n",
              "<style scoped>\n",
              "    .dataframe tbody tr th:only-of-type {\n",
              "        vertical-align: middle;\n",
              "    }\n",
              "\n",
              "    .dataframe tbody tr th {\n",
              "        vertical-align: top;\n",
              "    }\n",
              "\n",
              "    .dataframe thead th {\n",
              "        text-align: right;\n",
              "    }\n",
              "</style>\n",
              "<table border=\"1\" class=\"dataframe\">\n",
              "  <thead>\n",
              "    <tr style=\"text-align: right;\">\n",
              "      <th></th>\n",
              "      <th>Variables</th>\n",
              "      <th>Value</th>\n",
              "    </tr>\n",
              "  </thead>\n",
              "  <tbody>\n",
              "    <tr>\n",
              "      <th>1</th>\n",
              "      <td>shipment_S1_C1</td>\n",
              "      <td>0</td>\n",
              "    </tr>\n",
              "    <tr>\n",
              "      <th>2</th>\n",
              "      <td>shipment_S1_C2</td>\n",
              "      <td>10</td>\n",
              "    </tr>\n",
              "    <tr>\n",
              "      <th>3</th>\n",
              "      <td>shipment_S1_C3</td>\n",
              "      <td>0</td>\n",
              "    </tr>\n",
              "    <tr>\n",
              "      <th>4</th>\n",
              "      <td>shipment_S2_C1</td>\n",
              "      <td>15</td>\n",
              "    </tr>\n",
              "    <tr>\n",
              "      <th>5</th>\n",
              "      <td>shipment_S2_C2</td>\n",
              "      <td>0</td>\n",
              "    </tr>\n",
              "    <tr>\n",
              "      <th>6</th>\n",
              "      <td>shipment_S2_C3</td>\n",
              "      <td>5</td>\n",
              "    </tr>\n",
              "  </tbody>\n",
              "</table>\n",
              "</div>\n",
              "    <div class=\"colab-df-buttons\">\n",
              "\n",
              "  <div class=\"colab-df-container\">\n",
              "    <button class=\"colab-df-convert\" onclick=\"convertToInteractive('df-0b327909-cc34-49ec-a77a-94c8401adb58')\"\n",
              "            title=\"Convert this dataframe to an interactive table.\"\n",
              "            style=\"display:none;\">\n",
              "\n",
              "  <svg xmlns=\"http://www.w3.org/2000/svg\" height=\"24px\" viewBox=\"0 -960 960 960\">\n",
              "    <path d=\"M120-120v-720h720v720H120Zm60-500h600v-160H180v160Zm220 220h160v-160H400v160Zm0 220h160v-160H400v160ZM180-400h160v-160H180v160Zm440 0h160v-160H620v160ZM180-180h160v-160H180v160Zm440 0h160v-160H620v160Z\"/>\n",
              "  </svg>\n",
              "    </button>\n",
              "\n",
              "  <style>\n",
              "    .colab-df-container {\n",
              "      display:flex;\n",
              "      gap: 12px;\n",
              "    }\n",
              "\n",
              "    .colab-df-convert {\n",
              "      background-color: #E8F0FE;\n",
              "      border: none;\n",
              "      border-radius: 50%;\n",
              "      cursor: pointer;\n",
              "      display: none;\n",
              "      fill: #1967D2;\n",
              "      height: 32px;\n",
              "      padding: 0 0 0 0;\n",
              "      width: 32px;\n",
              "    }\n",
              "\n",
              "    .colab-df-convert:hover {\n",
              "      background-color: #E2EBFA;\n",
              "      box-shadow: 0px 1px 2px rgba(60, 64, 67, 0.3), 0px 1px 3px 1px rgba(60, 64, 67, 0.15);\n",
              "      fill: #174EA6;\n",
              "    }\n",
              "\n",
              "    .colab-df-buttons div {\n",
              "      margin-bottom: 4px;\n",
              "    }\n",
              "\n",
              "    [theme=dark] .colab-df-convert {\n",
              "      background-color: #3B4455;\n",
              "      fill: #D2E3FC;\n",
              "    }\n",
              "\n",
              "    [theme=dark] .colab-df-convert:hover {\n",
              "      background-color: #434B5C;\n",
              "      box-shadow: 0px 1px 3px 1px rgba(0, 0, 0, 0.15);\n",
              "      filter: drop-shadow(0px 1px 2px rgba(0, 0, 0, 0.3));\n",
              "      fill: #FFFFFF;\n",
              "    }\n",
              "  </style>\n",
              "\n",
              "    <script>\n",
              "      const buttonEl =\n",
              "        document.querySelector('#df-0b327909-cc34-49ec-a77a-94c8401adb58 button.colab-df-convert');\n",
              "      buttonEl.style.display =\n",
              "        google.colab.kernel.accessAllowed ? 'block' : 'none';\n",
              "\n",
              "      async function convertToInteractive(key) {\n",
              "        const element = document.querySelector('#df-0b327909-cc34-49ec-a77a-94c8401adb58');\n",
              "        const dataTable =\n",
              "          await google.colab.kernel.invokeFunction('convertToInteractive',\n",
              "                                                    [key], {});\n",
              "        if (!dataTable) return;\n",
              "\n",
              "        const docLinkHtml = 'Like what you see? Visit the ' +\n",
              "          '<a target=\"_blank\" href=https://colab.research.google.com/notebooks/data_table.ipynb>data table notebook</a>'\n",
              "          + ' to learn more about interactive tables.';\n",
              "        element.innerHTML = '';\n",
              "        dataTable['output_type'] = 'display_data';\n",
              "        await google.colab.output.renderOutput(dataTable, element);\n",
              "        const docLink = document.createElement('div');\n",
              "        docLink.innerHTML = docLinkHtml;\n",
              "        element.appendChild(docLink);\n",
              "      }\n",
              "    </script>\n",
              "  </div>\n",
              "\n",
              "\n",
              "<div id=\"df-69dfde53-2c85-4c94-ba5c-548f91eb6ea5\">\n",
              "  <button class=\"colab-df-quickchart\" onclick=\"quickchart('df-69dfde53-2c85-4c94-ba5c-548f91eb6ea5')\"\n",
              "            title=\"Suggest charts.\"\n",
              "            style=\"display:none;\">\n",
              "\n",
              "<svg xmlns=\"http://www.w3.org/2000/svg\" height=\"24px\"viewBox=\"0 0 24 24\"\n",
              "     width=\"24px\">\n",
              "    <g>\n",
              "        <path d=\"M19 3H5c-1.1 0-2 .9-2 2v14c0 1.1.9 2 2 2h14c1.1 0 2-.9 2-2V5c0-1.1-.9-2-2-2zM9 17H7v-7h2v7zm4 0h-2V7h2v10zm4 0h-2v-4h2v4z\"/>\n",
              "    </g>\n",
              "</svg>\n",
              "  </button>\n",
              "\n",
              "<style>\n",
              "  .colab-df-quickchart {\n",
              "      --bg-color: #E8F0FE;\n",
              "      --fill-color: #1967D2;\n",
              "      --hover-bg-color: #E2EBFA;\n",
              "      --hover-fill-color: #174EA6;\n",
              "      --disabled-fill-color: #AAA;\n",
              "      --disabled-bg-color: #DDD;\n",
              "  }\n",
              "\n",
              "  [theme=dark] .colab-df-quickchart {\n",
              "      --bg-color: #3B4455;\n",
              "      --fill-color: #D2E3FC;\n",
              "      --hover-bg-color: #434B5C;\n",
              "      --hover-fill-color: #FFFFFF;\n",
              "      --disabled-bg-color: #3B4455;\n",
              "      --disabled-fill-color: #666;\n",
              "  }\n",
              "\n",
              "  .colab-df-quickchart {\n",
              "    background-color: var(--bg-color);\n",
              "    border: none;\n",
              "    border-radius: 50%;\n",
              "    cursor: pointer;\n",
              "    display: none;\n",
              "    fill: var(--fill-color);\n",
              "    height: 32px;\n",
              "    padding: 0;\n",
              "    width: 32px;\n",
              "  }\n",
              "\n",
              "  .colab-df-quickchart:hover {\n",
              "    background-color: var(--hover-bg-color);\n",
              "    box-shadow: 0 1px 2px rgba(60, 64, 67, 0.3), 0 1px 3px 1px rgba(60, 64, 67, 0.15);\n",
              "    fill: var(--button-hover-fill-color);\n",
              "  }\n",
              "\n",
              "  .colab-df-quickchart-complete:disabled,\n",
              "  .colab-df-quickchart-complete:disabled:hover {\n",
              "    background-color: var(--disabled-bg-color);\n",
              "    fill: var(--disabled-fill-color);\n",
              "    box-shadow: none;\n",
              "  }\n",
              "\n",
              "  .colab-df-spinner {\n",
              "    border: 2px solid var(--fill-color);\n",
              "    border-color: transparent;\n",
              "    border-bottom-color: var(--fill-color);\n",
              "    animation:\n",
              "      spin 1s steps(1) infinite;\n",
              "  }\n",
              "\n",
              "  @keyframes spin {\n",
              "    0% {\n",
              "      border-color: transparent;\n",
              "      border-bottom-color: var(--fill-color);\n",
              "      border-left-color: var(--fill-color);\n",
              "    }\n",
              "    20% {\n",
              "      border-color: transparent;\n",
              "      border-left-color: var(--fill-color);\n",
              "      border-top-color: var(--fill-color);\n",
              "    }\n",
              "    30% {\n",
              "      border-color: transparent;\n",
              "      border-left-color: var(--fill-color);\n",
              "      border-top-color: var(--fill-color);\n",
              "      border-right-color: var(--fill-color);\n",
              "    }\n",
              "    40% {\n",
              "      border-color: transparent;\n",
              "      border-right-color: var(--fill-color);\n",
              "      border-top-color: var(--fill-color);\n",
              "    }\n",
              "    60% {\n",
              "      border-color: transparent;\n",
              "      border-right-color: var(--fill-color);\n",
              "    }\n",
              "    80% {\n",
              "      border-color: transparent;\n",
              "      border-right-color: var(--fill-color);\n",
              "      border-bottom-color: var(--fill-color);\n",
              "    }\n",
              "    90% {\n",
              "      border-color: transparent;\n",
              "      border-bottom-color: var(--fill-color);\n",
              "    }\n",
              "  }\n",
              "</style>\n",
              "\n",
              "  <script>\n",
              "    async function quickchart(key) {\n",
              "      const quickchartButtonEl =\n",
              "        document.querySelector('#' + key + ' button');\n",
              "      quickchartButtonEl.disabled = true;  // To prevent multiple clicks.\n",
              "      quickchartButtonEl.classList.add('colab-df-spinner');\n",
              "      try {\n",
              "        const charts = await google.colab.kernel.invokeFunction(\n",
              "            'suggestCharts', [key], {});\n",
              "      } catch (error) {\n",
              "        console.error('Error during call to suggestCharts:', error);\n",
              "      }\n",
              "      quickchartButtonEl.classList.remove('colab-df-spinner');\n",
              "      quickchartButtonEl.classList.add('colab-df-quickchart-complete');\n",
              "    }\n",
              "    (() => {\n",
              "      let quickchartButtonEl =\n",
              "        document.querySelector('#df-69dfde53-2c85-4c94-ba5c-548f91eb6ea5 button');\n",
              "      quickchartButtonEl.style.display =\n",
              "        google.colab.kernel.accessAllowed ? 'block' : 'none';\n",
              "    })();\n",
              "  </script>\n",
              "</div>\n",
              "    </div>\n",
              "  </div>\n"
            ]
          },
          "metadata": {},
          "execution_count": 9
        }
      ]
    },
    {
      "cell_type": "code",
      "source": [
        "print('Current Status: ', LpStatus[Model.status])"
      ],
      "metadata": {
        "colab": {
          "base_uri": "https://localhost:8080/"
        },
        "id": "gmZ9UzLpA4Rp",
        "outputId": "ce9639d0-8260-49ff-ddd5-00d08acb3c6f"
      },
      "execution_count": 10,
      "outputs": [
        {
          "output_type": "stream",
          "name": "stdout",
          "text": [
            "Current Status:  Optimal\n"
          ]
        }
      ]
    }
  ]
}