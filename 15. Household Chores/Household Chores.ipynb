{
  "nbformat": 4,
  "nbformat_minor": 0,
  "metadata": {
    "colab": {
      "provenance": []
    },
    "kernelspec": {
      "name": "python3",
      "display_name": "Python 3"
    },
    "language_info": {
      "name": "python"
    }
  },
  "cells": [
    {
      "cell_type": "markdown",
      "source": [
        "# **Household Chores:**"
      ],
      "metadata": {
        "id": "QVVrjfRui9Nu"
      }
    },
    {
      "cell_type": "markdown",
      "source": [
        "Problem Source: F. S. Hillier and G. J. Lieberman, \"Introduction to Mathematical Programming,\" 2nd Edition, McGraw-Hill Inc., New York, 1995."
      ],
      "metadata": {
        "id": "yP_QF2ZMe0GL"
      }
    },
    {
      "cell_type": "markdown",
      "source": [
        "**Problem Statement:**\n",
        "\n",
        "A young couple, Eve and Steven, want to divide their main household chores (marketing, cooking, dishwashing, and laundry) between them so that each has two tasks but the total time they spend on household duties is kept to a minimum. Their efficiencies on these tasks differ, and the time each needs to perform the task is given by the following table:"
      ],
      "metadata": {
        "id": "QXWlVPKjjJaa"
      }
    },
    {
      "cell_type": "markdown",
      "source": [
        "![Table 12.1.1.PNG](data:image/png;base64,iVBORw0KGgoAAAANSUhEUgAAA2AAAADcCAYAAAAWcsI3AAAAAXNSR0IArs4c6QAAAARnQU1BAACxjwv8YQUAAAAJcEhZcwAAEnQAABJ0Ad5mH3gAACRPSURBVHhe7d0BkuQ4boXhvVkfrY5WR1sP1vPsN1iAoiRKKVX9XwSiqwiSYlKUkuz1tP/1bwAAAADALTiAAQAAAMBNOIABAAAAwE04gAEAAADATTiAAQAAAMBNOIABAAAAwE04gAEAAADATTiAAQAAAMBNOIABAAAAwE04gAEAAADATTiAAQAAAMBNOIABAAAAwE04gAEAAADATTiAAQAAAMBNLjuA/etf/yIIYmF8fX39/XQBAADgrS45gMVGsdpAEgRBEARBEARBPCHizLI6ZlxyAKs+IEEQBEEQBEEQxE+OGfyfIBIEQRAEQRAEQSyIGZcdwPB+RxYUrhP/s3a+JwRBEBGhKs8xW29vjN5Po2tWua0y/3lUplBO/6dBOe8xyov/7v/nRl5Xef0ZvMzLxcurvMzkvC/Jv+ueibeV3GbGVpvZPo9cG9gr1tnqmMHqRuvIggIAAADQY1eNFgcwAAAAYC121WhxAAMAAADWYleNFgcwAAAAYC121WhxAAMAAADWYleNFgcwAAAAYC121WhxAAMAAADWYleNFgcwAAAAYC121WhxAAMAAADWYleNFgcwAAAAYC121WhxAAMAAADWYleNFgcwAAAAYC121WhxAAPe6evrqw2Xc/Gc++94J7+Hf/78Kd/lkcvlCr/33pdy39/ff2evo+vlWK26TpR1ct2IJ6jGFbFadY0IAPvw1KDFCxZ4r/z8RlQby7s2urjfzH3dyoet/FXy2ryKX0Mxewh7mrvGdtd1gJ+KJwctf8HykgXeJT+/3TPMAeznmrmnM3XCVv4KTz2ABdV7Gv8MV7rrOsBPxZODlr9geckC75Kf3+4Zrg5g+Blm7uueOnd76gHM6z2Jj+vKsd11HeAn48lBi5cs8F6zzy8HsJ9t695u5UNXfrWZsa2Qr6PobOU/ZWbsK9x1HeAn4+lBy1+yvGiBd5l9frt/pKES//hCHNg87nb3Nf16Rz733vruaDs3urfR/ygfuvJs7+dU/VGb0bhWUv8xFr9mNzblR2Y+X6b6s//IiZ7HEH/62Efuug6AHk8PWv6S5UULvEd+dkfP7956ot+1MXN5k6bIupyXK0YbPy/XeHKdWd7XKKrPLVX9iKyr47+PrjPD+4pwOacQzXknt1OMVPWrz5jrSC733BH5M8703ZWH3F7R0fVn60vVxiO76zoA5vD0oMWLFninPc/uTF3l8ka5azO72etyXj6KrbpHdGOvolLV8T6d1xvFGV1f/rvnVRY07krVJv+eVfmuvtf1fL4/Z0V/zvuurlGVSdVGv+fryKhNR3n1qd8VlSo/qh+U33MdAHN4gtDiZQu8U352q+e3qhOReW60Wc08F7G10XVRN+er8HpSle1RXVtjz+VZbiujMXn9Ls7o+so/b9Vx3eesyqTLrap/lO6t82vna1Vlwet7n1WZeBtXlYm3qa4TkXW5rn7wNrPXATCPJwglf8nyogXeIT+3e6KyVWc2l/NduXheEZtA/SxVWajK9lD7qp+uPHjO81VZ8HLP59+P8n68r/xzV6c6NISqjd8LlYmXe64qky5X1T0q+sqf0a+rkNn5UL2qTDwXIVVZmJ3fT10HwD7/fLqAv/mLNgLA8+XndrRJynWz+A/vPZ/7Gm3Ucs7bjtqJ57s6wf8BkXwN/32PPL7cj+dcbidePuqryp9VjSnK/DqeVx3/Oav6DKN74fWV8/Jo67x+hNed/YcjZnT96VoKjTl+zvJzojr5c/t1ck68XNeUqn7w8ohPXAfAfv98woC/5ZctgOfb89xu1e02b+K5nB+19fK8+QuejxjJ19mqP2N27KOcVGVyxdgr+RoRPu9VPqJT1anKxHPKV2Uu5z1W2erPr6l6Vf1qvYzWUPCc7kVVJp6LcLO5K68DYD+eIpR42QLvkp/Z0XM7U2+rzig/2oB6ed4ABs9HjOTrRFR97jE79q2cRzWmauxXyNeorjNTR6q6ikpVz6NS1VOcvb+i/jp+TcXsffSoVPU8stlczudcjmw2V+UB7MNThBIvW+Bd8jM72qjmupWtOkdyXh5RjdHzM7x+xNkNuveVec6v4+UeI3njfhW/RnetrbzkeopO/oxb9UNV3+Ps/RX116nGXl071+nqSVU/ojOqV41RcrmiM6o3ug6AY3iKUOJlC7xLfmb3bAIrozqjXKhy1SYujzHnZx1tV+n68fIIH3vOzTjS5oiZ68zUCbP15MjG3etqjquys6KvkWrs1bVznS25/tbnyfVdHqPz8oirrgPgGJ4klPxlywsXeLbqHwLoNlx5M5X/AQTxOi63z/8xfrdZ83+kwXM+zpwb8XbdNffq+snz69cOnovIqjke1V/Jr5PHLV5nxOvlupojl+ezy0uur/F6mc9l93m2qK8tft2I6h+eyHVc/nwh18+fIX73Mq+beU55jTHnrroOgGP++0kD/lK9cAE8U2ykZp/ZXC9vzMT7dN624nnVyWUKXUM8t0Xt3WzbjtrnfvL8Zp7L+aosdPVXm7nO7Di8r1y/Ksvz5vmtsgi/vzmnOGK2rV+nq9/VqcqCl0dUn3H0uasyD7XtysOoTFGVeXhbAPvVbxT8evllC+C58vMaUW2QomymXsh1c1nH23h0OenKO1Enj322bUftvZ/8e8fr5ejGqbiS7tnInnGobhWVqp6H25PL+Vl7+9iqm5+THJWqnoer8orq2i7ncrgqr9i6DoD9eIpQ4mULvEN+Vj1clffo7KkrXf1c7geTrryjuuLtj/I+csyo2kVko9xq2jyPRH5mzsXHrxi1r+pHZHvyR2guPLY+t+qNeH8eI1X9iEpXL3+eiuc9Kl29mesA2IcnCSV/2fLCBbCHNmyVVe8U9ZPjqBX9+Eb1KbYOGDJbLxz5nKq/5zpPMfM59flm6sqe+mfm7a7rAJg3/6bAr6IX9p4XNwC8Fe87AMBd+KZByTcjbEgA/HS87wAAd+GbBiXfjLAhAfCT8b4DANyJbxqU2JAA+A3yu04BAMBV+JZBic0IgN8gv+sUAABchW8ZlNiMAAAAAOuxs0aJAxgAAACwHjtrlDiAAQAAAOuxs0aJAxgAAACwHjtrlDiAAQAAAOuxs0aJAxgAAACwHjtrlDiAAQAAAOuxs0aJAxgAAACwHjtrlDiAAQAAAOuxs0YpH8CIz0fl6+vr75/2O9P2t9m6D5U9dc8a3cvROCIXbVUn/qx+7qhODo0nl1dlKnddnerPHD4XVX4r8tgrXr/i5bmufq7mvfp9FKqrP3Mu5PI94e3951F4PX3Go3G2/d7wsRME8fPjkz57dTxWtVAJgiAIgiAIgvjv8L8A3MIBDKW8qPB58WATBEEQBEG8Nc7uZ86298h7XcVM/s+fP/+oEz9/f3//Z3wz2Fmj5AstAgAAAMB57KxR4gAGAAAArMfOGiUOYAAAAMB67KxR4gAGAAAArMfOGiUOYAAAAMB67KxR4gAGAAAArMfOGiUOYAAAAMB67KxR4gAGAAAArMfOGiUOYAAAAMB67KxR4gAGAAAArMfOGiUOYD/f19cX9xavwvsIAPAT8E2GkjY6T9zw5LEp9qr6iLjSndfaogPYp8cBzHrKs4PniLUQ77KzfsOaOvoZ+cs6vN0T1y9PFEqxWD2e6OwYz7bfyw88d11zJI8H7+f3cxSf5OPYu3H2thF4j3zvtmLG3vqV3/IePPMZz7TF5/h9y/FbPPkz8zSh5Iv2iQtXjo7zaLsVPnXdzDceeLetw33O5fxd8hjOHMDwTn4P/T7m8oit9eF1j+IAtu1MW3ye37/feA+f+rl5mlDyh/WJC1fyOGc2dFub1avdfd1uTr6/v/+Tm5kzPJfW88y9/PPnz61rr6Mx7F17+ox72+E5dO9Ha1D3eGudqE68y87QdSJ+Kp/PveK90d0DPN9vWN8jT/3sv/NuYJM/sE9cuJLHOTPWI21WuvO6n/h8uM+RtfSENaExsKn7fXTvZ9agHxpm6h91xzU+7cwBDO/2G9b3yFM/O08iSv7APnHhSh7n1lj1JRRm25yV+7/zundcB5/h93fPQeYJa+LIuPEz6N7PrMF8AJtpc8TV/T8BB7Df6zes75GnfnaeRJT8gX3iwhWNL39Rd1QvzNQPXm9U1+tUG4coy/Wcl1f5PVb2Iyv6wzp+P7S2Zq2+hz6WmfHM1jvC+7zyOjhG9yRihtefbbNX1X+smSuvebfq86z8jN6H+lzRL85bdT98vazor5Pf13uvlce3p32+9pWumT28ni/g2YX7CRpffjF0VC9s1a/yfh3ndbvQg+1lWa7b8T4ispxXuO6zeLly/rtia4zB62Mdn9fVc7u371xvpq3yeQ15W4WbKc/r12PG3vrYZ+/8ev2qTVcevJ1HlnP+u5dnXZ1qDXZrvXqPVu1HvE7XxvsMXs/LK7mteFvlcllE9Rmd18V6K+a3at/1qfKufpULOee/e3SU13rzNhFZzvnvKrvS9VfAK929EI/y8fl4VZbl8q26VW6mjdfRz9VLwVVlmbfNkc3mct6/bHMd/330per1utj6UkYvz+UKub+8DipdzttWlKvWQNdO5VU+5xQ5N+L1usB5R+bT22jNeFlEJZdrXWbezyiyozmJXH4Gqjajfmbr+zM5imyUzzlFzlXPefA6XXRtMc/n86juXlR9dter1qDLOUXOVbpc187Lu+jqZZ7bs17rT4JfzxdUxFP5+PLDnf9lrMjHv+bkvL3zvjKVj3KjhzC317VGbUL1L1HFZ8z9SVcuo38Rz9vm/GhufDw+Vm+j3Nl/uew387mMOKO7Z+LX8Xs2ajNal6FqqzVS9Rdm+6xyo7Wu60ZU44ngX4FbR3MaMcvbdPcoUy6L8nwv1UdEzvk1ci7MtIvIlHcq667TXSMb9T3qp8qFK74r1KdfLz/jkfN3Do7xOT3C70dW9Tu67yqfybvR+19l1fhC1Sb4OOPniLiOfpbR+petfGVfbfwaWkxHFtWd8vh8zP4AhVzmdWdF+1E7ledrO2+vmNHV6/qqypx/lszbjvLZbJ84x+fy7HyO7pkor3Wt32faVPVUlvvbonpV3VHu6LpUucaJ80bz3fE2+V50fY3ueaZ6XV3lqnVwdm05lVXXqerv+YxbdZU78xlH+WyrvMrhmKvmtOt3dq1V+b25qizr8rPPz0y9rT4q+1vgV9Bi21p0n1aNrxp3VS905RXV9chUXn2JibdXbKnadCFVmZv9Uq10uTN9Yp7P5dn5nOkjXyv/XvE6uV7O5XxnVF/l1bN3dF2qfPQ8Y5/RfHe8Tb4XXV9+z7s6slVHuTNrqxr3LO/H7fmMo3EG5c58xspWu0zlVQ7HrJ5T76/qd3atVfm97aqyrMtvjdOpXlV3to9sfwv8Cr7Yjiysu1Tjq8Zd1Qtduct19HvVTuXVl5h4e4+Rqn4VriuX2S/VUT7zPnO+K8d+Ppdn53Omj3yt/HvF6+R6OZfznVH9Ue7oWlfZ6HnGPt1cj3ibfC9GfXm7iO4+ep3KkfZeFuFtVbbF23dtcr4bY5SrTmXUftRW5Vv5rGvTleO4VXOqdeCqfmfXWpXfm6vKsi6/NU6nelXdmfaVY63w4/liO7q47lCNz8ftkY1yoct35UHl1ZeYeHt/AUR0tvKVrX5HLx9vO8pno8/TlWM/n8uz8znTR75W/r3T1fNyjy2juqPc0bWustHzjH26ue54/apNVy7etqs7ygXlunVQtfeyCG/r9Spar079VJTzyEbPQFCu+oyjtirfymddm64cx62Y0659Vb5ivczmqrKsy289E071cv38+x7HWuHH84V2dHHdoRufjz2i+lLxfDb7AslUXl1Pcnv/vWvn9Wd5v5XZzzjKV7ydPs/oWtjP59Pn+YjZPlTPf95q19Xx8gj9HjEyqjfK+TUq3lb/0f9WGxzjcz3D6+d1FGb62lpnXbkoV10/5L71u6g8/5ypXfxH/9moXYi2eRzOcxXlol42aqvyrXzmfeqa/g8tYB3N6Z559X/8RG2rtVH1O1ovnqvye3NeVo0v5DYyGmdFdSN0Lf95r7mr4tfxhRbxVKPxbY1/lD+bGz2QVXsv83IZ5TpbbUYvH287yne87VZdHONze/QLIHg/I/k6atNdW/mILLf1uhGdUZ1RbrTWxdtv1cVxe+bX71tXf7av0PVXlTnlurUevI+IbJQT5avrVG2ret1n9PKKclt9Zirfyle83agezjkyv6rrbau1oZxbsV5mc17m5a7LbT0TFdWPUPujjrfEj+aL7MwCu9pofFvjH+W7nD+wORdUXr2opGvv5bm950Y8v9Vm9PLxtqN8Z5TDOroPe+fb64/WgSjv61JlXbtRXuVdf3n9i9fJRrnZz4jr6T7MzPdM3S6/Zw1VZU65rk8Z9TPKBc9X16na7vmMW8+AclWfo7Yq38pXunKspXswO99RT+vA2+a14Tm3Yr3syXl5zoWufDTOjurvbVc51xo/1spFdpWt8enh6nj7XM8fzK2Qrjwb1VmZ87L84gwrXpKVUQ7rab5n5rx6JvJaryiX11HXZrS2gnJdf1vtqvwoNzseXE9zvTXfe+tleW1JVV9lVT9Bua5PGdVTrqN81d5zbuszev2oW/UhylV9jtqqfCufqU9cT/dga769nq8DLx+F+Hrx8uDlOReO5Lw8YjR2N1rXI11/e51rjR/LF9jZRXaFPL5qjN0LPrfzkPwC8Xwu6+pGZDnvL4qQ8y7nqshGdUYvH6+f8115GM1FBK4xM88zuSo/yoUqP6oflM/rPyhXtb86VwXWGs1vzlXrI1PdTO+iLNfP76zMc1vjGdXrxuPUfitk9jMGlY3qR4zGvtU257vy4LkcWKea35nwdVDlpSr39aKykMsj8nrznOv6FM+Nwo1yI0faVM61xo/lC+zsIrtaPJj+H4zu5f/RfRZlCleVzTjaLsQ4o22+N6M+lct5L895XcfD5zfnXNTL4+vC+8Q5fs+quVZuNOe5vX5W+YjqKEbXyWPKvB/P5/LZXNjKaUyjyO2wj8//TGzZauPPhHIz9Tyfyz3X6eroOiO6RrXm4h/mUJnKZz9j8Hqez+WeC6N8lfNnP+ecPs9WeH/YJ8//nqhUuW5dR1m+l/rHZfR71BmtlwjJa91zbisvXs9jlsZ/BgcwlPSAKIBZ3Zrx9RRx9uUFrKI1mfl6rfIAjon3/8wzx/cEnqhau3vxjYJSfgkCM7ov1QpfrHiC2Xcc70FgHb4n8Faz3xlb+EZBSQts1ULD77BnvfDFik/TXxjMrFneg8AafE/gzfas3xG+UVDSAlu10PA7zK6XqMMXKz5t9gCmegDOm3nmQtThewJPMrt2Z/CNgpIW2crFhp/P10x8cebwcuDTtCZn1iyANWafuQjgk7Qe85pdgZ01SnnBATOql5UH8DTVOvUAsF71rCmAJ7lqbbLSUfIFt3rRAQAAAL8VO2uUOIABAAAA67GzRokDGAAAALAeO2uUOIABAAAA67GzRokDGAAAALAeO2uUOIABAAAA67GzRokDGAAAALDeJTvrvHknCOJ8AACwyt7/h7L6Hrr6+8i/8/xas9dVe0Wmsirvv1dtZatelGl+42ePTs5Xv3d9RmSjcv25J/T/51Nt9adHJ9f3n/eEVLkj8UnLr159QIIgCIIgCIIgiDeEDpx74vv7++/T0DYOYARBEARBEARBECdiz/+qfMn//lYNiiCeGN169b/5qOpUZSoPVa6K/Dcsanvkb14IgiAIgiCIz8THD2B4v7yo8Hn5fuTfQ87rT70UvG53yKwOhSoLKq/a53qh6k9/Bv8595kp19VTWS6f4WPv7O03+uxsjTO3PfKZrhZj0jifOD4AADr6Hl4Vo+/8jG9MlPKiAgAAAHAeO2uUOIABAAAA67GzRokDGAAAALAeO2uUOIABAAAA67GzRokDGAAAALAeO2uUOIABAAAA67GzRokDGAAAALAeO2uUOIABAAAA67GzRokDGAAAALAeO2uUOIABAAAA67GzRokDGAAAALAeO2uUOIABAAAA612ys/76+vr3nz9//msTvxXRDs+Q7w3WiXW+Yl6jny6Aq8T68nfDKPbQ2o12/rN+B54ur9vV61f96xqxzwKeyteqPwsRR6m/3PeZPj/l0p21JiZiy2w93MPvHfdlnZXzmvtSvPFFhHfwL7yt2GOrXZSzrvFkeQ377xFn129+9oAn87XaxV5duzN9ftKlo90zKW+cvJ/M7x33ZZ1V85r78WCjiqtoEziidbjHVpsjfQJ36tan1u7Z9buiD+AO/pcFLv8lQs6PdH3KkT4/7dKR7pmQN03ab+D3jnuzxpmXjzvTFjgj1vCWI+tzq82RPoG7bK3Ns+uX9Y830V6norW8d03vOYDNfE89waVPtE8I3sXvHfdvDc3j2Xk90xa4WqzNPV+AWs+jdT3KAU93Zv2q7Vs2lcDWWtea3qrnZuqrDgewv2gytiatmqwoy1EZ5YK3H9XDP/m927p/GIt1F3P4/f39n9/PzKu3ZV3jabTW967JvK7d0T6BJzi6ftVOoe8P4Om21qqv61kz9VXnLd8Vl+6sNRmjSdNLpuLtt+pk3i4HtjFn6+T5OzOv3rYK4JPOrENfx/oC9TLgjY6uX1/7EflABrzVkXU8U191OID9RZOhqIxyYaZ9Vh3qeHntw1ytUc3h2bn19lUAn3JmDfoazgG80Zn16+u/i7dsNAHna3jWTBvlOYD9xSdsKzpbdaryUd1RX/h/PlfM1zHd3K2c1/wXCyv6BI5YsQa9j7N9AZ9SvZf3bApH7/WuHHiLI2t3Zs0rzwHsLz5hmpT4s8p1vE41qVVZ15/31dXB/2KezuvmbvXcen8Rb3n54GfR+jvL1/KqPoE7VWs4Ypb2SqN2W3ngiY6uW38mOsq/ZQ906ZOryRhNWPzHeqN8UB/5/+t7lOWJVt2tYJM6xlydE2u1mzef25Wu6hfYEmv97NpTH/Gnvhc8+EcI8Daxlo88G95m1E75qA88nd7rR9Zr9Z2g5ys/L295Hi7dqfmEnFX1U/W76nq/neaR+Twmz99WrLK6P2DG2XWn9lUfoxzwBnvXsG8oR/b2C3zSynUafflB643PwqUjXTkhuZ+u364c+2gemc9j8vxtxSqr+wNmnF13W+3P9g982p41nP9GvzNTB3iCWKNX/i9Tb3wWLh3p6gnxvro+V17vN9M8Mp/HdC+aq+f1qn6Bzuzf1nfUdtT+TP/AE+xZwxzA8JNcvUb9ObjyOqtdOtIjEzKq6/119bbymOPzyFyudeW8Rp9X/i0TkGmzeNTs83DmGsCn7V2/M8/FTB3gk+5Yn299Di4d7d5J2ao787dCW3nZyv92Po/M1VpXzmv0yQEMd5o9gHX19Cxs9TFzDeCp9q7fmediKw982tb6PLtf0TPwxufgshHnf7Gkm+Sopy/mrQmcrac6EdHGw8vR8znEWltzq3Wa16ielW7tqs+oB9ylWqsVreuqvsojKlGe/xVc4Cn0Xu6egyjv1m+UV89E/D56LpTvrgl8kq/f+LmL/FxE2ey67p6dt7hsd62J3xtbZuroBnaBbczZdWbmtaqT17WryoA7zK47X78V5SL0heplwFP5Oo3wDeHW2vV2FeVyn7kMeAp/129FXsOe63Rt3+ZHf6v5jYzAPObts6r533qpAZ8wu/Z8/Y6ojgfwdEfX7Uxd79MDeKI9B7CsKw+jdm/EE4ySL/Sfsth/Eu4NALzf2/8WH1jttzwT7N5Q8g0+m3wAAABgDXbWKPnhi7+hAwAAANbgAIaSH8AAAAAArMHuGiUOYAAAAMB67K5R4gAGAAAArMfuGiUOYAAAAMB67K5R8gMYhzAAAABgDXbWKHEAAwAAANZjZ40SBzAAAABgPXbWKHEAAwAAANZjZ40Shy8AAABgPXbXKPkBjEMYAAAAsAY7a5Q4fAEAAADrsbtGyQ9gHMIAAACANW7bWXeb+a+vr79/wpP4/cr3DOcxrwCAWbFX4nsDb8Xa/W+Xz4YmfRR4Hu7PdVbMrfdxti9gr2r9VXHE2fbA08RaPvOXzf5MeABPV63biBX0lxJvddnIv7+//2+iqxcPf5vzbLo33KO1zs6rnht/pvxZqp41YBV/r2/FnrXoa7gK1jXe6Oy7OdpUwXOBp8trVqG1G3HGqn4+6bKR+0SPjPJvnti3073jHqyTXz5753brmVIu6gFX0BocGa3RiurnNl4ewbrG21y5fnkm8FZ6Js5a1c+nXDZyfVFvTU73Ann7xL6d5p/7sI7m8ei8bj1TR/sFZs1s+PauwVF95SLYbOJNfO1esX55JvBWeibOWtXPp1w2ct8sjiaoeoF4W3zGzL3DvJhHrfWjczvT5ki/wEqx/mY3hnrXj2hNz/YJfJqv66vWL88E3krPxFmr+vmUy0auF5DHrD1tvG5Xf2+dyp7Pk3Nb9Z9IY37j2J8mz+HReZ1pc6RfYKVYf7Mbw5l6WtNsNvEW/g6+av3yTOCt9EyctaqfT7ls5NV/rP3nz5+pF0bUU5uor5D4OedUPyKunXmfFeX8OmF0rejTqVz1vZ7n3uBt430qrQN3dG5n2hzpF1hF6696Bx+lPuNZAp4ur//V61ffKTwPeBudC1atXT1bb3X5yDVBOUb0gqnqjdorV93cUZ+hyu2tH1Sec16ec0/0prE+VTd/R+d2pt2RfoFVrlh/6pMNJ56uWv8r16/6UgBvsnrtvv05uG3kPvEelbMHsCrvfVb5rqwqD8rlfFceRrmnedNYn6qbu6NzO9PuSL/ACjPr8wjWNN6gW6cqP3sAUz8e/KUE3qBauxFnrernU24duU+8onqBdAewfIgaRaXLj8pmwnXlYZR7mjeN9Ym0VitH57Z7LtyRfoEVrlh76pM1jafr1qjWb7XXOUL9KYC3qPbwZ6zo45NuH7lPfDd53UazunlVdC+6XE/y78HrjSLrysOo3dO8aaxPNJq3o3O79fLqyoE7XLH2WM94g9E6Va7blxw1uibwZFq7Z9fv25+Bj4zcJ7+avJkD2FFq731U/VX1ZozajXJP86axPpHP30zMqtpWAdzpirXHWsYbaF/S0Tq+6gA2ujbwRL52zzwXb1//l41861/B8sNUnsDuoNWV7+F9jP5FFtWJ2GPUbpR7mjeN9Yn0L37m8HmNUPkR0e7Kf20LmKW1t4qeH+DpYp1q/c/GKtEXzwneSM/C1llhZPXzdLfLRj4zKZq8XNdfaC6/6I7yPrp+ZupURm1Guad501jf5oq59T75Qsaduvf1UaxhvE239vVcXLWmu+sCT6fn4owVfXzSZSOfmRRNXq7bfaF7ec65mRfdVj+e7+qEnBu1GeWe5k1jfZsr5vaKPoEZei+vwBrGT6M1zQEM+H8r3vUr+viky0Y+MzFdne4AFlS+ld8yU091IqqXZ9WHt8lGuad501jfZmZu98z7TH/AVfYcwLbW6VY/rHG8jdb8FQewK/oE7nDme0D0bL3VZSPXxHQTpPLqBaIv9Kqtl3cx81JS3RHvs4vsaO5p3jTWt9ma262882cF+IQja7Wqv9WP2gNvonXd7Uu6da12nVGfwCdtvatHa1u5UXuZrfdUl408/yMEPqkRKu9U9fUf6x3tM5v5j/9G18rtcz0fi5dHnPkPD+/gY8VaWlO+PpzmvcsHtecfK8Cnzb4jYp1Wa9vLtwJ4G63d7j0d7/Cqjso85wE8VazPo2vX24xEPl/jbfhGQ8kXNu7XvUy4L3iaPWuxqutrehRv/IIFtuSNJPDb/ZZ3PU87SnwhAAAAAOuxu0aJAxgAAACwHrtrlDiAAQAAAOuxu0aJAxgAAACwHrtrlDiAAQAAAOuxu0aJAxgAAACwHrtrlDiAAQAAAOuxu0aJAxgAAACwHrtrlDiAAQAAAOuxu0aJAxgAAACwHrtrlDiAAQAAAOuxu0aJAxgAAACwHrtrlDiAAQAAAOuxu0aJAxgAAACwHrtrlDiAAQAAAOuxu0aJAxgAAACwHrtrlDiAAQAAAOuxu0aJAxgAAACwHrtrlDiAAQAAAOuxu0bJD2BfX19/lwIAAAA4Y/kBzDfuBEGsC7yP/vLiqvunflf3H/11f/GydU21jT+9rv/slPOoru19Rjgvn81H5OuozOuoXH9WoZz68zKPqowgCIL4THzS8qtXH5AgCIIgCIIgCOKnRvWXhx0OYARBEARBEARBECeCAxhBEARBEARBEMRN8dEDmHx/f//nzxjMnsht8u9HI8ZTlW+FX99/3gqn3z1XjSeXh+pnD5WH3Dbk6zj97uW5TrQPubwyU+csjcfdcd0niM9JEARBEARBnI/qEHUmos9Zn/0v0AAAAADgF+EABgAAAAA34QAGAAAAADfhAAYAAAAAN+EABgAAAAA34QAGAAAAADfhAAYAAAAAN+EABgAAAAA34QAGAAAAADfhAAYAAAAAN+EABgAAAAA34QAGAAAAALf497//B72+dFUdqQLNAAAAAElFTkSuQmCC)"
      ],
      "metadata": {
        "id": "aKlsGTeyjYL5"
      }
    },
    {
      "cell_type": "markdown",
      "source": [
        "**Modeling:**\n",
        "\n",
        "$x_{i} \\ $   binary variables for Eve\n",
        "\n",
        "$y_{i} \\ $   binary variables for Steven\n",
        "\n",
        "$\\\\ $\n",
        "\n",
        "$Objective\\ Function:\\\\ $\n",
        "\n",
        "$Min\\ Z = 4.5x_{1}+7.8x_{2}+3.6x_{3}+2.9x_{4}+4.9y_{1}+7.2y_{2}+4.3y_{3}+3.1y_{4}$\n",
        "\n",
        "$\\\\ $\n",
        "\n",
        "$Constraints:\\\\ $\n",
        "\n",
        "\n",
        "$x_{1}+x_{2}+x_{3}+x_{4} = 2$\n",
        "\n",
        "$y_{1}+y_{2}+y_{3}+y_{4} = 2$\n",
        "\n",
        "$x_{1}+y_{1}=1$\n",
        "\n",
        "$x_{2}+y_{2}=1$\n",
        "\n",
        "$x_{3}+y_{3}=1$\n",
        "\n",
        "$x_{4}+y_{4}=1$"
      ],
      "metadata": {
        "id": "PFV2Bo5CjbAB"
      }
    },
    {
      "cell_type": "markdown",
      "source": [
        "## Using Pulp Library"
      ],
      "metadata": {
        "id": "_aBnv7xB_GGS"
      }
    },
    {
      "cell_type": "code",
      "source": [
        "!pip install pulp\n",
        "from pulp import *\n",
        "import numpy as np\n",
        "import pandas as pd"
      ],
      "metadata": {
        "colab": {
          "base_uri": "https://localhost:8080/"
        },
        "id": "O6S0xyzYlwd0",
        "outputId": "50fea809-b3f5-4904-e24c-ebab6423fb2d"
      },
      "execution_count": 1,
      "outputs": [
        {
          "output_type": "stream",
          "name": "stdout",
          "text": [
            "Requirement already satisfied: pulp in /usr/local/lib/python3.10/dist-packages (2.9.0)\n"
          ]
        }
      ]
    },
    {
      "cell_type": "code",
      "source": [
        "#Defining Variables\n",
        "\n",
        "x = LpVariable.dicts('x', ((i) for i in [1,2,3,4]), cat='Binary')\n",
        "y = LpVariable.dicts('y', ((i) for i in [1,2,3,4]), cat='Binary')"
      ],
      "metadata": {
        "id": "3JKX71Z8lyHp"
      },
      "execution_count": 2,
      "outputs": []
    },
    {
      "cell_type": "markdown",
      "source": [
        "$Min\\ Z = 4.5x_{1}+7.8x_{2}+3.6x_{3}+2.9x_{4}+4.9y_{1}+7.2y_{2}+4.3y_{3}+3.1y_{4}$"
      ],
      "metadata": {
        "id": "NXiIvP64mC5T"
      }
    },
    {
      "cell_type": "code",
      "source": [
        "#Defining Objective Function\n",
        "\n",
        "model = LpProblem('model', LpMinimize)\n",
        "\n",
        "model += 4.5*x[1]+7.8*x[2]+3.6*x[3]+2.9*x[4]+4.9*y[1]+7.2*y[2]+4.3*y[3]+3.1*y[4]"
      ],
      "metadata": {
        "id": "MTyAF--Ll9FV"
      },
      "execution_count": 3,
      "outputs": []
    },
    {
      "cell_type": "code",
      "source": [
        "#Constraints\n",
        "\n",
        "#Eve and Steven must each perform exactly two task\n",
        "model += x[1]+x[2]+x[3]+x[4] == 2\n",
        "model += y[1]+y[2]+y[3]+y[4] == 2\n",
        "\n",
        "#Each task must be assigned to either Eve or Steven\n",
        "model += x[1]+y[1] == 1\n",
        "model += x[2]+y[2] == 1\n",
        "model += x[3]+y[3] == 1\n",
        "model += x[4]+y[4] == 1"
      ],
      "metadata": {
        "id": "vFBCAvMQmqB4"
      },
      "execution_count": 4,
      "outputs": []
    },
    {
      "cell_type": "code",
      "source": [
        "#Model summary\n",
        "\n",
        "model"
      ],
      "metadata": {
        "colab": {
          "base_uri": "https://localhost:8080/"
        },
        "id": "qD0z70dJnTKA",
        "outputId": "5c100c6e-388b-4838-acfe-3e58a96420ce"
      },
      "execution_count": 5,
      "outputs": [
        {
          "output_type": "execute_result",
          "data": {
            "text/plain": [
              "model:\n",
              "MINIMIZE\n",
              "4.5*x_1 + 7.8*x_2 + 3.6*x_3 + 2.9*x_4 + 4.9*y_1 + 7.2*y_2 + 4.3*y_3 + 3.1*y_4 + 0.0\n",
              "SUBJECT TO\n",
              "_C1: x_1 + x_2 + x_3 + x_4 = 2\n",
              "\n",
              "_C2: y_1 + y_2 + y_3 + y_4 = 2\n",
              "\n",
              "_C3: x_1 + y_1 = 1\n",
              "\n",
              "_C4: x_2 + y_2 = 1\n",
              "\n",
              "_C5: x_3 + y_3 = 1\n",
              "\n",
              "_C6: x_4 + y_4 = 1\n",
              "\n",
              "VARIABLES\n",
              "0 <= x_1 <= 1 Integer\n",
              "0 <= x_2 <= 1 Integer\n",
              "0 <= x_3 <= 1 Integer\n",
              "0 <= x_4 <= 1 Integer\n",
              "0 <= y_1 <= 1 Integer\n",
              "0 <= y_2 <= 1 Integer\n",
              "0 <= y_3 <= 1 Integer\n",
              "0 <= y_4 <= 1 Integer"
            ]
          },
          "metadata": {},
          "execution_count": 5
        }
      ]
    },
    {
      "cell_type": "code",
      "source": [
        "#Solving model\n",
        "\n",
        "model.solve()\n",
        "print('Optimal Solution:', pulp.value(model.objective))"
      ],
      "metadata": {
        "colab": {
          "base_uri": "https://localhost:8080/"
        },
        "id": "rcf9tYjwnTcC",
        "outputId": "494dc8e3-555e-4f71-de4b-86c41cce9cd2"
      },
      "execution_count": 6,
      "outputs": [
        {
          "output_type": "stream",
          "name": "stdout",
          "text": [
            "Optimal Solution: 18.400000000000002\n"
          ]
        }
      ]
    },
    {
      "cell_type": "code",
      "source": [
        "for variables in model.variables():\n",
        "  print(f'{variables.name}:{variables.varValue}')"
      ],
      "metadata": {
        "colab": {
          "base_uri": "https://localhost:8080/"
        },
        "id": "ACSUkBQunXRv",
        "outputId": "b49f6824-7ff8-4b3e-906e-92c5ef7e8fc1"
      },
      "execution_count": 7,
      "outputs": [
        {
          "output_type": "stream",
          "name": "stdout",
          "text": [
            "x_1:1.0\n",
            "x_2:0.0\n",
            "x_3:1.0\n",
            "x_4:0.0\n",
            "y_1:0.0\n",
            "y_2:1.0\n",
            "y_3:0.0\n",
            "y_4:1.0\n"
          ]
        }
      ]
    },
    {
      "cell_type": "code",
      "source": [
        "VNames = []\n",
        "for variables in model.variables():\n",
        "  VNames.append(variables.name)\n",
        "\n",
        "VValue = []\n",
        "for variables in model.variables():\n",
        "  VValue.append(np.round(variables.varValue, 2))\n",
        "\n",
        "data = {'Variables': VNames, 'Value': VValue}\n",
        "pd.DataFrame(data, index = range(1, len(VValue)+1))"
      ],
      "metadata": {
        "colab": {
          "base_uri": "https://localhost:8080/",
          "height": 300
        },
        "id": "CaRcpebBnZGf",
        "outputId": "01420135-6bb6-40b3-a41b-6773334714fe"
      },
      "execution_count": 8,
      "outputs": [
        {
          "output_type": "execute_result",
          "data": {
            "text/plain": [
              "  Variables  Value\n",
              "1       x_1    1.0\n",
              "2       x_2    0.0\n",
              "3       x_3    1.0\n",
              "4       x_4    0.0\n",
              "5       y_1    0.0\n",
              "6       y_2    1.0\n",
              "7       y_3    0.0\n",
              "8       y_4    1.0"
            ],
            "text/html": [
              "\n",
              "  <div id=\"df-4d599b9e-b7cc-43f5-90c5-0ef5239f23a7\" class=\"colab-df-container\">\n",
              "    <div>\n",
              "<style scoped>\n",
              "    .dataframe tbody tr th:only-of-type {\n",
              "        vertical-align: middle;\n",
              "    }\n",
              "\n",
              "    .dataframe tbody tr th {\n",
              "        vertical-align: top;\n",
              "    }\n",
              "\n",
              "    .dataframe thead th {\n",
              "        text-align: right;\n",
              "    }\n",
              "</style>\n",
              "<table border=\"1\" class=\"dataframe\">\n",
              "  <thead>\n",
              "    <tr style=\"text-align: right;\">\n",
              "      <th></th>\n",
              "      <th>Variables</th>\n",
              "      <th>Value</th>\n",
              "    </tr>\n",
              "  </thead>\n",
              "  <tbody>\n",
              "    <tr>\n",
              "      <th>1</th>\n",
              "      <td>x_1</td>\n",
              "      <td>1.0</td>\n",
              "    </tr>\n",
              "    <tr>\n",
              "      <th>2</th>\n",
              "      <td>x_2</td>\n",
              "      <td>0.0</td>\n",
              "    </tr>\n",
              "    <tr>\n",
              "      <th>3</th>\n",
              "      <td>x_3</td>\n",
              "      <td>1.0</td>\n",
              "    </tr>\n",
              "    <tr>\n",
              "      <th>4</th>\n",
              "      <td>x_4</td>\n",
              "      <td>0.0</td>\n",
              "    </tr>\n",
              "    <tr>\n",
              "      <th>5</th>\n",
              "      <td>y_1</td>\n",
              "      <td>0.0</td>\n",
              "    </tr>\n",
              "    <tr>\n",
              "      <th>6</th>\n",
              "      <td>y_2</td>\n",
              "      <td>1.0</td>\n",
              "    </tr>\n",
              "    <tr>\n",
              "      <th>7</th>\n",
              "      <td>y_3</td>\n",
              "      <td>0.0</td>\n",
              "    </tr>\n",
              "    <tr>\n",
              "      <th>8</th>\n",
              "      <td>y_4</td>\n",
              "      <td>1.0</td>\n",
              "    </tr>\n",
              "  </tbody>\n",
              "</table>\n",
              "</div>\n",
              "    <div class=\"colab-df-buttons\">\n",
              "\n",
              "  <div class=\"colab-df-container\">\n",
              "    <button class=\"colab-df-convert\" onclick=\"convertToInteractive('df-4d599b9e-b7cc-43f5-90c5-0ef5239f23a7')\"\n",
              "            title=\"Convert this dataframe to an interactive table.\"\n",
              "            style=\"display:none;\">\n",
              "\n",
              "  <svg xmlns=\"http://www.w3.org/2000/svg\" height=\"24px\" viewBox=\"0 -960 960 960\">\n",
              "    <path d=\"M120-120v-720h720v720H120Zm60-500h600v-160H180v160Zm220 220h160v-160H400v160Zm0 220h160v-160H400v160ZM180-400h160v-160H180v160Zm440 0h160v-160H620v160ZM180-180h160v-160H180v160Zm440 0h160v-160H620v160Z\"/>\n",
              "  </svg>\n",
              "    </button>\n",
              "\n",
              "  <style>\n",
              "    .colab-df-container {\n",
              "      display:flex;\n",
              "      gap: 12px;\n",
              "    }\n",
              "\n",
              "    .colab-df-convert {\n",
              "      background-color: #E8F0FE;\n",
              "      border: none;\n",
              "      border-radius: 50%;\n",
              "      cursor: pointer;\n",
              "      display: none;\n",
              "      fill: #1967D2;\n",
              "      height: 32px;\n",
              "      padding: 0 0 0 0;\n",
              "      width: 32px;\n",
              "    }\n",
              "\n",
              "    .colab-df-convert:hover {\n",
              "      background-color: #E2EBFA;\n",
              "      box-shadow: 0px 1px 2px rgba(60, 64, 67, 0.3), 0px 1px 3px 1px rgba(60, 64, 67, 0.15);\n",
              "      fill: #174EA6;\n",
              "    }\n",
              "\n",
              "    .colab-df-buttons div {\n",
              "      margin-bottom: 4px;\n",
              "    }\n",
              "\n",
              "    [theme=dark] .colab-df-convert {\n",
              "      background-color: #3B4455;\n",
              "      fill: #D2E3FC;\n",
              "    }\n",
              "\n",
              "    [theme=dark] .colab-df-convert:hover {\n",
              "      background-color: #434B5C;\n",
              "      box-shadow: 0px 1px 3px 1px rgba(0, 0, 0, 0.15);\n",
              "      filter: drop-shadow(0px 1px 2px rgba(0, 0, 0, 0.3));\n",
              "      fill: #FFFFFF;\n",
              "    }\n",
              "  </style>\n",
              "\n",
              "    <script>\n",
              "      const buttonEl =\n",
              "        document.querySelector('#df-4d599b9e-b7cc-43f5-90c5-0ef5239f23a7 button.colab-df-convert');\n",
              "      buttonEl.style.display =\n",
              "        google.colab.kernel.accessAllowed ? 'block' : 'none';\n",
              "\n",
              "      async function convertToInteractive(key) {\n",
              "        const element = document.querySelector('#df-4d599b9e-b7cc-43f5-90c5-0ef5239f23a7');\n",
              "        const dataTable =\n",
              "          await google.colab.kernel.invokeFunction('convertToInteractive',\n",
              "                                                    [key], {});\n",
              "        if (!dataTable) return;\n",
              "\n",
              "        const docLinkHtml = 'Like what you see? Visit the ' +\n",
              "          '<a target=\"_blank\" href=https://colab.research.google.com/notebooks/data_table.ipynb>data table notebook</a>'\n",
              "          + ' to learn more about interactive tables.';\n",
              "        element.innerHTML = '';\n",
              "        dataTable['output_type'] = 'display_data';\n",
              "        await google.colab.output.renderOutput(dataTable, element);\n",
              "        const docLink = document.createElement('div');\n",
              "        docLink.innerHTML = docLinkHtml;\n",
              "        element.appendChild(docLink);\n",
              "      }\n",
              "    </script>\n",
              "  </div>\n",
              "\n",
              "\n",
              "<div id=\"df-4b323982-40ec-4ae8-a3ec-69572364a3ef\">\n",
              "  <button class=\"colab-df-quickchart\" onclick=\"quickchart('df-4b323982-40ec-4ae8-a3ec-69572364a3ef')\"\n",
              "            title=\"Suggest charts\"\n",
              "            style=\"display:none;\">\n",
              "\n",
              "<svg xmlns=\"http://www.w3.org/2000/svg\" height=\"24px\"viewBox=\"0 0 24 24\"\n",
              "     width=\"24px\">\n",
              "    <g>\n",
              "        <path d=\"M19 3H5c-1.1 0-2 .9-2 2v14c0 1.1.9 2 2 2h14c1.1 0 2-.9 2-2V5c0-1.1-.9-2-2-2zM9 17H7v-7h2v7zm4 0h-2V7h2v10zm4 0h-2v-4h2v4z\"/>\n",
              "    </g>\n",
              "</svg>\n",
              "  </button>\n",
              "\n",
              "<style>\n",
              "  .colab-df-quickchart {\n",
              "      --bg-color: #E8F0FE;\n",
              "      --fill-color: #1967D2;\n",
              "      --hover-bg-color: #E2EBFA;\n",
              "      --hover-fill-color: #174EA6;\n",
              "      --disabled-fill-color: #AAA;\n",
              "      --disabled-bg-color: #DDD;\n",
              "  }\n",
              "\n",
              "  [theme=dark] .colab-df-quickchart {\n",
              "      --bg-color: #3B4455;\n",
              "      --fill-color: #D2E3FC;\n",
              "      --hover-bg-color: #434B5C;\n",
              "      --hover-fill-color: #FFFFFF;\n",
              "      --disabled-bg-color: #3B4455;\n",
              "      --disabled-fill-color: #666;\n",
              "  }\n",
              "\n",
              "  .colab-df-quickchart {\n",
              "    background-color: var(--bg-color);\n",
              "    border: none;\n",
              "    border-radius: 50%;\n",
              "    cursor: pointer;\n",
              "    display: none;\n",
              "    fill: var(--fill-color);\n",
              "    height: 32px;\n",
              "    padding: 0;\n",
              "    width: 32px;\n",
              "  }\n",
              "\n",
              "  .colab-df-quickchart:hover {\n",
              "    background-color: var(--hover-bg-color);\n",
              "    box-shadow: 0 1px 2px rgba(60, 64, 67, 0.3), 0 1px 3px 1px rgba(60, 64, 67, 0.15);\n",
              "    fill: var(--button-hover-fill-color);\n",
              "  }\n",
              "\n",
              "  .colab-df-quickchart-complete:disabled,\n",
              "  .colab-df-quickchart-complete:disabled:hover {\n",
              "    background-color: var(--disabled-bg-color);\n",
              "    fill: var(--disabled-fill-color);\n",
              "    box-shadow: none;\n",
              "  }\n",
              "\n",
              "  .colab-df-spinner {\n",
              "    border: 2px solid var(--fill-color);\n",
              "    border-color: transparent;\n",
              "    border-bottom-color: var(--fill-color);\n",
              "    animation:\n",
              "      spin 1s steps(1) infinite;\n",
              "  }\n",
              "\n",
              "  @keyframes spin {\n",
              "    0% {\n",
              "      border-color: transparent;\n",
              "      border-bottom-color: var(--fill-color);\n",
              "      border-left-color: var(--fill-color);\n",
              "    }\n",
              "    20% {\n",
              "      border-color: transparent;\n",
              "      border-left-color: var(--fill-color);\n",
              "      border-top-color: var(--fill-color);\n",
              "    }\n",
              "    30% {\n",
              "      border-color: transparent;\n",
              "      border-left-color: var(--fill-color);\n",
              "      border-top-color: var(--fill-color);\n",
              "      border-right-color: var(--fill-color);\n",
              "    }\n",
              "    40% {\n",
              "      border-color: transparent;\n",
              "      border-right-color: var(--fill-color);\n",
              "      border-top-color: var(--fill-color);\n",
              "    }\n",
              "    60% {\n",
              "      border-color: transparent;\n",
              "      border-right-color: var(--fill-color);\n",
              "    }\n",
              "    80% {\n",
              "      border-color: transparent;\n",
              "      border-right-color: var(--fill-color);\n",
              "      border-bottom-color: var(--fill-color);\n",
              "    }\n",
              "    90% {\n",
              "      border-color: transparent;\n",
              "      border-bottom-color: var(--fill-color);\n",
              "    }\n",
              "  }\n",
              "</style>\n",
              "\n",
              "  <script>\n",
              "    async function quickchart(key) {\n",
              "      const quickchartButtonEl =\n",
              "        document.querySelector('#' + key + ' button');\n",
              "      quickchartButtonEl.disabled = true;  // To prevent multiple clicks.\n",
              "      quickchartButtonEl.classList.add('colab-df-spinner');\n",
              "      try {\n",
              "        const charts = await google.colab.kernel.invokeFunction(\n",
              "            'suggestCharts', [key], {});\n",
              "      } catch (error) {\n",
              "        console.error('Error during call to suggestCharts:', error);\n",
              "      }\n",
              "      quickchartButtonEl.classList.remove('colab-df-spinner');\n",
              "      quickchartButtonEl.classList.add('colab-df-quickchart-complete');\n",
              "    }\n",
              "    (() => {\n",
              "      let quickchartButtonEl =\n",
              "        document.querySelector('#df-4b323982-40ec-4ae8-a3ec-69572364a3ef button');\n",
              "      quickchartButtonEl.style.display =\n",
              "        google.colab.kernel.accessAllowed ? 'block' : 'none';\n",
              "    })();\n",
              "  </script>\n",
              "</div>\n",
              "    </div>\n",
              "  </div>\n"
            ],
            "application/vnd.google.colaboratory.intrinsic+json": {
              "type": "dataframe",
              "summary": "{\n  \"name\": \"pd\",\n  \"rows\": 8,\n  \"fields\": [\n    {\n      \"column\": \"Variables\",\n      \"properties\": {\n        \"dtype\": \"string\",\n        \"num_unique_values\": 8,\n        \"samples\": [\n          \"x_2\",\n          \"y_2\",\n          \"x_1\"\n        ],\n        \"semantic_type\": \"\",\n        \"description\": \"\"\n      }\n    },\n    {\n      \"column\": \"Value\",\n      \"properties\": {\n        \"dtype\": \"number\",\n        \"std\": 0.5345224838248488,\n        \"min\": 0.0,\n        \"max\": 1.0,\n        \"num_unique_values\": 2,\n        \"samples\": [\n          0.0,\n          1.0\n        ],\n        \"semantic_type\": \"\",\n        \"description\": \"\"\n      }\n    }\n  ]\n}"
            }
          },
          "metadata": {},
          "execution_count": 8
        }
      ]
    },
    {
      "cell_type": "code",
      "source": [
        "print('Current Status: ', LpStatus[model.status])"
      ],
      "metadata": {
        "colab": {
          "base_uri": "https://localhost:8080/"
        },
        "id": "T-F_2DcuA4Xc",
        "outputId": "94fcf1dd-985e-4bc1-9edd-a6651bd62b3b"
      },
      "execution_count": 9,
      "outputs": [
        {
          "output_type": "stream",
          "name": "stdout",
          "text": [
            "Current Status:  Optimal\n"
          ]
        }
      ]
    },
    {
      "cell_type": "markdown",
      "source": [
        "## Using Pyomo Library"
      ],
      "metadata": {
        "id": "cFccEhQMsrAM"
      }
    },
    {
      "cell_type": "code",
      "source": [
        "!pip install pyomo\n",
        "!apt-get install -y -qq glpk-utils\n",
        "\n",
        "from pyomo.environ import *"
      ],
      "metadata": {
        "colab": {
          "base_uri": "https://localhost:8080/"
        },
        "collapsed": true,
        "id": "8ZK40M_vNoJG",
        "outputId": "9e85a649-e5ae-4913-ed11-bb59949b5887"
      },
      "execution_count": 10,
      "outputs": [
        {
          "output_type": "stream",
          "name": "stdout",
          "text": [
            "Requirement already satisfied: pyomo in /usr/local/lib/python3.10/dist-packages (6.8.0)\n",
            "Requirement already satisfied: ply in /usr/local/lib/python3.10/dist-packages (from pyomo) (3.11)\n"
          ]
        }
      ]
    },
    {
      "cell_type": "code",
      "source": [
        "model = ConcreteModel()\n",
        "\n",
        "model.indices = Set(initialize=list(range(1,5)))\n",
        "model.x = Var(model.indices, domain=Binary)\n",
        "model.y = Var(model.indices, domain=Binary)\n",
        "\n",
        "model.obj = Objective(expr=4.5*model.x[1]+7.8*model.x[2]+3.6*model.x[3]+2.9*model.x[4]+4.9*model.y[1]+7.2*model.y[2]+4.3*model.y[3]+3.1*model.y[4], sense=minimize)\n",
        "\n",
        "model.constraint1 = Constraint(expr=model.x[1]+model.x[2]+model.x[3]+model.x[4] == 2)\n",
        "model.constraint2 = Constraint(expr=model.y[1]+model.y[2]+model.y[3]+model.y[4] == 2)\n",
        "model.constraint3 = Constraint(expr=model.x[1]+model.y[1] == 1)\n",
        "model.constraint4 = Constraint(expr=model.x[2]+model.y[2] == 1)\n",
        "model.constraint5 = Constraint(expr=model.x[3]+model.y[3] == 1)\n",
        "model.constraint6 = Constraint(expr=model.x[4]+model.y[4] == 1)\n",
        "\n",
        "SolverFactory('glpk').solve(model)\n",
        "\n",
        "model.display()"
      ],
      "metadata": {
        "colab": {
          "base_uri": "https://localhost:8080/"
        },
        "id": "2iStH00c_XKL",
        "outputId": "1340ec09-777d-4f8c-f45c-f555fdaf128a"
      },
      "execution_count": 11,
      "outputs": [
        {
          "output_type": "stream",
          "name": "stdout",
          "text": [
            "Model unknown\n",
            "\n",
            "  Variables:\n",
            "    x : Size=4, Index=indices\n",
            "        Key : Lower : Value : Upper : Fixed : Stale : Domain\n",
            "          1 :     0 :   1.0 :     1 : False : False : Binary\n",
            "          2 :     0 :   0.0 :     1 : False : False : Binary\n",
            "          3 :     0 :   1.0 :     1 : False : False : Binary\n",
            "          4 :     0 :   0.0 :     1 : False : False : Binary\n",
            "    y : Size=4, Index=indices\n",
            "        Key : Lower : Value : Upper : Fixed : Stale : Domain\n",
            "          1 :     0 :   0.0 :     1 : False : False : Binary\n",
            "          2 :     0 :   1.0 :     1 : False : False : Binary\n",
            "          3 :     0 :   0.0 :     1 : False : False : Binary\n",
            "          4 :     0 :   1.0 :     1 : False : False : Binary\n",
            "\n",
            "  Objectives:\n",
            "    obj : Size=1, Index=None, Active=True\n",
            "        Key  : Active : Value\n",
            "        None :   True : 18.400000000000002\n",
            "\n",
            "  Constraints:\n",
            "    constraint1 : Size=1\n",
            "        Key  : Lower : Body : Upper\n",
            "        None :   2.0 :  2.0 :   2.0\n",
            "    constraint2 : Size=1\n",
            "        Key  : Lower : Body : Upper\n",
            "        None :   2.0 :  2.0 :   2.0\n",
            "    constraint3 : Size=1\n",
            "        Key  : Lower : Body : Upper\n",
            "        None :   1.0 :  1.0 :   1.0\n",
            "    constraint4 : Size=1\n",
            "        Key  : Lower : Body : Upper\n",
            "        None :   1.0 :  1.0 :   1.0\n",
            "    constraint5 : Size=1\n",
            "        Key  : Lower : Body : Upper\n",
            "        None :   1.0 :  1.0 :   1.0\n",
            "    constraint6 : Size=1\n",
            "        Key  : Lower : Body : Upper\n",
            "        None :   1.0 :  1.0 :   1.0\n"
          ]
        }
      ]
    },
    {
      "cell_type": "code",
      "source": [
        "print(\"Variable values:\")\n",
        "model.x.pprint()\n",
        "model.y.pprint()"
      ],
      "metadata": {
        "colab": {
          "base_uri": "https://localhost:8080/"
        },
        "id": "TiDfB9ZbAuG8",
        "outputId": "536244f0-398d-4fd7-9ee6-b120cdbe6857"
      },
      "execution_count": 12,
      "outputs": [
        {
          "output_type": "stream",
          "name": "stdout",
          "text": [
            "Variable values:\n",
            "x : Size=4, Index=indices\n",
            "    Key : Lower : Value : Upper : Fixed : Stale : Domain\n",
            "      1 :     0 :   1.0 :     1 : False : False : Binary\n",
            "      2 :     0 :   0.0 :     1 : False : False : Binary\n",
            "      3 :     0 :   1.0 :     1 : False : False : Binary\n",
            "      4 :     0 :   0.0 :     1 : False : False : Binary\n",
            "y : Size=4, Index=indices\n",
            "    Key : Lower : Value : Upper : Fixed : Stale : Domain\n",
            "      1 :     0 :   0.0 :     1 : False : False : Binary\n",
            "      2 :     0 :   1.0 :     1 : False : False : Binary\n",
            "      3 :     0 :   0.0 :     1 : False : False : Binary\n",
            "      4 :     0 :   1.0 :     1 : False : False : Binary\n"
          ]
        }
      ]
    }
  ]
}