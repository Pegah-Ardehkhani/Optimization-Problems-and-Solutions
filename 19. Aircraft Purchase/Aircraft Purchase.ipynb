{
  "nbformat": 4,
  "nbformat_minor": 0,
  "metadata": {
    "colab": {
      "provenance": []
    },
    "kernelspec": {
      "name": "python3",
      "display_name": "Python 3"
    },
    "language_info": {
      "name": "python"
    }
  },
  "cells": [
    {
      "cell_type": "markdown",
      "source": [
        "# **Aircraft Purchase:**"
      ],
      "metadata": {
        "id": "DuEhY50Rz9_U"
      }
    },
    {
      "cell_type": "markdown",
      "source": [
        "Problem Source: F. S. Hillier and G. J. Lieberman, \"Introduction to Mathematical Programming,\" 2nd Edition, McGraw-Hill Inc., New York, 1995."
      ],
      "metadata": {
        "id": "yP_QF2ZMe0GL"
      }
    },
    {
      "cell_type": "markdown",
      "source": [
        "**Problem Statement:**\n",
        "\n",
        "An airline company is considering the purchase of new long-, medium-, and short-range jet passenger airplanes. The purchase price would be $ \\$33.5$ million for each longrange plane, $ \\$25$ million for each medium-range plane, and $ \\$17.5$ million for each short-range plane. The board of directors has authorized a maximum commitment of $ \\$750$ million for these purchases. Regardless of which airplanes are purchased, air travel of all distances is expected to\n",
        "be sufficiently large that these planes would be utilized at essentially maximum capacity. It is estimated that the net annual profit (after capital recovery costs are subtracted) would be $ \\$2.1$ million per long-range plane, $ \\$1.5$ million per medium-range plane, and $ \\$1.15$ million per shortrange plane.\n",
        "\n",
        "It is predicted that enough trained pilots will be available to the company to crew $30$ new airplanes. If only short-range planes were purchased, the maintenance facilities would be able to handle $40$ new planes. However, each medium-range plane is equivalent to $1 \\frac{1}{3}$ short-range planes, and each long-range plane is equivalent to $1 \\frac{2}{3}$ short-range planes in terms of their use of the maintenance facilities.\n",
        "\n",
        "The information given here was obtained by a preliminary analysis of the problem. A more detailed analysis will be conducted subsequently. However, using the preceding data as a first approximation, management wishes to know how many planes of each type should be purchased to maximize profit."
      ],
      "metadata": {
        "id": "KBjjqLB2dv-S"
      }
    },
    {
      "cell_type": "markdown",
      "source": [
        "**Modeling:**\n",
        "\n",
        "$x_{i} \\qquad  i\\in {1,2,3} \\quad $   integer variables for number of planes purchased\n",
        "\n",
        "$\\\\ $\n",
        "\n",
        "$Objective\\ Function:\\\\ $\n",
        "\n",
        "$Max\\ Z = 2.1x_{1}+1.5x_{2}+1.15x_{3}$\n",
        "\n",
        "$\\\\ $\n",
        "\n",
        "$Constraints:\\\\ $\n",
        "\n",
        "Budget Constraint:\n",
        "\n",
        "$33.5x_{1}+25x_{2}+17.5x_{3} \\leq 750$\n",
        "\n",
        "Number of Planes Constraint:\n",
        "\n",
        "$x_{1}+x_{2}+x_{3} \\leq 30$\n",
        "\n",
        "Maintenance Facilities Constraint:\n",
        "\n",
        "$1\\frac{2}{3}x_{1}+1\\frac{1}{3}x_{2}+x_{3} \\leq 40$\n",
        "\n",
        "Binary Constraints:\n",
        "\n",
        "$x_{1},x_{2},x_{3} \\in {0,1}$"
      ],
      "metadata": {
        "id": "WWBEO_hUfsr7"
      }
    },
    {
      "cell_type": "markdown",
      "source": [
        "## Using Pulp Library"
      ],
      "metadata": {
        "id": "cFccEhQMsrAM"
      }
    },
    {
      "cell_type": "code",
      "execution_count": 1,
      "metadata": {
        "colab": {
          "base_uri": "https://localhost:8080/"
        },
        "id": "seHxhvgpLad4",
        "outputId": "e14ef310-88cc-4398-c062-e62db2694f53"
      },
      "outputs": [
        {
          "output_type": "stream",
          "name": "stdout",
          "text": [
            "Requirement already satisfied: pulp in /usr/local/lib/python3.10/dist-packages (2.9.0)\n"
          ]
        }
      ],
      "source": [
        "!pip install pulp\n",
        "from pulp import *\n",
        "import numpy as np\n",
        "import pandas as pd"
      ]
    },
    {
      "cell_type": "code",
      "source": [
        "#Defining Variables\n",
        "\n",
        "x = LpVariable.dicts('x', ((i) for i in range(1,4)), lowBound=0, cat='Integer')"
      ],
      "metadata": {
        "id": "AYQb9E_nOxRo"
      },
      "execution_count": 2,
      "outputs": []
    },
    {
      "cell_type": "code",
      "source": [
        "#Defining Objective Function\n",
        "\n",
        "model = LpProblem('model', LpMaximize)\n",
        "\n",
        "model += 2.1*x[1]+1.5*x[2]+1.15*x[3]"
      ],
      "metadata": {
        "id": "xuM4rJoYjMzO"
      },
      "execution_count": 3,
      "outputs": []
    },
    {
      "cell_type": "code",
      "source": [
        "#Constraints\n",
        "\n",
        "#Budget constraint\n",
        "model += 33.5*x[1]+25*x[2]+17.5*x[3] <= 750\n",
        "\n",
        "#Number of planes constraint\n",
        "model += x[1]+x[2]+x[3] <= 30\n",
        "\n",
        "#Maintenance facilities constraint:\n",
        "model += (5/3)*x[1]+(4/3)*x[2]+x[3] <= 40"
      ],
      "metadata": {
        "id": "OCJGNFpFjYpu"
      },
      "execution_count": 4,
      "outputs": []
    },
    {
      "cell_type": "code",
      "source": [
        "#Model summary\n",
        "\n",
        "model"
      ],
      "metadata": {
        "colab": {
          "base_uri": "https://localhost:8080/"
        },
        "id": "CiCPkZbckKQn",
        "outputId": "f23be408-07e8-43a3-8d5e-d9329f4e2a70"
      },
      "execution_count": 5,
      "outputs": [
        {
          "output_type": "execute_result",
          "data": {
            "text/plain": [
              "model:\n",
              "MAXIMIZE\n",
              "2.1*x_1 + 1.5*x_2 + 1.15*x_3 + 0.0\n",
              "SUBJECT TO\n",
              "_C1: 33.5 x_1 + 25 x_2 + 17.5 x_3 <= 750\n",
              "\n",
              "_C2: x_1 + x_2 + x_3 <= 30\n",
              "\n",
              "_C3: 1.66666666667 x_1 + 1.33333333333 x_2 + x_3 <= 40\n",
              "\n",
              "VARIABLES\n",
              "0 <= x_1 Integer\n",
              "0 <= x_2 Integer\n",
              "0 <= x_3 Integer"
            ]
          },
          "metadata": {},
          "execution_count": 5
        }
      ]
    },
    {
      "cell_type": "code",
      "source": [
        "#Solving model\n",
        "\n",
        "model.solve()\n",
        "print('Optimal Solution:', pulp.value(model.objective))"
      ],
      "metadata": {
        "colab": {
          "base_uri": "https://localhost:8080/"
        },
        "id": "qvGxvQIhkL_F",
        "outputId": "a9948644-6af2-4585-bc37-eec37dbc2975"
      },
      "execution_count": 6,
      "outputs": [
        {
          "output_type": "stream",
          "name": "stdout",
          "text": [
            "Optimal Solution: 47.8\n"
          ]
        }
      ]
    },
    {
      "cell_type": "code",
      "source": [
        "for variables in model.variables():\n",
        "  print(f'{variables.name}:{variables.varValue}')"
      ],
      "metadata": {
        "colab": {
          "base_uri": "https://localhost:8080/"
        },
        "id": "PCRzYIOwkOa-",
        "outputId": "fc75cbdb-1231-40d8-fbc8-b414a5549640"
      },
      "execution_count": 7,
      "outputs": [
        {
          "output_type": "stream",
          "name": "stdout",
          "text": [
            "x_1:14.0\n",
            "x_2:0.0\n",
            "x_3:16.0\n"
          ]
        }
      ]
    },
    {
      "cell_type": "code",
      "source": [
        "VNames = []\n",
        "for variables in model.variables():\n",
        "  VNames.append(variables.name)\n",
        "\n",
        "VValue = []\n",
        "for variables in model.variables():\n",
        "  VValue.append(np.round(variables.varValue, 2))\n",
        "\n",
        "data = {'Variables': VNames, 'Value': VValue}\n",
        "pd.DataFrame(data, index = range(1, len(VValue)+1))"
      ],
      "metadata": {
        "colab": {
          "base_uri": "https://localhost:8080/",
          "height": 143
        },
        "id": "uXxsnBQFkQpe",
        "outputId": "d480212b-b881-4df2-e705-24ec7dd1466f"
      },
      "execution_count": 8,
      "outputs": [
        {
          "output_type": "execute_result",
          "data": {
            "text/plain": [
              "  Variables  Value\n",
              "1       x_1   14.0\n",
              "2       x_2    0.0\n",
              "3       x_3   16.0"
            ],
            "text/html": [
              "\n",
              "  <div id=\"df-5e0bc513-87ea-4194-88fd-478284147bf7\" class=\"colab-df-container\">\n",
              "    <div>\n",
              "<style scoped>\n",
              "    .dataframe tbody tr th:only-of-type {\n",
              "        vertical-align: middle;\n",
              "    }\n",
              "\n",
              "    .dataframe tbody tr th {\n",
              "        vertical-align: top;\n",
              "    }\n",
              "\n",
              "    .dataframe thead th {\n",
              "        text-align: right;\n",
              "    }\n",
              "</style>\n",
              "<table border=\"1\" class=\"dataframe\">\n",
              "  <thead>\n",
              "    <tr style=\"text-align: right;\">\n",
              "      <th></th>\n",
              "      <th>Variables</th>\n",
              "      <th>Value</th>\n",
              "    </tr>\n",
              "  </thead>\n",
              "  <tbody>\n",
              "    <tr>\n",
              "      <th>1</th>\n",
              "      <td>x_1</td>\n",
              "      <td>14.0</td>\n",
              "    </tr>\n",
              "    <tr>\n",
              "      <th>2</th>\n",
              "      <td>x_2</td>\n",
              "      <td>0.0</td>\n",
              "    </tr>\n",
              "    <tr>\n",
              "      <th>3</th>\n",
              "      <td>x_3</td>\n",
              "      <td>16.0</td>\n",
              "    </tr>\n",
              "  </tbody>\n",
              "</table>\n",
              "</div>\n",
              "    <div class=\"colab-df-buttons\">\n",
              "\n",
              "  <div class=\"colab-df-container\">\n",
              "    <button class=\"colab-df-convert\" onclick=\"convertToInteractive('df-5e0bc513-87ea-4194-88fd-478284147bf7')\"\n",
              "            title=\"Convert this dataframe to an interactive table.\"\n",
              "            style=\"display:none;\">\n",
              "\n",
              "  <svg xmlns=\"http://www.w3.org/2000/svg\" height=\"24px\" viewBox=\"0 -960 960 960\">\n",
              "    <path d=\"M120-120v-720h720v720H120Zm60-500h600v-160H180v160Zm220 220h160v-160H400v160Zm0 220h160v-160H400v160ZM180-400h160v-160H180v160Zm440 0h160v-160H620v160ZM180-180h160v-160H180v160Zm440 0h160v-160H620v160Z\"/>\n",
              "  </svg>\n",
              "    </button>\n",
              "\n",
              "  <style>\n",
              "    .colab-df-container {\n",
              "      display:flex;\n",
              "      gap: 12px;\n",
              "    }\n",
              "\n",
              "    .colab-df-convert {\n",
              "      background-color: #E8F0FE;\n",
              "      border: none;\n",
              "      border-radius: 50%;\n",
              "      cursor: pointer;\n",
              "      display: none;\n",
              "      fill: #1967D2;\n",
              "      height: 32px;\n",
              "      padding: 0 0 0 0;\n",
              "      width: 32px;\n",
              "    }\n",
              "\n",
              "    .colab-df-convert:hover {\n",
              "      background-color: #E2EBFA;\n",
              "      box-shadow: 0px 1px 2px rgba(60, 64, 67, 0.3), 0px 1px 3px 1px rgba(60, 64, 67, 0.15);\n",
              "      fill: #174EA6;\n",
              "    }\n",
              "\n",
              "    .colab-df-buttons div {\n",
              "      margin-bottom: 4px;\n",
              "    }\n",
              "\n",
              "    [theme=dark] .colab-df-convert {\n",
              "      background-color: #3B4455;\n",
              "      fill: #D2E3FC;\n",
              "    }\n",
              "\n",
              "    [theme=dark] .colab-df-convert:hover {\n",
              "      background-color: #434B5C;\n",
              "      box-shadow: 0px 1px 3px 1px rgba(0, 0, 0, 0.15);\n",
              "      filter: drop-shadow(0px 1px 2px rgba(0, 0, 0, 0.3));\n",
              "      fill: #FFFFFF;\n",
              "    }\n",
              "  </style>\n",
              "\n",
              "    <script>\n",
              "      const buttonEl =\n",
              "        document.querySelector('#df-5e0bc513-87ea-4194-88fd-478284147bf7 button.colab-df-convert');\n",
              "      buttonEl.style.display =\n",
              "        google.colab.kernel.accessAllowed ? 'block' : 'none';\n",
              "\n",
              "      async function convertToInteractive(key) {\n",
              "        const element = document.querySelector('#df-5e0bc513-87ea-4194-88fd-478284147bf7');\n",
              "        const dataTable =\n",
              "          await google.colab.kernel.invokeFunction('convertToInteractive',\n",
              "                                                    [key], {});\n",
              "        if (!dataTable) return;\n",
              "\n",
              "        const docLinkHtml = 'Like what you see? Visit the ' +\n",
              "          '<a target=\"_blank\" href=https://colab.research.google.com/notebooks/data_table.ipynb>data table notebook</a>'\n",
              "          + ' to learn more about interactive tables.';\n",
              "        element.innerHTML = '';\n",
              "        dataTable['output_type'] = 'display_data';\n",
              "        await google.colab.output.renderOutput(dataTable, element);\n",
              "        const docLink = document.createElement('div');\n",
              "        docLink.innerHTML = docLinkHtml;\n",
              "        element.appendChild(docLink);\n",
              "      }\n",
              "    </script>\n",
              "  </div>\n",
              "\n",
              "\n",
              "<div id=\"df-81ce3b99-c563-4d37-9651-f0905029d8e5\">\n",
              "  <button class=\"colab-df-quickchart\" onclick=\"quickchart('df-81ce3b99-c563-4d37-9651-f0905029d8e5')\"\n",
              "            title=\"Suggest charts\"\n",
              "            style=\"display:none;\">\n",
              "\n",
              "<svg xmlns=\"http://www.w3.org/2000/svg\" height=\"24px\"viewBox=\"0 0 24 24\"\n",
              "     width=\"24px\">\n",
              "    <g>\n",
              "        <path d=\"M19 3H5c-1.1 0-2 .9-2 2v14c0 1.1.9 2 2 2h14c1.1 0 2-.9 2-2V5c0-1.1-.9-2-2-2zM9 17H7v-7h2v7zm4 0h-2V7h2v10zm4 0h-2v-4h2v4z\"/>\n",
              "    </g>\n",
              "</svg>\n",
              "  </button>\n",
              "\n",
              "<style>\n",
              "  .colab-df-quickchart {\n",
              "      --bg-color: #E8F0FE;\n",
              "      --fill-color: #1967D2;\n",
              "      --hover-bg-color: #E2EBFA;\n",
              "      --hover-fill-color: #174EA6;\n",
              "      --disabled-fill-color: #AAA;\n",
              "      --disabled-bg-color: #DDD;\n",
              "  }\n",
              "\n",
              "  [theme=dark] .colab-df-quickchart {\n",
              "      --bg-color: #3B4455;\n",
              "      --fill-color: #D2E3FC;\n",
              "      --hover-bg-color: #434B5C;\n",
              "      --hover-fill-color: #FFFFFF;\n",
              "      --disabled-bg-color: #3B4455;\n",
              "      --disabled-fill-color: #666;\n",
              "  }\n",
              "\n",
              "  .colab-df-quickchart {\n",
              "    background-color: var(--bg-color);\n",
              "    border: none;\n",
              "    border-radius: 50%;\n",
              "    cursor: pointer;\n",
              "    display: none;\n",
              "    fill: var(--fill-color);\n",
              "    height: 32px;\n",
              "    padding: 0;\n",
              "    width: 32px;\n",
              "  }\n",
              "\n",
              "  .colab-df-quickchart:hover {\n",
              "    background-color: var(--hover-bg-color);\n",
              "    box-shadow: 0 1px 2px rgba(60, 64, 67, 0.3), 0 1px 3px 1px rgba(60, 64, 67, 0.15);\n",
              "    fill: var(--button-hover-fill-color);\n",
              "  }\n",
              "\n",
              "  .colab-df-quickchart-complete:disabled,\n",
              "  .colab-df-quickchart-complete:disabled:hover {\n",
              "    background-color: var(--disabled-bg-color);\n",
              "    fill: var(--disabled-fill-color);\n",
              "    box-shadow: none;\n",
              "  }\n",
              "\n",
              "  .colab-df-spinner {\n",
              "    border: 2px solid var(--fill-color);\n",
              "    border-color: transparent;\n",
              "    border-bottom-color: var(--fill-color);\n",
              "    animation:\n",
              "      spin 1s steps(1) infinite;\n",
              "  }\n",
              "\n",
              "  @keyframes spin {\n",
              "    0% {\n",
              "      border-color: transparent;\n",
              "      border-bottom-color: var(--fill-color);\n",
              "      border-left-color: var(--fill-color);\n",
              "    }\n",
              "    20% {\n",
              "      border-color: transparent;\n",
              "      border-left-color: var(--fill-color);\n",
              "      border-top-color: var(--fill-color);\n",
              "    }\n",
              "    30% {\n",
              "      border-color: transparent;\n",
              "      border-left-color: var(--fill-color);\n",
              "      border-top-color: var(--fill-color);\n",
              "      border-right-color: var(--fill-color);\n",
              "    }\n",
              "    40% {\n",
              "      border-color: transparent;\n",
              "      border-right-color: var(--fill-color);\n",
              "      border-top-color: var(--fill-color);\n",
              "    }\n",
              "    60% {\n",
              "      border-color: transparent;\n",
              "      border-right-color: var(--fill-color);\n",
              "    }\n",
              "    80% {\n",
              "      border-color: transparent;\n",
              "      border-right-color: var(--fill-color);\n",
              "      border-bottom-color: var(--fill-color);\n",
              "    }\n",
              "    90% {\n",
              "      border-color: transparent;\n",
              "      border-bottom-color: var(--fill-color);\n",
              "    }\n",
              "  }\n",
              "</style>\n",
              "\n",
              "  <script>\n",
              "    async function quickchart(key) {\n",
              "      const quickchartButtonEl =\n",
              "        document.querySelector('#' + key + ' button');\n",
              "      quickchartButtonEl.disabled = true;  // To prevent multiple clicks.\n",
              "      quickchartButtonEl.classList.add('colab-df-spinner');\n",
              "      try {\n",
              "        const charts = await google.colab.kernel.invokeFunction(\n",
              "            'suggestCharts', [key], {});\n",
              "      } catch (error) {\n",
              "        console.error('Error during call to suggestCharts:', error);\n",
              "      }\n",
              "      quickchartButtonEl.classList.remove('colab-df-spinner');\n",
              "      quickchartButtonEl.classList.add('colab-df-quickchart-complete');\n",
              "    }\n",
              "    (() => {\n",
              "      let quickchartButtonEl =\n",
              "        document.querySelector('#df-81ce3b99-c563-4d37-9651-f0905029d8e5 button');\n",
              "      quickchartButtonEl.style.display =\n",
              "        google.colab.kernel.accessAllowed ? 'block' : 'none';\n",
              "    })();\n",
              "  </script>\n",
              "</div>\n",
              "\n",
              "    </div>\n",
              "  </div>\n"
            ],
            "application/vnd.google.colaboratory.intrinsic+json": {
              "type": "dataframe",
              "summary": "{\n  \"name\": \"pd\",\n  \"rows\": 3,\n  \"fields\": [\n    {\n      \"column\": \"Variables\",\n      \"properties\": {\n        \"dtype\": \"string\",\n        \"num_unique_values\": 3,\n        \"samples\": [\n          \"x_1\",\n          \"x_2\",\n          \"x_3\"\n        ],\n        \"semantic_type\": \"\",\n        \"description\": \"\"\n      }\n    },\n    {\n      \"column\": \"Value\",\n      \"properties\": {\n        \"dtype\": \"number\",\n        \"std\": 8.717797887081348,\n        \"min\": 0.0,\n        \"max\": 16.0,\n        \"num_unique_values\": 3,\n        \"samples\": [\n          14.0,\n          0.0,\n          16.0\n        ],\n        \"semantic_type\": \"\",\n        \"description\": \"\"\n      }\n    }\n  ]\n}"
            }
          },
          "metadata": {},
          "execution_count": 8
        }
      ]
    },
    {
      "cell_type": "code",
      "source": [
        "print('Current Status: ', LpStatus[model.status])"
      ],
      "metadata": {
        "colab": {
          "base_uri": "https://localhost:8080/"
        },
        "id": "IfOV7HGokUJ1",
        "outputId": "3801741c-f2d8-4a49-d9aa-d96e182cf900"
      },
      "execution_count": 9,
      "outputs": [
        {
          "output_type": "stream",
          "name": "stdout",
          "text": [
            "Current Status:  Optimal\n"
          ]
        }
      ]
    },
    {
      "cell_type": "markdown",
      "source": [
        "## Using Pyomo Library"
      ],
      "metadata": {
        "id": "Q-pICggX6pAZ"
      }
    },
    {
      "cell_type": "code",
      "source": [
        "!pip install pyomo\n",
        "!apt-get install -y -qq glpk-utils\n",
        "\n",
        "from pyomo.environ import *"
      ],
      "metadata": {
        "colab": {
          "base_uri": "https://localhost:8080/"
        },
        "id": "PjOgMX9ZCJcT",
        "outputId": "fc7f08a9-cf84-4d01-cbca-6a7e83254c14",
        "collapsed": true
      },
      "execution_count": 10,
      "outputs": [
        {
          "output_type": "stream",
          "name": "stdout",
          "text": [
            "Requirement already satisfied: pyomo in /usr/local/lib/python3.10/dist-packages (6.8.0)\n",
            "Requirement already satisfied: ply in /usr/local/lib/python3.10/dist-packages (from pyomo) (3.11)\n"
          ]
        }
      ]
    },
    {
      "cell_type": "code",
      "source": [
        "model = ConcreteModel()\n",
        "\n",
        "model.indices = Set(initialize=list(range(1,4)))\n",
        "model.x = Var(model.indices, bounds=(0, None), domain=Integers)\n",
        "\n",
        "model.obj = Objective(expr=2.1*model.x[1]+1.5*model.x[2]+1.15*model.x[3], sense=maximize)\n",
        "\n",
        "model.constraint1 = Constraint(expr=33.5*model.x[1]+25*model.x[2]+17.5*model.x[3] <= 750)\n",
        "model.constraint2 = Constraint(expr=model.x[1]+model.x[2]+model.x[3] <= 30)\n",
        "model.constraint3 = Constraint(expr=(5/3)*model.x[1]+(4/3)*model.x[2]+model.x[3] <= 40)\n",
        "\n",
        "SolverFactory('glpk').solve(model)\n",
        "\n",
        "model.display()"
      ],
      "metadata": {
        "colab": {
          "base_uri": "https://localhost:8080/"
        },
        "id": "9uDuLQI3mZG-",
        "outputId": "41de4881-51f2-4de7-b6c1-2bb5b81889ba"
      },
      "execution_count": 11,
      "outputs": [
        {
          "output_type": "stream",
          "name": "stdout",
          "text": [
            "Model unknown\n",
            "\n",
            "  Variables:\n",
            "    x : Size=3, Index=indices\n",
            "        Key : Lower : Value : Upper : Fixed : Stale : Domain\n",
            "          1 :     0 :  14.0 :  None : False : False : Integers\n",
            "          2 :     0 :   0.0 :  None : False : False : Integers\n",
            "          3 :     0 :  16.0 :  None : False : False : Integers\n",
            "\n",
            "  Objectives:\n",
            "    obj : Size=1, Index=None, Active=True\n",
            "        Key  : Active : Value\n",
            "        None :   True :  47.8\n",
            "\n",
            "  Constraints:\n",
            "    constraint1 : Size=1\n",
            "        Key  : Lower : Body  : Upper\n",
            "        None :  None : 749.0 : 750.0\n",
            "    constraint2 : Size=1\n",
            "        Key  : Lower : Body : Upper\n",
            "        None :  None : 30.0 :  30.0\n",
            "    constraint3 : Size=1\n",
            "        Key  : Lower : Body               : Upper\n",
            "        None :  None : 39.333333333333336 :  40.0\n"
          ]
        }
      ]
    },
    {
      "cell_type": "code",
      "source": [
        "print(\"Variable values:\")\n",
        "model.x.pprint()"
      ],
      "metadata": {
        "colab": {
          "base_uri": "https://localhost:8080/"
        },
        "id": "wX4Vi5tDnm20",
        "outputId": "de59129b-574c-4cfc-a7d3-e9e34c1afd6a"
      },
      "execution_count": 12,
      "outputs": [
        {
          "output_type": "stream",
          "name": "stdout",
          "text": [
            "Variable values:\n",
            "x : Size=3, Index=indices\n",
            "    Key : Lower : Value : Upper : Fixed : Stale : Domain\n",
            "      1 :     0 :  14.0 :  None : False : False : Integers\n",
            "      2 :     0 :   0.0 :  None : False : False : Integers\n",
            "      3 :     0 :  16.0 :  None : False : False : Integers\n"
          ]
        }
      ]
    }
  ]
}