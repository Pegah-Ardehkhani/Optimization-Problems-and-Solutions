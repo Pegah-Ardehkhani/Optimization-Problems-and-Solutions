{
  "nbformat": 4,
  "nbformat_minor": 0,
  "metadata": {
    "colab": {
      "provenance": []
    },
    "kernelspec": {
      "name": "python3",
      "display_name": "Python 3"
    },
    "language_info": {
      "name": "python"
    }
  },
  "cells": [
    {
      "cell_type": "markdown",
      "source": [
        "# **Optimal Product Selection:**"
      ],
      "metadata": {
        "id": "DuEhY50Rz9_U"
      }
    },
    {
      "cell_type": "markdown",
      "source": [
        "Problem Source: F. S. Hillier and G. J. Lieberman, \"Introduction to Mathematical Programming,\" 2nd Edition, McGraw-Hill Inc., New York, 1995."
      ],
      "metadata": {
        "id": "yP_QF2ZMe0GL"
      }
    },
    {
      "cell_type": "markdown",
      "source": [
        "**Problem Statement:**\n",
        "\n",
        "A toy manufacturer has developed two new toys for possible inclusion in its product line for the upcoming Christmas season. Setting up the production facilities to begin production would cost $ \\$50,000$ for toy $1$ and $ \\$80,000$ for toy $2$. Once these costs are covered, the toys would generate a unit profit of $ \\$10$ for toy $1$ and $ \\$15$ for toy $2$.\n",
        "\n",
        "The company has two factories that are capable of producing these toys. However, to avoid doubling the start-up costs, just one factory would be used and the choice would be based on maximizing profit. For administrative reasons, the same factory would be used for both new toys if both are produced.\n",
        "\n",
        "Toy $1$ can be produced at the rate of $50$ per hour in factory $1$ and $40$ per hour in factory $2$. Toy $2$ can be produced at the rate of $40$ per hour in factory $1$ and $25$ per hour in factory $2$. Factories $1$ and $2$, respectively, have $500$ and $700$ hours of production time available before Christmas that could be used to produce these toys.\n",
        "\n",
        "It is not known whether these two toys would be continued after Christmas. Therefore, the problem is to determine how many units (if any) of each new toy should be produced before Christmas in order to maximize the total profit."
      ],
      "metadata": {
        "id": "pjNnTYDaLcFG"
      }
    },
    {
      "cell_type": "markdown",
      "source": [
        "**Modeling:**\n",
        "\n",
        "$x_{i} \\qquad  i\\in {1,2} \\quad $   continuous variables for number of units of Toys produced\n",
        "\n",
        "$y_{j} \\qquad  j\\in {1,2} \\quad $   binary variable if Factory j is chosen for production\n",
        "\n",
        "$\\\\ $\n",
        "\n",
        "$Objective\\ Function:\\\\ $\n",
        "\n",
        "$Max\\ Z = 10x_{1}+15x_{2}-50000y_{1}-80000y_{2}$\n",
        "\n",
        "$\\\\ $\n",
        "\n",
        "$Constraints:\\\\ $\n",
        "\n",
        "Only one factory can be chosen:\n",
        "\n",
        "$y_{1}+y_{2}=1$\n",
        "\n",
        "Production time constraints: Each factory has a limited number of hours available, and the number of units produced for each toy depends on the rate at which each factory can produce them.\n",
        "\n",
        "$\\frac{x_{1}}{50} + \\frac{x_{2}}{40} \\leq 500y_{1}$\n",
        "\n",
        "$\\frac{x_{1}}{40} + \\frac{x_{2}}{25} \\leq 700y_{1}$\n",
        "\n",
        "Non-negativity and Binary Constraints:\n",
        "\n",
        "$x_{1},x_{2} \\geq 0$\n",
        "\n",
        "$y_{1},y_{2} \\in {0,1}$"
      ],
      "metadata": {
        "id": "ioemOzQiMoIO"
      }
    },
    {
      "cell_type": "markdown",
      "source": [
        "## Using Pulp Library"
      ],
      "metadata": {
        "id": "cFccEhQMsrAM"
      }
    },
    {
      "cell_type": "code",
      "execution_count": 1,
      "metadata": {
        "colab": {
          "base_uri": "https://localhost:8080/"
        },
        "id": "seHxhvgpLad4",
        "outputId": "22c4b5b9-c1c9-434a-e7ca-755b44a0d85f"
      },
      "outputs": [
        {
          "output_type": "stream",
          "name": "stdout",
          "text": [
            "Requirement already satisfied: pulp in /usr/local/lib/python3.10/dist-packages (2.9.0)\n"
          ]
        }
      ],
      "source": [
        "!pip install pulp\n",
        "from pulp import *\n",
        "import numpy as np\n",
        "import pandas as pd"
      ]
    },
    {
      "cell_type": "code",
      "source": [
        "#Defining Variables\n",
        "\n",
        "x = LpVariable.dicts('x', ((i) for i in range(1,3)), lowBound = 0, cat='Continuous')\n",
        "y = LpVariable.dicts('y', ((i) for i in range(1,3)), cat='Binary')"
      ],
      "metadata": {
        "id": "AYQb9E_nOxRo"
      },
      "execution_count": 2,
      "outputs": []
    },
    {
      "cell_type": "code",
      "source": [
        "#Defining Objective Function\n",
        "\n",
        "model = LpProblem('model', LpMaximize)\n",
        "\n",
        "model += 10*x[1]+15*x[2]-50000*y[1]-80000*y[2]"
      ],
      "metadata": {
        "id": "GxQsCLPoO7uU"
      },
      "execution_count": 3,
      "outputs": []
    },
    {
      "cell_type": "code",
      "source": [
        "#Constraints\n",
        "\n",
        "#Only one factory can be chosen: Since only one factory can be used to produce the toys, we impose the following constraint:\n",
        "model += y[1]+y[2] == 1\n",
        "\n",
        "#Production time constraints: Each factory has a limited number of hours available, and the number of units produced for each toy depends on the rate at which each factory can produce them.\n",
        "model += x[1]*(1/50) + x[2]*(1/40) <= 500*y[1]\n",
        "model += x[1]*(1/40) + x[2]*(1/25) <= 700*y[1]"
      ],
      "metadata": {
        "id": "DNbzc0ePPFVa"
      },
      "execution_count": 4,
      "outputs": []
    },
    {
      "cell_type": "code",
      "source": [
        "#Model summary\n",
        "\n",
        "model"
      ],
      "metadata": {
        "colab": {
          "base_uri": "https://localhost:8080/"
        },
        "id": "892_ket4Prp0",
        "outputId": "4ebfe019-833b-475f-8552-c2615f61c21d"
      },
      "execution_count": 5,
      "outputs": [
        {
          "output_type": "execute_result",
          "data": {
            "text/plain": [
              "model:\n",
              "MAXIMIZE\n",
              "10*x_1 + 15*x_2 + -50000*y_1 + -80000*y_2 + 0\n",
              "SUBJECT TO\n",
              "_C1: y_1 + y_2 = 1\n",
              "\n",
              "_C2: 0.02 x_1 + 0.025 x_2 - 500 y_1 <= 0\n",
              "\n",
              "_C3: 0.025 x_1 + 0.04 x_2 - 700 y_1 <= 0\n",
              "\n",
              "VARIABLES\n",
              "x_1 Continuous\n",
              "x_2 Continuous\n",
              "0 <= y_1 <= 1 Integer\n",
              "0 <= y_2 <= 1 Integer"
            ]
          },
          "metadata": {},
          "execution_count": 5
        }
      ]
    },
    {
      "cell_type": "code",
      "source": [
        "#Solving model\n",
        "\n",
        "model.solve()\n",
        "print('Optimal Solution:', pulp.value(model.objective))"
      ],
      "metadata": {
        "colab": {
          "base_uri": "https://localhost:8080/"
        },
        "id": "k9alpsylQOAc",
        "outputId": "e78e2321-a0b5-45e2-e1c6-0d62ac5cd183"
      },
      "execution_count": 6,
      "outputs": [
        {
          "output_type": "stream",
          "name": "stdout",
          "text": [
            "Optimal Solution: 221428.56900000002\n"
          ]
        }
      ]
    },
    {
      "cell_type": "code",
      "source": [
        "for variables in model.variables():\n",
        "  print(f'{variables.name}:{variables.varValue}')"
      ],
      "metadata": {
        "colab": {
          "base_uri": "https://localhost:8080/"
        },
        "id": "pUpyB1JDQXX5",
        "outputId": "13080ff2-0f0d-4b69-a5b4-12382ba3db0f"
      },
      "execution_count": 7,
      "outputs": [
        {
          "output_type": "stream",
          "name": "stdout",
          "text": [
            "x_1:14285.714\n",
            "x_2:8571.4286\n",
            "y_1:1.0\n",
            "y_2:0.0\n"
          ]
        }
      ]
    },
    {
      "cell_type": "code",
      "source": [
        "VNames = []\n",
        "for variables in model.variables():\n",
        "  VNames.append(variables.name)\n",
        "\n",
        "VValue = []\n",
        "for variables in model.variables():\n",
        "  VValue.append(np.round(variables.varValue, 2))\n",
        "\n",
        "data = {'Variables': VNames, 'Value': VValue}\n",
        "pd.DataFrame(data, index = range(1, len(VValue)+1))"
      ],
      "metadata": {
        "colab": {
          "base_uri": "https://localhost:8080/",
          "height": 175
        },
        "id": "kaYh_x_RQZ8h",
        "outputId": "479bf378-2183-4442-e424-47936b80e3f6"
      },
      "execution_count": 8,
      "outputs": [
        {
          "output_type": "execute_result",
          "data": {
            "text/plain": [
              "  Variables     Value\n",
              "1       x_1  14285.71\n",
              "2       x_2   8571.43\n",
              "3       y_1      1.00\n",
              "4       y_2      0.00"
            ],
            "text/html": [
              "\n",
              "  <div id=\"df-bc5a1aad-2b54-439b-9f0c-4d2bedd82b9e\" class=\"colab-df-container\">\n",
              "    <div>\n",
              "<style scoped>\n",
              "    .dataframe tbody tr th:only-of-type {\n",
              "        vertical-align: middle;\n",
              "    }\n",
              "\n",
              "    .dataframe tbody tr th {\n",
              "        vertical-align: top;\n",
              "    }\n",
              "\n",
              "    .dataframe thead th {\n",
              "        text-align: right;\n",
              "    }\n",
              "</style>\n",
              "<table border=\"1\" class=\"dataframe\">\n",
              "  <thead>\n",
              "    <tr style=\"text-align: right;\">\n",
              "      <th></th>\n",
              "      <th>Variables</th>\n",
              "      <th>Value</th>\n",
              "    </tr>\n",
              "  </thead>\n",
              "  <tbody>\n",
              "    <tr>\n",
              "      <th>1</th>\n",
              "      <td>x_1</td>\n",
              "      <td>14285.71</td>\n",
              "    </tr>\n",
              "    <tr>\n",
              "      <th>2</th>\n",
              "      <td>x_2</td>\n",
              "      <td>8571.43</td>\n",
              "    </tr>\n",
              "    <tr>\n",
              "      <th>3</th>\n",
              "      <td>y_1</td>\n",
              "      <td>1.00</td>\n",
              "    </tr>\n",
              "    <tr>\n",
              "      <th>4</th>\n",
              "      <td>y_2</td>\n",
              "      <td>0.00</td>\n",
              "    </tr>\n",
              "  </tbody>\n",
              "</table>\n",
              "</div>\n",
              "    <div class=\"colab-df-buttons\">\n",
              "\n",
              "  <div class=\"colab-df-container\">\n",
              "    <button class=\"colab-df-convert\" onclick=\"convertToInteractive('df-bc5a1aad-2b54-439b-9f0c-4d2bedd82b9e')\"\n",
              "            title=\"Convert this dataframe to an interactive table.\"\n",
              "            style=\"display:none;\">\n",
              "\n",
              "  <svg xmlns=\"http://www.w3.org/2000/svg\" height=\"24px\" viewBox=\"0 -960 960 960\">\n",
              "    <path d=\"M120-120v-720h720v720H120Zm60-500h600v-160H180v160Zm220 220h160v-160H400v160Zm0 220h160v-160H400v160ZM180-400h160v-160H180v160Zm440 0h160v-160H620v160ZM180-180h160v-160H180v160Zm440 0h160v-160H620v160Z\"/>\n",
              "  </svg>\n",
              "    </button>\n",
              "\n",
              "  <style>\n",
              "    .colab-df-container {\n",
              "      display:flex;\n",
              "      gap: 12px;\n",
              "    }\n",
              "\n",
              "    .colab-df-convert {\n",
              "      background-color: #E8F0FE;\n",
              "      border: none;\n",
              "      border-radius: 50%;\n",
              "      cursor: pointer;\n",
              "      display: none;\n",
              "      fill: #1967D2;\n",
              "      height: 32px;\n",
              "      padding: 0 0 0 0;\n",
              "      width: 32px;\n",
              "    }\n",
              "\n",
              "    .colab-df-convert:hover {\n",
              "      background-color: #E2EBFA;\n",
              "      box-shadow: 0px 1px 2px rgba(60, 64, 67, 0.3), 0px 1px 3px 1px rgba(60, 64, 67, 0.15);\n",
              "      fill: #174EA6;\n",
              "    }\n",
              "\n",
              "    .colab-df-buttons div {\n",
              "      margin-bottom: 4px;\n",
              "    }\n",
              "\n",
              "    [theme=dark] .colab-df-convert {\n",
              "      background-color: #3B4455;\n",
              "      fill: #D2E3FC;\n",
              "    }\n",
              "\n",
              "    [theme=dark] .colab-df-convert:hover {\n",
              "      background-color: #434B5C;\n",
              "      box-shadow: 0px 1px 3px 1px rgba(0, 0, 0, 0.15);\n",
              "      filter: drop-shadow(0px 1px 2px rgba(0, 0, 0, 0.3));\n",
              "      fill: #FFFFFF;\n",
              "    }\n",
              "  </style>\n",
              "\n",
              "    <script>\n",
              "      const buttonEl =\n",
              "        document.querySelector('#df-bc5a1aad-2b54-439b-9f0c-4d2bedd82b9e button.colab-df-convert');\n",
              "      buttonEl.style.display =\n",
              "        google.colab.kernel.accessAllowed ? 'block' : 'none';\n",
              "\n",
              "      async function convertToInteractive(key) {\n",
              "        const element = document.querySelector('#df-bc5a1aad-2b54-439b-9f0c-4d2bedd82b9e');\n",
              "        const dataTable =\n",
              "          await google.colab.kernel.invokeFunction('convertToInteractive',\n",
              "                                                    [key], {});\n",
              "        if (!dataTable) return;\n",
              "\n",
              "        const docLinkHtml = 'Like what you see? Visit the ' +\n",
              "          '<a target=\"_blank\" href=https://colab.research.google.com/notebooks/data_table.ipynb>data table notebook</a>'\n",
              "          + ' to learn more about interactive tables.';\n",
              "        element.innerHTML = '';\n",
              "        dataTable['output_type'] = 'display_data';\n",
              "        await google.colab.output.renderOutput(dataTable, element);\n",
              "        const docLink = document.createElement('div');\n",
              "        docLink.innerHTML = docLinkHtml;\n",
              "        element.appendChild(docLink);\n",
              "      }\n",
              "    </script>\n",
              "  </div>\n",
              "\n",
              "\n",
              "<div id=\"df-f7d654e8-9792-4ed5-9cc1-abef3099c36d\">\n",
              "  <button class=\"colab-df-quickchart\" onclick=\"quickchart('df-f7d654e8-9792-4ed5-9cc1-abef3099c36d')\"\n",
              "            title=\"Suggest charts\"\n",
              "            style=\"display:none;\">\n",
              "\n",
              "<svg xmlns=\"http://www.w3.org/2000/svg\" height=\"24px\"viewBox=\"0 0 24 24\"\n",
              "     width=\"24px\">\n",
              "    <g>\n",
              "        <path d=\"M19 3H5c-1.1 0-2 .9-2 2v14c0 1.1.9 2 2 2h14c1.1 0 2-.9 2-2V5c0-1.1-.9-2-2-2zM9 17H7v-7h2v7zm4 0h-2V7h2v10zm4 0h-2v-4h2v4z\"/>\n",
              "    </g>\n",
              "</svg>\n",
              "  </button>\n",
              "\n",
              "<style>\n",
              "  .colab-df-quickchart {\n",
              "      --bg-color: #E8F0FE;\n",
              "      --fill-color: #1967D2;\n",
              "      --hover-bg-color: #E2EBFA;\n",
              "      --hover-fill-color: #174EA6;\n",
              "      --disabled-fill-color: #AAA;\n",
              "      --disabled-bg-color: #DDD;\n",
              "  }\n",
              "\n",
              "  [theme=dark] .colab-df-quickchart {\n",
              "      --bg-color: #3B4455;\n",
              "      --fill-color: #D2E3FC;\n",
              "      --hover-bg-color: #434B5C;\n",
              "      --hover-fill-color: #FFFFFF;\n",
              "      --disabled-bg-color: #3B4455;\n",
              "      --disabled-fill-color: #666;\n",
              "  }\n",
              "\n",
              "  .colab-df-quickchart {\n",
              "    background-color: var(--bg-color);\n",
              "    border: none;\n",
              "    border-radius: 50%;\n",
              "    cursor: pointer;\n",
              "    display: none;\n",
              "    fill: var(--fill-color);\n",
              "    height: 32px;\n",
              "    padding: 0;\n",
              "    width: 32px;\n",
              "  }\n",
              "\n",
              "  .colab-df-quickchart:hover {\n",
              "    background-color: var(--hover-bg-color);\n",
              "    box-shadow: 0 1px 2px rgba(60, 64, 67, 0.3), 0 1px 3px 1px rgba(60, 64, 67, 0.15);\n",
              "    fill: var(--button-hover-fill-color);\n",
              "  }\n",
              "\n",
              "  .colab-df-quickchart-complete:disabled,\n",
              "  .colab-df-quickchart-complete:disabled:hover {\n",
              "    background-color: var(--disabled-bg-color);\n",
              "    fill: var(--disabled-fill-color);\n",
              "    box-shadow: none;\n",
              "  }\n",
              "\n",
              "  .colab-df-spinner {\n",
              "    border: 2px solid var(--fill-color);\n",
              "    border-color: transparent;\n",
              "    border-bottom-color: var(--fill-color);\n",
              "    animation:\n",
              "      spin 1s steps(1) infinite;\n",
              "  }\n",
              "\n",
              "  @keyframes spin {\n",
              "    0% {\n",
              "      border-color: transparent;\n",
              "      border-bottom-color: var(--fill-color);\n",
              "      border-left-color: var(--fill-color);\n",
              "    }\n",
              "    20% {\n",
              "      border-color: transparent;\n",
              "      border-left-color: var(--fill-color);\n",
              "      border-top-color: var(--fill-color);\n",
              "    }\n",
              "    30% {\n",
              "      border-color: transparent;\n",
              "      border-left-color: var(--fill-color);\n",
              "      border-top-color: var(--fill-color);\n",
              "      border-right-color: var(--fill-color);\n",
              "    }\n",
              "    40% {\n",
              "      border-color: transparent;\n",
              "      border-right-color: var(--fill-color);\n",
              "      border-top-color: var(--fill-color);\n",
              "    }\n",
              "    60% {\n",
              "      border-color: transparent;\n",
              "      border-right-color: var(--fill-color);\n",
              "    }\n",
              "    80% {\n",
              "      border-color: transparent;\n",
              "      border-right-color: var(--fill-color);\n",
              "      border-bottom-color: var(--fill-color);\n",
              "    }\n",
              "    90% {\n",
              "      border-color: transparent;\n",
              "      border-bottom-color: var(--fill-color);\n",
              "    }\n",
              "  }\n",
              "</style>\n",
              "\n",
              "  <script>\n",
              "    async function quickchart(key) {\n",
              "      const quickchartButtonEl =\n",
              "        document.querySelector('#' + key + ' button');\n",
              "      quickchartButtonEl.disabled = true;  // To prevent multiple clicks.\n",
              "      quickchartButtonEl.classList.add('colab-df-spinner');\n",
              "      try {\n",
              "        const charts = await google.colab.kernel.invokeFunction(\n",
              "            'suggestCharts', [key], {});\n",
              "      } catch (error) {\n",
              "        console.error('Error during call to suggestCharts:', error);\n",
              "      }\n",
              "      quickchartButtonEl.classList.remove('colab-df-spinner');\n",
              "      quickchartButtonEl.classList.add('colab-df-quickchart-complete');\n",
              "    }\n",
              "    (() => {\n",
              "      let quickchartButtonEl =\n",
              "        document.querySelector('#df-f7d654e8-9792-4ed5-9cc1-abef3099c36d button');\n",
              "      quickchartButtonEl.style.display =\n",
              "        google.colab.kernel.accessAllowed ? 'block' : 'none';\n",
              "    })();\n",
              "  </script>\n",
              "</div>\n",
              "\n",
              "    </div>\n",
              "  </div>\n"
            ],
            "application/vnd.google.colaboratory.intrinsic+json": {
              "type": "dataframe",
              "summary": "{\n  \"name\": \"pd\",\n  \"rows\": 4,\n  \"fields\": [\n    {\n      \"column\": \"Variables\",\n      \"properties\": {\n        \"dtype\": \"string\",\n        \"num_unique_values\": 4,\n        \"samples\": [\n          \"x_2\",\n          \"y_2\",\n          \"x_1\"\n        ],\n        \"semantic_type\": \"\",\n        \"description\": \"\"\n      }\n    },\n    {\n      \"column\": \"Value\",\n      \"properties\": {\n        \"dtype\": \"number\",\n        \"std\": 6998.268414022143,\n        \"min\": 0.0,\n        \"max\": 14285.71,\n        \"num_unique_values\": 4,\n        \"samples\": [\n          8571.43,\n          0.0,\n          14285.71\n        ],\n        \"semantic_type\": \"\",\n        \"description\": \"\"\n      }\n    }\n  ]\n}"
            }
          },
          "metadata": {},
          "execution_count": 8
        }
      ]
    },
    {
      "cell_type": "code",
      "source": [
        "print('Current Status: ', LpStatus[model.status])"
      ],
      "metadata": {
        "colab": {
          "base_uri": "https://localhost:8080/"
        },
        "id": "jMHi549TQcFC",
        "outputId": "e2090ad6-5536-4973-b365-f329ba70b055"
      },
      "execution_count": 9,
      "outputs": [
        {
          "output_type": "stream",
          "name": "stdout",
          "text": [
            "Current Status:  Optimal\n"
          ]
        }
      ]
    },
    {
      "cell_type": "markdown",
      "source": [
        "## Using Pyomo Library"
      ],
      "metadata": {
        "id": "Q-pICggX6pAZ"
      }
    },
    {
      "cell_type": "code",
      "source": [
        "!pip install pyomo\n",
        "!apt-get install -y -qq glpk-utils\n",
        "\n",
        "from pyomo.environ import *"
      ],
      "metadata": {
        "colab": {
          "base_uri": "https://localhost:8080/"
        },
        "id": "PjOgMX9ZCJcT",
        "outputId": "19932ca3-2959-4c61-b4dd-039073bb72a3"
      },
      "execution_count": 10,
      "outputs": [
        {
          "output_type": "stream",
          "name": "stdout",
          "text": [
            "Requirement already satisfied: pyomo in /usr/local/lib/python3.10/dist-packages (6.8.0)\n",
            "Requirement already satisfied: ply in /usr/local/lib/python3.10/dist-packages (from pyomo) (3.11)\n"
          ]
        }
      ]
    },
    {
      "cell_type": "code",
      "source": [
        "model = ConcreteModel()\n",
        "\n",
        "model.indicesx = Set(initialize=list(range(1,3)))\n",
        "model.indicesy = Set(initialize=list(range(1,3)))\n",
        "model.x = Var(model.indicesx, domain=NonNegativeReals)\n",
        "model.y = Var(model.indicesy, domain=Binary)\n",
        "\n",
        "model.obj = Objective(expr=10*model.x[1]+15*model.x[2]-50000*model.y[1]-80000*model.y[2], sense=maximize)\n",
        "\n",
        "model.constraint1 = Constraint(expr=model.y[1]+model.y[2] == 1)\n",
        "model.constraint2 = Constraint(expr=model.x[1]*(1/50) + model.x[2]*(1/40) <= 500*model.y[1])\n",
        "model.constraint3 = Constraint(expr=model.x[1]*(1/40) + model.x[2]*(1/25) <= 700*model.y[1])\n",
        "\n",
        "SolverFactory('glpk').solve(model)\n",
        "\n",
        "model.display()"
      ],
      "metadata": {
        "colab": {
          "base_uri": "https://localhost:8080/"
        },
        "id": "8a2kYYe1SYfR",
        "outputId": "9d81acbc-f369-4818-ed34-a8ff026a3903"
      },
      "execution_count": 11,
      "outputs": [
        {
          "output_type": "stream",
          "name": "stdout",
          "text": [
            "Model unknown\n",
            "\n",
            "  Variables:\n",
            "    x : Size=2, Index=indicesx\n",
            "        Key : Lower : Value            : Upper : Fixed : Stale : Domain\n",
            "          1 :     0 : 14285.7142857143 :  None : False : False : NonNegativeReals\n",
            "          2 :     0 : 8571.42857142857 :  None : False : False : NonNegativeReals\n",
            "    y : Size=2, Index=indicesy\n",
            "        Key : Lower : Value : Upper : Fixed : Stale : Domain\n",
            "          1 :     0 :   1.0 :     1 : False : False : Binary\n",
            "          2 :     0 :   0.0 :     1 : False : False : Binary\n",
            "\n",
            "  Objectives:\n",
            "    obj : Size=1, Index=None, Active=True\n",
            "        Key  : Active : Value\n",
            "        None :   True : 221428.5714285716\n",
            "\n",
            "  Constraints:\n",
            "    constraint1 : Size=1\n",
            "        Key  : Lower : Body : Upper\n",
            "        None :   1.0 :  1.0 :   1.0\n",
            "    constraint2 : Size=1\n",
            "        Key  : Lower : Body                   : Upper\n",
            "        None :  None : 2.8421709430404007e-13 :   0.0\n",
            "    constraint3 : Size=1\n",
            "        Key  : Lower : Body                  : Upper\n",
            "        None :  None : 4.547473508864641e-13 :   0.0\n"
          ]
        }
      ]
    },
    {
      "cell_type": "code",
      "source": [
        "print(\"Variable values:\")\n",
        "model.x.pprint()\n",
        "model.y.pprint()"
      ],
      "metadata": {
        "colab": {
          "base_uri": "https://localhost:8080/"
        },
        "id": "2Jq0yHGETBfp",
        "outputId": "d62937cd-2b42-49e6-a1f4-776887ad520e"
      },
      "execution_count": 12,
      "outputs": [
        {
          "output_type": "stream",
          "name": "stdout",
          "text": [
            "Variable values:\n",
            "x : Size=2, Index=indicesx\n",
            "    Key : Lower : Value            : Upper : Fixed : Stale : Domain\n",
            "      1 :     0 : 14285.7142857143 :  None : False : False : NonNegativeReals\n",
            "      2 :     0 : 8571.42857142857 :  None : False : False : NonNegativeReals\n",
            "y : Size=2, Index=indicesy\n",
            "    Key : Lower : Value : Upper : Fixed : Stale : Domain\n",
            "      1 :     0 :   1.0 :     1 : False : False : Binary\n",
            "      2 :     0 :   0.0 :     1 : False : False : Binary\n"
          ]
        }
      ]
    }
  ]
}