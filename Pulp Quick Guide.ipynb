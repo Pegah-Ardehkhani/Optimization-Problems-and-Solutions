{
  "nbformat": 4,
  "nbformat_minor": 0,
  "metadata": {
    "colab": {
      "provenance": []
    },
    "kernelspec": {
      "name": "python3",
      "display_name": "Python 3"
    },
    "language_info": {
      "name": "python"
    }
  },
  "cells": [
    {
      "cell_type": "markdown",
      "source": [
        "# **1. pulp Installation:**"
      ],
      "metadata": {
        "id": "rSDguDaqhmfQ"
      }
    },
    {
      "cell_type": "code",
      "execution_count": null,
      "metadata": {
        "colab": {
          "base_uri": "https://localhost:8080/"
        },
        "id": "UqFAFQSYgk6f",
        "outputId": "de79ecdb-e7f2-4886-a136-bc577278c7a9"
      },
      "outputs": [
        {
          "output_type": "stream",
          "name": "stdout",
          "text": [
            "Collecting pulp\n",
            "  Downloading PuLP-2.9.0-py3-none-any.whl.metadata (5.4 kB)\n",
            "Downloading PuLP-2.9.0-py3-none-any.whl (17.7 MB)\n",
            "\u001b[2K   \u001b[90m━━━━━━━━━━━━━━━━━━━━━━━━━━━━━━━━━━━━━━━━\u001b[0m \u001b[32m17.7/17.7 MB\u001b[0m \u001b[31m41.1 MB/s\u001b[0m eta \u001b[36m0:00:00\u001b[0m\n",
            "\u001b[?25hInstalling collected packages: pulp\n",
            "Successfully installed pulp-2.9.0\n"
          ]
        }
      ],
      "source": [
        "!pip install pulp\n",
        "from pulp import *\n",
        "import numpy as np\n",
        "import pandas as pd"
      ]
    },
    {
      "cell_type": "markdown",
      "source": [
        "PuLP also comes with the CBC solver, which is an open-source solver and the default for solving linear problems."
      ],
      "metadata": {
        "id": "JvuTSlG3hlSn"
      }
    },
    {
      "cell_type": "markdown",
      "source": [
        "# **2. Problem Definition:**"
      ],
      "metadata": {
        "id": "6txi38edhNGx"
      }
    },
    {
      "cell_type": "markdown",
      "source": [
        "The first step in any optimization problem is to define the problem. You can either define a minimization or maximization problem using PuLP."
      ],
      "metadata": {
        "id": "hZn07lOvh4Zf"
      }
    },
    {
      "cell_type": "code",
      "source": [
        "#Define a minimization problem\n",
        "MinModel = LpProblem(\"MinimizeCost\", LpMinimize)\n",
        "\n",
        "#Define a maximization problem\n",
        "MaxModel = LpProblem(\"MaximizeProfit\", LpMaximize)"
      ],
      "metadata": {
        "id": "z2alZGP3h2CB"
      },
      "execution_count": null,
      "outputs": []
    },
    {
      "cell_type": "markdown",
      "source": [
        "The string passed as the first argument (\"MinimizeCost\" or \"MaximizeProfit\") is just a name for the problem and is optional.\n",
        "\n",
        "- LpMaximize: Indicates that the problem aims to maximize the objective function.\n",
        "- LpMinimize: Indicates that the problem aims to minimize the objective function."
      ],
      "metadata": {
        "id": "h7nB__D6iISf"
      }
    },
    {
      "cell_type": "markdown",
      "source": [
        "# **3. Defining Variables:**"
      ],
      "metadata": {
        "id": "wNwelZcoiT15"
      }
    },
    {
      "cell_type": "markdown",
      "source": [
        "The next step is to define the decision variables that PuLP will optimize. Decision variables represent quantities you want to determine in the solution.\n",
        "\n",
        "PuLP uses the LpVariable class to define variables. You can specify:\n",
        "\n",
        "- Name: The variable name.\n",
        "- lowBound: The minimum value for the variable (default is -$\\infty$) (optional).\n",
        "- upBound: The maximum value for the variable (default is $\\infty$) (optional).\n",
        "- cat: The category of the variable, e.g., 'Continuous' (default) or 'Integer'."
      ],
      "metadata": {
        "id": "afIStDiHiZTm"
      }
    },
    {
      "cell_type": "code",
      "source": [
        "#Defining a continuous variable x\n",
        "x = LpVariable('x', lowBound=0, cat='Continuous')\n",
        "\n",
        "#Defining an integer variable y between 0 and 10\n",
        "y = LpVariable('y', lowBound=0, upBound=10, cat='Integer')\n",
        "\n",
        "#Defining a binary variable z (0 or 1)\n",
        "z = LpVariable('z', cat='Binary')"
      ],
      "metadata": {
        "id": "mCBjSi1jiXa4"
      },
      "execution_count": null,
      "outputs": []
    },
    {
      "cell_type": "markdown",
      "source": [
        "**Defining Multiple Variables:**\n",
        "\n",
        "When there are multiple variables (such as indexed variables), you can use `LpVariable.dicts`:"
      ],
      "metadata": {
        "id": "4dbXLyGVjdww"
      }
    },
    {
      "cell_type": "code",
      "source": [
        "#Define multiple decision variables x_ij using LpVariable.dicts\n",
        "indices = ['A', 'B', 'C']\n",
        "\n",
        "d = LpVariable.dicts('d', indices, lowBound=0, cat='Continuous')\n",
        "\n",
        "d"
      ],
      "metadata": {
        "colab": {
          "base_uri": "https://localhost:8080/"
        },
        "id": "0bHBNAzliXYv",
        "outputId": "795017e5-7399-480b-c6b2-1552062285de"
      },
      "execution_count": null,
      "outputs": [
        {
          "output_type": "execute_result",
          "data": {
            "text/plain": [
              "{'A': c_A, 'B': c_B, 'C': c_C}"
            ]
          },
          "metadata": {},
          "execution_count": 3
        }
      ]
    },
    {
      "cell_type": "code",
      "source": [
        "crop = ['sugar beets', 'cotton', 'sorghum']\n",
        "area = [1, 2, 3]\n",
        "\n",
        "x = LpVariable.dicts('x', ((c, k) for c in crop for k in area), lowBound=0, cat='Continuous')\n",
        "\n",
        "x"
      ],
      "metadata": {
        "colab": {
          "base_uri": "https://localhost:8080/"
        },
        "id": "NwNBHEKXiXWf",
        "outputId": "6573992e-0588-4826-b549-a15921550ae9"
      },
      "execution_count": null,
      "outputs": [
        {
          "output_type": "execute_result",
          "data": {
            "text/plain": [
              "{('sugar beets', 1): x_('sugar_beets',_1),\n",
              " ('sugar beets', 2): x_('sugar_beets',_2),\n",
              " ('sugar beets', 3): x_('sugar_beets',_3),\n",
              " ('cotton', 1): x_('cotton',_1),\n",
              " ('cotton', 2): x_('cotton',_2),\n",
              " ('cotton', 3): x_('cotton',_3),\n",
              " ('sorghum', 1): x_('sorghum',_1),\n",
              " ('sorghum', 2): x_('sorghum',_2),\n",
              " ('sorghum', 3): x_('sorghum',_3)}"
            ]
          },
          "metadata": {},
          "execution_count": 4
        }
      ]
    },
    {
      "cell_type": "markdown",
      "source": [
        "# **4. Objective Function**"
      ],
      "metadata": {
        "id": "LpIwDgVTkaQG"
      }
    },
    {
      "cell_type": "markdown",
      "source": [
        "The objective function is the function you want to optimize (either maximize or minimize). The objective is defined using `+=` to add terms to the problem object."
      ],
      "metadata": {
        "id": "oS-uiPDMkmO2"
      }
    },
    {
      "cell_type": "code",
      "source": [
        "#Define a maximization objective function\n",
        "MaxModel += 2*x + 3*y"
      ],
      "metadata": {
        "id": "8u4ASrVCkiOm"
      },
      "execution_count": null,
      "outputs": []
    },
    {
      "cell_type": "markdown",
      "source": [
        "In the above code, $2x + 3y$ is the linear expression that represents the objective function."
      ],
      "metadata": {
        "id": "9OmJjlAAk8c2"
      }
    },
    {
      "cell_type": "markdown",
      "source": [
        "# **5. Constraints:**"
      ],
      "metadata": {
        "id": "CT4t5WEtlKKl"
      }
    },
    {
      "cell_type": "markdown",
      "source": [
        "After defining the objective function, you add constraints to the problem. Constraints define the restrictions on the variables (e.g., limits on resources, capacities, or other conditions)."
      ],
      "metadata": {
        "id": "ZRYATsr3lNkt"
      }
    },
    {
      "cell_type": "code",
      "source": [
        "#Adding constraints to the problem\n",
        "MaxModel += x + y <= 10, \"Constraint 1\"\n",
        "MaxModel += 2*x - y >= 5"
      ],
      "metadata": {
        "id": "sSkoCz1Vkzd0"
      },
      "execution_count": null,
      "outputs": []
    },
    {
      "cell_type": "markdown",
      "source": [
        "$x + y <= 10$ is a constraint that limits the values of $x$ and $y$.\n",
        "The string (\"Constraint 1\") is the name of the constraint, which is optional but useful for debugging."
      ],
      "metadata": {
        "id": "DR58fPYqlVTd"
      }
    },
    {
      "cell_type": "markdown",
      "source": [
        "**Constraints with Indexed Variables:**\n",
        "\n",
        "For problems with multiple variables (like indexed variables), you can use loops to add constraints:"
      ],
      "metadata": {
        "id": "oL3S20WtleME"
      }
    },
    {
      "cell_type": "code",
      "source": [
        "#Define constraints for each index\n",
        "for i in indices:\n",
        "    MaxModel += x[i] >= 10"
      ],
      "metadata": {
        "id": "KMc2jlgJkzbM"
      },
      "execution_count": null,
      "outputs": []
    },
    {
      "cell_type": "markdown",
      "source": [
        "# **6. Solving the Problem:**"
      ],
      "metadata": {
        "id": "KQySuBfllt-t"
      }
    },
    {
      "cell_type": "markdown",
      "source": [
        "After defining the objective function and constraints, you can solve the problem using the `solve()` method. PuLP uses CBC solver by default, but you can specify another solver if installed."
      ],
      "metadata": {
        "id": "gRkpHbzOlyON"
      }
    },
    {
      "cell_type": "code",
      "source": [
        "MaxModel.solve()"
      ],
      "metadata": {
        "id": "zfeV-d33kzYt"
      },
      "execution_count": null,
      "outputs": []
    },
    {
      "cell_type": "markdown",
      "source": [
        "You can check the status of the solution with LpStatus:"
      ],
      "metadata": {
        "id": "A8LDE6PLl8p1"
      }
    },
    {
      "cell_type": "code",
      "source": [
        "print(f\"Status: {LpStatus[MaxModel.status]}\")"
      ],
      "metadata": {
        "id": "u7vBm_hrl-9l"
      },
      "execution_count": null,
      "outputs": []
    },
    {
      "cell_type": "markdown",
      "source": [
        "Common statuses:\n",
        "\n",
        "- Optimal: The problem has been solved optimally.\n",
        "- Infeasible: There are no feasible solutions.\n",
        "- Unbounded: The solution is unbounded (i.e., the objective can grow infinitely)."
      ],
      "metadata": {
        "id": "KwlXkcQBmGNN"
      }
    },
    {
      "cell_type": "markdown",
      "source": [
        "# **7. Extracting Results**"
      ],
      "metadata": {
        "id": "84PG_9YVmLvV"
      }
    },
    {
      "cell_type": "code",
      "source": [
        "MaxModel.summary()"
      ],
      "metadata": {
        "id": "cylr7ck9_PHh"
      },
      "execution_count": null,
      "outputs": []
    },
    {
      "cell_type": "markdown",
      "source": [
        "Once the problem is solved, you can extract the optimal values of the decision variables using their `.varValue` attribute."
      ],
      "metadata": {
        "id": "5u4ZWjGpmSps"
      }
    },
    {
      "cell_type": "code",
      "source": [
        "#Print variable values\n",
        "for v in MaxModel.variables():\n",
        "    print(f\"{v.name} = {v.varValue}\")\n",
        "\n",
        "#Print objective function value\n",
        "print(f\"Objective value: {pulp.value(MaxModel.objective)}\")"
      ],
      "metadata": {
        "id": "l0JhCxMkmPmG"
      },
      "execution_count": null,
      "outputs": []
    },
    {
      "cell_type": "markdown",
      "source": [
        "# **8. pulp functions**"
      ],
      "metadata": {
        "id": "_exRF88-nGIc"
      }
    },
    {
      "cell_type": "markdown",
      "source": [
        "Summary of PuLP Functions:\n",
        "\n",
        "| Function          | Description                                                                                      |\n",
        "|-------------------|--------------------------------------------------------------------------------------------------|\n",
        "| lpSum             | Sums a list of linear expressions or variables.                                                   |\n",
        "| lpDot             | Computes the dot product of two lists (e.g., coefficients and variables).                         |\n"
      ],
      "metadata": {
        "id": "JcbZkJTCnKUN"
      }
    },
    {
      "cell_type": "markdown",
      "source": [
        "- **lpSum()**: The `lpSum` function is used to compute the sum of a list of linear expressions or variables. It is often used to simplify the creation of objective functions and constraints by allowing you to sum a collection of terms."
      ],
      "metadata": {
        "id": "l6GH778Enk7F"
      }
    },
    {
      "cell_type": "code",
      "source": [
        "#Define the problem\n",
        "problem = LpProblem(\"ExampleProblem\", LpMaximize)\n",
        "\n",
        "#Define decision variables\n",
        "x = LpVariable.dicts('x', [1, 2, 3], lowBound=0)\n",
        "\n",
        "#Objective function: Maximize the sum of all x variables\n",
        "problem += lpSum(x[i] for i in [1, 2, 3])"
      ],
      "metadata": {
        "id": "ZPpccHhjnUnk"
      },
      "execution_count": null,
      "outputs": []
    },
    {
      "cell_type": "code",
      "source": [
        "problem.objective"
      ],
      "metadata": {
        "colab": {
          "base_uri": "https://localhost:8080/"
        },
        "id": "5veLyZI4n9Sr",
        "outputId": "9ab78e99-0738-4a4a-c4d1-2e8f1a7002f1"
      },
      "execution_count": null,
      "outputs": [
        {
          "output_type": "execute_result",
          "data": {
            "text/plain": [
              "1*x_1 + 1*x_2 + 1*x_3 + 0"
            ]
          },
          "metadata": {},
          "execution_count": 7
        }
      ]
    },
    {
      "cell_type": "markdown",
      "source": [
        "- **lpDot()**: The `lpDot` function is used to compute the dot product of two lists. This is particularly useful when you need to multiply a list of coefficients by a list of decision variables."
      ],
      "metadata": {
        "id": "gq3iAUTRnhkk"
      }
    },
    {
      "cell_type": "code",
      "source": [
        "#Define the problem\n",
        "problem = LpProblem(\"CostMinimization\", LpMinimize)\n",
        "\n",
        "#Define decision variables\n",
        "x = LpVariable.dicts('x', [1, 2, 3], lowBound=0)\n",
        "\n",
        "#Cost coefficients for each item\n",
        "costs = [10, 20, 15]\n",
        "\n",
        "#Objective function: Minimize total cost (dot product of costs and quantities)\n",
        "problem += lpDot(costs, [x[i] for i in [1, 2, 3]])"
      ],
      "metadata": {
        "id": "p_025plXocUM"
      },
      "execution_count": null,
      "outputs": []
    },
    {
      "cell_type": "code",
      "source": [
        "problem.objective"
      ],
      "metadata": {
        "colab": {
          "base_uri": "https://localhost:8080/"
        },
        "id": "SxNTgWBTotIs",
        "outputId": "6e2e1b0c-5a57-4861-ca74-04d405b97944"
      },
      "execution_count": null,
      "outputs": [
        {
          "output_type": "execute_result",
          "data": {
            "text/plain": [
              "10*x_1 + 20*x_2 + 15*x_3 + 0"
            ]
          },
          "metadata": {},
          "execution_count": 9
        }
      ]
    }
  ]
}